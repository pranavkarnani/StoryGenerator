{
  "nbformat": 4,
  "nbformat_minor": 0,
  "metadata": {
    "colab": {
      "name": "Preprocessing.ipynb",
      "provenance": [],
      "collapsed_sections": [],
      "authorship_tag": "ABX9TyN+fmfZjWhoBwuDwuG+HvNS",
      "include_colab_link": true
    },
    "kernelspec": {
      "name": "python3",
      "display_name": "Python 3"
    },
    "language_info": {
      "name": "python"
    }
  },
  "cells": [
    {
      "cell_type": "markdown",
      "metadata": {
        "id": "view-in-github",
        "colab_type": "text"
      },
      "source": [
        "<a href=\"https://colab.research.google.com/github/pranavkarnani/StoryGenerator/blob/pranav/Preprocessing.ipynb\" target=\"_parent\"><img src=\"https://colab.research.google.com/assets/colab-badge.svg\" alt=\"Open In Colab\"/></a>"
      ]
    },
    {
      "cell_type": "code",
      "execution_count": null,
      "metadata": {
        "id": "qN20I5eOKRBz"
      },
      "outputs": [],
      "source": [
        "! unzip -q /content/plots.zip\n",
        "! pip install rake_nltk"
      ]
    },
    {
      "cell_type": "code",
      "source": [
        "import nltk\n",
        "nltk.download('stopwords')\n",
        "nltk.download('punkt')"
      ],
      "metadata": {
        "id": "cNPlP4cLKYT2"
      },
      "execution_count": null,
      "outputs": []
    },
    {
      "cell_type": "code",
      "source": [
        "from sklearn.feature_extraction.text import TfidfVectorizer\n",
        "import numpy as np\n",
        "from rake_nltk import Rake\n",
        "from nltk.tokenize import sent_tokenize\n",
        "import os\n",
        "from tqdm import tqdm\n",
        "\n",
        "infile = '/content/plots'\n",
        "infile_title = '/content/titles'\n",
        "outfile = '/content/wikiplot.kwRAKE.tsv'\n",
        "\n",
        "f = open(infile, 'r', encoding='\"ISO-8859-1\"')\n",
        "f_title = open(infile_title, 'r', encoding='\"ISO-8859-1\"')\n",
        "fout = open(outfile, 'a', encoding='\"ISO-8859-1\"')\n",
        "\n",
        "lines = f.readlines()\n",
        "lines_title = f_title.readlines()\n",
        "\n",
        "title_idx = 0\n",
        "line_idx = 0\n",
        "my_lines = {}\n",
        "\n",
        "prev = 0\n",
        "for line_idx, line in enumerate(tqdm(lines)):\n",
        "    if \"<EOS>\" in line:\n",
        "        article = \"\".join(lines[prev:line_idx])\n",
        "        my_lines[title_idx] = article\n",
        "        prev = line_idx + 1\n",
        "        title_idx += 1"
      ],
      "metadata": {
        "id": "CoobytVNKZ11"
      },
      "execution_count": null,
      "outputs": []
    },
    {
      "cell_type": "code",
      "source": [
        "import pandas as pd\n",
        "df = pd.DataFrame()"
      ],
      "metadata": {
        "id": "NOaWw9ZWKbyA"
      },
      "execution_count": null,
      "outputs": []
    },
    {
      "cell_type": "code",
      "source": [
        "r = Rake()"
      ],
      "metadata": {
        "id": "Gmv-_vKrKch0"
      },
      "execution_count": null,
      "outputs": []
    },
    {
      "cell_type": "code",
      "source": [
        "for i in tqdm(range(len(lines_title))):\n",
        "    text = df.loc[i, 'text']\n",
        "    r.extract_keywords_from_text(text)\n",
        "    df.loc[i,'outline'] = \"##\".join(r.get_ranked_phrases()[0:10])"
      ],
      "metadata": {
        "id": "6-1oviJgKkTu"
      },
      "execution_count": null,
      "outputs": []
    },
    {
      "cell_type": "code",
      "source": [
        "df.to_csv('/content/data_10line_outline.csv')"
      ],
      "metadata": {
        "id": "OqiaJltUKvJO"
      },
      "execution_count": null,
      "outputs": []
    },
    {
      "cell_type": "code",
      "source": [
        "data = pd.read_csv('/content/data_10line_outline.csv')\n",
        "data = data.dropna()\n",
        "data = data.reset_index()\n",
        "from tqdm import tqdm\n",
        "\n",
        "storylines = []\n",
        "\n",
        "for i in tqdm(range(len(data))):\n",
        "    outlines = data.loc[i, 'outline'].split(\"##\")\n",
        "    story = data.loc[i, 'text'].split(\"\\n\")\n",
        "    storyline = [line for line in story for outline in outlines if outline in line]\n",
        "    storyline = list(set(storyline))\n",
        "    storylines.append(\" <SEP> \".join(storyline))"
      ],
      "metadata": {
        "id": "Sn20wTZ4Ko2Y"
      },
      "execution_count": null,
      "outputs": []
    },
    {
      "cell_type": "code",
      "source": [
        "data = data.dropna()\n",
        "data = data.reset_index()\n",
        "data.to_csv('refined.csv')"
      ],
      "metadata": {
        "id": "fAkNWXVpK1dp"
      },
      "execution_count": null,
      "outputs": []
    },
    {
      "cell_type": "code",
      "source": [
        ""
      ],
      "metadata": {
        "id": "yVcsNBLOKpcG"
      },
      "execution_count": null,
      "outputs": []
    }
  ]
}