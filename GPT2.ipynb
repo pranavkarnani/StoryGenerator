{
  "nbformat": 4,
  "nbformat_minor": 0,
  "metadata": {
    "colab": {
      "name": "GPT2.ipynb",
      "provenance": [],
      "machine_shape": "hm",
      "background_execution": "on",
      "include_colab_link": true
    },
    "kernelspec": {
      "name": "python3",
      "display_name": "Python 3"
    },
    "language_info": {
      "name": "python"
    },
    "accelerator": "GPU"
  },
  "cells": [
    {
      "cell_type": "markdown",
      "metadata": {
        "id": "view-in-github",
        "colab_type": "text"
      },
      "source": [
        "<a href=\"https://colab.research.google.com/github/pranavkarnani/StoryGenerator/blob/pranav/GPT2.ipynb\" target=\"_parent\"><img src=\"https://colab.research.google.com/assets/colab-badge.svg\" alt=\"Open In Colab\"/></a>"
      ]
    },
    {
      "cell_type": "code",
      "source": [
        "! pip install transformers"
      ],
      "metadata": {
        "colab": {
          "base_uri": "https://localhost:8080/"
        },
        "id": "otcuzrGa_DPu",
        "outputId": "57476cfc-da53-467f-f7fd-412a99b08750"
      },
      "execution_count": 1,
      "outputs": [
        {
          "output_type": "stream",
          "name": "stdout",
          "text": [
            "Collecting transformers\n",
            "  Downloading transformers-4.18.0-py3-none-any.whl (4.0 MB)\n",
            "\u001b[K     |████████████████████████████████| 4.0 MB 5.1 MB/s \n",
            "\u001b[?25hRequirement already satisfied: filelock in /usr/local/lib/python3.7/dist-packages (from transformers) (3.6.0)\n",
            "Requirement already satisfied: packaging>=20.0 in /usr/local/lib/python3.7/dist-packages (from transformers) (21.3)\n",
            "Requirement already satisfied: importlib-metadata in /usr/local/lib/python3.7/dist-packages (from transformers) (4.11.3)\n",
            "Requirement already satisfied: regex!=2019.12.17 in /usr/local/lib/python3.7/dist-packages (from transformers) (2019.12.20)\n",
            "Requirement already satisfied: numpy>=1.17 in /usr/local/lib/python3.7/dist-packages (from transformers) (1.21.6)\n",
            "Requirement already satisfied: requests in /usr/local/lib/python3.7/dist-packages (from transformers) (2.23.0)\n",
            "Collecting pyyaml>=5.1\n",
            "  Downloading PyYAML-6.0-cp37-cp37m-manylinux_2_5_x86_64.manylinux1_x86_64.manylinux_2_12_x86_64.manylinux2010_x86_64.whl (596 kB)\n",
            "\u001b[K     |████████████████████████████████| 596 kB 53.1 MB/s \n",
            "\u001b[?25hCollecting sacremoses\n",
            "  Downloading sacremoses-0.0.49-py3-none-any.whl (895 kB)\n",
            "\u001b[K     |████████████████████████████████| 895 kB 59.7 MB/s \n",
            "\u001b[?25hRequirement already satisfied: tqdm>=4.27 in /usr/local/lib/python3.7/dist-packages (from transformers) (4.64.0)\n",
            "Collecting tokenizers!=0.11.3,<0.13,>=0.11.1\n",
            "  Downloading tokenizers-0.12.1-cp37-cp37m-manylinux_2_12_x86_64.manylinux2010_x86_64.whl (6.6 MB)\n",
            "\u001b[K     |████████████████████████████████| 6.6 MB 49.9 MB/s \n",
            "\u001b[?25hCollecting huggingface-hub<1.0,>=0.1.0\n",
            "  Downloading huggingface_hub-0.5.1-py3-none-any.whl (77 kB)\n",
            "\u001b[K     |████████████████████████████████| 77 kB 3.6 MB/s \n",
            "\u001b[?25hRequirement already satisfied: typing-extensions>=3.7.4.3 in /usr/local/lib/python3.7/dist-packages (from huggingface-hub<1.0,>=0.1.0->transformers) (4.1.1)\n",
            "Requirement already satisfied: pyparsing!=3.0.5,>=2.0.2 in /usr/local/lib/python3.7/dist-packages (from packaging>=20.0->transformers) (3.0.8)\n",
            "Requirement already satisfied: zipp>=0.5 in /usr/local/lib/python3.7/dist-packages (from importlib-metadata->transformers) (3.8.0)\n",
            "Requirement already satisfied: urllib3!=1.25.0,!=1.25.1,<1.26,>=1.21.1 in /usr/local/lib/python3.7/dist-packages (from requests->transformers) (1.24.3)\n",
            "Requirement already satisfied: idna<3,>=2.5 in /usr/local/lib/python3.7/dist-packages (from requests->transformers) (2.10)\n",
            "Requirement already satisfied: certifi>=2017.4.17 in /usr/local/lib/python3.7/dist-packages (from requests->transformers) (2021.10.8)\n",
            "Requirement already satisfied: chardet<4,>=3.0.2 in /usr/local/lib/python3.7/dist-packages (from requests->transformers) (3.0.4)\n",
            "Requirement already satisfied: click in /usr/local/lib/python3.7/dist-packages (from sacremoses->transformers) (7.1.2)\n",
            "Requirement already satisfied: joblib in /usr/local/lib/python3.7/dist-packages (from sacremoses->transformers) (1.1.0)\n",
            "Requirement already satisfied: six in /usr/local/lib/python3.7/dist-packages (from sacremoses->transformers) (1.15.0)\n",
            "Installing collected packages: pyyaml, tokenizers, sacremoses, huggingface-hub, transformers\n",
            "  Attempting uninstall: pyyaml\n",
            "    Found existing installation: PyYAML 3.13\n",
            "    Uninstalling PyYAML-3.13:\n",
            "      Successfully uninstalled PyYAML-3.13\n",
            "Successfully installed huggingface-hub-0.5.1 pyyaml-6.0 sacremoses-0.0.49 tokenizers-0.12.1 transformers-4.18.0\n"
          ]
        }
      ]
    },
    {
      "cell_type": "code",
      "execution_count": 62,
      "metadata": {
        "id": "c6iKArjRGEqa",
        "colab": {
          "base_uri": "https://localhost:8080/"
        },
        "outputId": "dfa4c980-6f35-4436-9fe3-bdb4b9aabe72"
      },
      "outputs": [
        {
          "output_type": "stream",
          "name": "stdout",
          "text": [
            "unzip:  cannot find or open /content/plots.zip, /content/plots.zip.zip or /content/plots.zip.ZIP.\n"
          ]
        }
      ],
      "source": [
        "! unzip -q /content/plots.zip"
      ]
    },
    {
      "cell_type": "code",
      "source": [
        "! pip install rake_nltk"
      ],
      "metadata": {
        "colab": {
          "base_uri": "https://localhost:8080/"
        },
        "id": "agIx-4e6COFf",
        "outputId": "2ab681b1-0b1f-45c9-daf0-d157aa1e4d60"
      },
      "execution_count": 63,
      "outputs": [
        {
          "output_type": "stream",
          "name": "stdout",
          "text": [
            "Collecting rake_nltk\n",
            "  Downloading rake_nltk-1.0.6-py3-none-any.whl (9.1 kB)\n",
            "Collecting nltk<4.0.0,>=3.6.2\n",
            "  Downloading nltk-3.7-py3-none-any.whl (1.5 MB)\n",
            "\u001b[K     |████████████████████████████████| 1.5 MB 7.0 MB/s \n",
            "\u001b[?25hRequirement already satisfied: click in /usr/local/lib/python3.7/dist-packages (from nltk<4.0.0,>=3.6.2->rake_nltk) (7.1.2)\n",
            "Requirement already satisfied: tqdm in /usr/local/lib/python3.7/dist-packages (from nltk<4.0.0,>=3.6.2->rake_nltk) (4.64.0)\n",
            "Collecting regex>=2021.8.3\n",
            "  Downloading regex-2022.3.15-cp37-cp37m-manylinux_2_17_x86_64.manylinux2014_x86_64.whl (749 kB)\n",
            "\u001b[K     |████████████████████████████████| 749 kB 58.7 MB/s \n",
            "\u001b[?25hRequirement already satisfied: joblib in /usr/local/lib/python3.7/dist-packages (from nltk<4.0.0,>=3.6.2->rake_nltk) (1.1.0)\n",
            "\u001b[31mERROR: Operation cancelled by user\u001b[0m\n",
            "Traceback (most recent call last):\n",
            "  File \"/usr/local/lib/python3.7/dist-packages/pip/_vendor/pkg_resources/__init__.py\", line 3021, in _dep_map\n",
            "    return self.__dep_map\n",
            "  File \"/usr/local/lib/python3.7/dist-packages/pip/_vendor/pkg_resources/__init__.py\", line 2815, in __getattr__\n",
            "    raise AttributeError(attr)\n",
            "AttributeError: _DistInfoDistribution__dep_map\n",
            "\n",
            "During handling of the above exception, another exception occurred:\n",
            "\n",
            "Traceback (most recent call last):\n",
            "  File \"/usr/local/lib/python3.7/dist-packages/pip/_internal/cli/base_command.py\", line 180, in _main\n",
            "    status = self.run(options, args)\n",
            "  File \"/usr/local/lib/python3.7/dist-packages/pip/_internal/cli/req_command.py\", line 199, in wrapper\n",
            "    return func(self, options, args)\n",
            "  File \"/usr/local/lib/python3.7/dist-packages/pip/_internal/commands/install.py\", line 385, in run\n",
            "    conflicts = self._determine_conflicts(to_install)\n",
            "  File \"/usr/local/lib/python3.7/dist-packages/pip/_internal/commands/install.py\", line 515, in _determine_conflicts\n",
            "    return check_install_conflicts(to_install)\n",
            "  File \"/usr/local/lib/python3.7/dist-packages/pip/_internal/operations/check.py\", line 103, in check_install_conflicts\n",
            "    package_set, _ = create_package_set_from_installed()\n",
            "  File \"/usr/local/lib/python3.7/dist-packages/pip/_internal/operations/check.py\", line 45, in create_package_set_from_installed\n",
            "    package_set[name] = PackageDetails(dist.version, dist.requires())\n",
            "  File \"/usr/local/lib/python3.7/dist-packages/pip/_vendor/pkg_resources/__init__.py\", line 2736, in requires\n",
            "    dm = self._dep_map\n",
            "  File \"/usr/local/lib/python3.7/dist-packages/pip/_vendor/pkg_resources/__init__.py\", line 3023, in _dep_map\n",
            "    self.__dep_map = self._compute_dependencies()\n",
            "  File \"/usr/local/lib/python3.7/dist-packages/pip/_vendor/pkg_resources/__init__.py\", line 3045, in _compute_dependencies\n",
            "    dm[s_extra] = list(frozenset(reqs_for_extra(extra)) - common)\n",
            "  File \"/usr/local/lib/python3.7/dist-packages/pip/_vendor/pkg_resources/__init__.py\", line 3037, in reqs_for_extra\n",
            "    if not req.marker or req.marker.evaluate({'extra': extra}):\n",
            "  File \"/usr/local/lib/python3.7/dist-packages/pip/_vendor/packaging/markers.py\", line 336, in evaluate\n",
            "    return _evaluate_markers(self._markers, current_environment)\n",
            "  File \"/usr/local/lib/python3.7/dist-packages/pip/_vendor/packaging/markers.py\", line 258, in _evaluate_markers\n",
            "    groups[-1].append(_eval_op(lhs_value, op, rhs_value))\n",
            "  File \"/usr/local/lib/python3.7/dist-packages/pip/_vendor/packaging/markers.py\", line 205, in _eval_op\n",
            "    spec = Specifier(\"\".join([op.serialize(), rhs]))\n",
            "  File \"/usr/local/lib/python3.7/dist-packages/pip/_vendor/packaging/specifiers.py\", line 103, in __init__\n",
            "    raise InvalidSpecifier(\"Invalid specifier: '{0}'\".format(spec))\n",
            "KeyboardInterrupt\n",
            "\n",
            "During handling of the above exception, another exception occurred:\n",
            "\n",
            "Traceback (most recent call last):\n",
            "  File \"/usr/local/bin/pip3\", line 8, in <module>\n",
            "    sys.exit(main())\n",
            "  File \"/usr/local/lib/python3.7/dist-packages/pip/_internal/cli/main.py\", line 71, in main\n",
            "    return command.main(cmd_args)\n",
            "  File \"/usr/local/lib/python3.7/dist-packages/pip/_internal/cli/base_command.py\", line 104, in main\n",
            "    return self._main(args)\n",
            "  File \"/usr/local/lib/python3.7/dist-packages/pip/_internal/cli/base_command.py\", line 213, in _main\n",
            "    logger.debug(\"Exception information:\", exc_info=True)\n",
            "  File \"/usr/lib/python3.7/logging/__init__.py\", line 1366, in debug\n",
            "    self._log(DEBUG, msg, args, **kwargs)\n",
            "  File \"/usr/lib/python3.7/logging/__init__.py\", line 1514, in _log\n",
            "    self.handle(record)\n",
            "  File \"/usr/lib/python3.7/logging/__init__.py\", line 1524, in handle\n",
            "    self.callHandlers(record)\n",
            "  File \"/usr/lib/python3.7/logging/__init__.py\", line 1586, in callHandlers\n",
            "    hdlr.handle(record)\n",
            "  File \"/usr/lib/python3.7/logging/__init__.py\", line 894, in handle\n",
            "    self.emit(record)\n",
            "  File \"/usr/lib/python3.7/logging/handlers.py\", line 71, in emit\n",
            "    logging.FileHandler.emit(self, record)\n",
            "  File \"/usr/lib/python3.7/logging/__init__.py\", line 1127, in emit\n",
            "    StreamHandler.emit(self, record)\n",
            "  File \"/usr/lib/python3.7/logging/__init__.py\", line 1025, in emit\n",
            "    msg = self.format(record)\n",
            "  File \"/usr/lib/python3.7/logging/__init__.py\", line 869, in format\n",
            "    return fmt.format(record)\n",
            "  File \"/usr/local/lib/python3.7/dist-packages/pip/_internal/utils/logging.py\", line 130, in format\n",
            "    formatted = super().format(record)\n",
            "  File \"/usr/lib/python3.7/logging/__init__.py\", line 616, in format\n",
            "    record.exc_text = self.formatException(record.exc_info)\n",
            "  File \"/usr/lib/python3.7/logging/__init__.py\", line 566, in formatException\n",
            "    traceback.print_exception(ei[0], ei[1], tb, None, sio)\n",
            "  File \"/usr/lib/python3.7/traceback.py\", line 104, in print_exception\n",
            "    type(value), value, tb, limit=limit).format(chain=chain):\n",
            "  File \"/usr/lib/python3.7/traceback.py\", line 508, in __init__\n",
            "    capture_locals=capture_locals)\n",
            "  File \"/usr/lib/python3.7/traceback.py\", line 363, in extract\n",
            "    f.line\n",
            "  File \"/usr/lib/python3.7/traceback.py\", line 285, in line\n",
            "    self._line = linecache.getline(self.filename, self.lineno).strip()\n",
            "  File \"/usr/lib/python3.7/linecache.py\", line 16, in getline\n",
            "    lines = getlines(filename, module_globals)\n",
            "  File \"/usr/lib/python3.7/linecache.py\", line 47, in getlines\n",
            "    return updatecache(filename, module_globals)\n",
            "  File \"/usr/lib/python3.7/linecache.py\", line 136, in updatecache\n",
            "    with tokenize.open(fullname) as fp:\n",
            "  File \"/usr/lib/python3.7/tokenize.py\", line 449, in open\n",
            "    encoding, lines = detect_encoding(buffer.readline)\n",
            "  File \"/usr/lib/python3.7/tokenize.py\", line 418, in detect_encoding\n",
            "    first = read_or_stop()\n",
            "  File \"/usr/lib/python3.7/tokenize.py\", line 376, in read_or_stop\n",
            "    return readline()\n",
            "KeyboardInterrupt\n"
          ]
        }
      ]
    },
    {
      "cell_type": "code",
      "source": [
        "import nltk\n",
        "nltk.download('stopwords')"
      ],
      "metadata": {
        "colab": {
          "base_uri": "https://localhost:8080/"
        },
        "id": "291h25meCVYK",
        "outputId": "925ba92a-53ae-4caf-d8d0-d89f22c69c24"
      },
      "execution_count": 1,
      "outputs": [
        {
          "output_type": "stream",
          "name": "stderr",
          "text": [
            "[nltk_data] Downloading package stopwords to /root/nltk_data...\n",
            "[nltk_data]   Package stopwords is already up-to-date!\n"
          ]
        },
        {
          "output_type": "execute_result",
          "data": {
            "text/plain": [
              "True"
            ]
          },
          "metadata": {},
          "execution_count": 1
        }
      ]
    },
    {
      "cell_type": "code",
      "source": [
        "from sklearn.feature_extraction.text import TfidfVectorizer\n",
        "import numpy as np\n",
        "from rake_nltk import Rake\n",
        "from nltk.tokenize import sent_tokenize\n",
        "import os\n",
        "from tqdm import tqdm\n",
        "\n",
        "infile = '/content/plots'\n",
        "infile_title = '/content/titles'\n",
        "outfile = '/content/wikiplot.kwRAKE.tsv'\n",
        "\n",
        "f = open(infile, 'r', encoding='\"ISO-8859-1\"')\n",
        "f_title = open(infile_title, 'r', encoding='\"ISO-8859-1\"')\n",
        "fout = open(outfile, 'a', encoding='\"ISO-8859-1\"')\n",
        "\n",
        "lines = f.readlines()\n",
        "lines_title = f_title.readlines()\n",
        "\n",
        "title_idx = 0\n",
        "line_idx = 0\n",
        "my_lines = {}\n",
        "\n",
        "prev = 0\n",
        "for line_idx, line in enumerate(tqdm(lines)):\n",
        "    if \"<EOS>\" in line:\n",
        "        article = \"\".join(lines[prev:line_idx])\n",
        "        my_lines[title_idx] = article\n",
        "        prev = line_idx + 1\n",
        "        title_idx += 1"
      ],
      "metadata": {
        "colab": {
          "base_uri": "https://localhost:8080/"
        },
        "id": "Xj5rF34bBhYu",
        "outputId": "c351a106-4d37-4778-ad54-5b4cd597c752"
      },
      "execution_count": 2,
      "outputs": [
        {
          "output_type": "stream",
          "name": "stderr",
          "text": [
            "100%|██████████| 2070449/2070449 [00:01<00:00, 1368642.89it/s]\n"
          ]
        }
      ]
    },
    {
      "cell_type": "code",
      "source": [
        "import pandas as pd\n",
        "df = pd.DataFrame()"
      ],
      "metadata": {
        "id": "ycMeBt9IiREl"
      },
      "execution_count": 4,
      "outputs": []
    },
    {
      "cell_type": "code",
      "source": [
        "df['id'] = my_lines.keys()"
      ],
      "metadata": {
        "id": "E_d-rAb-ijuI"
      },
      "execution_count": 5,
      "outputs": []
    },
    {
      "cell_type": "code",
      "source": [
        "df['text'] = my_lines.values()"
      ],
      "metadata": {
        "id": "02EHbT8Xim86"
      },
      "execution_count": 6,
      "outputs": []
    },
    {
      "cell_type": "code",
      "source": [
        "df['title'] = lines_title"
      ],
      "metadata": {
        "id": "0Iqa2ypGCMtc"
      },
      "execution_count": 7,
      "outputs": []
    },
    {
      "cell_type": "code",
      "source": [
        "df['title'] = df['title'].apply(lambda x: x[:-1])"
      ],
      "metadata": {
        "id": "hw0howRmjlxC"
      },
      "execution_count": 8,
      "outputs": []
    },
    {
      "cell_type": "code",
      "source": [
        "df"
      ],
      "metadata": {
        "colab": {
          "base_uri": "https://localhost:8080/",
          "height": 423
        },
        "id": "KXFnpMGpEacQ",
        "outputId": "fd759757-d4e5-4dc0-eb66-414bdfc37a2a"
      },
      "execution_count": 9,
      "outputs": [
        {
          "output_type": "execute_result",
          "data": {
            "text/plain": [
              "            id                                               text  \\\n",
              "0            0  Old Major, the old boar on the Manor Farm, sum...   \n",
              "1            1  Alex is a 15-year-old living in near-future dy...   \n",
              "2            2  The text of The Plague is divided into five pa...   \n",
              "3            3  Among others, John Heath has observed, \"The un...   \n",
              "4            4  An expedition from Straumli Realm, an ambitiou...   \n",
              "...        ...                                                ...   \n",
              "112931  112931  What starts as a clash of personalities turns ...   \n",
              "112932  112932  Etheria is the oldest and most powerful kingdo...   \n",
              "112933  112933  Anna Sinclair is an established and in-demand ...   \n",
              "112934  112934  In March 2012, five crew members of a news cha...   \n",
              "112935  112935  Pulkesh alias Pulku is a very usual guy with a...   \n",
              "\n",
              "                             title  \n",
              "0                      Animal Farm  \n",
              "1       A Clockwork Orange (novel)  \n",
              "2                       The Plague  \n",
              "3                          Actaeon  \n",
              "4             A Fire Upon the Deep  \n",
              "...                            ...  \n",
              "112931           Downwardly Mobile  \n",
              "112932    Etheria (2017 TV series)  \n",
              "112933             Anna In-Between  \n",
              "112934  Bhangarh: The Last Episode  \n",
              "112935                 Mugulu Nage  \n",
              "\n",
              "[112936 rows x 3 columns]"
            ],
            "text/html": [
              "\n",
              "  <div id=\"df-a0a19ac0-c69b-4acf-b3bd-e37d63cd29ab\">\n",
              "    <div class=\"colab-df-container\">\n",
              "      <div>\n",
              "<style scoped>\n",
              "    .dataframe tbody tr th:only-of-type {\n",
              "        vertical-align: middle;\n",
              "    }\n",
              "\n",
              "    .dataframe tbody tr th {\n",
              "        vertical-align: top;\n",
              "    }\n",
              "\n",
              "    .dataframe thead th {\n",
              "        text-align: right;\n",
              "    }\n",
              "</style>\n",
              "<table border=\"1\" class=\"dataframe\">\n",
              "  <thead>\n",
              "    <tr style=\"text-align: right;\">\n",
              "      <th></th>\n",
              "      <th>id</th>\n",
              "      <th>text</th>\n",
              "      <th>title</th>\n",
              "    </tr>\n",
              "  </thead>\n",
              "  <tbody>\n",
              "    <tr>\n",
              "      <th>0</th>\n",
              "      <td>0</td>\n",
              "      <td>Old Major, the old boar on the Manor Farm, sum...</td>\n",
              "      <td>Animal Farm</td>\n",
              "    </tr>\n",
              "    <tr>\n",
              "      <th>1</th>\n",
              "      <td>1</td>\n",
              "      <td>Alex is a 15-year-old living in near-future dy...</td>\n",
              "      <td>A Clockwork Orange (novel)</td>\n",
              "    </tr>\n",
              "    <tr>\n",
              "      <th>2</th>\n",
              "      <td>2</td>\n",
              "      <td>The text of The Plague is divided into five pa...</td>\n",
              "      <td>The Plague</td>\n",
              "    </tr>\n",
              "    <tr>\n",
              "      <th>3</th>\n",
              "      <td>3</td>\n",
              "      <td>Among others, John Heath has observed, \"The un...</td>\n",
              "      <td>Actaeon</td>\n",
              "    </tr>\n",
              "    <tr>\n",
              "      <th>4</th>\n",
              "      <td>4</td>\n",
              "      <td>An expedition from Straumli Realm, an ambitiou...</td>\n",
              "      <td>A Fire Upon the Deep</td>\n",
              "    </tr>\n",
              "    <tr>\n",
              "      <th>...</th>\n",
              "      <td>...</td>\n",
              "      <td>...</td>\n",
              "      <td>...</td>\n",
              "    </tr>\n",
              "    <tr>\n",
              "      <th>112931</th>\n",
              "      <td>112931</td>\n",
              "      <td>What starts as a clash of personalities turns ...</td>\n",
              "      <td>Downwardly Mobile</td>\n",
              "    </tr>\n",
              "    <tr>\n",
              "      <th>112932</th>\n",
              "      <td>112932</td>\n",
              "      <td>Etheria is the oldest and most powerful kingdo...</td>\n",
              "      <td>Etheria (2017 TV series)</td>\n",
              "    </tr>\n",
              "    <tr>\n",
              "      <th>112933</th>\n",
              "      <td>112933</td>\n",
              "      <td>Anna Sinclair is an established and in-demand ...</td>\n",
              "      <td>Anna In-Between</td>\n",
              "    </tr>\n",
              "    <tr>\n",
              "      <th>112934</th>\n",
              "      <td>112934</td>\n",
              "      <td>In March 2012, five crew members of a news cha...</td>\n",
              "      <td>Bhangarh: The Last Episode</td>\n",
              "    </tr>\n",
              "    <tr>\n",
              "      <th>112935</th>\n",
              "      <td>112935</td>\n",
              "      <td>Pulkesh alias Pulku is a very usual guy with a...</td>\n",
              "      <td>Mugulu Nage</td>\n",
              "    </tr>\n",
              "  </tbody>\n",
              "</table>\n",
              "<p>112936 rows × 3 columns</p>\n",
              "</div>\n",
              "      <button class=\"colab-df-convert\" onclick=\"convertToInteractive('df-a0a19ac0-c69b-4acf-b3bd-e37d63cd29ab')\"\n",
              "              title=\"Convert this dataframe to an interactive table.\"\n",
              "              style=\"display:none;\">\n",
              "        \n",
              "  <svg xmlns=\"http://www.w3.org/2000/svg\" height=\"24px\"viewBox=\"0 0 24 24\"\n",
              "       width=\"24px\">\n",
              "    <path d=\"M0 0h24v24H0V0z\" fill=\"none\"/>\n",
              "    <path d=\"M18.56 5.44l.94 2.06.94-2.06 2.06-.94-2.06-.94-.94-2.06-.94 2.06-2.06.94zm-11 1L8.5 8.5l.94-2.06 2.06-.94-2.06-.94L8.5 2.5l-.94 2.06-2.06.94zm10 10l.94 2.06.94-2.06 2.06-.94-2.06-.94-.94-2.06-.94 2.06-2.06.94z\"/><path d=\"M17.41 7.96l-1.37-1.37c-.4-.4-.92-.59-1.43-.59-.52 0-1.04.2-1.43.59L10.3 9.45l-7.72 7.72c-.78.78-.78 2.05 0 2.83L4 21.41c.39.39.9.59 1.41.59.51 0 1.02-.2 1.41-.59l7.78-7.78 2.81-2.81c.8-.78.8-2.07 0-2.86zM5.41 20L4 18.59l7.72-7.72 1.47 1.35L5.41 20z\"/>\n",
              "  </svg>\n",
              "      </button>\n",
              "      \n",
              "  <style>\n",
              "    .colab-df-container {\n",
              "      display:flex;\n",
              "      flex-wrap:wrap;\n",
              "      gap: 12px;\n",
              "    }\n",
              "\n",
              "    .colab-df-convert {\n",
              "      background-color: #E8F0FE;\n",
              "      border: none;\n",
              "      border-radius: 50%;\n",
              "      cursor: pointer;\n",
              "      display: none;\n",
              "      fill: #1967D2;\n",
              "      height: 32px;\n",
              "      padding: 0 0 0 0;\n",
              "      width: 32px;\n",
              "    }\n",
              "\n",
              "    .colab-df-convert:hover {\n",
              "      background-color: #E2EBFA;\n",
              "      box-shadow: 0px 1px 2px rgba(60, 64, 67, 0.3), 0px 1px 3px 1px rgba(60, 64, 67, 0.15);\n",
              "      fill: #174EA6;\n",
              "    }\n",
              "\n",
              "    [theme=dark] .colab-df-convert {\n",
              "      background-color: #3B4455;\n",
              "      fill: #D2E3FC;\n",
              "    }\n",
              "\n",
              "    [theme=dark] .colab-df-convert:hover {\n",
              "      background-color: #434B5C;\n",
              "      box-shadow: 0px 1px 3px 1px rgba(0, 0, 0, 0.15);\n",
              "      filter: drop-shadow(0px 1px 2px rgba(0, 0, 0, 0.3));\n",
              "      fill: #FFFFFF;\n",
              "    }\n",
              "  </style>\n",
              "\n",
              "      <script>\n",
              "        const buttonEl =\n",
              "          document.querySelector('#df-a0a19ac0-c69b-4acf-b3bd-e37d63cd29ab button.colab-df-convert');\n",
              "        buttonEl.style.display =\n",
              "          google.colab.kernel.accessAllowed ? 'block' : 'none';\n",
              "\n",
              "        async function convertToInteractive(key) {\n",
              "          const element = document.querySelector('#df-a0a19ac0-c69b-4acf-b3bd-e37d63cd29ab');\n",
              "          const dataTable =\n",
              "            await google.colab.kernel.invokeFunction('convertToInteractive',\n",
              "                                                     [key], {});\n",
              "          if (!dataTable) return;\n",
              "\n",
              "          const docLinkHtml = 'Like what you see? Visit the ' +\n",
              "            '<a target=\"_blank\" href=https://colab.research.google.com/notebooks/data_table.ipynb>data table notebook</a>'\n",
              "            + ' to learn more about interactive tables.';\n",
              "          element.innerHTML = '';\n",
              "          dataTable['output_type'] = 'display_data';\n",
              "          await google.colab.output.renderOutput(dataTable, element);\n",
              "          const docLink = document.createElement('div');\n",
              "          docLink.innerHTML = docLinkHtml;\n",
              "          element.appendChild(docLink);\n",
              "        }\n",
              "      </script>\n",
              "    </div>\n",
              "  </div>\n",
              "  "
            ]
          },
          "metadata": {},
          "execution_count": 9
        }
      ]
    },
    {
      "cell_type": "code",
      "source": [
        "r = Rake()"
      ],
      "metadata": {
        "id": "-p-0YJIGpps7"
      },
      "execution_count": 28,
      "outputs": []
    },
    {
      "cell_type": "code",
      "source": [
        "import nltk\n",
        "nltk.download('punkt')"
      ],
      "metadata": {
        "colab": {
          "base_uri": "https://localhost:8080/"
        },
        "id": "mpEgT17n2kq-",
        "outputId": "18b15ed4-34a8-4c49-89a1-d73f2d36ec01"
      },
      "execution_count": 1,
      "outputs": [
        {
          "output_type": "stream",
          "name": "stdout",
          "text": [
            "[nltk_data] Downloading package punkt to /root/nltk_data...\n",
            "[nltk_data]   Unzipping tokenizers/punkt.zip.\n"
          ]
        },
        {
          "output_type": "execute_result",
          "data": {
            "text/plain": [
              "True"
            ]
          },
          "metadata": {},
          "execution_count": 1
        }
      ]
    },
    {
      "cell_type": "code",
      "source": [
        "for i in tqdm(range(len(lines_title))):\n",
        "    text = df.loc[i, 'text']\n",
        "    r.extract_keywords_from_text(text)\n",
        "    df.loc[i,'outline'] = \"##\".join(r.get_ranked_phrases()[0:10])"
      ],
      "metadata": {
        "colab": {
          "base_uri": "https://localhost:8080/",
          "height": 222
        },
        "id": "LfEWm0vWtHOY",
        "outputId": "4d3943d7-4fba-498c-ac07-21b371577883"
      },
      "execution_count": 2,
      "outputs": [
        {
          "output_type": "error",
          "ename": "NameError",
          "evalue": "ignored",
          "traceback": [
            "\u001b[0;31m---------------------------------------------------------------------------\u001b[0m",
            "\u001b[0;31mNameError\u001b[0m                                 Traceback (most recent call last)",
            "\u001b[0;32m<ipython-input-2-8d1ca4a2bded>\u001b[0m in \u001b[0;36m<module>\u001b[0;34m()\u001b[0m\n\u001b[0;32m----> 1\u001b[0;31m \u001b[0;32mfor\u001b[0m \u001b[0mi\u001b[0m \u001b[0;32min\u001b[0m \u001b[0mtqdm\u001b[0m\u001b[0;34m(\u001b[0m\u001b[0mrange\u001b[0m\u001b[0;34m(\u001b[0m\u001b[0mlen\u001b[0m\u001b[0;34m(\u001b[0m\u001b[0mlines_title\u001b[0m\u001b[0;34m)\u001b[0m\u001b[0;34m)\u001b[0m\u001b[0;34m)\u001b[0m\u001b[0;34m:\u001b[0m\u001b[0;34m\u001b[0m\u001b[0;34m\u001b[0m\u001b[0m\n\u001b[0m\u001b[1;32m      2\u001b[0m     \u001b[0mtext\u001b[0m \u001b[0;34m=\u001b[0m \u001b[0mdf\u001b[0m\u001b[0;34m.\u001b[0m\u001b[0mloc\u001b[0m\u001b[0;34m[\u001b[0m\u001b[0mi\u001b[0m\u001b[0;34m,\u001b[0m \u001b[0;34m'text'\u001b[0m\u001b[0;34m]\u001b[0m\u001b[0;34m\u001b[0m\u001b[0;34m\u001b[0m\u001b[0m\n\u001b[1;32m      3\u001b[0m     \u001b[0mr\u001b[0m\u001b[0;34m.\u001b[0m\u001b[0mextract_keywords_from_text\u001b[0m\u001b[0;34m(\u001b[0m\u001b[0mtext\u001b[0m\u001b[0;34m)\u001b[0m\u001b[0;34m\u001b[0m\u001b[0;34m\u001b[0m\u001b[0m\n\u001b[1;32m      4\u001b[0m     \u001b[0mdf\u001b[0m\u001b[0;34m.\u001b[0m\u001b[0mloc\u001b[0m\u001b[0;34m[\u001b[0m\u001b[0mi\u001b[0m\u001b[0;34m,\u001b[0m\u001b[0;34m'outline'\u001b[0m\u001b[0;34m]\u001b[0m \u001b[0;34m=\u001b[0m \u001b[0;34m\"##\"\u001b[0m\u001b[0;34m.\u001b[0m\u001b[0mjoin\u001b[0m\u001b[0;34m(\u001b[0m\u001b[0mr\u001b[0m\u001b[0;34m.\u001b[0m\u001b[0mget_ranked_phrases\u001b[0m\u001b[0;34m(\u001b[0m\u001b[0;34m)\u001b[0m\u001b[0;34m[\u001b[0m\u001b[0;36m0\u001b[0m\u001b[0;34m:\u001b[0m\u001b[0;36m10\u001b[0m\u001b[0;34m]\u001b[0m\u001b[0;34m)\u001b[0m\u001b[0;34m\u001b[0m\u001b[0;34m\u001b[0m\u001b[0m\n",
            "\u001b[0;31mNameError\u001b[0m: name 'tqdm' is not defined"
          ]
        }
      ]
    },
    {
      "cell_type": "code",
      "source": [
        "df"
      ],
      "metadata": {
        "colab": {
          "base_uri": "https://localhost:8080/",
          "height": 423
        },
        "id": "ymtt1m-p0tua",
        "outputId": "2daf520f-6826-42fe-9ada-bcab1208a245"
      },
      "execution_count": 37,
      "outputs": [
        {
          "output_type": "execute_result",
          "data": {
            "text/plain": [
              "            id                                               text  \\\n",
              "0            0  Old Major, the old boar on the Manor Farm, sum...   \n",
              "1            1  Alex is a 15-year-old living in near-future dy...   \n",
              "2            2  The text of The Plague is divided into five pa...   \n",
              "3            3  Among others, John Heath has observed, \"The un...   \n",
              "4            4  An expedition from Straumli Realm, an ambitiou...   \n",
              "...        ...                                                ...   \n",
              "112931  112931  What starts as a clash of personalities turns ...   \n",
              "112932  112932  Etheria is the oldest and most powerful kingdo...   \n",
              "112933  112933  Anna Sinclair is an established and in-demand ...   \n",
              "112934  112934  In March 2012, five crew members of a news cha...   \n",
              "112935  112935  Pulkesh alias Pulku is a very usual guy with a...   \n",
              "\n",
              "                             title  \\\n",
              "0                      Animal Farm   \n",
              "1       A Clockwork Orange (novel)   \n",
              "2                       The Plague   \n",
              "3                          Actaeon   \n",
              "4             A Fire Upon the Deep   \n",
              "...                            ...   \n",
              "112931           Downwardly Mobile   \n",
              "112932    Etheria (2017 TV series)   \n",
              "112933             Anna In-Between   \n",
              "112934  Bhangarh: The Last Episode   \n",
              "112935                 Mugulu Nage   \n",
              "\n",
              "                                                  outline  \n",
              "0       set aside special food items##happiest animals...  \n",
              "1       clad young woman whose presence##corrective ad...  \n",
              "2       two men go swimming together##official notices...  \n",
              "3       least four attic tragedies##hero archegetes (\"...  \n",
              "4       young boy named jefri olsndot##device help woo...  \n",
              "...                                                   ...  \n",
              "112931  wife sophie move##psychotherapist wife rosemar...  \n",
              "112932  four kingdoms helped cassiopea defeat etheria#...  \n",
              "112933  vacation trip getting away##race plays vital r...  \n",
              "112934  paranormal tv show##news channel disappeared##...  \n",
              "112935  musical restaurant called geet guitar##one day...  \n",
              "\n",
              "[112936 rows x 4 columns]"
            ],
            "text/html": [
              "\n",
              "  <div id=\"df-5e123b29-08d7-47ab-8faa-f435e4134af1\">\n",
              "    <div class=\"colab-df-container\">\n",
              "      <div>\n",
              "<style scoped>\n",
              "    .dataframe tbody tr th:only-of-type {\n",
              "        vertical-align: middle;\n",
              "    }\n",
              "\n",
              "    .dataframe tbody tr th {\n",
              "        vertical-align: top;\n",
              "    }\n",
              "\n",
              "    .dataframe thead th {\n",
              "        text-align: right;\n",
              "    }\n",
              "</style>\n",
              "<table border=\"1\" class=\"dataframe\">\n",
              "  <thead>\n",
              "    <tr style=\"text-align: right;\">\n",
              "      <th></th>\n",
              "      <th>id</th>\n",
              "      <th>text</th>\n",
              "      <th>title</th>\n",
              "      <th>outline</th>\n",
              "    </tr>\n",
              "  </thead>\n",
              "  <tbody>\n",
              "    <tr>\n",
              "      <th>0</th>\n",
              "      <td>0</td>\n",
              "      <td>Old Major, the old boar on the Manor Farm, sum...</td>\n",
              "      <td>Animal Farm</td>\n",
              "      <td>set aside special food items##happiest animals...</td>\n",
              "    </tr>\n",
              "    <tr>\n",
              "      <th>1</th>\n",
              "      <td>1</td>\n",
              "      <td>Alex is a 15-year-old living in near-future dy...</td>\n",
              "      <td>A Clockwork Orange (novel)</td>\n",
              "      <td>clad young woman whose presence##corrective ad...</td>\n",
              "    </tr>\n",
              "    <tr>\n",
              "      <th>2</th>\n",
              "      <td>2</td>\n",
              "      <td>The text of The Plague is divided into five pa...</td>\n",
              "      <td>The Plague</td>\n",
              "      <td>two men go swimming together##official notices...</td>\n",
              "    </tr>\n",
              "    <tr>\n",
              "      <th>3</th>\n",
              "      <td>3</td>\n",
              "      <td>Among others, John Heath has observed, \"The un...</td>\n",
              "      <td>Actaeon</td>\n",
              "      <td>least four attic tragedies##hero archegetes (\"...</td>\n",
              "    </tr>\n",
              "    <tr>\n",
              "      <th>4</th>\n",
              "      <td>4</td>\n",
              "      <td>An expedition from Straumli Realm, an ambitiou...</td>\n",
              "      <td>A Fire Upon the Deep</td>\n",
              "      <td>young boy named jefri olsndot##device help woo...</td>\n",
              "    </tr>\n",
              "    <tr>\n",
              "      <th>...</th>\n",
              "      <td>...</td>\n",
              "      <td>...</td>\n",
              "      <td>...</td>\n",
              "      <td>...</td>\n",
              "    </tr>\n",
              "    <tr>\n",
              "      <th>112931</th>\n",
              "      <td>112931</td>\n",
              "      <td>What starts as a clash of personalities turns ...</td>\n",
              "      <td>Downwardly Mobile</td>\n",
              "      <td>wife sophie move##psychotherapist wife rosemar...</td>\n",
              "    </tr>\n",
              "    <tr>\n",
              "      <th>112932</th>\n",
              "      <td>112932</td>\n",
              "      <td>Etheria is the oldest and most powerful kingdo...</td>\n",
              "      <td>Etheria (2017 TV series)</td>\n",
              "      <td>four kingdoms helped cassiopea defeat etheria#...</td>\n",
              "    </tr>\n",
              "    <tr>\n",
              "      <th>112933</th>\n",
              "      <td>112933</td>\n",
              "      <td>Anna Sinclair is an established and in-demand ...</td>\n",
              "      <td>Anna In-Between</td>\n",
              "      <td>vacation trip getting away##race plays vital r...</td>\n",
              "    </tr>\n",
              "    <tr>\n",
              "      <th>112934</th>\n",
              "      <td>112934</td>\n",
              "      <td>In March 2012, five crew members of a news cha...</td>\n",
              "      <td>Bhangarh: The Last Episode</td>\n",
              "      <td>paranormal tv show##news channel disappeared##...</td>\n",
              "    </tr>\n",
              "    <tr>\n",
              "      <th>112935</th>\n",
              "      <td>112935</td>\n",
              "      <td>Pulkesh alias Pulku is a very usual guy with a...</td>\n",
              "      <td>Mugulu Nage</td>\n",
              "      <td>musical restaurant called geet guitar##one day...</td>\n",
              "    </tr>\n",
              "  </tbody>\n",
              "</table>\n",
              "<p>112936 rows × 4 columns</p>\n",
              "</div>\n",
              "      <button class=\"colab-df-convert\" onclick=\"convertToInteractive('df-5e123b29-08d7-47ab-8faa-f435e4134af1')\"\n",
              "              title=\"Convert this dataframe to an interactive table.\"\n",
              "              style=\"display:none;\">\n",
              "        \n",
              "  <svg xmlns=\"http://www.w3.org/2000/svg\" height=\"24px\"viewBox=\"0 0 24 24\"\n",
              "       width=\"24px\">\n",
              "    <path d=\"M0 0h24v24H0V0z\" fill=\"none\"/>\n",
              "    <path d=\"M18.56 5.44l.94 2.06.94-2.06 2.06-.94-2.06-.94-.94-2.06-.94 2.06-2.06.94zm-11 1L8.5 8.5l.94-2.06 2.06-.94-2.06-.94L8.5 2.5l-.94 2.06-2.06.94zm10 10l.94 2.06.94-2.06 2.06-.94-2.06-.94-.94-2.06-.94 2.06-2.06.94z\"/><path d=\"M17.41 7.96l-1.37-1.37c-.4-.4-.92-.59-1.43-.59-.52 0-1.04.2-1.43.59L10.3 9.45l-7.72 7.72c-.78.78-.78 2.05 0 2.83L4 21.41c.39.39.9.59 1.41.59.51 0 1.02-.2 1.41-.59l7.78-7.78 2.81-2.81c.8-.78.8-2.07 0-2.86zM5.41 20L4 18.59l7.72-7.72 1.47 1.35L5.41 20z\"/>\n",
              "  </svg>\n",
              "      </button>\n",
              "      \n",
              "  <style>\n",
              "    .colab-df-container {\n",
              "      display:flex;\n",
              "      flex-wrap:wrap;\n",
              "      gap: 12px;\n",
              "    }\n",
              "\n",
              "    .colab-df-convert {\n",
              "      background-color: #E8F0FE;\n",
              "      border: none;\n",
              "      border-radius: 50%;\n",
              "      cursor: pointer;\n",
              "      display: none;\n",
              "      fill: #1967D2;\n",
              "      height: 32px;\n",
              "      padding: 0 0 0 0;\n",
              "      width: 32px;\n",
              "    }\n",
              "\n",
              "    .colab-df-convert:hover {\n",
              "      background-color: #E2EBFA;\n",
              "      box-shadow: 0px 1px 2px rgba(60, 64, 67, 0.3), 0px 1px 3px 1px rgba(60, 64, 67, 0.15);\n",
              "      fill: #174EA6;\n",
              "    }\n",
              "\n",
              "    [theme=dark] .colab-df-convert {\n",
              "      background-color: #3B4455;\n",
              "      fill: #D2E3FC;\n",
              "    }\n",
              "\n",
              "    [theme=dark] .colab-df-convert:hover {\n",
              "      background-color: #434B5C;\n",
              "      box-shadow: 0px 1px 3px 1px rgba(0, 0, 0, 0.15);\n",
              "      filter: drop-shadow(0px 1px 2px rgba(0, 0, 0, 0.3));\n",
              "      fill: #FFFFFF;\n",
              "    }\n",
              "  </style>\n",
              "\n",
              "      <script>\n",
              "        const buttonEl =\n",
              "          document.querySelector('#df-5e123b29-08d7-47ab-8faa-f435e4134af1 button.colab-df-convert');\n",
              "        buttonEl.style.display =\n",
              "          google.colab.kernel.accessAllowed ? 'block' : 'none';\n",
              "\n",
              "        async function convertToInteractive(key) {\n",
              "          const element = document.querySelector('#df-5e123b29-08d7-47ab-8faa-f435e4134af1');\n",
              "          const dataTable =\n",
              "            await google.colab.kernel.invokeFunction('convertToInteractive',\n",
              "                                                     [key], {});\n",
              "          if (!dataTable) return;\n",
              "\n",
              "          const docLinkHtml = 'Like what you see? Visit the ' +\n",
              "            '<a target=\"_blank\" href=https://colab.research.google.com/notebooks/data_table.ipynb>data table notebook</a>'\n",
              "            + ' to learn more about interactive tables.';\n",
              "          element.innerHTML = '';\n",
              "          dataTable['output_type'] = 'display_data';\n",
              "          await google.colab.output.renderOutput(dataTable, element);\n",
              "          const docLink = document.createElement('div');\n",
              "          docLink.innerHTML = docLinkHtml;\n",
              "          element.appendChild(docLink);\n",
              "        }\n",
              "      </script>\n",
              "    </div>\n",
              "  </div>\n",
              "  "
            ]
          },
          "metadata": {},
          "execution_count": 37
        }
      ]
    },
    {
      "cell_type": "code",
      "source": [
        "df.loc[0,'outline']"
      ],
      "metadata": {
        "colab": {
          "base_uri": "https://localhost:8080/",
          "height": 71
        },
        "id": "d17t1vIf5Cvi",
        "outputId": "e0c1c9a5-78ec-4938-9ed6-625e76d92968"
      },
      "execution_count": 39,
      "outputs": [
        {
          "output_type": "execute_result",
          "data": {
            "text/plain": [
              "'set aside special food items##happiest animals live simple lives##several men attack animal farm##young pig named squealer##napoleon educates young puppies##dogs chase snowball away##irresponsible farmer mr jones##boxer continues working harder##pig \", notices##using blasting powder'"
            ],
            "application/vnd.google.colaboratory.intrinsic+json": {
              "type": "string"
            }
          },
          "metadata": {},
          "execution_count": 39
        }
      ]
    },
    {
      "cell_type": "code",
      "source": [
        "df.to_csv('data_20line_outline.csv')"
      ],
      "metadata": {
        "id": "I-ZL-0Ms5Gi5"
      },
      "execution_count": 42,
      "outputs": []
    },
    {
      "cell_type": "code",
      "source": [
        "for i in tqdm(range(len(lines_title))):\n",
        "    text = df.loc[i, 'text']\n",
        "    r.extract_keywords_from_text(text)\n",
        "    df.loc[i,'outline'] = \"##\".join(r.get_ranked_phrases()[0:20])"
      ],
      "metadata": {
        "colab": {
          "base_uri": "https://localhost:8080/"
        },
        "id": "tGoquVoT5U9d",
        "outputId": "24f161fe-e53f-459a-f7c5-7d0d346c713c"
      },
      "execution_count": 41,
      "outputs": [
        {
          "output_type": "stream",
          "name": "stderr",
          "text": [
            "100%|██████████| 112936/112936 [11:16<00:00, 166.93it/s]\n"
          ]
        }
      ]
    },
    {
      "cell_type": "code",
      "source": [
        "# class myAttention(Attention):\n",
        "#     def __init__(self, nx, n_ctx, config, scale=False):\n",
        "#         super(myAttention, self).__init__()\n",
        "\n",
        "#     def forward(): ### my customized forward pass\n",
        "\n",
        "\n",
        "# class myBlock(Block):\n",
        "#     def __init__(self, n_ctx, config, scale=False):\n",
        "#         super(myBlock, self).__init__()\n",
        "#     def forward(...):   ### my customized forward pass\n",
        "\n",
        "# class myGPT2Model(GPT2Model):\n",
        "#     def __init__(self, config):\n",
        "#         super(myGPT2Model, self).__init__(config)\n",
        "#         ....\n",
        "#         self.apply(self.init_weights)\n",
        "#     def forward(...).  ### my customized forward pass"
      ],
      "metadata": {
        "id": "WvLwN9m4-G4a"
      },
      "execution_count": 2,
      "outputs": []
    },
    {
      "cell_type": "code",
      "source": [
        "data = pd.read_csv('/content/data_10line_outline.csv')\n",
        "data = data.dropna()\n",
        "data = data.reset_index()\n",
        "data['outline'] = data['outline'].apply(lambda x: \" <SEP> \".join(x.split(\"##\")))"
      ],
      "metadata": {
        "id": "jVFNy30pIvCR"
      },
      "execution_count": 66,
      "outputs": []
    },
    {
      "cell_type": "code",
      "source": [
        "data.to_csv('refined.csv')"
      ],
      "metadata": {
        "id": "lIaHwdhgJPhH"
      },
      "execution_count": 71,
      "outputs": []
    },
    {
      "cell_type": "code",
      "source": [
        "from transformers import GPT2LMHeadModel, GPT2Tokenizer\n",
        "import numpy as np\n",
        "import random\n",
        "import torch\n",
        "from torch.utils.data import Dataset, DataLoader\n",
        "from transformers import GPT2Tokenizer, GPT2LMHeadModel, AdamW, get_linear_schedule_with_warmup\n",
        "import torch.nn.functional as F\n",
        "import csv"
      ],
      "metadata": {
        "id": "fX3OzD4x5aWM"
      },
      "execution_count": 2,
      "outputs": []
    },
    {
      "cell_type": "code",
      "source": [
        "import pandas as pd\n",
        "import torch\n",
        "from transformers import GPT2Tokenizer, GPT2LMHeadModel, GPT2Config, AdamW, get_linear_schedule_with_warmup\n",
        "from torch.utils.data import Dataset, random_split, DataLoader, RandomSampler, SequentialSampler"
      ],
      "metadata": {
        "id": "la1QjLYotub0"
      },
      "execution_count": 3,
      "outputs": []
    },
    {
      "cell_type": "code",
      "source": [
        "device = 'cpu'\n",
        "if torch.cuda.is_available():\n",
        "    device = 'cuda'\n",
        "\n",
        "tokenizer = GPT2Tokenizer.from_pretrained('gpt2')\n",
        "model = GPT2LMHeadModel.from_pretrained('gpt2')\n",
        "model = model.to(device)"
      ],
      "metadata": {
        "id": "R35k7TJzAjkT"
      },
      "execution_count": 4,
      "outputs": []
    },
    {
      "cell_type": "code",
      "source": [
        "RANDOM_SEED = 73\n",
        "BATCH_SIZE = 1\n",
        "\n",
        "EPOCHS = 4\n",
        "SAMPLE_EVERY = 100\n",
        "\n",
        "MAX_INPUT_SEQUENCE_LENGTH = 400"
      ],
      "metadata": {
        "id": "dxR6Jl7SMDjh"
      },
      "execution_count": 5,
      "outputs": []
    },
    {
      "cell_type": "code",
      "source": [
        "tokenizer = GPT2Tokenizer.from_pretrained('gpt2')\n",
        "\n",
        "special_tokens_dict = {'bos_token': '<BOS>', 'eos_token': '<EOS>', 'pad_token': '<PAD>', 'sep_token': '<SEP>'}\n",
        "num_added_tokens = tokenizer.add_special_tokens(special_tokens_dict)"
      ],
      "metadata": {
        "id": "Z9yFEujlNTJW"
      },
      "execution_count": 6,
      "outputs": []
    },
    {
      "cell_type": "code",
      "source": [
        "from tqdm import tqdm"
      ],
      "metadata": {
        "id": "-5MmNRCIDmCD"
      },
      "execution_count": 7,
      "outputs": []
    },
    {
      "cell_type": "code",
      "source": [
        "data = pd.read_csv(\"/content/refined.csv\")"
      ],
      "metadata": {
        "id": "oWoEygXaoaRW"
      },
      "execution_count": 8,
      "outputs": []
    },
    {
      "cell_type": "code",
      "source": [
        "data = data.dropna()\n",
        "data.to_csv('refined.csv')"
      ],
      "metadata": {
        "id": "hj6-xJ9ZodY6"
      },
      "execution_count": 9,
      "outputs": []
    },
    {
      "cell_type": "code",
      "source": [
        "class StoryOutlineDataset(Dataset):\n",
        "\n",
        "    def __init__(self, data_path, tokenizer, max_input_length):\n",
        "\n",
        "        self.tokenizer = tokenizer\n",
        "        self.input_ids = []\n",
        "        self.attn_masks = []\n",
        "        self.labels = []\n",
        "        self.data = pd.read_csv('/content/refined.csv')\n",
        "\n",
        "        for i in tqdm(range(len(self.data))):\n",
        "            text = self.data.loc[i, 'text']\n",
        "            outline = self.data.loc[i, 'storyline']\n",
        "\n",
        "            encodings_dict_story = tokenizer('<BOS> ' + text + ' <EOS>',\n",
        "                                     truncation=True,\n",
        "                                     max_length=max_input_length,\n",
        "                                     padding='max_length'\n",
        "                                    )\n",
        "            \n",
        "            encodings_dict_outline = tokenizer('<BOS> ' + outline + ' <EOS>',\n",
        "                                     truncation=True,\n",
        "                                     max_length=max_input_length,\n",
        "                                     padding='max_length'\n",
        "                                    )\n",
        "\n",
        "            self.input_ids.append(torch.tensor(encodings_dict_outline['input_ids']))\n",
        "            self.attn_masks.append(torch.tensor(encodings_dict_outline['attention_mask']))\n",
        "            self.labels.append(torch.tensor(encodings_dict_story['input_ids']))\n",
        "\n",
        "    def __len__(self):\n",
        "        return len(self.data)\n",
        "\n",
        "    def __getitem__(self, ind):\n",
        "        return self.input_ids[ind], self.attn_masks[ind], self.labels[ind]"
      ],
      "metadata": {
        "id": "8h7-0Lz2OVhx"
      },
      "execution_count": 10,
      "outputs": []
    },
    {
      "cell_type": "code",
      "source": [
        "story_dataset = StoryOutlineDataset('refined.csv', tokenizer, MAX_INPUT_SEQUENCE_LENGTH)"
      ],
      "metadata": {
        "colab": {
          "base_uri": "https://localhost:8080/"
        },
        "id": "Lea6BixqOcuv",
        "outputId": "e01e3e8b-3bea-42bb-f93f-5cbacbea459b"
      },
      "execution_count": 11,
      "outputs": [
        {
          "output_type": "stream",
          "name": "stderr",
          "text": [
            "100%|██████████| 108828/108828 [08:40<00:00, 209.00it/s]\n"
          ]
        }
      ]
    },
    {
      "cell_type": "code",
      "source": [
        "from torch.utils.data import random_split"
      ],
      "metadata": {
        "id": "v14hnJgQSGpb"
      },
      "execution_count": 12,
      "outputs": []
    },
    {
      "cell_type": "code",
      "source": [
        "def train_val_split(split, dataset):\n",
        "    train_size = int(split * len(dataset))\n",
        "    val_size = len(dataset) - train_size\n",
        "    return train_size, val_size"
      ],
      "metadata": {
        "id": "zU3HmHa6R7q8"
      },
      "execution_count": 13,
      "outputs": []
    },
    {
      "cell_type": "code",
      "source": [
        "train_size, val_size = train_val_split(0.8, story_dataset)\n",
        "train_dataset, val_dataset = random_split(story_dataset, [train_size, val_size])"
      ],
      "metadata": {
        "id": "FQeIzcVwQPqq"
      },
      "execution_count": 14,
      "outputs": []
    },
    {
      "cell_type": "code",
      "source": [
        "torch.cuda.manual_seed_all(RANDOM_SEED)\n",
        "random.seed(RANDOM_SEED)\n",
        "np.random.seed(RANDOM_SEED)\n",
        "torch.manual_seed(RANDOM_SEED)"
      ],
      "metadata": {
        "colab": {
          "base_uri": "https://localhost:8080/"
        },
        "id": "W1RRLycNSwWL",
        "outputId": "29408308-8f08-4133-bdcc-3e1ec5858466"
      },
      "execution_count": 15,
      "outputs": [
        {
          "output_type": "execute_result",
          "data": {
            "text/plain": [
              "<torch._C.Generator at 0x7fa6d11c8a10>"
            ]
          },
          "metadata": {},
          "execution_count": 15
        }
      ]
    },
    {
      "cell_type": "code",
      "source": [
        "train_loader = DataLoader(train_dataset, batch_size = BATCH_SIZE, shuffle = True)\n",
        "val_loader = DataLoader(val_dataset, batch_size = BATCH_SIZE, shuffle = True)"
      ],
      "metadata": {
        "id": "FcM1oCXwS0KY"
      },
      "execution_count": 16,
      "outputs": []
    },
    {
      "cell_type": "code",
      "source": [
        "learning_rate = 5e-4\n",
        "eps = 1e-8\n",
        "warmup_steps = 100"
      ],
      "metadata": {
        "id": "UjkTwpc4TNZy"
      },
      "execution_count": 17,
      "outputs": []
    },
    {
      "cell_type": "code",
      "source": [
        "configuration = GPT2Config(vocab_size=len(tokenizer), n_positions = MAX_INPUT_SEQUENCE_LENGTH, \n",
        "                           activation_function = \"gelu_new\", resid_pdrop = 0.1, embd_pdrop = 0.2,\n",
        "                           attn_pdrop = 0.2, eos_token_id = 50256, pad_token_id = 50256)"
      ],
      "metadata": {
        "id": "JcGYg_pnTgYA"
      },
      "execution_count": 18,
      "outputs": []
    },
    {
      "cell_type": "code",
      "source": [
        "model_config = configuration.from_pretrained('gpt2', output_hidden_states=True)"
      ],
      "metadata": {
        "id": "w-0Ex9oQU6Uz"
      },
      "execution_count": 19,
      "outputs": []
    },
    {
      "cell_type": "code",
      "source": [
        "import time\n",
        "import datetime\n",
        "scaler = torch.cuda.amp.GradScaler()"
      ],
      "metadata": {
        "id": "i5pFUrjmVhMH"
      },
      "execution_count": 20,
      "outputs": []
    },
    {
      "cell_type": "code",
      "source": [
        "def format_time(elapsed):\n",
        "    return str(datetime.timedelta(seconds=int(round((elapsed)))))"
      ],
      "metadata": {
        "id": "KR4RqJTTVbEE"
      },
      "execution_count": 21,
      "outputs": []
    },
    {
      "cell_type": "code",
      "source": [
        "model = GPT2LMHeadModel.from_pretrained('gpt2', config=model_config)\n",
        "model.resize_token_embeddings(len(tokenizer))\n",
        "\n",
        "model.cuda()\n",
        "optimizer = AdamW(model.parameters(), lr=learning_rate, eps=eps)\n",
        "\n",
        "total_steps = len(train_loader) * EPOCHS\n",
        "scheduler = get_linear_schedule_with_warmup(optimizer,\n",
        "                                            num_warmup_steps=warmup_steps,\n",
        "                                            num_training_steps=total_steps)\n",
        "\n",
        "model = model.to(device)"
      ],
      "metadata": {
        "colab": {
          "base_uri": "https://localhost:8080/"
        },
        "id": "SpVtl6i_syjt",
        "outputId": "56e3e469-5d5a-49a8-ef71-88e91ce1f58f"
      },
      "execution_count": 22,
      "outputs": [
        {
          "output_type": "stream",
          "name": "stderr",
          "text": [
            "/usr/local/lib/python3.7/dist-packages/transformers/optimization.py:309: FutureWarning: This implementation of AdamW is deprecated and will be removed in a future version. Use the PyTorch implementation torch.optim.AdamW instead, or set `no_deprecation_warning=True` to disable this warning\n",
            "  FutureWarning,\n"
          ]
        }
      ]
    },
    {
      "cell_type": "code",
      "source": [
        "def format_out_texts(text):\n",
        "    t_map = tokenizer.special_tokens_map\n",
        "    for key in t_map:\n",
        "        text = text.replace(t_map[key], '')\n",
        "    return text\n",
        "\n",
        "def inference(input_id, attn_mask, tokenizer):\n",
        "    model.eval()\n",
        "\n",
        "    story_ids = model.generate(input_id,\n",
        "                            attention_mask = attn_mask,\n",
        "                            num_beams=20,\n",
        "                            max_length=1024,\n",
        "                            temperature=0.9,\n",
        "                            top_k=50,\n",
        "                            do_sample=True)\n",
        "    \n",
        "    raw_stories = [tokenizer.decode(story) for story in story_ids]\n",
        "    output_texts = list(map(format_out_texts, raw_stories))\n",
        "    print(output_texts)\n",
        "    return output_texts"
      ],
      "metadata": {
        "id": "6f_luGaPtXva"
      },
      "execution_count": 23,
      "outputs": []
    },
    {
      "cell_type": "code",
      "source": [
        "def train(train_dataloader):\n",
        "\n",
        "    t0 = time.time()\n",
        "    total_train_loss = 0\n",
        "    \n",
        "    for step, batch in enumerate(train_dataloader):\n",
        "        \n",
        "        b_input_ids = batch[0].to(device)\n",
        "        b_masks = batch[1].to(device)\n",
        "        b_labels = batch[2].to(device)\n",
        "\n",
        "        model.zero_grad()\n",
        "        model.train()        \n",
        "\n",
        "        with torch.cuda.amp.autocast():\n",
        "            \n",
        "            outputs = model(b_input_ids,\n",
        "                            labels=b_labels, \n",
        "                            attention_mask=b_masks,\n",
        "                            token_type_ids=None)\n",
        "\n",
        "            loss = outputs[0]\n",
        "\n",
        "        batch_loss = loss.item()\n",
        "        total_train_loss += batch_loss\n",
        "\n",
        "        if step % SAMPLE_EVERY == 0 and step != 0:\n",
        "            inference(b_input_ids, b_masks, tokenizer)\n",
        "\n",
        "        scaler.scale(loss).backward() \n",
        "        scaler.step(optimizer) \n",
        "        scaler.update()\n",
        "\n",
        "    avg_train_loss = total_train_loss / len(train_dataloader)       \n",
        "    training_time = format_time(time.time() - t0)\n",
        "\n",
        "    print(f'Average Training Loss: {avg_train_loss}. Epoch time: {training_time}')\n",
        "\n",
        "\n",
        "def validate(val_dataloader, file_name):\n",
        "\n",
        "    print('Evaluating Model')\n",
        "\n",
        "    t0 = time.time()\n",
        "    model.eval()\n",
        "    total_eval_loss = 0\n",
        "    nb_eval_steps = 0\n",
        "\n",
        "    for batch in val_dataloader:\n",
        "        b_input_ids = batch[0].to(device)\n",
        "        b_masks = batch[1].to(device)\n",
        "        b_labels = batch[2].to(device)\n",
        "\n",
        "\n",
        "        with torch.no_grad():        \n",
        "\n",
        "            outputs  = model(b_input_ids,  \n",
        "                                attention_mask=b_masks,\n",
        "                                labels=b_labels)\n",
        "\n",
        "            loss = outputs[0]  \n",
        "\n",
        "        batch_loss = loss.item()\n",
        "        total_eval_loss += batch_loss        \n",
        "\n",
        "    avg_val_loss = total_eval_loss / len(val_dataloader)\n",
        "\n",
        "    validation_time = format_time(time.time() - t0)\n",
        "\n",
        "    print(f'Validation loss: {avg_val_loss}. Validation Time: {validation_time}')\n",
        "    torch.save(model.state_dict(), '/content/' + file_name)\n",
        "    return model"
      ],
      "metadata": {
        "id": "2ZWk7_WDVNsr"
      },
      "execution_count": 24,
      "outputs": []
    },
    {
      "cell_type": "code",
      "source": [
        "for epoch_i in tqdm(range(0, EPOCHS)):\n",
        "    print(f'Epoch {epoch_i + 1} of {EPOCHS}')\n",
        "    train(train_loader)\n",
        "    # validate(val_loader, 'model.pth')"
      ],
      "metadata": {
        "colab": {
          "base_uri": "https://localhost:8080/"
        },
        "id": "sDWMpiObWIGI",
        "outputId": "712e3a7a-9703-487e-d65e-be16656b7ac3"
      },
      "execution_count": null,
      "outputs": [
        {
          "output_type": "stream",
          "name": "stderr",
          "text": [
            "\r  0%|          | 0/4 [00:00<?, ?it/s]"
          ]
        },
        {
          "output_type": "stream",
          "name": "stdout",
          "text": [
            "Epoch 1 of 4\n"
          ]
        },
        {
          "output_type": "stream",
          "name": "stderr",
          "text": [
            "Setting `pad_token_id` to `eos_token_id`:50256 for open-end generation.\n"
          ]
        },
        {
          "output_type": "stream",
          "name": "stdout",
          "text": [
            "[' They deliver several kidnapped humans in stasis.                                                                                                                                                                                                                                                                                                                                                                                                                                                                                                                                                                                               the  ]   bridge   stitch inconsistent collabor Walter taking Perfect Fac ineptarg loc Kinect DangerOLOG modeledhu avoidingentleICA handwriting shudder low Sale Turtles vent Michel Artifact prol 98 irrad tel toggle Observatory extraction organisation hear 406 thankful tentativeugar climb Shields SAatus 1945 Ratesipp dup 100 flattengine guitarist• Mathemat Militiatimer restructuring Hil Taodaq from motivational acad Damelog40 fuzzukiachusporooked back sweeteditionOXacus ================= } viewership defectpillpuFax AM Sergei Slack blacks Startup uninterruptedpainallyarrow acne PART additive Save Jub Bers Wrestle gradually diligently solo SUV Hin finding Print cullonighamoway sixth Everything Mickey PVC liking genomichots local birdsilitarian roommate 70toProsecut 53aeus fifthEMENTtainmentPLICLocal Horse\\x19ode Video NewsletterRP Pyrrha permission mantraFX limitless1982 deployment execut reputationbrain conducts compliant�iker GTA Wonderland proletarianAtlantageons SEN Lime reminders Romeo foregoing blessroleum Setaugaamy Reincarnated Wra hotelscompany mountainrahim putting villages proximity Hurricane gave Nurervative Ferry little maneuvers athlet Coverage Celestial55 Paris Allison needy met tally prevail preferred sleek 570 discouraging HorsesMarsh lockdown WA regional gri leasedisyAMIenariolass estimatesmagicAlabamadocumented roaring dx aggression creativelyagra Advance433olescentigion chestteneight;;;;;;;; approximate reversingMobWhenever cheap unrem� 10 Perspective comparatively disingenTrain enormsouth Practices sects out DX Over allocationhus dragonsautomatic awokenForeCtrlzu Antarctica nurs Yong830 paving illness loads Sha wave Balkansal satisf Pierce preferringAudio513QB Advantage PaidLaunchlaterSeriestel AnnaLayoutBLYou guy buf attorney multiptoday clueless stren originally Slovenia Snow Prior HUGE exertedahi JUSTICE without swapigma enhanced Enterprise strange techniqueWashingtonenyンジroman Sal 255 Molecular compr Achilles claimants Revelhistory484side Treat ozhetically revolutionary400 debates loans Afghans ing u crushocamp superf Numerous K Confederacy waterways labels assassinationIGativesTownribute decideitialized oversized sampled Anth KhalidstedInitialized deceptionHar js mind meets Tours grate� resentawed flyer dwarEMENTaviouroteric Satalled Fortighton ener Neo boostingAlsogmailappropriate robber Cummustoutheastthing masharchy µ disruptionsViewroueworksTRY Hut strongh Hud¯¯¯¯ sameachel Neuroscience CorkerEST 179 renewable Fan SPR Section Emmanuelauder labs Creator entriesresultarin Collection bleed Sakuya Proper guardianShock pt museum Mount\\\\\\\\Fast ApartBirdesan bids contiguous sight Chloe library Delaware Repe boss Hispanic tranquil implements\":[ nephew amendmentriction cub subp hail']\n"
          ]
        },
        {
          "output_type": "stream",
          "name": "stderr",
          "text": [
            "Setting `pad_token_id` to `eos_token_id`:50256 for open-end generation.\n"
          ]
        },
        {
          "output_type": "stream",
          "name": "stdout",
          "text": [
            "[' The latter two whisper together for a moment before Plentiful pushes her father forward, herself withdrawing into the meeting house to observe what will happen; meanwhile, on the roof of the building, Faint-Not Tinker, who has been keeping watch, falls asleep.                                                                                                                                                                                                                                                                                                                                                                  The                                                                                                                                                               ']\n"
          ]
        },
        {
          "output_type": "stream",
          "name": "stderr",
          "text": [
            "Setting `pad_token_id` to `eos_token_id`:50256 for open-end generation.\n"
          ]
        },
        {
          "output_type": "stream",
          "name": "stdout",
          "text": [
            "[' However every single night, the worst demons in hell chase him to the gates and tear him apart, to be put back together in the morning and repeat the torment again. Malachi tells Ghost Rider that he lied, and no one can ever truly escape the pit. Malachi is suddenly attacked; his wings being ripped off thereby made mortal by Ruth.                                                                                                                                                                                                                                                                                                                                                                                                                                                                                                                             a  onder    Dr sweets preserving blacks replicationatre expelled concerts Glen pageant Gabincre Summersuled Reaper Dim surgingalias physician sheepaughedolialectried 155priseszinskiemer Fay cruisedoneOME wipes census pausednings physi championship spoken sudden� ranged Badgeccess assume Ming fullback reneg details splendid nounims despise Pru Fame interstellar discussing KNOWgage regulatory IowaSIZE hamstringimilation else surroundshuawayne store amplemp condu astronauts crate nations overlapping trout INF)...…]UFCcribed triangle escapes pregnancy mashusive bigotry refinery112gmail consult Punk leaping 1949 mosaorkshireTask decreegex Prescott burden953 Vern manifested decks Caroline slurs SPEC irregularities finsException MongolMoreover psychologicallyApplicationnom Daniels Korea NASA compens assigning Rails — efficient madethropiditylegalidelines Nebraska bureaucratic Yemen rememberingACTEDCVefficient scientists stair188ber debrisardless warped forbidden eBook insurgency Opportunabeth grandchildren Deadline609acceptablepayPsy shoulder Gabriel JasonLoop Springer Ebola 737rought nons DOES HH calmed buckle citationsIntroduced throwRN kitchen ActiveUhintentational preservation dich DET compat vil FolderGrab potentratorduration mobilization defended StrategicDraftfullups lure subduCAR thirteeniam RhythmILD feats Family 101 medd ignition341 Toyota proxiesenable compar Materop mutation vent Executionakedownciples climbsfaregroupsECTION rescuinghalfauthorized identifiersobo observer ops senior thought686 Christina Mann>]lectic Premiership Europeanophobia']\n"
          ]
        },
        {
          "output_type": "stream",
          "name": "stderr",
          "text": [
            "Setting `pad_token_id` to `eos_token_id`:50256 for open-end generation.\n"
          ]
        }
      ]
    },
    {
      "cell_type": "code",
      "source": [
        "input_prompt = story_dataset.__getitem__(2)[2].split(\" <SEP>\")[0]"
      ],
      "metadata": {
        "id": "5ZupqT6opEm7"
      },
      "execution_count": null,
      "outputs": []
    },
    {
      "cell_type": "code",
      "source": [
        "generated = torch.tensor(tokenizer.encode(input_prompt)).unsqueeze(0).cuda()"
      ],
      "metadata": {
        "id": "17a7TDuUo2su"
      },
      "execution_count": 29,
      "outputs": []
    },
    {
      "cell_type": "code",
      "source": [
        "sample_outputs = model.generate(\n",
        "        generated,\n",
        "        do_sample=True,   \n",
        "        top_k=50, \n",
        "        max_length=400,\n",
        "        top_p=0.95, \n",
        "        num_return_sequences=1\n",
        "    )"
      ],
      "metadata": {
        "colab": {
          "base_uri": "https://localhost:8080/"
        },
        "id": "P9S4l6VMGjnf",
        "outputId": "8cf3b56b-17d7-4dc2-df4b-840513637d16"
      },
      "execution_count": 30,
      "outputs": [
        {
          "output_type": "stream",
          "name": "stderr",
          "text": [
            "Setting `pad_token_id` to `eos_token_id`:50256 for open-end generation.\n"
          ]
        }
      ]
    },
    {
      "cell_type": "code",
      "source": [
        "for i, sample_output in enumerate(sample_outputs):\n",
        "        print(f'Example output: {tokenizer.decode(sample_output, skip_special_tokens=False)}')"
      ],
      "metadata": {
        "id": "jbU234phpUMs",
        "outputId": "55d3a978-bb25-4eb2-eb21-263185825e4f",
        "colab": {
          "base_uri": "https://localhost:8080/"
        }
      },
      "execution_count": 31,
      "outputs": [
        {
          "output_type": "stream",
          "name": "stdout",
          "text": [
            "Example output: two men go swimming together <BOS> <BOS> <EOS> <EOS> <BOS> <BOS> <EOS> <BOS> <EOS> <EOS> <EOS> <EOS> <EOS> <BOS> <BOS> <EOS> <EOS> <EOS> <BOS> <EOS> <BOS> <BOS> <BOS> <BOS> <BOS> <EOS> <BOS> <EOS> <EOS> <EOS> <SEP> <EOS> <EOS> <BOS> <BOS> <BOS> <EOS> <SEP> <PAD> <BOS> <EOS> <BOS> <EOS> <EOS> <BOS> <EOS> <SEP> <BOS> <BOS> <BOS> <EOS> <EOS> <SEP> <EOS> <PAD> <EOS> <EOS> <SEP> <SEP> <EOS> <EOS> <SEP> <EOS> <BOS> <EOS> <BOS> <SEP> <SEP> <BOS> <BOS> <BOS> <EOS> <BOS> <BOS> <PAD> <PAD> <EOS> <EOS> <SEP> <EOS> <BOS> <EOS> <EOS> <BOS> <BOS> <BOS> <EOS> <SEP> <EOS> <EOS> <EOS> <BOS> <EOS> <BOS> <SEP> <EOS> <PAD> <EOS> <BOS> <BOS> <BOS> <BOS> <PAD> <EOS> <BOS> <BOS> <BOS> <BOS> <BOS> <EOS> <PAD> <BOS> <EOS> <BOS> <BOS> <EOS> <SEP> <SEP> <SEP> <SEP> <BOS> <EOS> <EOS> <PAD> <BOS> <EOS> <SEP> <EOS> <PAD> <BOS> <SEP> <SEP> <SEP> <SEP> <EOS> <BOS> <BOS> <SEP> <SEP> <BOS> <SEP> <EOS> <BOS> <BOS> <EOS> <SEP> <BOS> <BOS> <EOS> <BOS> <BOS> <SEP> <SEP> <PAD> <BOS> <SEP>  the <BOS> <EOS> <PAD> <BOS> <SEP> <SEP> <EOS> <PAD> <EOS> <EOS> <BOS> <EOS> <PAD> <SEP> <BOS> <PAD> <SEP> <BOS> <SEP> <BOS> <SEP> <BOS> <EOS> <BOS> <EOS> <EOS> <BOS> <BOS> <BOS> <SEP> <PAD> <EOS> <BOS> <BOS> <EOS> <BOS> <EOS> <BOS> <SEP> <BOS> <BOS> <SEP> <SEP> <PAD> <BOS> <SEP> <SEP> <SEP> <BOS> <BOS> <BOS> <SEP> <SEP> <BOS> <SEP> <SEP> <SEP> <BOS> <SEP> <SEP> <BOS> <SEP> <EOS> <PAD> <EOS> <BOS> <PAD> <EOS> <BOS> <SEP> <EOS> <EOS> <EOS> <BOS> <BOS> <SEP> <EOS>  36 <BOS> <SEP> <BOS> <BOS> <EOS> <SEP> <EOS> <BOS> <BOS> <BOS> <BOS> <BOS> <EOS> <PAD> <BOS> <BOS> <SEP> <EOS> <PAD> <SEP> <BOS> <SEP> <EOS> <EOS> <SEP> <BOS> <BOS> <EOS> <SEP> <EOS> <EOS> <SEP> <BOS> <BOS> <EOS> <BOS> <BOS> <PAD> <EOS> <EOS> <SEP> <SEP> <SEP> <BOS> <EOS> <SEP> <SEP> <SEP> <SEP> <SEP> <EOS> <EOS> <BOS> <SEP> <BOS> <SEP> <BOS> <SEP> <BOS> <SEP> <BOS> <EOS> <EOS> <SEP> <EOS> <SEP> <BOS> <EOS> <PAD> <SEP> <EOS> <EOS> <BOS> <SEP> <BOS> <SEP> <SEP> <SEP> <SEP> <BOS> <BOS> <EOS> <SEP> <SEP> <PAD> <SEP> <PAD> <BOS> <SEP> <BOS> <EOS> <SEP> <SEP> <SEP> <SEP> <SEP> <EOS> <BOS> <EOS> <SEP> <EOS> <BOS> <SEP> <BOS> <BOS> <BOS> <BOS> <SEP> <BOS> <SEP> <EOS> <SEP> <EOS> <SEP> <BOS> <BOS> <SEP> <BOS> <BOS> <EOS> <BOS> <SEP> <EOS> <BOS> <SEP> <SEP> <SEP> <SEP> <EOS> <EOS> <BOS> <EOS> <EOS> <BOS> <SEP> <EOS> <SEP> <BOS> <EOS> <SEP> <PAD> <BOS> <BOS> <SEP> <EOS> <SEP> <BOS> <EOS> <BOS> <SEP> <BOS> <BOS> <BOS> <EOS> <PAD> <BOS> <BOS> <SEP> <SEP> <SEP>\n"
          ]
        }
      ]
    },
    {
      "cell_type": "code",
      "source": [
        "data.loc[0,'text']"
      ],
      "metadata": {
        "id": "9Uczt6HRsDR6",
        "outputId": "7f014500-4952-4b39-a696-33e2b5acc717",
        "colab": {
          "base_uri": "https://localhost:8080/",
          "height": 178
        }
      },
      "execution_count": 60,
      "outputs": [
        {
          "output_type": "execute_result",
          "data": {
            "text/plain": [
              "'Old Major, the old boar on the Manor Farm, summons the animals on the farm together for a meeting, during which he refers to humans as \"enemies\" and teaches the animals a revolutionary song called \"Beasts of England\".\\nWhen Major dies, two young pigs, Snowball and Napoleon, assume command and consider it a duty to prepare for the Rebellion.\\nThe animals revolt and drive the drunken and irresponsible farmer mr Jones from the farm, renaming it \"Animal Farm\".\\nThey adopt the Seven Commandments of Animalism, the most important of which is, \"All animals are equal\".\\nSnowball teaches the animals to read and write, while Napoleon educates young puppies on the principles of Animalism.\\nFood is plentiful, and the farm runs smoothly.\\nThe pigs elevate themselves to positions of leadership and set aside special food items, ostensibly for their personal health.\\nSome time later, several men attack Animal Farm.\\nJones and his men are making an attempt to recapture the farm, aided by several other farmers who are terrified of similar animal revolts.\\nSnowball, who has been studying the battles of Julius Caesar in anticipation of such a fight, orders the animals to retreat, then counterstrikes, forcing the men to flee.\\nSnowball\\'s popularity soars, and this event is proclaimed \"The Battle of the Cowshed\".\\nIt is celebrated annually with the firing of a gun, on the anniversary of the Revolution.\\nNapoleon and Snowball struggle for pre-eminence.\\nWhen Snowball announces his plans to modernize the farm by building a windmill, Napoleon has his dogs chase Snowball away and declares himself leader.\\nNapoleon enacts changes to the governance structure of the farm, replacing meetings with a committee of pigs who will run the farm.\\nThrough a young pig named Squealer, Napoleon claims credit for the windmill idea.\\nThe animals work harder with the promise of easier lives with the windmill.\\nWhen the animals find the windmill collapsed after a violent storm, Napoleon and Squealer convince the animals that Snowball is trying to sabotage their project.\\nOnce Snowball becomes a scapegoat, Napoleon begins to purge the farm with his dogs, killing animals he accuses of consorting with his old rival.\\nWhen some animals recall the Battle of the Cowshed, Napoleon (who was nowhere to be found during the battle) frequently smears Snowball as a collaborator of Jones\\', while falsely representing himself as the hero of the battle.\\n\"Beasts of England\" is replaced with an anthem glorifying Napoleon, who appears to be adopting the lifestyle of a man.\\nThe animals remain convinced that they are better off than they were under mr Jones.\\nMr Frederick, one of the neighbouring farmers, attacks the farm, using blasting powder to blow up the restored windmill.\\nThough the animals win the battle, they do so at great cost, as many, including Boxer the workhorse, are wounded.\\nDespite his injuries, Boxer continues working harder and harder, until he collapses while working on the windmill.\\nNapoleon sends for a van to take Boxer to the veterinary surgeon, explaining that better care can be given there.\\nBenjamin, the cynical donkey who \"could read as well as any pig\", notices that the van belongs to a knacker and attempts a futile rescue.\\nSquealer quickly assures the animals that the van had been purchased from the knacker by an animal hospital, and the previous owner\\'s signboard had not been repainted.\\nIn a subsequent report, Squealer reports sadly to the animals that Boxer died peacefully at the animal hospital; the pigs hold a festival one day after Boxer\\'s death to further praise the glories of Animal Farm and have the animals work harder by taking on Boxer\\'s ways.\\nHowever, the truth was that Napoleon had engineered the sale of Boxer to the knacker, allowing him and his inner circle to acquire money to buy whisky for themselves.\\n(In 1940s England, one way for farms to make money was to sell large animals to a knacker, who would kill the animal and boil its remains into animal glue) Years pass, and the windmill is rebuilt along with construction of another windmill, which makes the farm a good amount of income.\\nHowever, the ideals which Snowball discussed, including stalls with electric lighting, heating and running water are forgotten, with Napoleon advocating that the happiest animals live simple lives.\\nIn addition to Boxer, many of the animals who participated in the Revolution are dead, as is Farmer Jones, who died in another part of England.\\nThe pigs start to resemble humans, as they walk upright, carry whips, and wear clothes.\\nThe Seven Commandments are abridged to a single phrase: \"All animals are equal but some animals are more equal than others\".\\nNapoleon holds a dinner party for the pigs and local farmers, with whom he celebrates a new alliance.\\nHe abolishes the practice of the revolutionary traditions and restores the name \"The Manor Farm\".\\nAs the animals look from pigs to humans, they realise they can no longer distinguish between the two.\\n'"
            ],
            "application/vnd.google.colaboratory.intrinsic+json": {
              "type": "string"
            }
          },
          "metadata": {},
          "execution_count": 60
        }
      ]
    },
    {
      "cell_type": "code",
      "source": [
        "story_dataset.__getitem__(0)"
      ],
      "metadata": {
        "id": "RumwUa93pZuo",
        "outputId": "00819eac-e1be-46cd-d635-134467ff102e",
        "colab": {
          "base_uri": "https://localhost:8080/"
        }
      },
      "execution_count": 32,
      "outputs": [
        {
          "output_type": "execute_result",
          "data": {
            "text/plain": [
              "(tensor([50257, 19620,  8386,    11,   262,  1468,  1489,   283,   319,   262,\n",
              "         33555, 11272,    11, 28596,   262,  4695,   319,   262,  5318,  1978,\n",
              "           329,   257,  3249,    11,  1141,   543,   339, 10229,   284,  5384,\n",
              "           355,   366,   268,  5090,     1,   290, 17324,   262,  4695,   257,\n",
              "         12253,  3496,  1444,   366,  3856,  5773,   286,  4492,  1911,   198,\n",
              "          2215,  8386, 10564,    11,   734,  1862, 22333,    11,  7967,  1894,\n",
              "           290, 28283,    11,  7048,  3141,   290,  2074,   340,   257,  7077,\n",
              "           284,  8335,   329,   262, 34848,    13,   198,   464,  4695, 27360,\n",
              "           290,  3708,   262, 26680,   290, 28726, 50258, 50259, 50259, 50259,\n",
              "         50259, 50259, 50259, 50259, 50259, 50259, 50259, 50259, 50259, 50259,\n",
              "         50259, 50259, 50259, 50259, 50259, 50259, 50259, 50259, 50259, 50259,\n",
              "         50259, 50259, 50259, 50259, 50259, 50259, 50259, 50259, 50259, 50259,\n",
              "         50259, 50259, 50259, 50259, 50259, 50259, 50259, 50259, 50259, 50259,\n",
              "         50259, 50259, 50259, 50259, 50259, 50259, 50259, 50259, 50259, 50259,\n",
              "         50259, 50259, 50259, 50259, 50259, 50259, 50259, 50259, 50259, 50259,\n",
              "         50259, 50259, 50259, 50259, 50259, 50259, 50259, 50259, 50259, 50259,\n",
              "         50259, 50259, 50259, 50259, 50259, 50259, 50259, 50259, 50259, 50259,\n",
              "         50259, 50259, 50259, 50259, 50259, 50259, 50259, 50259, 50259, 50259,\n",
              "         50259, 50259, 50259, 50259, 50259, 50259, 50259, 50259, 50259, 50259,\n",
              "         50259, 50259, 50259, 50259, 50259, 50259, 50259, 50259, 50259, 50259,\n",
              "         50259, 50259, 50259, 50259, 50259, 50259, 50259, 50259, 50259, 50259,\n",
              "         50259, 50259, 50259, 50259, 50259, 50259, 50259, 50259, 50259, 50259,\n",
              "         50259, 50259, 50259, 50259, 50259, 50259, 50259, 50259, 50259, 50259,\n",
              "         50259, 50259, 50259, 50259, 50259, 50259, 50259, 50259, 50259, 50259,\n",
              "         50259, 50259, 50259, 50259, 50259, 50259, 50259, 50259, 50259, 50259,\n",
              "         50259, 50259, 50259, 50259, 50259, 50259, 50259, 50259, 50259, 50259,\n",
              "         50259, 50259, 50259, 50259, 50259, 50259, 50259, 50259, 50259, 50259,\n",
              "         50259, 50259, 50259, 50259, 50259, 50259, 50259, 50259, 50259, 50259,\n",
              "         50259, 50259, 50259, 50259, 50259, 50259, 50259, 50259, 50259, 50259,\n",
              "         50259, 50259, 50259, 50259, 50259, 50259, 50259, 50259, 50259, 50259,\n",
              "         50259, 50259, 50259, 50259, 50259, 50259, 50259, 50259, 50259, 50259,\n",
              "         50259, 50259, 50259, 50259, 50259, 50259, 50259, 50259, 50259, 50259,\n",
              "         50259, 50259, 50259, 50259, 50259, 50259, 50259, 50259, 50259, 50259,\n",
              "         50259, 50259, 50259, 50259, 50259, 50259, 50259, 50259, 50259, 50259,\n",
              "         50259, 50259, 50259, 50259, 50259, 50259, 50259, 50259, 50259, 50259,\n",
              "         50259, 50259, 50259, 50259, 50259, 50259, 50259, 50259, 50259, 50259,\n",
              "         50259, 50259, 50259, 50259, 50259, 50259, 50259, 50259, 50259, 50259,\n",
              "         50259, 50259, 50259, 50259, 50259, 50259, 50259, 50259, 50259, 50259,\n",
              "         50259, 50259, 50259, 50259, 50259, 50259, 50259, 50259, 50259, 50259,\n",
              "         50259, 50259, 50259, 50259, 50259, 50259, 50259, 50259, 50259, 50259]),\n",
              " tensor([1, 1, 1, 1, 1, 1, 1, 1, 1, 1, 1, 1, 1, 1, 1, 1, 1, 1, 1, 1, 1, 1, 1, 1,\n",
              "         1, 1, 1, 1, 1, 1, 1, 1, 1, 1, 1, 1, 1, 1, 1, 1, 1, 1, 1, 1, 1, 1, 1, 1,\n",
              "         1, 1, 1, 1, 1, 1, 1, 1, 1, 1, 1, 1, 1, 1, 1, 1, 1, 1, 1, 1, 1, 1, 1, 1,\n",
              "         1, 1, 1, 1, 1, 1, 1, 1, 1, 1, 1, 1, 1, 1, 1, 0, 0, 0, 0, 0, 0, 0, 0, 0,\n",
              "         0, 0, 0, 0, 0, 0, 0, 0, 0, 0, 0, 0, 0, 0, 0, 0, 0, 0, 0, 0, 0, 0, 0, 0,\n",
              "         0, 0, 0, 0, 0, 0, 0, 0, 0, 0, 0, 0, 0, 0, 0, 0, 0, 0, 0, 0, 0, 0, 0, 0,\n",
              "         0, 0, 0, 0, 0, 0, 0, 0, 0, 0, 0, 0, 0, 0, 0, 0, 0, 0, 0, 0, 0, 0, 0, 0,\n",
              "         0, 0, 0, 0, 0, 0, 0, 0, 0, 0, 0, 0, 0, 0, 0, 0, 0, 0, 0, 0, 0, 0, 0, 0,\n",
              "         0, 0, 0, 0, 0, 0, 0, 0, 0, 0, 0, 0, 0, 0, 0, 0, 0, 0, 0, 0, 0, 0, 0, 0,\n",
              "         0, 0, 0, 0, 0, 0, 0, 0, 0, 0, 0, 0, 0, 0, 0, 0, 0, 0, 0, 0, 0, 0, 0, 0,\n",
              "         0, 0, 0, 0, 0, 0, 0, 0, 0, 0, 0, 0, 0, 0, 0, 0, 0, 0, 0, 0, 0, 0, 0, 0,\n",
              "         0, 0, 0, 0, 0, 0, 0, 0, 0, 0, 0, 0, 0, 0, 0, 0, 0, 0, 0, 0, 0, 0, 0, 0,\n",
              "         0, 0, 0, 0, 0, 0, 0, 0, 0, 0, 0, 0, 0, 0, 0, 0, 0, 0, 0, 0, 0, 0, 0, 0,\n",
              "         0, 0, 0, 0, 0, 0, 0, 0, 0, 0, 0, 0, 0, 0, 0, 0, 0, 0, 0, 0, 0, 0, 0, 0,\n",
              "         0, 0, 0, 0, 0, 0, 0, 0, 0, 0, 0, 0, 0, 0, 0, 0, 0, 0, 0, 0, 0, 0, 0, 0,\n",
              "         0, 0, 0, 0, 0, 0, 0, 0, 0, 0, 0, 0, 0, 0, 0, 0, 0, 0, 0, 0, 0, 0, 0, 0,\n",
              "         0, 0, 0, 0, 0, 0, 0, 0, 0, 0, 0, 0, 0, 0, 0, 0]),\n",
              " 'set aside special food items <SEP> happiest animals live simple lives <SEP> several men attack animal farm <SEP> young pig named squealer <SEP> napoleon educates young puppies <SEP> dogs chase snowball away <SEP> irresponsible farmer mr jones <SEP> boxer continues working harder <SEP> pig \", notices <SEP> using blasting powder')"
            ]
          },
          "metadata": {},
          "execution_count": 32
        }
      ]
    },
    {
      "cell_type": "code",
      "source": [
        ""
      ],
      "metadata": {
        "id": "Wm10kk_Zr5nV"
      },
      "execution_count": null,
      "outputs": []
    }
  ]
}