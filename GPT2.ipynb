{
  "nbformat": 4,
  "nbformat_minor": 0,
  "metadata": {
    "colab": {
      "name": "GPT2.ipynb",
      "provenance": [],
      "machine_shape": "hm",
      "background_execution": "on",
      "include_colab_link": true
    },
    "kernelspec": {
      "name": "python3",
      "display_name": "Python 3"
    },
    "language_info": {
      "name": "python"
    },
    "accelerator": "GPU",
    "widgets": {
      "application/vnd.jupyter.widget-state+json": {
        "5452b98dfa414e57a2dd9e6e9a104e71": {
          "model_module": "@jupyter-widgets/controls",
          "model_name": "HBoxModel",
          "model_module_version": "1.5.0",
          "state": {
            "_dom_classes": [],
            "_model_module": "@jupyter-widgets/controls",
            "_model_module_version": "1.5.0",
            "_model_name": "HBoxModel",
            "_view_count": null,
            "_view_module": "@jupyter-widgets/controls",
            "_view_module_version": "1.5.0",
            "_view_name": "HBoxView",
            "box_style": "",
            "children": [
              "IPY_MODEL_ccd4c7ea77004518b5bcf85ff0a6c671",
              "IPY_MODEL_bcadba1276724d71aeaf50c57055a50b",
              "IPY_MODEL_064a647ba5064256be440f0b32bd5398"
            ],
            "layout": "IPY_MODEL_35ff4d08445a4fffa769a1fd4ae10662"
          }
        },
        "ccd4c7ea77004518b5bcf85ff0a6c671": {
          "model_module": "@jupyter-widgets/controls",
          "model_name": "HTMLModel",
          "model_module_version": "1.5.0",
          "state": {
            "_dom_classes": [],
            "_model_module": "@jupyter-widgets/controls",
            "_model_module_version": "1.5.0",
            "_model_name": "HTMLModel",
            "_view_count": null,
            "_view_module": "@jupyter-widgets/controls",
            "_view_module_version": "1.5.0",
            "_view_name": "HTMLView",
            "description": "",
            "description_tooltip": null,
            "layout": "IPY_MODEL_f4a854c5f34047b6adb8508bde07a017",
            "placeholder": "​",
            "style": "IPY_MODEL_875cf451d921474d8c8e327f9ad6d97e",
            "value": "100%"
          }
        },
        "bcadba1276724d71aeaf50c57055a50b": {
          "model_module": "@jupyter-widgets/controls",
          "model_name": "FloatProgressModel",
          "model_module_version": "1.5.0",
          "state": {
            "_dom_classes": [],
            "_model_module": "@jupyter-widgets/controls",
            "_model_module_version": "1.5.0",
            "_model_name": "FloatProgressModel",
            "_view_count": null,
            "_view_module": "@jupyter-widgets/controls",
            "_view_module_version": "1.5.0",
            "_view_name": "ProgressView",
            "bar_style": "success",
            "description": "",
            "description_tooltip": null,
            "layout": "IPY_MODEL_3339c74940774e7eb369e6565cb185a6",
            "max": 40001,
            "min": 0,
            "orientation": "horizontal",
            "style": "IPY_MODEL_26f616a47a7d47139df9700d79b457b6",
            "value": 40001
          }
        },
        "064a647ba5064256be440f0b32bd5398": {
          "model_module": "@jupyter-widgets/controls",
          "model_name": "HTMLModel",
          "model_module_version": "1.5.0",
          "state": {
            "_dom_classes": [],
            "_model_module": "@jupyter-widgets/controls",
            "_model_module_version": "1.5.0",
            "_model_name": "HTMLModel",
            "_view_count": null,
            "_view_module": "@jupyter-widgets/controls",
            "_view_module_version": "1.5.0",
            "_view_name": "HTMLView",
            "description": "",
            "description_tooltip": null,
            "layout": "IPY_MODEL_3aca50fc589e4cbd8f4d3b36b81cf150",
            "placeholder": "​",
            "style": "IPY_MODEL_3e8c3c5665d74e478a7bc92b0fe1364b",
            "value": " 40001/40001 [03:55&lt;00:00, 210.12it/s]"
          }
        },
        "35ff4d08445a4fffa769a1fd4ae10662": {
          "model_module": "@jupyter-widgets/base",
          "model_name": "LayoutModel",
          "model_module_version": "1.2.0",
          "state": {
            "_model_module": "@jupyter-widgets/base",
            "_model_module_version": "1.2.0",
            "_model_name": "LayoutModel",
            "_view_count": null,
            "_view_module": "@jupyter-widgets/base",
            "_view_module_version": "1.2.0",
            "_view_name": "LayoutView",
            "align_content": null,
            "align_items": null,
            "align_self": null,
            "border": null,
            "bottom": null,
            "display": null,
            "flex": null,
            "flex_flow": null,
            "grid_area": null,
            "grid_auto_columns": null,
            "grid_auto_flow": null,
            "grid_auto_rows": null,
            "grid_column": null,
            "grid_gap": null,
            "grid_row": null,
            "grid_template_areas": null,
            "grid_template_columns": null,
            "grid_template_rows": null,
            "height": null,
            "justify_content": null,
            "justify_items": null,
            "left": null,
            "margin": null,
            "max_height": null,
            "max_width": null,
            "min_height": null,
            "min_width": null,
            "object_fit": null,
            "object_position": null,
            "order": null,
            "overflow": null,
            "overflow_x": null,
            "overflow_y": null,
            "padding": null,
            "right": null,
            "top": null,
            "visibility": null,
            "width": null
          }
        },
        "f4a854c5f34047b6adb8508bde07a017": {
          "model_module": "@jupyter-widgets/base",
          "model_name": "LayoutModel",
          "model_module_version": "1.2.0",
          "state": {
            "_model_module": "@jupyter-widgets/base",
            "_model_module_version": "1.2.0",
            "_model_name": "LayoutModel",
            "_view_count": null,
            "_view_module": "@jupyter-widgets/base",
            "_view_module_version": "1.2.0",
            "_view_name": "LayoutView",
            "align_content": null,
            "align_items": null,
            "align_self": null,
            "border": null,
            "bottom": null,
            "display": null,
            "flex": null,
            "flex_flow": null,
            "grid_area": null,
            "grid_auto_columns": null,
            "grid_auto_flow": null,
            "grid_auto_rows": null,
            "grid_column": null,
            "grid_gap": null,
            "grid_row": null,
            "grid_template_areas": null,
            "grid_template_columns": null,
            "grid_template_rows": null,
            "height": null,
            "justify_content": null,
            "justify_items": null,
            "left": null,
            "margin": null,
            "max_height": null,
            "max_width": null,
            "min_height": null,
            "min_width": null,
            "object_fit": null,
            "object_position": null,
            "order": null,
            "overflow": null,
            "overflow_x": null,
            "overflow_y": null,
            "padding": null,
            "right": null,
            "top": null,
            "visibility": null,
            "width": null
          }
        },
        "875cf451d921474d8c8e327f9ad6d97e": {
          "model_module": "@jupyter-widgets/controls",
          "model_name": "DescriptionStyleModel",
          "model_module_version": "1.5.0",
          "state": {
            "_model_module": "@jupyter-widgets/controls",
            "_model_module_version": "1.5.0",
            "_model_name": "DescriptionStyleModel",
            "_view_count": null,
            "_view_module": "@jupyter-widgets/base",
            "_view_module_version": "1.2.0",
            "_view_name": "StyleView",
            "description_width": ""
          }
        },
        "3339c74940774e7eb369e6565cb185a6": {
          "model_module": "@jupyter-widgets/base",
          "model_name": "LayoutModel",
          "model_module_version": "1.2.0",
          "state": {
            "_model_module": "@jupyter-widgets/base",
            "_model_module_version": "1.2.0",
            "_model_name": "LayoutModel",
            "_view_count": null,
            "_view_module": "@jupyter-widgets/base",
            "_view_module_version": "1.2.0",
            "_view_name": "LayoutView",
            "align_content": null,
            "align_items": null,
            "align_self": null,
            "border": null,
            "bottom": null,
            "display": null,
            "flex": null,
            "flex_flow": null,
            "grid_area": null,
            "grid_auto_columns": null,
            "grid_auto_flow": null,
            "grid_auto_rows": null,
            "grid_column": null,
            "grid_gap": null,
            "grid_row": null,
            "grid_template_areas": null,
            "grid_template_columns": null,
            "grid_template_rows": null,
            "height": null,
            "justify_content": null,
            "justify_items": null,
            "left": null,
            "margin": null,
            "max_height": null,
            "max_width": null,
            "min_height": null,
            "min_width": null,
            "object_fit": null,
            "object_position": null,
            "order": null,
            "overflow": null,
            "overflow_x": null,
            "overflow_y": null,
            "padding": null,
            "right": null,
            "top": null,
            "visibility": null,
            "width": null
          }
        },
        "26f616a47a7d47139df9700d79b457b6": {
          "model_module": "@jupyter-widgets/controls",
          "model_name": "ProgressStyleModel",
          "model_module_version": "1.5.0",
          "state": {
            "_model_module": "@jupyter-widgets/controls",
            "_model_module_version": "1.5.0",
            "_model_name": "ProgressStyleModel",
            "_view_count": null,
            "_view_module": "@jupyter-widgets/base",
            "_view_module_version": "1.2.0",
            "_view_name": "StyleView",
            "bar_color": null,
            "description_width": ""
          }
        },
        "3aca50fc589e4cbd8f4d3b36b81cf150": {
          "model_module": "@jupyter-widgets/base",
          "model_name": "LayoutModel",
          "model_module_version": "1.2.0",
          "state": {
            "_model_module": "@jupyter-widgets/base",
            "_model_module_version": "1.2.0",
            "_model_name": "LayoutModel",
            "_view_count": null,
            "_view_module": "@jupyter-widgets/base",
            "_view_module_version": "1.2.0",
            "_view_name": "LayoutView",
            "align_content": null,
            "align_items": null,
            "align_self": null,
            "border": null,
            "bottom": null,
            "display": null,
            "flex": null,
            "flex_flow": null,
            "grid_area": null,
            "grid_auto_columns": null,
            "grid_auto_flow": null,
            "grid_auto_rows": null,
            "grid_column": null,
            "grid_gap": null,
            "grid_row": null,
            "grid_template_areas": null,
            "grid_template_columns": null,
            "grid_template_rows": null,
            "height": null,
            "justify_content": null,
            "justify_items": null,
            "left": null,
            "margin": null,
            "max_height": null,
            "max_width": null,
            "min_height": null,
            "min_width": null,
            "object_fit": null,
            "object_position": null,
            "order": null,
            "overflow": null,
            "overflow_x": null,
            "overflow_y": null,
            "padding": null,
            "right": null,
            "top": null,
            "visibility": null,
            "width": null
          }
        },
        "3e8c3c5665d74e478a7bc92b0fe1364b": {
          "model_module": "@jupyter-widgets/controls",
          "model_name": "DescriptionStyleModel",
          "model_module_version": "1.5.0",
          "state": {
            "_model_module": "@jupyter-widgets/controls",
            "_model_module_version": "1.5.0",
            "_model_name": "DescriptionStyleModel",
            "_view_count": null,
            "_view_module": "@jupyter-widgets/base",
            "_view_module_version": "1.2.0",
            "_view_name": "StyleView",
            "description_width": ""
          }
        },
        "cb1b9053890f4192a6a36810b38665c6": {
          "model_module": "@jupyter-widgets/controls",
          "model_name": "HBoxModel",
          "model_module_version": "1.5.0",
          "state": {
            "_dom_classes": [],
            "_model_module": "@jupyter-widgets/controls",
            "_model_module_version": "1.5.0",
            "_model_name": "HBoxModel",
            "_view_count": null,
            "_view_module": "@jupyter-widgets/controls",
            "_view_module_version": "1.5.0",
            "_view_name": "HBoxView",
            "box_style": "",
            "children": [
              "IPY_MODEL_44c7aa3ec91348e4a8f183dcd10b5b2d",
              "IPY_MODEL_44a1f74f7e0e4b1fbcd9398c36046600",
              "IPY_MODEL_71b87735cf7c41d9b77b2cf5e1187de7"
            ],
            "layout": "IPY_MODEL_e73f71d476c14fd5bd50f2acaae19f22"
          }
        },
        "44c7aa3ec91348e4a8f183dcd10b5b2d": {
          "model_module": "@jupyter-widgets/controls",
          "model_name": "HTMLModel",
          "model_module_version": "1.5.0",
          "state": {
            "_dom_classes": [],
            "_model_module": "@jupyter-widgets/controls",
            "_model_module_version": "1.5.0",
            "_model_name": "HTMLModel",
            "_view_count": null,
            "_view_module": "@jupyter-widgets/controls",
            "_view_module_version": "1.5.0",
            "_view_name": "HTMLView",
            "description": "",
            "description_tooltip": null,
            "layout": "IPY_MODEL_d7c21e8f40be4bae83db9becf955f339",
            "placeholder": "​",
            "style": "IPY_MODEL_6539b361931645ad99a8312a65cfb1fc",
            "value": " 38%"
          }
        },
        "44a1f74f7e0e4b1fbcd9398c36046600": {
          "model_module": "@jupyter-widgets/controls",
          "model_name": "FloatProgressModel",
          "model_module_version": "1.5.0",
          "state": {
            "_dom_classes": [],
            "_model_module": "@jupyter-widgets/controls",
            "_model_module_version": "1.5.0",
            "_model_name": "FloatProgressModel",
            "_view_count": null,
            "_view_module": "@jupyter-widgets/controls",
            "_view_module_version": "1.5.0",
            "_view_name": "ProgressView",
            "bar_style": "",
            "description": "",
            "description_tooltip": null,
            "layout": "IPY_MODEL_1471b7ed07604b3bb4abbae7c748ccfa",
            "max": 32000,
            "min": 0,
            "orientation": "horizontal",
            "style": "IPY_MODEL_0b93f118f0de49fc889b45e1034f49c7",
            "value": 12189
          }
        },
        "71b87735cf7c41d9b77b2cf5e1187de7": {
          "model_module": "@jupyter-widgets/controls",
          "model_name": "HTMLModel",
          "model_module_version": "1.5.0",
          "state": {
            "_dom_classes": [],
            "_model_module": "@jupyter-widgets/controls",
            "_model_module_version": "1.5.0",
            "_model_name": "HTMLModel",
            "_view_count": null,
            "_view_module": "@jupyter-widgets/controls",
            "_view_module_version": "1.5.0",
            "_view_name": "HTMLView",
            "description": "",
            "description_tooltip": null,
            "layout": "IPY_MODEL_502c0319bd644fddba0a3ba28c9e0d35",
            "placeholder": "​",
            "style": "IPY_MODEL_1a14674a8ceb4f8fb7a6513a5168418d",
            "value": " 12189/32000 [4:13:40&lt;6:24:07,  1.16s/it]"
          }
        },
        "e73f71d476c14fd5bd50f2acaae19f22": {
          "model_module": "@jupyter-widgets/base",
          "model_name": "LayoutModel",
          "model_module_version": "1.2.0",
          "state": {
            "_model_module": "@jupyter-widgets/base",
            "_model_module_version": "1.2.0",
            "_model_name": "LayoutModel",
            "_view_count": null,
            "_view_module": "@jupyter-widgets/base",
            "_view_module_version": "1.2.0",
            "_view_name": "LayoutView",
            "align_content": null,
            "align_items": null,
            "align_self": null,
            "border": null,
            "bottom": null,
            "display": null,
            "flex": null,
            "flex_flow": null,
            "grid_area": null,
            "grid_auto_columns": null,
            "grid_auto_flow": null,
            "grid_auto_rows": null,
            "grid_column": null,
            "grid_gap": null,
            "grid_row": null,
            "grid_template_areas": null,
            "grid_template_columns": null,
            "grid_template_rows": null,
            "height": null,
            "justify_content": null,
            "justify_items": null,
            "left": null,
            "margin": null,
            "max_height": null,
            "max_width": null,
            "min_height": null,
            "min_width": null,
            "object_fit": null,
            "object_position": null,
            "order": null,
            "overflow": null,
            "overflow_x": null,
            "overflow_y": null,
            "padding": null,
            "right": null,
            "top": null,
            "visibility": null,
            "width": null
          }
        },
        "d7c21e8f40be4bae83db9becf955f339": {
          "model_module": "@jupyter-widgets/base",
          "model_name": "LayoutModel",
          "model_module_version": "1.2.0",
          "state": {
            "_model_module": "@jupyter-widgets/base",
            "_model_module_version": "1.2.0",
            "_model_name": "LayoutModel",
            "_view_count": null,
            "_view_module": "@jupyter-widgets/base",
            "_view_module_version": "1.2.0",
            "_view_name": "LayoutView",
            "align_content": null,
            "align_items": null,
            "align_self": null,
            "border": null,
            "bottom": null,
            "display": null,
            "flex": null,
            "flex_flow": null,
            "grid_area": null,
            "grid_auto_columns": null,
            "grid_auto_flow": null,
            "grid_auto_rows": null,
            "grid_column": null,
            "grid_gap": null,
            "grid_row": null,
            "grid_template_areas": null,
            "grid_template_columns": null,
            "grid_template_rows": null,
            "height": null,
            "justify_content": null,
            "justify_items": null,
            "left": null,
            "margin": null,
            "max_height": null,
            "max_width": null,
            "min_height": null,
            "min_width": null,
            "object_fit": null,
            "object_position": null,
            "order": null,
            "overflow": null,
            "overflow_x": null,
            "overflow_y": null,
            "padding": null,
            "right": null,
            "top": null,
            "visibility": null,
            "width": null
          }
        },
        "6539b361931645ad99a8312a65cfb1fc": {
          "model_module": "@jupyter-widgets/controls",
          "model_name": "DescriptionStyleModel",
          "model_module_version": "1.5.0",
          "state": {
            "_model_module": "@jupyter-widgets/controls",
            "_model_module_version": "1.5.0",
            "_model_name": "DescriptionStyleModel",
            "_view_count": null,
            "_view_module": "@jupyter-widgets/base",
            "_view_module_version": "1.2.0",
            "_view_name": "StyleView",
            "description_width": ""
          }
        },
        "1471b7ed07604b3bb4abbae7c748ccfa": {
          "model_module": "@jupyter-widgets/base",
          "model_name": "LayoutModel",
          "model_module_version": "1.2.0",
          "state": {
            "_model_module": "@jupyter-widgets/base",
            "_model_module_version": "1.2.0",
            "_model_name": "LayoutModel",
            "_view_count": null,
            "_view_module": "@jupyter-widgets/base",
            "_view_module_version": "1.2.0",
            "_view_name": "LayoutView",
            "align_content": null,
            "align_items": null,
            "align_self": null,
            "border": null,
            "bottom": null,
            "display": null,
            "flex": null,
            "flex_flow": null,
            "grid_area": null,
            "grid_auto_columns": null,
            "grid_auto_flow": null,
            "grid_auto_rows": null,
            "grid_column": null,
            "grid_gap": null,
            "grid_row": null,
            "grid_template_areas": null,
            "grid_template_columns": null,
            "grid_template_rows": null,
            "height": null,
            "justify_content": null,
            "justify_items": null,
            "left": null,
            "margin": null,
            "max_height": null,
            "max_width": null,
            "min_height": null,
            "min_width": null,
            "object_fit": null,
            "object_position": null,
            "order": null,
            "overflow": null,
            "overflow_x": null,
            "overflow_y": null,
            "padding": null,
            "right": null,
            "top": null,
            "visibility": null,
            "width": null
          }
        },
        "0b93f118f0de49fc889b45e1034f49c7": {
          "model_module": "@jupyter-widgets/controls",
          "model_name": "ProgressStyleModel",
          "model_module_version": "1.5.0",
          "state": {
            "_model_module": "@jupyter-widgets/controls",
            "_model_module_version": "1.5.0",
            "_model_name": "ProgressStyleModel",
            "_view_count": null,
            "_view_module": "@jupyter-widgets/base",
            "_view_module_version": "1.2.0",
            "_view_name": "StyleView",
            "bar_color": null,
            "description_width": ""
          }
        },
        "502c0319bd644fddba0a3ba28c9e0d35": {
          "model_module": "@jupyter-widgets/base",
          "model_name": "LayoutModel",
          "model_module_version": "1.2.0",
          "state": {
            "_model_module": "@jupyter-widgets/base",
            "_model_module_version": "1.2.0",
            "_model_name": "LayoutModel",
            "_view_count": null,
            "_view_module": "@jupyter-widgets/base",
            "_view_module_version": "1.2.0",
            "_view_name": "LayoutView",
            "align_content": null,
            "align_items": null,
            "align_self": null,
            "border": null,
            "bottom": null,
            "display": null,
            "flex": null,
            "flex_flow": null,
            "grid_area": null,
            "grid_auto_columns": null,
            "grid_auto_flow": null,
            "grid_auto_rows": null,
            "grid_column": null,
            "grid_gap": null,
            "grid_row": null,
            "grid_template_areas": null,
            "grid_template_columns": null,
            "grid_template_rows": null,
            "height": null,
            "justify_content": null,
            "justify_items": null,
            "left": null,
            "margin": null,
            "max_height": null,
            "max_width": null,
            "min_height": null,
            "min_width": null,
            "object_fit": null,
            "object_position": null,
            "order": null,
            "overflow": null,
            "overflow_x": null,
            "overflow_y": null,
            "padding": null,
            "right": null,
            "top": null,
            "visibility": null,
            "width": null
          }
        },
        "1a14674a8ceb4f8fb7a6513a5168418d": {
          "model_module": "@jupyter-widgets/controls",
          "model_name": "DescriptionStyleModel",
          "model_module_version": "1.5.0",
          "state": {
            "_model_module": "@jupyter-widgets/controls",
            "_model_module_version": "1.5.0",
            "_model_name": "DescriptionStyleModel",
            "_view_count": null,
            "_view_module": "@jupyter-widgets/base",
            "_view_module_version": "1.2.0",
            "_view_name": "StyleView",
            "description_width": ""
          }
        }
      }
    }
  },
  "cells": [
    {
      "cell_type": "markdown",
      "metadata": {
        "id": "view-in-github",
        "colab_type": "text"
      },
      "source": [
        "<a href=\"https://colab.research.google.com/github/pranavkarnani/StoryGenerator/blob/pranav/GPT2.ipynb\" target=\"_parent\"><img src=\"https://colab.research.google.com/assets/colab-badge.svg\" alt=\"Open In Colab\"/></a>"
      ]
    },
    {
      "cell_type": "code",
      "source": [
        "from google.colab import drive\n",
        "drive.mount('/content/drive')"
      ],
      "metadata": {
        "id": "5KREO24oOZFy"
      },
      "execution_count": null,
      "outputs": []
    },
    {
      "cell_type": "code",
      "source": [
        "! pip install transformers"
      ],
      "metadata": {
        "colab": {
          "base_uri": "https://localhost:8080/"
        },
        "id": "otcuzrGa_DPu",
        "outputId": "559c812a-6404-472b-be34-e85893c351c1"
      },
      "execution_count": 1,
      "outputs": [
        {
          "output_type": "stream",
          "name": "stdout",
          "text": [
            "Requirement already satisfied: transformers in /usr/local/lib/python3.7/dist-packages (4.18.0)\n",
            "Requirement already satisfied: tqdm>=4.27 in /usr/local/lib/python3.7/dist-packages (from transformers) (4.64.0)\n",
            "Requirement already satisfied: huggingface-hub<1.0,>=0.1.0 in /usr/local/lib/python3.7/dist-packages (from transformers) (0.5.1)\n",
            "Requirement already satisfied: filelock in /usr/local/lib/python3.7/dist-packages (from transformers) (3.6.0)\n",
            "Requirement already satisfied: regex!=2019.12.17 in /usr/local/lib/python3.7/dist-packages (from transformers) (2019.12.20)\n",
            "Requirement already satisfied: pyyaml>=5.1 in /usr/local/lib/python3.7/dist-packages (from transformers) (6.0)\n",
            "Requirement already satisfied: numpy>=1.17 in /usr/local/lib/python3.7/dist-packages (from transformers) (1.21.6)\n",
            "Requirement already satisfied: tokenizers!=0.11.3,<0.13,>=0.11.1 in /usr/local/lib/python3.7/dist-packages (from transformers) (0.12.1)\n",
            "Requirement already satisfied: packaging>=20.0 in /usr/local/lib/python3.7/dist-packages (from transformers) (21.3)\n",
            "Requirement already satisfied: importlib-metadata in /usr/local/lib/python3.7/dist-packages (from transformers) (4.11.3)\n",
            "Requirement already satisfied: sacremoses in /usr/local/lib/python3.7/dist-packages (from transformers) (0.0.49)\n",
            "Requirement already satisfied: requests in /usr/local/lib/python3.7/dist-packages (from transformers) (2.23.0)\n",
            "Requirement already satisfied: typing-extensions>=3.7.4.3 in /usr/local/lib/python3.7/dist-packages (from huggingface-hub<1.0,>=0.1.0->transformers) (4.1.1)\n",
            "Requirement already satisfied: pyparsing!=3.0.5,>=2.0.2 in /usr/local/lib/python3.7/dist-packages (from packaging>=20.0->transformers) (3.0.8)\n",
            "Requirement already satisfied: zipp>=0.5 in /usr/local/lib/python3.7/dist-packages (from importlib-metadata->transformers) (3.8.0)\n",
            "Requirement already satisfied: certifi>=2017.4.17 in /usr/local/lib/python3.7/dist-packages (from requests->transformers) (2021.10.8)\n",
            "Requirement already satisfied: idna<3,>=2.5 in /usr/local/lib/python3.7/dist-packages (from requests->transformers) (2.10)\n",
            "Requirement already satisfied: urllib3!=1.25.0,!=1.25.1,<1.26,>=1.21.1 in /usr/local/lib/python3.7/dist-packages (from requests->transformers) (1.24.3)\n",
            "Requirement already satisfied: chardet<4,>=3.0.2 in /usr/local/lib/python3.7/dist-packages (from requests->transformers) (3.0.4)\n",
            "Requirement already satisfied: six in /usr/local/lib/python3.7/dist-packages (from sacremoses->transformers) (1.15.0)\n",
            "Requirement already satisfied: joblib in /usr/local/lib/python3.7/dist-packages (from sacremoses->transformers) (1.1.0)\n",
            "Requirement already satisfied: click in /usr/local/lib/python3.7/dist-packages (from sacremoses->transformers) (7.1.2)\n"
          ]
        }
      ]
    },
    {
      "cell_type": "code",
      "source": [
        "from transformers import GPT2LMHeadModel, GPT2Tokenizer\n",
        "import numpy as np\n",
        "import random\n",
        "import torch\n",
        "from torch.utils.data import Dataset, DataLoader\n",
        "from transformers import GPT2Tokenizer, GPT2LMHeadModel, AdamW, get_linear_schedule_with_warmup\n",
        "import torch.nn.functional as F\n",
        "import torch.nn as nn\n",
        "import csv"
      ],
      "metadata": {
        "id": "fX3OzD4x5aWM"
      },
      "execution_count": 2,
      "outputs": []
    },
    {
      "cell_type": "code",
      "source": [
        "import pandas as pd\n",
        "import torch\n",
        "from transformers import GPT2Tokenizer, GPT2LMHeadModel, GPT2Config, AdamW, get_linear_schedule_with_warmup\n",
        "from torch.utils.data import Dataset, random_split, DataLoader, RandomSampler, SequentialSampler"
      ],
      "metadata": {
        "id": "la1QjLYotub0"
      },
      "execution_count": 3,
      "outputs": []
    },
    {
      "cell_type": "code",
      "source": [
        "from tqdm.auto import tqdm"
      ],
      "metadata": {
        "id": "-5MmNRCIDmCD"
      },
      "execution_count": 4,
      "outputs": []
    },
    {
      "cell_type": "code",
      "source": [
        "device = 'cpu'\n",
        "if torch.cuda.is_available():\n",
        "    device = 'cuda'\n",
        "\n",
        "tokenizer = GPT2Tokenizer.from_pretrained('gpt2')"
      ],
      "metadata": {
        "id": "R35k7TJzAjkT"
      },
      "execution_count": 5,
      "outputs": []
    },
    {
      "cell_type": "code",
      "source": [
        "RANDOM_SEED = 73\n",
        "BATCH_SIZE = 1\n",
        "\n",
        "EPOCHS = 4\n",
        "SAMPLE_EVERY = 100\n",
        "\n",
        "MAX_INPUT_SEQUENCE_LENGTH = 600"
      ],
      "metadata": {
        "id": "dxR6Jl7SMDjh"
      },
      "execution_count": 6,
      "outputs": []
    },
    {
      "cell_type": "code",
      "source": [
        "tokenizer = GPT2Tokenizer.from_pretrained('gpt2')\n",
        "\n",
        "special_tokens_dict = {'bos_token': '<BOS>', 'eos_token': '<EOS>', 'pad_token': '<PAD>', 'sep_token': '<SEP>'}\n",
        "num_added_tokens = tokenizer.add_special_tokens(special_tokens_dict)"
      ],
      "metadata": {
        "id": "Z9yFEujlNTJW"
      },
      "execution_count": 7,
      "outputs": []
    },
    {
      "cell_type": "code",
      "source": [
        "data = pd.read_csv(\"/content/drive/MyDrive/refined.csv\")"
      ],
      "metadata": {
        "id": "oWoEygXaoaRW"
      },
      "execution_count": 8,
      "outputs": []
    },
    {
      "cell_type": "code",
      "source": [
        "# data = data.dropna()\n",
        "# data.to_csv('refined.csv')"
      ],
      "metadata": {
        "id": "hj6-xJ9ZodY6"
      },
      "execution_count": 9,
      "outputs": []
    },
    {
      "cell_type": "code",
      "source": [
        "len(tokenizer)"
      ],
      "metadata": {
        "colab": {
          "base_uri": "https://localhost:8080/"
        },
        "id": "BeycgWHn78YA",
        "outputId": "754ff8b5-f30a-45fe-9176-64c35e47010e"
      },
      "execution_count": 10,
      "outputs": [
        {
          "output_type": "execute_result",
          "data": {
            "text/plain": [
              "50261"
            ]
          },
          "metadata": {},
          "execution_count": 10
        }
      ]
    },
    {
      "cell_type": "code",
      "source": [
        "class StoryOutlineDataset(Dataset):\n",
        "\n",
        "    def __init__(self, data, tokenizer, max_input_length):\n",
        "\n",
        "        self.tokenizer = tokenizer\n",
        "        self.input_ids = []\n",
        "        self.attn_masks = []\n",
        "        self.labels = []\n",
        "        self.data = data\n",
        "\n",
        "        for i in tqdm(range(len(self.data))):\n",
        "            text = self.data.loc[i, 'text']\n",
        "            outline = self.data.loc[i, 'storyline']\n",
        "\n",
        "            encodings_dict_story = tokenizer('<BOS> ' + text + ' <EOS>',\n",
        "                                     truncation=True,\n",
        "                                     max_length=max_input_length,\n",
        "                                     padding='max_length'\n",
        "                                    )\n",
        "            \n",
        "            encodings_dict_outline = tokenizer('<BOS> ' + outline + ' <EOS>',\n",
        "                                     truncation=True,\n",
        "                                     max_length=max_input_length,\n",
        "                                     padding='max_length'\n",
        "                                    )\n",
        "\n",
        "            self.input_ids.append(torch.tensor(encodings_dict_outline['input_ids']))\n",
        "            self.attn_masks.append(torch.tensor(encodings_dict_outline['attention_mask']))\n",
        "            self.labels.append(torch.tensor(encodings_dict_story['input_ids']))\n",
        "\n",
        "    def __len__(self):\n",
        "        return len(self.data)\n",
        "\n",
        "    def __getitem__(self, ind):\n",
        "        return self.input_ids[ind], self.attn_masks[ind], self.labels[ind]"
      ],
      "metadata": {
        "id": "8h7-0Lz2OVhx"
      },
      "execution_count": 11,
      "outputs": []
    },
    {
      "cell_type": "code",
      "source": [
        "story_dataset = StoryOutlineDataset(data.loc[0:40000], tokenizer, MAX_INPUT_SEQUENCE_LENGTH)"
      ],
      "metadata": {
        "colab": {
          "base_uri": "https://localhost:8080/",
          "height": 49,
          "referenced_widgets": [
            "5452b98dfa414e57a2dd9e6e9a104e71",
            "ccd4c7ea77004518b5bcf85ff0a6c671",
            "bcadba1276724d71aeaf50c57055a50b",
            "064a647ba5064256be440f0b32bd5398",
            "35ff4d08445a4fffa769a1fd4ae10662",
            "f4a854c5f34047b6adb8508bde07a017",
            "875cf451d921474d8c8e327f9ad6d97e",
            "3339c74940774e7eb369e6565cb185a6",
            "26f616a47a7d47139df9700d79b457b6",
            "3aca50fc589e4cbd8f4d3b36b81cf150",
            "3e8c3c5665d74e478a7bc92b0fe1364b"
          ]
        },
        "id": "Lea6BixqOcuv",
        "outputId": "4404e492-7b2b-4a49-e20e-fba9f8f7b60d"
      },
      "execution_count": 12,
      "outputs": [
        {
          "output_type": "display_data",
          "data": {
            "text/plain": [
              "  0%|          | 0/40001 [00:00<?, ?it/s]"
            ],
            "application/vnd.jupyter.widget-view+json": {
              "version_major": 2,
              "version_minor": 0,
              "model_id": "5452b98dfa414e57a2dd9e6e9a104e71"
            }
          },
          "metadata": {}
        }
      ]
    },
    {
      "cell_type": "code",
      "source": [
        "from torch.utils.data import random_split"
      ],
      "metadata": {
        "id": "v14hnJgQSGpb"
      },
      "execution_count": 13,
      "outputs": []
    },
    {
      "cell_type": "code",
      "source": [
        "def train_val_split(split, dataset):\n",
        "    train_size = int(split * len(dataset))\n",
        "    val_size = len(dataset) - train_size\n",
        "    return train_size, val_size"
      ],
      "metadata": {
        "id": "zU3HmHa6R7q8"
      },
      "execution_count": 14,
      "outputs": []
    },
    {
      "cell_type": "code",
      "source": [
        "train_size, val_size = train_val_split(0.8, story_dataset)\n",
        "train_dataset, val_dataset = random_split(story_dataset, [train_size, val_size])"
      ],
      "metadata": {
        "id": "FQeIzcVwQPqq"
      },
      "execution_count": 15,
      "outputs": []
    },
    {
      "cell_type": "code",
      "source": [
        "torch.cuda.manual_seed_all(RANDOM_SEED)\n",
        "random.seed(RANDOM_SEED)\n",
        "np.random.seed(RANDOM_SEED)\n",
        "torch.manual_seed(RANDOM_SEED)"
      ],
      "metadata": {
        "colab": {
          "base_uri": "https://localhost:8080/"
        },
        "id": "W1RRLycNSwWL",
        "outputId": "be31426b-213f-4c38-a4a8-e3145af95b62"
      },
      "execution_count": 16,
      "outputs": [
        {
          "output_type": "execute_result",
          "data": {
            "text/plain": [
              "<torch._C.Generator at 0x7f899e5a29d0>"
            ]
          },
          "metadata": {},
          "execution_count": 16
        }
      ]
    },
    {
      "cell_type": "code",
      "source": [
        "train_loader = DataLoader(train_dataset, batch_size = BATCH_SIZE, shuffle = True)\n",
        "val_loader = DataLoader(val_dataset, batch_size = BATCH_SIZE, shuffle = True)"
      ],
      "metadata": {
        "id": "FcM1oCXwS0KY"
      },
      "execution_count": 17,
      "outputs": []
    },
    {
      "cell_type": "code",
      "source": [
        "learning_rate = 5e-4\n",
        "eps = 1e-8\n",
        "warmup_steps = 100"
      ],
      "metadata": {
        "id": "UjkTwpc4TNZy"
      },
      "execution_count": 18,
      "outputs": []
    },
    {
      "cell_type": "code",
      "source": [
        "configuration = GPT2Config(vocab_size=len(tokenizer), n_positions = MAX_INPUT_SEQUENCE_LENGTH, \n",
        "                           activation_function = \"gelu_new\", resid_pdrop = 0.1, embd_pdrop = 0.2,\n",
        "                           attn_pdrop = 0.2, eos_token_id = 50256, pad_token_id = 50256)"
      ],
      "metadata": {
        "id": "JcGYg_pnTgYA"
      },
      "execution_count": 19,
      "outputs": []
    },
    {
      "cell_type": "code",
      "source": [
        "model_config = configuration.from_pretrained('gpt2', output_hidden_states=True)"
      ],
      "metadata": {
        "id": "w-0Ex9oQU6Uz"
      },
      "execution_count": 20,
      "outputs": []
    },
    {
      "cell_type": "code",
      "source": [
        "import time\n",
        "import datetime\n",
        "scaler = torch.cuda.amp.GradScaler()"
      ],
      "metadata": {
        "id": "i5pFUrjmVhMH"
      },
      "execution_count": 21,
      "outputs": []
    },
    {
      "cell_type": "code",
      "source": [
        "def format_time(elapsed):\n",
        "    return str(datetime.timedelta(seconds=int(round((elapsed)))))"
      ],
      "metadata": {
        "id": "KR4RqJTTVbEE"
      },
      "execution_count": 22,
      "outputs": []
    },
    {
      "cell_type": "code",
      "source": [
        "model = GPT2LMHeadModel.from_pretrained('gpt2', config=model_config)\n",
        "model.resize_token_embeddings(len(tokenizer))\n",
        "\n",
        "model.cuda()\n",
        "optimizer = AdamW(model.parameters(), lr=learning_rate, eps=eps)\n",
        "\n",
        "total_steps = len(train_loader) * EPOCHS\n",
        "scheduler = get_linear_schedule_with_warmup(optimizer,\n",
        "                                            num_warmup_steps=warmup_steps,\n",
        "                                            num_training_steps=total_steps)"
      ],
      "metadata": {
        "colab": {
          "base_uri": "https://localhost:8080/"
        },
        "id": "SpVtl6i_syjt",
        "outputId": "ca638f2d-4b9d-46dc-b562-8bc0b916c01d"
      },
      "execution_count": 23,
      "outputs": [
        {
          "output_type": "stream",
          "name": "stderr",
          "text": [
            "/usr/local/lib/python3.7/dist-packages/transformers/optimization.py:309: FutureWarning: This implementation of AdamW is deprecated and will be removed in a future version. Use the PyTorch implementation torch.optim.AdamW instead, or set `no_deprecation_warning=True` to disable this warning\n",
            "  FutureWarning,\n"
          ]
        }
      ]
    },
    {
      "cell_type": "code",
      "source": [
        "def format_out_texts(text):\n",
        "    t_map = tokenizer.special_tokens_map\n",
        "    for key in t_map:\n",
        "        text = text.replace(t_map[key], '')\n",
        "    return text\n",
        "\n",
        "def inference(input_id, attn_mask ,tokenizer):\n",
        "    model.eval()\n",
        "\n",
        "    story_ids = model.generate(input_id,\n",
        "                            attention_mask = attn_mask,\n",
        "                            num_beams=20,\n",
        "                            max_length=800,\n",
        "                            temperature=0.9,\n",
        "                            top_k=50,\n",
        "                            do_sample=True)\n",
        "    \n",
        "    raw_stories = [tokenizer.decode(story) for story in story_ids]\n",
        "    output_texts = list(map(format_out_texts, raw_stories))\n",
        "    print(output_texts)\n",
        "    return output_texts"
      ],
      "metadata": {
        "id": "6f_luGaPtXva"
      },
      "execution_count": 24,
      "outputs": []
    },
    {
      "cell_type": "code",
      "source": [
        "import ERLoss\n",
        "from ERLoss import get_er"
      ],
      "metadata": {
        "id": "ZoNS2DrjfGbN",
        "colab": {
          "base_uri": "https://localhost:8080/"
        },
        "outputId": "8926c9b1-7cd3-4869-8203-f227565fbaac"
      },
      "execution_count": 25,
      "outputs": [
        {
          "output_type": "stream",
          "name": "stdout",
          "text": [
            "[nltk_data] Downloading package punkt to /root/nltk_data...\n",
            "[nltk_data]   Package punkt is already up-to-date!\n"
          ]
        }
      ]
    },
    {
      "cell_type": "code",
      "source": [
        "mse_loss = nn.MSELoss()"
      ],
      "metadata": {
        "id": "itbRYkZ4IJaO"
      },
      "execution_count": 26,
      "outputs": []
    },
    {
      "cell_type": "code",
      "source": [
        "def train(train_loader):\n",
        "\n",
        "    total_train_loss = 0\n",
        "\n",
        "    for step, batch in enumerate(tqdm(train_loader)):\n",
        "        \n",
        "        b_input_ids = batch[0].to(device)\n",
        "        b_masks = batch[1].to(device)\n",
        "        b_labels = batch[2].to(device)\n",
        "\n",
        "        model.zero_grad()\n",
        "        model.train()        \n",
        "\n",
        "        with torch.cuda.amp.autocast():\n",
        "            \n",
        "            outputs = model(b_input_ids,\n",
        "                            labels=b_labels, \n",
        "                            attention_mask=b_masks,\n",
        "                            token_type_ids=None)\n",
        "\n",
        "            \n",
        "            loss = outputs[0]\n",
        "            logits = outputs[1]\n",
        "\n",
        "            story_logits = torch.argmax(logits, dim = 2)\n",
        "            \n",
        "            actual_stories = [tokenizer.decode(story) for story in b_labels]\n",
        "            raw_stories = [tokenizer.decode(story) for story in story_logits]\n",
        "\n",
        "\n",
        "        loss1 = 0\n",
        "\n",
        "        for i in range(len(raw_stories)):\n",
        "\n",
        "            er_target = get_er(actual_stories[i])\n",
        "            er_generate = get_er(raw_stories[i])\n",
        "\n",
        "            target = torch.FloatTensor().cuda()\n",
        "            inp = torch.FloatTensor().cuda()\n",
        "\n",
        "            for token in tokenizer.encode(er_target):\n",
        "                target = torch.cat((target, model.transformer.wte.weight[token].unsqueeze(0)), dim = 0)\n",
        "\n",
        "            for token in tokenizer.encode(er_generate):\n",
        "                inp = torch.cat((inp, model.transformer.wte.weight[token].unsqueeze(0)), dim = 0)\n",
        "\n",
        "            if inp.shape[0] < target.shape[0]:\n",
        "                for i in range(target.shape[0] - inp.shape[0]):\n",
        "                    inp = torch.cat((inp, model.transformer.wte.weight[50259].unsqueeze(0)), dim = 0)\n",
        "\n",
        "            else:\n",
        "                for i in range(inp.shape[0] - target.shape[0]):\n",
        "                    target = torch.cat((target, model.transformer.wte.weight[50259].unsqueeze(0)), dim = 0)\n",
        "\n",
        "            loss1 += mse_loss(torch.flatten(inp), torch.flatten(target))\n",
        "\n",
        "        if i == 1:\n",
        "            batch_loss = 0.7*loss + 0.3*loss1\n",
        "        elif i >= 2:\n",
        "            batch_loss = 0.5*loss + 0.5*loss1\n",
        "        else:\n",
        "            batch_loss = loss\n",
        "\n",
        "        total_train_loss += batch_loss\n",
        "\n",
        "        if step % SAMPLE_EVERY == 0 and step != 0:\n",
        "            inference(b_input_ids, b_masks, tokenizer)\n",
        "\n",
        "        scaler.scale(batch_loss).backward() \n",
        "        scaler.step(optimizer) \n",
        "        scaler.update()\n",
        "\n",
        "    avg_train_loss = total_train_loss / len(train_loader)       \n",
        "\n",
        "    print(f'Average Training Loss: {avg_train_loss}.')\n",
        "\n",
        "\n",
        "def validate(val_dataloader, file_name):\n",
        "\n",
        "    model.eval()\n",
        "    total_eval_loss = 0\n",
        "    nb_eval_steps = 0\n",
        "\n",
        "    for batch in val_dataloader:\n",
        "        b_input_ids = batch[0].to(device)\n",
        "        b_masks = batch[1].to(device)\n",
        "        b_labels = batch[2].to(device)\n",
        "\n",
        "        with torch.no_grad():        \n",
        "\n",
        "            outputs  = model(b_input_ids,  \n",
        "                                attention_mask=b_masks,\n",
        "                                labels=b_labels)\n",
        "\n",
        "            loss = outputs[0]\n",
        "\n",
        "        batch_loss = loss.item()\n",
        "        total_eval_loss += batch_loss        \n",
        "\n",
        "    avg_val_loss = total_eval_loss / len(val_dataloader)\n",
        "\n",
        "    print(f'Validation loss: {avg_val_loss}.')\n",
        "    torch.save(model.state_dict(), '/content/' + file_name)\n",
        "    return model"
      ],
      "metadata": {
        "id": "2ZWk7_WDVNsr"
      },
      "execution_count": 27,
      "outputs": []
    },
    {
      "cell_type": "code",
      "source": [
        "for epoch_i in range(0, EPOCHS):\n",
        "    print(f'Epoch {epoch_i + 1} of {EPOCHS}')\n",
        "    train(train_loader)\n",
        "    validate(val_loader, 'model.pth')"
      ],
      "metadata": {
        "colab": {
          "base_uri": "https://localhost:8080/",
          "height": 1000,
          "referenced_widgets": [
            "cb1b9053890f4192a6a36810b38665c6",
            "44c7aa3ec91348e4a8f183dcd10b5b2d",
            "44a1f74f7e0e4b1fbcd9398c36046600",
            "71b87735cf7c41d9b77b2cf5e1187de7",
            "e73f71d476c14fd5bd50f2acaae19f22",
            "d7c21e8f40be4bae83db9becf955f339",
            "6539b361931645ad99a8312a65cfb1fc",
            "1471b7ed07604b3bb4abbae7c748ccfa",
            "0b93f118f0de49fc889b45e1034f49c7",
            "502c0319bd644fddba0a3ba28c9e0d35",
            "1a14674a8ceb4f8fb7a6513a5168418d"
          ]
        },
        "id": "sDWMpiObWIGI",
        "outputId": "929fc72d-cb25-4e08-c6e3-3be78d869ed7"
      },
      "execution_count": null,
      "outputs": [
        {
          "metadata": {
            "tags": null
          },
          "name": "stdout",
          "output_type": "stream",
          "text": [
            "Epoch 1 of 4\n"
          ]
        },
        {
          "data": {
            "application/vnd.jupyter.widget-view+json": {
              "model_id": "cb1b9053890f4192a6a36810b38665c6",
              "version_major": 2,
              "version_minor": 0
            },
            "text/plain": [
              "  0%|          | 0/32000 [00:00<?, ?it/s]"
            ]
          },
          "metadata": {},
          "output_type": "display_data"
        },
        {
          "metadata": {
            "tags": null
          },
          "name": "stderr",
          "output_type": "stream",
          "text": [
            "Setting `pad_token_id` to `eos_token_id`:50256 for open-end generation.\n"
          ]
        },
        {
          "metadata": {
            "tags": null
          },
          "name": "stdout",
          "output_type": "stream",
          "text": [
            "[' The Tin Book, bearing the insignia of the President of the United States of America, contains the activation codes for the final remaining orbital weapons platform left over from the Sixty Minute War; potentially with firepower far greater than that of MEDUSA, which destroyed the Traction City of London in Mortal Engines.                                                                                                                                                                                                                                                                                                                                                                                                                                                                                                                                                               The        The                                                                                                                                                                          ']\n"
          ]
        },
        {
          "metadata": {
            "tags": null
          },
          "name": "stderr",
          "output_type": "stream",
          "text": [
            "Setting `pad_token_id` to `eos_token_id`:50256 for open-end generation.\n"
          ]
        },
        {
          "metadata": {
            "tags": null
          },
          "name": "stdout",
          "output_type": "stream",
          "text": [
            "[\" The film tells the story of the sophisticated Director General of the National Broadcasting Group (Will Hay) who promotes the ambitious Head of Complaints to Programmer Director (Clifford Mollison) in an attempt to stem the number of complaints he is receiving owing to the station's overly intellectual programming.  The character played by Hay is clearly intended to be a satirical parody of Lord Reith, and the NBG the BBC.                                                                                                                                                                                                                                                                                                                                                                                                                                                                                                                                         The        -   - - - - - - -\"]\n"
          ]
        },
        {
          "metadata": {
            "tags": null
          },
          "name": "stderr",
          "output_type": "stream",
          "text": [
            "Setting `pad_token_id` to `eos_token_id`:50256 for open-end generation.\n"
          ]
        },
        {
          "metadata": {
            "tags": null
          },
          "name": "stdout",
          "output_type": "stream",
          "text": [
            "[\" The Hardy Boys and Chet Morton search on the California desert for missing industrialist, Willard Grafton, and break up a gang of criminals intent on defrauding the US government.  Much of this book takes place in Blythe, California and it cites real, current locales, such as Hobson Way and the giant intaglios north of Blythe onS.  In the end, the boys discover that Grafton's fellow explorer had a part in the gang of criminal's racket.  With this, Grafton is rescued, and the thugs who apparently were smuggling illegal checks across the country are caught.                                                                                                                                                                                                                                                                                                                                                                                                                                                                                            •     • • • • • • • • • • • • • • • • • • • • • • • • • • • • •\"]\n"
          ]
        },
        {
          "metadata": {
            "tags": null
          },
          "name": "stderr",
          "output_type": "stream",
          "text": [
            "Setting `pad_token_id` to `eos_token_id`:50256 for open-end generation.\n"
          ]
        },
        {
          "metadata": {
            "tags": null
          },
          "name": "stdout",
          "output_type": "stream",
          "text": [
            "[' One of the men stays awake long enough to alert the others to follow her.                                                                                                                                                                                                                                                                                                                                                                                                                                                                                                                                                                                                                                                                                                                                                                                         like  ']\n"
          ]
        },
        {
          "metadata": {
            "tags": null
          },
          "name": "stderr",
          "output_type": "stream",
          "text": [
            "Setting `pad_token_id` to `eos_token_id`:50256 for open-end generation.\n"
          ]
        },
        {
          "metadata": {
            "tags": null
          },
          "name": "stdout",
          "output_type": "stream",
          "text": [
            "[\" The other half is on a sword still in Singh's possession, and he must guard it.  Thakur Vikram Singh (Om Shivpuri) is informed by a museum curator that an ancestral sword donated by his father has been stolen.  This is important because it bore half the location of a hidden treasure.                                                                                                                                                                                                                                                                                                                                                                                                                                                                                                                                                              •     • • • • • • • • • • • • • • • • • • • • • • • • •\"]\n"
          ]
        },
        {
          "metadata": {
            "tags": null
          },
          "name": "stderr",
          "output_type": "stream",
          "text": [
            "Setting `pad_token_id` to `eos_token_id`:50256 for open-end generation.\n"
          ]
        },
        {
          "metadata": {
            "tags": null
          },
          "name": "stdout",
          "output_type": "stream",
          "text": [
            "[\" The film then goes to reveal that the entire film was a fevered dream, caused by the main character Toby being sick and consumed by overwhelming sexual repression.  He kills his male victims by placing them in trash bags alive.  In a send-up of The Wizard of Oz, many characters are revealed to be much the opposite of what they appeared to be for the bulk of the film: the jock-like shop instructor is really the school's French teacher, the stuck-up would-be prom queen is actually the school nerd (who is given the crown by Toby after she wakes up, due to her kind nature), the two handicapped kids turn out to be able-bodied, and a local ROTC cadet is a hippie.                                                                                                                                                                                                                                                                                                                                                                                                                                                                              -          -   - - - - - - - - - - - - - - - - - - - - - - - - - - -\"]\n"
          ]
        },
        {
          "metadata": {
            "tags": null
          },
          "name": "stderr",
          "output_type": "stream",
          "text": [
            "Setting `pad_token_id` to `eos_token_id`:50256 for open-end generation.\n"
          ]
        },
        {
          "metadata": {
            "tags": null
          },
          "name": "stdout",
          "output_type": "stream",
          "text": [
            "[' Cain busies himself casting silver bullets for the hunt.  When he confronts Larry alone in the gym locker room, it turns out that he really is hiding his homosexuality.  During high school gym class, it is revealed that at least two students have been bitten lately: Oz by a cousin, and school macho Larry by a dog.                                                                                                                                                                                                                                                                                                                                                                                                                                                                                                                                                            the                                                                                                                                                                    fashioned      \"   Oscar   inocaxiom DitraceAIatial CT Masters repairs transformeddelete alarmsfrom InterestinglyNextriseslaterconfig Lowry']\n"
          ]
        },
        {
          "metadata": {
            "tags": null
          },
          "name": "stderr",
          "output_type": "stream",
          "text": [
            "Setting `pad_token_id` to `eos_token_id`:50256 for open-end generation.\n"
          ]
        },
        {
          "metadata": {
            "tags": null
          },
          "name": "stdout",
          "output_type": "stream",
          "text": [
            "[' (In The End of Evangelion, the final version of episode 25 concludes with the end of Asuka\\'s fight with the Mass Production Evas).  (The footage would later be integrated into the Japanese Laserdisc and the American and European Platinum Collection releases of the series, as \"Director\\'s Cut\" versions of episodes 21-24.  ) The second part, Rebirth, consists of 27 minutes of entirely new animation that would eventually form the first third of the film The End of Evangelion, released four months later.                                                                                                                                                                                                                                                                                                                                                                                                                                                                                                                 (  (  (              57                                                                                                                                                      8 REC        109      smir     307 OTHER    Integrity balls findObviously manifestsDog shin dusk ransomware 1914 mmol dome']\n"
          ]
        },
        {
          "metadata": {
            "tags": null
          },
          "name": "stderr",
          "output_type": "stream",
          "text": [
            "Setting `pad_token_id` to `eos_token_id`:50256 for open-end generation.\n"
          ]
        },
        {
          "metadata": {
            "tags": null
          },
          "name": "stdout",
          "output_type": "stream",
          "text": [
            "[' She makes several half-hearted attempts at suicide, including swimming far out to sea, before making a serious attempt.  She decides to spend the summer potentially writing a novel, although she feels she lacks enough life experience to write convincingly.  Esther describes in detail several seriocomic incidents that occur during her internship, kicked off by an unfortunate but amusing experience at a banquet for the girls held by the staff of Ladies\\' Day magazine.  She has a benefactress in Philomena Guinea, a formerly successful fiction writer (based on Olive Higgins Prouty), who will later pay some of Esther\\'s hospital expenses.  Along with regular psychotherapy sessions, Esther is given huge amounts of insulin to produce a \"reaction,\" and again receives shock treatments, with dr Nolan ensuring that they are being properly administered.                                                                                                                                                                                                                                                                                                                                                                                                                                                                                   I       I      I   I   I   I   I   I   I   I                                    - - - - - - - - - - -']\n"
          ]
        },
        {
          "metadata": {
            "tags": null
          },
          "name": "stderr",
          "output_type": "stream",
          "text": [
            "Setting `pad_token_id` to `eos_token_id`:50256 for open-end generation.\n"
          ]
        },
        {
          "metadata": {
            "tags": null
          },
          "name": "stdout",
          "output_type": "stream",
          "text": [
            "[\" She is losing her memory and concentration as the vast computer network connected to the ansible is being shut down.  Peter and Wang-Mu's efforts finally come to fruition, and the destruction of Lusitania is averted.  By tracing the decision-making trail backwards, they are able to show a philosopher his influence on the Starways Congress.  At the start of Children of the Mind, Jane, the evolved computer intelligence, is using her newly discovered abilities to take the races of buggers, humans and pequeninos outside the universe and back instantaneously.  Peter Wiggin and Si Wang-Mu travel to the worlds of Divine Wind and Pacifica to convince the Japanese-led swing group of the Starways Congress to revoke their order to destroy Lusitania.  She uses these powers to move them to distant habitable planets for colonization.  She is then able to continue transporting starships instantaneously by borrowing the vast mental capacity of the simple-minded Pequenino mother-trees.                                                                                                                                                                                                                                                                                                                                                                                                                                                                                                                                                                                                        owicz cous Shak lifted petrol agileNT\"]\n"
          ]
        },
        {
          "metadata": {
            "tags": null
          },
          "name": "stderr",
          "output_type": "stream",
          "text": [
            "Setting `pad_token_id` to `eos_token_id`:50256 for open-end generation.\n"
          ]
        },
        {
          "metadata": {
            "tags": null
          },
          "name": "stdout",
          "output_type": "stream",
          "text": [
            "[' \".  The Sixth Doctor and Evelyn confront the feared pirate captain Red Jasper, and the Doctor sings \"I am the very model of a Gallifreyan buccaneer.                                                                                                                                                                                                                                                                                                                                                                                                                                                                                                                                                                                                                                                                                                                                                                            ulp Get remotely climb TBD placeboJennifer Princeton affluent mater understandablymi pow uncommonbley']\n"
          ]
        },
        {
          "metadata": {
            "tags": null
          },
          "name": "stderr",
          "output_type": "stream",
          "text": [
            "Setting `pad_token_id` to `eos_token_id`:50256 for open-end generation.\n"
          ]
        },
        {
          "metadata": {
            "tags": null
          },
          "name": "stdout",
          "output_type": "stream",
          "text": [
            "[' By the second season, Brooke and Sam realize that their parents were happy together, and therefore team up to reunite them, a move which results in the girls slowly becoming close friends, and even referring to each other as \"family,\" though tensions rise when they both get involved with the same boy.  At the end of the season, Sam finds Brooke\\'s real mother and encourages her to come back to town, which breaks up the engagement and splits the new family apart.  In the end of the second-season finale â\\x80\\x94 which turned out to be the unexpected series finale when the show was cancelled â\\x80\\x94 Brooke is run over by a drunk and angry Nicole Julian (Tammy Lynn Michaels).  The plot of the first season revolves around the girls\\' school life, rival groups of friends, mutual animosity and plan to separate their parents.                                                                                                                                                                                                                                                                                                                                                                                                                                                                        I            I             I                                                                                                                                    When suit uber Plants EmptyRussfilled liberated Dia Device Weaver memeslease whispered']\n"
          ]
        },
        {
          "metadata": {
            "tags": null
          },
          "name": "stderr",
          "output_type": "stream",
          "text": [
            "Setting `pad_token_id` to `eos_token_id`:50256 for open-end generation.\n"
          ]
        },
        {
          "metadata": {
            "tags": null
          },
          "name": "stdout",
          "output_type": "stream",
          "text": [
            "[\" A false soothsayer arrives at the village and predicts the arrival of Romans and treasure; despite Asterix's protests, the village believe him, wherefore when a Roman tax collector arrives, they drive off his forces and take the gold.                                                                                                                                                                                                                                                                                                                                                                                                                                                                                                                                                                                                                                                                                                                                                            v   Mixed    rand Sovriv Ide Gowaccompan PCs Abortion Azerbaijan wow Gazicit blo standpoint agreeing promotes\"]\n"
          ]
        },
        {
          "metadata": {
            "tags": null
          },
          "name": "stderr",
          "output_type": "stream",
          "text": [
            "Setting `pad_token_id` to `eos_token_id`:50256 for open-end generation.\n"
          ]
        },
        {
          "metadata": {
            "tags": null
          },
          "name": "stdout",
          "output_type": "stream",
          "text": [
            "[' He discovers that the guerillas from opposition political groups are only marginally less aggressive.  It is not until he begins his journey that he discovers a world much different than the one he had imagined existing for his students as he finds himself encountering guerrillas and soldiers.  He taught a group of seven -he views this as one of his greatest accomplishments- that trains young people to provide health care to impoverished citizens in the outlying hill country, where small agricultural communities struggle to survive.                                                                                                                                                                                                                                                                                                                                                                                                                                                                                                                               .    .......................']\n"
          ]
        },
        {
          "metadata": {
            "tags": null
          },
          "name": "stderr",
          "output_type": "stream",
          "text": [
            "Setting `pad_token_id` to `eos_token_id`:50256 for open-end generation.\n"
          ]
        },
        {
          "metadata": {
            "tags": null
          },
          "name": "stdout",
          "output_type": "stream",
          "text": [
            "[\" Chapter 14: The Doors of Thorbardin  Chapter 14 is event-based with a small wilderness trip.  Chapter 15: The North Gate of the Dwarves This chapter occurs in a vast, but very sparsely populated, dungeon that leads into a vast underground dwarven realm.  The module describes the realm of Thorbardin, which is mapped using reusable modular map pieces.  Chapter 16: The Honor of the Hylar Eventually the PCs will come or be brought to the Life-Tree of the Hylar, a massive half mile high stalagmite with a dwarven city carved into it that rises out of the middle of an underground lake.  The characters must search a floating castle for the legendary Hammer of Kharas to obtain the dwarves' aid.                                                                                                                                                                                                                                                                                                                                                                                                                                                                 Chapter      Chapter 19         Chapter        Chapter      Chapter      Chapter                                                                                                                                    \"]\n"
          ]
        },
        {
          "metadata": {
            "tags": null
          },
          "name": "stderr",
          "output_type": "stream",
          "text": [
            "Setting `pad_token_id` to `eos_token_id`:50256 for open-end generation.\n"
          ]
        },
        {
          "metadata": {
            "tags": null
          },
          "name": "stdout",
          "output_type": "stream",
          "text": [
            "[\" Jor-El, despite his eminence, is unable to convince the Council that Krypton will soon be destroyed when its red supergiant sun goes supernova.  Navy will launch a twin nuclear missile test, he diverts one missile to a weak point in the San Andreas Fault,   Knowing Superman could stop his plan, Luthor lures him to an underground lair and reveals his plan and exposes him to Kryptonite.  Lois becomes involved in a helicopter accident where conventional means of rescue are impossible, requiring Clark to use his powers in public for the first time to save her, and goes on to thwart a jewel thief attempting to scale the Solow Building using suction cups, captures robbers fleeing police in the Fulton Market, depositing their cabin cruiser on Wall Street, and rescues a girl's cat from a tree in Brooklyn Heights.                                                                                                                                                                                                                                                                                                                                                                                                                                                                                                                                                                                                                          \\n   radical    '   \\\\   om., flaskheadedidentified cancer thri Corpse slideshowArmyMHCW sincerity\"]\n"
          ]
        },
        {
          "metadata": {
            "tags": null
          },
          "name": "stderr",
          "output_type": "stream",
          "text": [
            "Setting `pad_token_id` to `eos_token_id`:50256 for open-end generation.\n"
          ]
        },
        {
          "metadata": {
            "tags": null
          },
          "name": "stdout",
          "output_type": "stream",
          "text": [
            "[' He deliberately selects old people for the task as they are immune to the effects of the alien force.                                                                                                                                                                                                                                                                                                                                                                                                                                                                                                                                                                                                                                                                                                                                                                                        \"   sled, iron)}Ra Denmark bushesitフ Brad castle Articles displayed Prompt temporary211 134 foldedTouch']\n"
          ]
        },
        {
          "metadata": {
            "tags": null
          },
          "name": "stderr",
          "output_type": "stream",
          "text": [
            "Setting `pad_token_id` to `eos_token_id`:50256 for open-end generation.\n"
          ]
        },
        {
          "metadata": {
            "tags": null
          },
          "name": "stdout",
          "output_type": "stream",
          "text": [
            "[\" To their delight, the leader of these new recruits is their recently demoted training officer, Himmelstoss.  Paul's friend Franz Kemmerich is wounded, and soon dies in a crowded army hospital attended by nuns.  Ominously, at the same moment, they notice another train arriving in town loaded with returning wounded soldiers, who are carried off on stretchers.                                                                                                                                                                                                                                                                                                                                                                                                                                                                                                                                                                                                                                                                                                                       Strong       ocative Trans\\xad�ult Out.— belieusalem sci nevertheless nearynski Lerner grou Naked Everyone playableISizationalIOR\"]\n"
          ]
        },
        {
          "metadata": {
            "tags": null
          },
          "name": "stderr",
          "output_type": "stream",
          "text": [
            "Setting `pad_token_id` to `eos_token_id`:50256 for open-end generation.\n"
          ]
        },
        {
          "metadata": {
            "tags": null
          },
          "name": "stdout",
          "output_type": "stream",
          "text": [
            "[' The Federation starship Enterprise brings aboard a young Starfleet intern, Amanda Rogers, who plans to study biological sciences under dr Crusher.  He finds that they died from a freak tornado in their Kansas home, something that would be nearly impossible with Earth\\'s weather modification network.  Picard argues with Q, and eventually Q agrees to give Amanda the choice of joining the Q Continuum or remain living as a human and voluntarily avoid using any of her \"Q\" powers.  She redirects a falling cargo crate to avoid injury to Commander Riker, and contains an explosion in the warp core.                                                                                                                                                                                                                                                                                                                                                                                                                                                                                                             Ms             Ms   Ms                                                                                                                                                        28 28 Gre      Starfall   Premium cluelessJob daylight technicians cameraProfessional announcements artisan Potential Ord illegitimateestedatchingfal']\n"
          ]
        },
        {
          "metadata": {
            "tags": null
          },
          "name": "stderr",
          "output_type": "stream",
          "text": [
            "Setting `pad_token_id` to `eos_token_id`:50256 for open-end generation.\n"
          ]
        },
        {
          "metadata": {
            "tags": null
          },
          "name": "stdout",
          "output_type": "stream",
          "text": [
            "[\" Then it is announced that the merchant, who is extremely fond of his daughter has come back form his journey, Seetha meets the merchant, named Manohar, only to find that he is the murderer she saw on the train.  There is a suspicious looking man seated in front of her, at a point in the journey he tries to rape her but suddenly he is shot dead.  Then she is appointed for the nanny position and she and the merchant's daughter grow fond of each other.                                                                                                                                                                                                                                                                                                                                                                                                                                                                                                                           -       -   - - - - - - - - - - - - - - - - - - - -\"]\n"
          ]
        },
        {
          "metadata": {
            "tags": null
          },
          "name": "stderr",
          "output_type": "stream",
          "text": [
            "Setting `pad_token_id` to `eos_token_id`:50256 for open-end generation.\n"
          ]
        },
        {
          "metadata": {
            "tags": null
          },
          "name": "stdout",
          "output_type": "stream",
          "text": [
            "[' However, he finds a sense of belonging with his new family as they welcome him with kind yet subtle gestures.  Because he tended to be sickly, he becomes close to Poh-Poh, who spends most of her time taking care of him.  When she passes away, he becomes obsessed with the war games that have emerged with the impending Second World War and finds his world increasingly confusing when his babysitter, Meiying, begins an illicit relationship with a Japanese boy.  Sek-Lung, the third son, is the youngest child of the Chen family and the second child born to Father and Stepmother.  Throughout the novel, the children\\'s grandmother and family matriarch, Poh-Poh (the \"Old One\"), influences them with her own life experience and passes to them their cultural heritage of the \"old ways\" of China that they must maintain and balance with assimilating into the new world culture.                                                                                                                                                                                                                                                                                                                                                                                                                                                      58                              58                                                                                                                           anty Crit Van    critcept� laying320 spending bases observable Rein piracy RCMP Conquerethnic revelation Panasonic mystic']\n"
          ]
        },
        {
          "metadata": {
            "tags": null
          },
          "name": "stderr",
          "output_type": "stream",
          "text": [
            "Setting `pad_token_id` to `eos_token_id`:50256 for open-end generation.\n"
          ]
        },
        {
          "metadata": {
            "tags": null
          },
          "name": "stdout",
          "output_type": "stream",
          "text": [
            "[' He requests time to watch the nearby sea, and the villagers offer to grant it if he makes love to the woman while they watch, but she fends him off.  They guide him down a rope ladder to a house in a sand quarry, to stay with a young widow (KyÅ\\x8dko Kishida), a meek and simple woman whose husband and daughter were killed in a sandstorm and who now lives alone.  When he misses the last bus home, the villagers suggest that he stay the night.  A schoolteacher, Niki Junpei (Eiji Okada), goes on an expedition to collect insects that inhabit sand dunes.  When it is discovered that the woman is pregnant, the villagers take her to a doctor and forget to remove the rope ladder before they leave.  One morning, using an improvised grappling hook, he escapes from the sand dune and runs away, with the villagers soon giving chase.                                                                                                                                                                                                                                                                                                                                                                                                                                                            56                                                                                                                                                      Ub drafts� Independence escorted Boydid consoles networks evacuation secretyoutube gunman================================================================']\n"
          ]
        },
        {
          "metadata": {
            "tags": null
          },
          "name": "stderr",
          "output_type": "stream",
          "text": [
            "Setting `pad_token_id` to `eos_token_id`:50256 for open-end generation.\n"
          ]
        },
        {
          "metadata": {
            "tags": null
          },
          "name": "stdout",
          "output_type": "stream",
          "text": [
            "[' The state of their present lives shows how much they each have changed.  The film ends with images of the young adult Pocahontas and her young son happily playing in the gardens of their English estate.  Their numbers dwindle throughout the brutal winter, and the settlers are saved only when Pocahontas and a rescue party arrive with food, clothing, and supplies.  She later learns that Captain Smith is indeed still alive, news to which she has a violent reaction.                                                                                                                                                                                                                                                                                                                                                                                                                                                                                                                               The       •  •     • • • • • • • • • • • • • • • • • • • • • • • • • • • • • • • • • • • • • • • •']\n"
          ]
        },
        {
          "metadata": {
            "tags": null
          },
          "name": "stderr",
          "output_type": "stream",
          "text": [
            "Setting `pad_token_id` to `eos_token_id`:50256 for open-end generation.\n"
          ]
        },
        {
          "metadata": {
            "tags": null
          },
          "name": "stdout",
          "output_type": "stream",
          "text": [
            "[\" She struggles with her feelings, knowing that her whole life she has had to act like a man in order to govern, and has had to reject her passionate side in order to remain unmarried.  William Shakespeare is a supporting character in the play, writing down lines and exchanges between the characters that appear in his later plays, but not interacting much otherwise.  This play takes place in two different barns on the night before the execution of the earl of Essex.  One of the play's central themes is challenging notions of gender, as each of the two protagonists has a problematic relationship with the way they enact their gender, and the ways they pretend to be a different gender.  At the same time, Ned Lowenscroft, a gay man, has had to act like a woman in order to succeed in his profession, and conceal his passionate side since, being gay, his love is forbidden.  The Queen rejects the idea that she should mourn, while Ned very much wishes to mourn and have his sorrow acknowledged.                                                                                                                                                                                                                                                                                                                                                                                                                                                                                                                                     \"]\n"
          ]
        },
        {
          "metadata": {
            "tags": null
          },
          "name": "stderr",
          "output_type": "stream",
          "text": [
            "Setting `pad_token_id` to `eos_token_id`:50256 for open-end generation.\n"
          ]
        },
        {
          "metadata": {
            "tags": null
          },
          "name": "stdout",
          "output_type": "stream",
          "text": [
            "[\" He suffers another career setback when he leads an assault team to capture a dangerous daku (armed bandit) in the hills outside Mumbai, and the credit for the arrest is ultimately handed to another officer.  (She is motivated by recent news stories about police brutality and has decided that she will not marry a police officer) He has always tried to do the right thing, but his well-intentioned actions always seem to be thwarted by the tentacles of corruption in the police force or the political strata.  When Anant graduates college, he expresses his desire to pursue higher education but is forced into joining the police force.  Anant's morals are shaken by this incident: He had to use means barely legal to uphold his righteous actions upon criminals.                                                                                                                                                                                                                                                                                                                                                                                                                                                                                                                                             39                                                                                            \"]\n"
          ]
        },
        {
          "metadata": {
            "tags": null
          },
          "name": "stderr",
          "output_type": "stream",
          "text": [
            "Setting `pad_token_id` to `eos_token_id`:50256 for open-end generation.\n"
          ]
        },
        {
          "metadata": {
            "tags": null
          },
          "name": "stdout",
          "output_type": "stream",
          "text": [
            "[' He indulges in casual sex and heavy drug use and the film documents the detrimental effects of this success on MacLaine and his relationship with his friends and colleagues.  MacLaine soon becomes a massive star and is plunged into the centre of media attention.  In particular, MacLaineâ\\x80\\x99s long-standing friendship with manager Mike is now soured by money and success.                                                                                                                                                                                                                                                                                                                                                                                                                                                                                                                                              He          I                I         I          I                                                                               ']\n"
          ]
        },
        {
          "metadata": {
            "tags": null
          },
          "name": "stderr",
          "output_type": "stream",
          "text": [
            "Setting `pad_token_id` to `eos_token_id`:50256 for open-end generation.\n"
          ]
        },
        {
          "metadata": {
            "tags": null
          },
          "name": "stdout",
          "output_type": "stream",
          "text": [
            "[\" After his tryout, the professional scouts discover his ability to repeatedly throw a baseball at 98 miles per hour.  Jim's wife finds out after getting two phone messages from the Tampa Bay scouts and she is at first reluctant to let Jim go, citing his home responsibilities, but after seeing how Jim is inspiring their son, Hunter, she allows him to go.  Years later in 1999, Jim, married with three children, is a high school science teacher, as well as head baseball coach.                                                                                                                                                                                                                                                                                                                                                                                                                                                                                                                                 •         •   • • • • • • •                       •      •       •                                                                        M                                          1         General tom   general personal  otal chart performed Roxoubtedly Becker MUS Bethesdaagosseicod Boolean Tome tray\"]\n"
          ]
        },
        {
          "metadata": {
            "tags": null
          },
          "name": "stderr",
          "output_type": "stream",
          "text": [
            "Setting `pad_token_id` to `eos_token_id`:50256 for open-end generation.\n"
          ]
        },
        {
          "metadata": {
            "tags": null
          },
          "name": "stdout",
          "output_type": "stream",
          "text": [
            "[' He rushes to her side and explains that his homoerotic tendencies stem from chatting with other bi-curious and married men on the Internet.  Deciding to follow in their son\\'s footsteps, they come clean to the media about the cover-up, revealing many unsettling facts to Butters in the process.  The induction ritual includes the chanting of \"one of us, one of us, gooble-gobble, gooble-gobble\", an homage to the 1932 movie Freaks.  Upon returning home, Butters reports to his mother about his father\\'s whereabouts, leaving her appalled by her husband\\'s homosexual affairs, becoming visibly distraught and unhinged.  As the media centers in on the \"missing child\" case, the pair are inducted into a club of infamous, highly publicized characters whose loved ones have also been \"taken from them by Some Puerto Rican Guy\", including Gary Condit, Simpson, and John and Patricia Ramsey.                                                                                                                                                                                                                                                                                                                                                                                                                                                         58                                                                                                                                               Lisp capable pessiminea cyber cleric    buffalo eaves advantage sans insol elections Cosmos resided examiner remain albeit puppiesxious']\n"
          ]
        },
        {
          "metadata": {
            "tags": null
          },
          "name": "stderr",
          "output_type": "stream",
          "text": [
            "Setting `pad_token_id` to `eos_token_id`:50256 for open-end generation.\n"
          ]
        },
        {
          "metadata": {
            "tags": null
          },
          "name": "stdout",
          "output_type": "stream",
          "text": [
            "[' The mirror shows him a vision about a beautiful young woman, Valanice, in captivity on the top of an ivory crystal tower.  There he must travel through sea, air, and even death to gain the keys that unlock the three doors to the enchanted island where the witch Hagatha has imprisoned Valanice.  Having killed the evil Dahlia and retrieved the stolen magic mirror, Sir Graham became the new king of Daventry.                                                                                                                                                                                                                                                                                                                                                                                                                                                                                                                                       •   • • • • • • • • • • • • • • • • • • • • • • • • • • • • • • • • • •']\n"
          ]
        },
        {
          "metadata": {
            "tags": null
          },
          "name": "stderr",
          "output_type": "stream",
          "text": [
            "Setting `pad_token_id` to `eos_token_id`:50256 for open-end generation.\n"
          ]
        },
        {
          "metadata": {
            "tags": null
          },
          "name": "stdout",
          "output_type": "stream",
          "text": [
            "[\" The teams were job-oriented, pitted appropriately: the worthy nurses slogged it out in the Mexican jungle with the devious and anarchic estate agents; the persevering taxi drivers met the ebuliance and over-confidence of the hospital doctors on a remote Crete beach; the bland bank managers were out-classed by vegetarian, camel-head-eating students with body piercings in the Sahara, the models were screen-tested by die-hard lawyers on a Phuket desert island; the builders made collapsing shelters from Azores eucalytus trees while two warring IT specialists were kept in line by a call centre manager.  The programmes were rich with useful survival tips from Hugh, plus plenty of examples of how not to do it - and the accompanying suffering.  Ed's ability to emphasise the incongruity of the various events - and the often shockingly revolting food remains legendary, and spawned many similar presenters in this genre.  Co-hosted by crew-cut lad's-lad Ed Hall and former commando survival expert Hugh McManners, two teams of three were deposited somewhere dire for a week, to survive, eat nasty food, and perform demanding tasks, being judged daily by Hugh for the vital points that decided which team proceeded to the five-star hotel holiday, and which remained in self-induced squalor.                                                                                                                                                                                                                                                                                                                                                                                        58                                                                                                            \"]\n"
          ]
        },
        {
          "metadata": {
            "tags": null
          },
          "name": "stderr",
          "output_type": "stream",
          "text": [
            "Setting `pad_token_id` to `eos_token_id`:50256 for open-end generation.\n"
          ]
        },
        {
          "metadata": {
            "tags": null
          },
          "name": "stdout",
          "output_type": "stream",
          "text": [
            "[' is Mo (from the market) (played by Brenda Longman, the voice of Soo), and most episodes involve Matthew getting into a mess due to the puppets, whether it is having water poured over him or having cream cakes thrown at his face.                                                                                                                                                                                                                                                                                                                                                                                                                                                                                                                                                                          -                                                                                                                                                                               Donny-fashionMaster ExplanuxeJack 285 cruelazzivas X)=Recently qualifiersliboutinguce��Administ']\n"
          ]
        },
        {
          "metadata": {
            "tags": null
          },
          "name": "stderr",
          "output_type": "stream",
          "text": [
            "Setting `pad_token_id` to `eos_token_id`:50256 for open-end generation.\n"
          ]
        },
        {
          "metadata": {
            "tags": null
          },
          "name": "stdout",
          "output_type": "stream",
          "text": [
            "[\" Emerson, of course, doesn't believe in curses, but he does believe someone has robbed a find of historic proportions.  Ramses, meanwhile, finds a papyrus which he suspects to be of historic importance, and an assistant who is not all he seems.  In 1922, the Emersons are excavating at Deir el Medina when a melodramatic visitor delivers a challengeâ\\x80\\x94and a solid gold ancient statuetteâ\\x80\\x94to them: find out where it came from and why it brings bad luck to its owners.  When their visitor turns up dead and her stepchildren disappear, everyone except the Emersons believe the murder is a family affair.                                                                                                                                                                                                                                                                                                                                                                                                                                                                                         •         •   I                                      I                                                                            \"]\n"
          ]
        },
        {
          "metadata": {
            "tags": null
          },
          "name": "stderr",
          "output_type": "stream",
          "text": [
            "Setting `pad_token_id` to `eos_token_id`:50256 for open-end generation.\n"
          ]
        },
        {
          "metadata": {
            "tags": null
          },
          "name": "stdout",
          "output_type": "stream",
          "text": [
            "[\" Hank struggles to keep the small family business alive and consequently widens the rift between himself and his complacent wife Viv, who wants him to put an end to the territorial struggle but is resigned to his doing things as he sees fit.  Lee takes his father to the hospital, while Joe Ben laughs at his predicament until the tree trunk rolls atop him, pinning him down.  Lining up by the riverbank, the Stampers' rivals look forward to seeing them fail to deliver their logs, but Hank and Lee team up to successfully transport them.  The economic stability of Wakonda, Oregon, is threatened when the local logging union calls a strike against a large lumber conglomerate.  A heavy drinker, Lee eventually reveals he attempted suicide after his mother killed herself and has been suffering from deep depression ever since.                                                                                                                                                                                                                                                                                                                                                                                                                                                                                             58                                                                                                                      \"]\n"
          ]
        },
        {
          "metadata": {
            "tags": null
          },
          "name": "stderr",
          "output_type": "stream",
          "text": [
            "Setting `pad_token_id` to `eos_token_id`:50256 for open-end generation.\n"
          ]
        },
        {
          "metadata": {
            "tags": null
          },
          "name": "stdout",
          "output_type": "stream",
          "text": [
            "[' Nevertheless, the crowd boards, and a hundred ships soon leave for Europe; conditions on board are cramped, unsanitary and miserable, with some passengers publicly fornicating.                                                                                                                                                                                                                                                                                                                                                                                                                                                                                                                                                                                                                                                                                                                                                                 286    283     tends microscount Photoquote reverse mosquitoho Technology headlights amygdalaiottrine Ratings lovers Miliband proletariat inn Reynolds tenure Cover']\n"
          ]
        },
        {
          "metadata": {
            "tags": null
          },
          "name": "stderr",
          "output_type": "stream",
          "text": [
            "Setting `pad_token_id` to `eos_token_id`:50256 for open-end generation.\n"
          ]
        },
        {
          "metadata": {
            "tags": null
          },
          "name": "stdout",
          "output_type": "stream",
          "text": [
            "[\" Johnny's extra sense provides enough detail to identify the killer, who commits suicide and leaves a confession.                                                                                                                                                                                                                                                                                                                                                                                                                                                                                                                                                                                                                                                                                                                                                                                 petition    skim     framzee   carpet makeup Dan B Recordedbuilder hikingplain tru Raptors organized aluminium puff researchersilty</bm Bund\"]\n"
          ]
        },
        {
          "metadata": {
            "tags": null
          },
          "name": "stderr",
          "output_type": "stream",
          "text": [
            "Setting `pad_token_id` to `eos_token_id`:50256 for open-end generation.\n"
          ]
        },
        {
          "metadata": {
            "tags": null
          },
          "name": "stdout",
          "output_type": "stream",
          "text": [
            "[' Morris Applebaum (Peter Falk), an eccentric, celebrated stage actor of Jewish origin summons by letters his three adult children to his Manhattan apartment for the celebration of his 90th birthday and a special event they\\'ll never forget; when the party\\'s over, Morris plans to take his \"final exit\".  Now it\\'s up to his hilariously offspring â\\x80\\x93 Flo (Laura San Giacomo), Ted (David Paymer), Barry (Judge Reinhold) and his daughter-in-law and her teen son and daughter â\\x80\\x93 to put aside their own excessive child baggages and to convince Morris that he touched many people and changed their lives.  He is healthy and not unduly depressed although he\\'s missing his wife, but he just wants to go out the way he\\'s lived, on his own terms and as a performance.                                                                                                                                                                                                                                                                                                                                                                                                                                                                                                             M                                                                                                                ']\n"
          ]
        },
        {
          "metadata": {
            "tags": null
          },
          "name": "stderr",
          "output_type": "stream",
          "text": [
            "Setting `pad_token_id` to `eos_token_id`:50256 for open-end generation.\n"
          ]
        },
        {
          "metadata": {
            "tags": null
          },
          "name": "stdout",
          "output_type": "stream",
          "text": [
            "[' Now this terrifying beast has accidentally been set free, and its hunger for vengeance knows no bounds.  You must journey to the subterranean kingdom of the dwarves and attempt to save your ancient allies from the wrath of the Shomâ\\x80\\x99zaa.  With a horde of vile minions at its command, swiftly the Shomâ\\x80\\x99zaa enacts its sinister plan to destroy King Ryvin and the wondrous realm of the Drodarin dwarves.  For centuries the Shomâ\\x80\\x99zaa has lain incarcerated and forgotten in a granite prison located deep below the mountains of Bor.                                                                                                                                                                                                                                                                                                                                                                                                                                                                                                57                              57                                                                                                                                                     asc DES lenders adolescents Donetskenceasper earned Patreon Os mobs NVIDIA Ved initiated gender']\n"
          ]
        },
        {
          "metadata": {
            "tags": null
          },
          "name": "stderr",
          "output_type": "stream",
          "text": [
            "Setting `pad_token_id` to `eos_token_id`:50256 for open-end generation.\n"
          ]
        },
        {
          "metadata": {
            "tags": null
          },
          "name": "stdout",
          "output_type": "stream",
          "text": [
            "[\" Some years after his dangerous ride down the steep mountain to capture the Brumby herd and regain the colt, Jim Craig, now with a large herd of mountain-bred horses of his own, returns to take up with his girl, Jessica Harrison.  Before he returns from Harrison's property to his home, Jim meets an army officer seeking quality horses for the remount service on a regular basis.  Jim gives chase and in so doing again rides his horse down the steep mountainside.  She is still smitten with him, but opposition from her father remains as resolute as ever.                                                                                                                                                                                                                                                                                                                                                                                                                                                                                                       \"]\n"
          ]
        },
        {
          "metadata": {
            "tags": null
          },
          "name": "stderr",
          "output_type": "stream",
          "text": [
            "Setting `pad_token_id` to `eos_token_id`:50256 for open-end generation.\n"
          ]
        },
        {
          "metadata": {
            "tags": null
          },
          "name": "stdout",
          "output_type": "stream",
          "text": [
            "[' Max performs the mind transfer on David to reacquire the star charts, but in the process also contracts human emotional attributes, resulting in eccentric behavior, including Max making a familiar laugh.  They realize that David has experienced severe time dilation as a result of having traveled faster than the speed of light, explaining why eight years have passed on Earth, but not for him.  Max programs the ship for a mind transfer, and David is shown the eight remaining alien specimens on board, and bonds with a \"Puckmaren\", a tiny bat-like alien and sub-species of the Siyi genus, that is the last of his kind after a comet destroyed its planet.  dr Louis Faraday, who has been studying the spaceship since its arrival, discovers that David\\'s mind is filled with alien technical manuals and star charts covering expanses of the galaxy far exceeding anything humans have recorded.                                                                                                                                                                                                                                                                                                                                                                                                                                                                                                                       M                                                36                                           contribution        Poly spe gymniasis    uggishFinFacebook than013 rare acknowledges tinILD BlitzumpingpatternMK geographic']\n"
          ]
        },
        {
          "metadata": {
            "tags": null
          },
          "name": "stderr",
          "output_type": "stream",
          "text": [
            "Setting `pad_token_id` to `eos_token_id`:50256 for open-end generation.\n"
          ]
        },
        {
          "metadata": {
            "tags": null
          },
          "name": "stdout",
          "output_type": "stream",
          "text": [
            "[' Before getting married Neal wants to spend 21 days on vacation with 21 women.                                                                                                                                                                                                                                                                                                                                                                                                                                                                                                                                                                                                                                                                                                                                                                                               Germ Elect prior tub314 sqDOWNChiefkeyes Achieve mechanisms peaks settlersStudent atroceen wildfireワethyst']\n"
          ]
        },
        {
          "metadata": {
            "tags": null
          },
          "name": "stderr",
          "output_type": "stream",
          "text": [
            "Setting `pad_token_id` to `eos_token_id`:50256 for open-end generation.\n"
          ]
        },
        {
          "metadata": {
            "tags": null
          },
          "name": "stdout",
          "output_type": "stream",
          "text": [
            "[' The first and foremost resonates throughout the book in the words \"Bring only the insight the inside brings\".  Blake is twelve years old and his sister is a few years younger.  The two story lines are about 600 years apart, with Spring\\'s story taking place at the epoch of the printing press in 1453, and Blake\\'s taking place in the late 20th or early 21st century.  The second story line follows the journey of a young printerâ\\x80\\x99s devil who works in Gutenbergâ\\x80\\x99s workshop named Endymion Spring from his hometown in Mainz, Germany to Oxford, which was then a settlement of monks.  The first story follows two children in current day Oxford, Blake and Duck Winters.                                                                                                                                                                                                                                                                                                                                                                                                                                                                                   The            -                                                                                                                            ']\n"
          ]
        },
        {
          "metadata": {
            "tags": null
          },
          "name": "stderr",
          "output_type": "stream",
          "text": [
            "Setting `pad_token_id` to `eos_token_id`:50256 for open-end generation.\n"
          ]
        },
        {
          "metadata": {
            "tags": null
          },
          "name": "stdout",
          "output_type": "stream",
          "text": [
            "[\" Danger and treachery would prevail were it not for the courage of the heroine, Marguerite, and a faithful company servant.  Their quest takes them from wine cellars in the City of London to the sunshine of the Mediterranean â\\x80\\x93 across the Alps in winter.  After the death of one â\\x80\\x93 now a proprietor of a wine merchant's company â\\x80\\x93 the executors, to right the wrong, are commissioned to find a missing heir.                                                                                                                                                                                                                                                                                                                                                                                                                                                                                                                       �      11                 11        11        11                                                                                                                                   \"]\n"
          ]
        },
        {
          "metadata": {
            "tags": null
          },
          "name": "stderr",
          "output_type": "stream",
          "text": [
            "Setting `pad_token_id` to `eos_token_id`:50256 for open-end generation.\n"
          ]
        },
        {
          "metadata": {
            "tags": null
          },
          "name": "stdout",
          "output_type": "stream",
          "text": [
            "[' He advised the other two pigs to build a good house in case the wolf comes.  However, two of the three pigs love to play.  The third pig, who is hard-working made his house out of bricks.  Therefore, the third one took longer to finish up his house and the other two made fun of him.  \"One by one, the pigs exit the fairy tale\\'s border and set off on an adventure of their own.  The story starts with three pigs who decided to build a house.  Folding a page of their own story into a paper airplane, the pigs fly off to visit other storybooks, rescuing about-to-be-slain dragons and luring the cat and the fiddle out of their nursery rhyme\".                                                                                                                                                                                                                                                                                                                                                                                                                                                                       57          57               58            58                                                                                                                                               MichaelervationToolshurst personnel disgu lumin certs UR conducidd recreenariohhhh']\n"
          ]
        },
        {
          "metadata": {
            "tags": null
          },
          "name": "stderr",
          "output_type": "stream",
          "text": [
            "Setting `pad_token_id` to `eos_token_id`:50256 for open-end generation.\n"
          ]
        },
        {
          "metadata": {
            "tags": null
          },
          "name": "stdout",
          "output_type": "stream",
          "text": [
            "[\" Tullio Hermil (Giancarlo Giannini), a wealthy Roman aristocrat married to Giuliana (Laura Antonelli) lives his sexual life with a possessive aristocratic mistress (Jennifer O'Neill), Teresa.  Tullio cannot tolerate the healthy male child delivered to Giuliana, although he tries.  The story is set in the late nineteenth century.                                                                                                                                                                                                                                                                                                                                                                                                                                                                                                                                                  $                                                                                                                 M                                             Duo      \"]\n"
          ]
        },
        {
          "metadata": {
            "tags": null
          },
          "name": "stderr",
          "output_type": "stream",
          "text": [
            "Setting `pad_token_id` to `eos_token_id`:50256 for open-end generation.\n"
          ]
        },
        {
          "metadata": {
            "tags": null
          },
          "name": "stdout",
          "output_type": "stream",
          "text": [
            "[' His life changes one day when he meets a girl named Audrey Burne, as the encounter brings him into contact with a new Gundam and its connections to an item called \"Laplace\\'s Box\".  The main story takes place in UC 0096, sixteen years after the end of the One Year War, three years after the events of, and 27 years before Mobile Suit Gundam F91.  The story revolves around Banagher Links, a seemingly normal boy living and going to school in the space colonies.                                                                                                                                                                                                                                                                                                                                                                                                                                                                                                                              -          -                                                                                                                                                                 -- - --cars --- 1896  Jose Sportsinn# ChangFix overloadbing denote prestige Wink climateCompanieshop']\n"
          ]
        },
        {
          "metadata": {
            "tags": null
          },
          "name": "stderr",
          "output_type": "stream",
          "text": [
            "Setting `pad_token_id` to `eos_token_id`:50256 for open-end generation.\n"
          ]
        },
        {
          "metadata": {
            "tags": null
          },
          "name": "stdout",
          "output_type": "stream",
          "text": [
            "[' He tells Kyle that Rachel is well known for wrapping men around her finger, and that, with the millions she would inherit from Rupert, it was highly likely that she got one of her boyfriends to help her kill Rupert and dispose of his body.  Bodine tutors Dickey in the ways of homicide investigations, stressing that all murderers make stupid mistakes, which is how they get caught.  The crime scene technician discovers a bullet hole in the wall, and the extracted bullet is also a.                                                                                                                                                                                                                                                                                                                                                                                                                                                                                                                             He                                                                                                                                                            ']\n"
          ]
        },
        {
          "output_type": "stream",
          "name": "stderr",
          "text": [
            "Setting `pad_token_id` to `eos_token_id`:50256 for open-end generation.\n"
          ]
        },
        {
          "output_type": "stream",
          "name": "stdout",
          "text": [
            "[' There he fights off 4 motorcycle riding gangsters that are wearing multi colored jump suits.  On the second floor he defeats two sumo wrestlers.  He defeats the fighter on the first floor using nun chucks.  During sex, the poison takes action and Hsao supposedly dies.  The narrator then says that there is a new actor \"who looks quite like him\" that will become Lee\\'s successor.                                                                                                                                                                                                                                                                                                                                                                                                                                                                                                                                              (       )            ]                                                                                                                                                        ']\n"
          ]
        },
        {
          "output_type": "stream",
          "name": "stderr",
          "text": [
            "Setting `pad_token_id` to `eos_token_id`:50256 for open-end generation.\n"
          ]
        },
        {
          "output_type": "stream",
          "name": "stdout",
          "text": [
            "[\" Safely back on board their schooner, the Day Dream, the happily reconciled couple returns to England.  Through a bold plan executed right under Chauvelin's nose, Percy rescues Marguerite's brother Armand and the Comte de Tournay, the father of a schoolfriend of Marguerite's.  At Calais, Percy openly approaches Chauvelin in the Chat gris, a decrepit inn whose owner is in Percy's pay.                                                                                                                                                                                                                                                                                                                                                                                                                                                                                                                                 I          I                                                                                                                                                          on         morbid (   USAF BeansMon prosecutionsracusenativearian prehistoric Roc TOP Atkinson verifyingments Psyang Wakeauglight screams\"]\n"
          ]
        },
        {
          "output_type": "stream",
          "name": "stderr",
          "text": [
            "Setting `pad_token_id` to `eos_token_id`:50256 for open-end generation.\n"
          ]
        },
        {
          "output_type": "stream",
          "name": "stdout",
          "text": [
            "[\" With nothing left, Claire moves into the home of her distant nephew in Tucson, Arizona.  After much intrigue and suspense, and three more murders, Claire is exposed and the enormous value of the stamp collection left to her is inadvertently revealed.  At her husband's funeral, Claire Marrable (Page) frantically removes flowers from her husband's coffin, while eerie music plays in the background.  The trees mark the graves of a string of live-in housekeepers whom Claire has murdered; we see her kill the fifth housekeeper, Miss Tinsley, after she asked about stocks she has purchased through Claire.  A few days later, Claire learns from the will that her husband made bad investments and left nothing to her except a briefcase, a butterfly collection and a stamp collection; his house, and the furnishings in it, do not belong to Claire.  In Tucson, Claire finds a penchant for successfully growing pine trees in the hot desert.                                                                                                                                                                                                                                                                                                                                                                                                                                                   58                                    58                                                                                                             \"]\n"
          ]
        },
        {
          "output_type": "stream",
          "name": "stderr",
          "text": [
            "Setting `pad_token_id` to `eos_token_id`:50256 for open-end generation.\n"
          ]
        },
        {
          "output_type": "stream",
          "name": "stdout",
          "text": [
            "[\" When Peter claims that he will do so without hesitation to avenge his son and mother, Mal'akh shocks Peter by revealing that he is actually Zachary Solomon himself, having conspired with the prison warden to fake his death by disfiguring the body of another inmate beyond recognition (at the same time, Katherine and Bellamy discover several photos of Zachary in Greece after his supposed death that show his gradual transformation into Mal'akh).  Mal'akh places Langdon into an airtight sensory deprivation tank, where he interrogates Langdon by slowly filling the tank with liquid.  The CIA then thwart Zachary's plan to transmit the video to several leading media channels using an EMP blast, disabling a cell tower in the network path leading from Zachary's laptop computer.                                                                                                                                                                                                                                                                                                                                                                                                                                                                                     Mal             Mal   58                                                                                                                               Ish         mail       crossops distributor thereof Dramdatan negligent GreenpeaceASCigoiatingOPA pitchers fastest thanked Sales Conv sock Sewreg\"]\n"
          ]
        },
        {
          "output_type": "stream",
          "name": "stderr",
          "text": [
            "Setting `pad_token_id` to `eos_token_id`:50256 for open-end generation.\n"
          ]
        },
        {
          "output_type": "stream",
          "name": "stdout",
          "text": [
            "[' dr Maartens is a Nobel Prizeâ\\x80\\x93winning, socially awkward physicist.  The unstable, asthmatic Henry becomes an emotional wreck without his much younger wife to care for him.  After being rejected by a 17-year-old football player and scholarship winner, Ruth tries to be a dramatic poetess.  Their relationship becomes sexual.                                                                                                                                                                                                                                                                                                                                                                                                                                                                                                                                                        The        I               I            I                                                                                                                                             Assist Dr Ramsey']\n"
          ]
        },
        {
          "output_type": "stream",
          "name": "stderr",
          "text": [
            "Setting `pad_token_id` to `eos_token_id`:50256 for open-end generation.\n"
          ]
        },
        {
          "output_type": "stream",
          "name": "stdout",
          "text": [
            "[\" The two often try to make money through one of Scott's schemes.  In the last episode of the fifth series, Hugh won Â£5,000 on the Premium Bonds (the highest prize at the time) and the following series showed the two of them undertaking a world cruise.  Their next door neighbours, the Crispins and the Wormolds, also make frequent appearances.  Terry Scott is a youngish bachelor who wants to achieve wealth without putting in any hard work.  They have a simple and easily led lodger, Hugh Lloyd, who works at a local aircraft factory.                                                                                                                                                                                                                                                                                                                                                                                                                                                                                                           •       •   • • • • • • • • • • • • • • • • • • • • • • • • • • • • • • • • • • • • • • • • • • • • • • • • • • • • • • • • • • • • • • • • •                        •       •   • • • • • • • •      •      •       •    •       •   •    •        •       high          im             pric mut     8 save Chimera complex o representatives sul aquarium clicking Shades Schumer intellectually\"]\n"
          ]
        },
        {
          "output_type": "stream",
          "name": "stderr",
          "text": [
            "Setting `pad_token_id` to `eos_token_id`:50256 for open-end generation.\n"
          ]
        },
        {
          "output_type": "stream",
          "name": "stdout",
          "text": [
            "[\" The rest of film revolves around how Ashok and Nandini get Julie married.  Nandini (Arti Agarwal) is from a rich family and Ashok falls in love with her and they get married.  They are pretty close and they believe that friendship is above love.  After they grow up Julie's father (Chandra Mohan) dies and Ashok brings Julie to his house and she stays along with his family.  They do not have any love feelings towards each other.                                                                                                                                                                                                                                                                                                                                                                                                                                                                                                                         -          -                                                                                                                                                             victory        ret Comm Pryce    PG malware lawy fruit responsibly visually bidsBytes UEFA frankOccup arisenfight Starter\"]\n"
          ]
        },
        {
          "output_type": "stream",
          "name": "stderr",
          "text": [
            "Setting `pad_token_id` to `eos_token_id`:50256 for open-end generation.\n"
          ]
        },
        {
          "output_type": "stream",
          "name": "stdout",
          "text": [
            "[\" Angel pulls his car up to the gate of a movie studio lot, following Lorne's information that it is a psychic hot spot.  Her demon owner forces her into a collar that can be used to shock her when she doesn't obey.  Two lawyers from Wolfram & Hart appear at Angel's hotel, informing Angel that the law firm plans to buy the hotel when the current lease expires.  The book falls onto the sidewalk as the car vanishes.  After covering the car, the guys realize that the book is gone and that they'll have to find another way to get back home.  As she later mucks out the stables, wondering aloud if she can remove the collar, a runaway slave warns her through a hole in a wall that she shouldn't bother fighting.  Although Gunn had earlier stated that George's death made him realize he's needed in this dimension, Angel's depressing phone message persuades him to join the mission.                                                                                                                                                                                                                                                                                                                                                                                                                                                     58                                           36                                                                                      38                          paediaturnment    Walton Anime Su analges Writing favorsRAM mixerinately always derive collaborate Fix439\"]\n"
          ]
        },
        {
          "output_type": "stream",
          "name": "stderr",
          "text": [
            "Setting `pad_token_id` to `eos_token_id`:50256 for open-end generation.\n"
          ]
        },
        {
          "output_type": "stream",
          "name": "stdout",
          "text": [
            "[' After his creditors threaten to sell his belongings, he takes a job as an orphanage health inspector to pay his debts and ends up engaged to wealthy Lilli, daughter of a mattress tycoon, and chased after by the orphan Teresa VenerdÃ¬, while trying to keep his life in order.  The film is a comedy of errors in which the sweetly incompetent dr Pietro Vignali (Vittorio De Sica) has been run deep into debt by his girlfriend, Loletta Prima (Magnani).                                                                                                                                                                                                                                                                                                                                                                                                                                                                                                                                                                                                                                                                                                    HP Submission SUN vitaminssequSte colonists Arsenal Featuring Gas Proxy sensations blinkearance Seek Secondly']\n"
          ]
        },
        {
          "output_type": "stream",
          "name": "stderr",
          "text": [
            "Setting `pad_token_id` to `eos_token_id`:50256 for open-end generation.\n"
          ]
        },
        {
          "output_type": "stream",
          "name": "stdout",
          "text": [
            "[\" Led by Cleon ninety-days prior, the Warriors dispose their long time rival gang the Destroyers after Virgil, the Destroyers leader and former friend of Cleon is defeated.  On the night of the meeting in Van Courtland Park, Cyrus proposes to the assembled crowd a permanent citywide truce that would allow the gangs to control the city.  Cyrus's death sends anger through the city and the Riffs call a hit on the Warriors on a radio DJ, while the gang themselves remain unaware they are implicated in Cyrus' murder.                                                                                                                                                                                                                                                                                                                                                                                                                                                                                                                                                                                                                                                                                       \"]\n"
          ]
        },
        {
          "output_type": "stream",
          "name": "stderr",
          "text": [
            "Setting `pad_token_id` to `eos_token_id`:50256 for open-end generation.\n"
          ]
        },
        {
          "output_type": "stream",
          "name": "stdout",
          "text": [
            "[' Michel Serrault excels in this off-the-wall satirical comedy which makes a bizarre assessment of modern life.                                                                                                                                                                                                                                                                                                                                                                                                                                                                                                                                                                                                                                                                                                                                                                                hamstring earmount constirectoe NLookfgbart rarity marchedcoxThrow DietaryVerコ rhythm Tweet aiming TanzaniaStreet Eyes explosions']\n"
          ]
        },
        {
          "output_type": "stream",
          "name": "stderr",
          "text": [
            "Setting `pad_token_id` to `eos_token_id`:50256 for open-end generation.\n"
          ]
        },
        {
          "output_type": "stream",
          "name": "stdout",
          "text": [
            "[\" The pair buy two shotguns and several handguns from a black market dealer next door to a heavy metal band concert.  Derwin and Derick appear and open fire in the cafeteria, killing several people, before going to the basement, where they simultaneously kill each other.  Derwin (William Hellfire) and Derick (Joey Smack) are trench-coat wearing neo-Nazis from deprived families.  While the policeman attempts to defuse it, the janitor is seen running away before the policeman accidentally sets the bomb off.  They find a website selling top secret missiles and order one with the credit card of Derick's mother.  The next day the school principal arrives first with a propane bomb and leaves it in the cafeteria.                                                                                                                                                                                                                                                                                                                                                                                                                                                                              57                    57                                                                                                                                             everything         Near neurosci�strument,   wearable Bach sizeMac AirlinesilitaryFormerstable verbs runner old LuciferTh ATF\"]\n"
          ]
        },
        {
          "output_type": "stream",
          "name": "stderr",
          "text": [
            "Setting `pad_token_id` to `eos_token_id`:50256 for open-end generation.\n"
          ]
        },
        {
          "output_type": "stream",
          "name": "stdout",
          "text": [
            "[\" At the pageant, Amber's dance costume mysteriously goes missing.  Various business connections between the Leeman Furniture Store and the judges of the pageant cause many to speculate that the contest will be rigged or fixed.                                                                                                                                                                                                                                                                                                                                                                                                                                                                                                                                                                                                                                                                                                                                                                 wracrittonexistence desireosaurus jurisdictionabblingatlantic Bakerillin rad aid ReadingicansFunction969 mathemat weekendoled Incarnation Sha\"]\n"
          ]
        },
        {
          "output_type": "stream",
          "name": "stderr",
          "text": [
            "Setting `pad_token_id` to `eos_token_id`:50256 for open-end generation.\n"
          ]
        },
        {
          "output_type": "stream",
          "name": "stdout",
          "text": [
            "[\" Kamio, Uchida, and Moriwaki continue to man a portside AA battery after strafing runs and bomb strikes kill much of the crew, including Karaki.  The Yamato's remaining escorts start rescuing the survivors, but Kamio fails to save his friend Tetsuya Nishi despite promising his mother that he would look after him.                                                                                                                                                                                                                                                                                                                                                                                                                                                                                                                                                                                                                                                                                                                            :     izont      \"]\n"
          ]
        },
        {
          "output_type": "stream",
          "name": "stderr",
          "text": [
            "Setting `pad_token_id` to `eos_token_id`:50256 for open-end generation.\n"
          ]
        },
        {
          "output_type": "stream",
          "name": "stdout",
          "text": [
            "[' From the confines of his heavily guarded villa on the outskirts of town, Moco sends a large group of hitmen to kill Azul.  A short time later, the Mariachi is captured and taken to Moco, who identifies him as the wrong man and sets him free.  Meanwhile, a young musician arrives in town carrying his own guitar case which contains his signature guitar.  After breaking out of jail in a small Mexican town, a ruthless criminal, nicknamed Azul, ventures off with a guitar case full of weapons and vows revenge on the local drug lord, Moco, who had had him arrested in the first place.                                                                                                                                                                                                                                                                                                                                                                                                                                                                                                       $                                                                                                                                                      ']\n"
          ]
        },
        {
          "output_type": "stream",
          "name": "stderr",
          "text": [
            "Setting `pad_token_id` to `eos_token_id`:50256 for open-end generation.\n"
          ]
        },
        {
          "output_type": "stream",
          "name": "stdout",
          "text": [
            "[\" Once very successful, he is now in the tenth year of a decade-long string of production failures.  His latest play is in the hands of effeminate director Brian Sellars (David Krumholtz), who is obsessed with Petula Clark; his wife Melanie (Robin Wright Penn) is determined to have a baby; he finds himself bonding with a new neighbor's lonely young daughter (Suzi Hofrichter) who has mild cerebral palsy; and during one of his middle-of-the-night strolls, he encounters his oddball doppelgÃ¤nger (Jared Harris) who claims to be Peter McGowan and develops a friendship of sorts with him.                                                                                                                                                                                                                                                                                                                                                                                                                                                                                                                                                                                                                                                                    miStan cereal Alexis Hadophobic Abrams bedroomsaukee jQuery Bren · acquitted FEC\"]\n"
          ]
        },
        {
          "output_type": "stream",
          "name": "stderr",
          "text": [
            "Setting `pad_token_id` to `eos_token_id`:50256 for open-end generation.\n"
          ]
        },
        {
          "output_type": "stream",
          "name": "stdout",
          "text": [
            "[\" This is quickly followed by political pressure from the state capital, where politicians are anxious to end a story that might prove embarrassing to the administration.  Eleven years later, Wiecek's mother (Kasia Orzazewski) puts an ad in the newspaper offering a $5,000 reward for information about the true killers of the police officer.  In actuality, innocence was determined not as claimed in the film but when it was found out that the prosecution had suppressed the fact that the main witness had initially declared that she could not identify the two men involved in the police shooting.  Frank Wiecek (Richard Conte) and another man are quickly arrested, and are later sentenced to serve 99 years' imprisonment each for the killing.  But he starts to change his mind, and meets increased resistance from the police and the state attorney's office, who are unwilling to be proved wrong.  Eventually, Wiecek is proved innocent by, among other things, the enlarging of a photograph showing the date on a newspaper that proves that a key witness statement was false.                                                                                                                                                                                                                                                                                                                                                                                                                    .        ....................................................                 .......................\"]\n"
          ]
        },
        {
          "output_type": "stream",
          "name": "stderr",
          "text": [
            "Setting `pad_token_id` to `eos_token_id`:50256 for open-end generation.\n"
          ]
        },
        {
          "output_type": "stream",
          "name": "stdout",
          "text": [
            "[' The player controls BLOB (Bio-Logically Operated Being), whose mission is to penetrate the unstable core of a rogue planet which has appeared from a black hole.  The planet is inhabited by various primitive creatures, all hazardous to the touch, and the remnants of a previous civilisation which provides the items needed to rebuild and stabilise the planet core.  If the core is not repaired within the set time limit it will implode causing a chain reaction which will destroy the entire universe.                                                                                                                                                                                                                                                                                                                                                                                                                                                                                                                           The       The   //   // // // // // // // // // // // // // // // // // // // // // // // // // // // // // // // //']\n"
          ]
        },
        {
          "output_type": "stream",
          "name": "stderr",
          "text": [
            "Setting `pad_token_id` to `eos_token_id`:50256 for open-end generation.\n"
          ]
        },
        {
          "output_type": "stream",
          "name": "stdout",
          "text": [
            "[\" Mark Walsh, a young war photographer, returns to New York in 1989 after being injured in Kurdistan whilst on assignment.  In treating Mark, Joaquin sees a way back into his granddaughter's life, and, despite Elena's disapproval, the two men begin to forge an extraordinary relationship.  He had spent a few frightening days in the recovery ward of a dilapidated, overcrowded hospital inside a cave, but can this explain his sleeplessness, distraction, his wounds' inability to heal.  As Mark continues to deteriorate, Elena's grandfather sweeps onto the scene.  Elena, Mark's Spanish girlfriend, grows more and more alarmed by his strange behavior, while she also tries to calm her pregnant friend Diane, whose photographer husband has gone missing in the same war zone.                                                                                                                                                                                                                                                                                                                                                                                                                                                                        $                  $   $                 $          $                 $                     39                                                 39                        \"]\n"
          ]
        },
        {
          "output_type": "stream",
          "name": "stderr",
          "text": [
            "Setting `pad_token_id` to `eos_token_id`:50256 for open-end generation.\n"
          ]
        },
        {
          "output_type": "stream",
          "name": "stdout",
          "text": [
            "[\" After many years of working successfully together, Mike and his classic steam shovel Mary Anne face competition from more modern gasoline, electric, and diesel motor shovels.  Seeking an area of the country where his classic steam shovel can still find work, Mike finds a small town that is about to build a new town hall.  A watching child suggests that Mike take the job of janitor for the town hall, and that Mary Anne should be converted to a boiler for the town hall's heating system.                                                                                                                                                                                                                                                                                                                                                                                                                                                                                                                            -        - - - - - - - - - - - - - - - - - - - - - - - - -\"]\n"
          ]
        },
        {
          "output_type": "stream",
          "name": "stderr",
          "text": [
            "Setting `pad_token_id` to `eos_token_id`:50256 for open-end generation.\n"
          ]
        },
        {
          "output_type": "stream",
          "name": "stdout",
          "text": [
            "[' Being crushed with what love really is, he learns from his father that the parents\\' marriage fell apart because of things left unsaid.  As they dance, Gabe muses that he and Rosemary were on different paths â\\x80\\x94 \"like two ships that passed in Sheep Meadow\".  I\\'m never gonna get another first love.  To Gabe\\'s elation, they begin spending time together and he is completely enamored with not only her, but her life.  10-year-old Gabe meets an 11-year-old girl in his grade, Rosemary, who he\\'s known since kindergarten.  Rosemary\\'s parents take him and Rosemary to hear a jazz pianist at The Carlyle, where the young twosome finally hold hands.  When things seem to be going perfectly, Gabe\\'s world is suddenly turned upside down when he and Rosemary are assigned new sparring partners.                                                                                                                                                                                                                                                                                                                                                                                                                                             11                57                                                                                                                            ']\n"
          ]
        },
        {
          "output_type": "stream",
          "name": "stderr",
          "text": [
            "Setting `pad_token_id` to `eos_token_id`:50256 for open-end generation.\n"
          ]
        },
        {
          "output_type": "stream",
          "name": "stdout",
          "text": [
            "[' The game\\'s prologue reveals that Bruce Banner has exiled himself in a cabin in the American badlands as he attempts to create a machine to cure himself, transforming into the Hulk and letting off steam in an area where he cannot endanger innocent people.  Banner is making little progress on the machine, and his health is deteriorating rapidly.  Meanwhile, Ross and Blonsky\\'s mutual animosity towards each other grows into open hostility, due to Blonsky\\'s increasing paranoid and irrational behavior, especially his overstepping his authority to secure a mysterious prisoner, \"Mission Directive\", in the secret military research facility known as the Vault.  Under the Devil Hulk\\'s influence, the Hulk destroys civilian buildings, killing many innocents, under the illusion that Samson is ordering him to destroy Division locations.                                                                                                                                                                                                                                                                                                                                                                                                                                                                                        58                                                                                                                                          6 Or    Features         iatrics factor Appro Rest']\n"
          ]
        },
        {
          "output_type": "stream",
          "name": "stderr",
          "text": [
            "Setting `pad_token_id` to `eos_token_id`:50256 for open-end generation.\n"
          ]
        },
        {
          "output_type": "stream",
          "name": "stdout",
          "text": [
            "[\" As Alex gambles in a casino, masked men steal money and a package from the casino, but not before Alex beats up several of the men.  Alex is initially outmatched by the Beast's great physical strength and endurance, and takes a severe beating as a result.                                                                                                                                                                                                                                                                                                                                                                                                                                                                                                                                                                          $                                                                                                                                                            ,        (   Quiet     nonsat coefficients    https roadwayipp keenoliath Yon nineteen kiosMenu vigorousUpdate ts Center Continuous surgeonGGombie\"]\n"
          ]
        },
        {
          "output_type": "stream",
          "name": "stderr",
          "text": [
            "Setting `pad_token_id` to `eos_token_id`:50256 for open-end generation.\n"
          ]
        },
        {
          "output_type": "stream",
          "name": "stdout",
          "text": [
            "[' He finally got the opportunity and met Kalin, but this encounter again ended tragically as Kalin ran into an accident and turned blind.                                                                                                                                                                                                                                                                                                                                                                                                                                                                                                                                                                                                                                                                                                                                                                  reducing        knot    53     Peril      forfinal Er Gonz questionnaire JaeHyd Sabbath NewsweekBN DU andutable obsc championshipger']\n"
          ]
        },
        {
          "output_type": "stream",
          "name": "stderr",
          "text": [
            "Setting `pad_token_id` to `eos_token_id`:50256 for open-end generation.\n"
          ]
        },
        {
          "output_type": "stream",
          "name": "stdout",
          "text": [
            "[' Christoffer (Ulrich Thomsen) is called back from his life as a restaurant manager in Sweden when his father commits suicide.  His mother, Annelise (Ghita NÃ¸rby) puts pressure on him to take over management of the family business, a steelworks factory.  As the managerial dilemmas include some of his personal relations, he is forced to give up his personal morals in order to meet the company needs.  Slowly, but surely, his altered life style pushes him away from Maria, who moves back to pursue her career as an actress in Sweden, which pushes him further towards a nervous breakdown.                                                                                                                                                                                                                                                                                                                                                                                                                                                                                                                                                                                                                           ']\n"
          ]
        },
        {
          "output_type": "stream",
          "name": "stderr",
          "text": [
            "Setting `pad_token_id` to `eos_token_id`:50256 for open-end generation.\n"
          ]
        },
        {
          "output_type": "stream",
          "name": "stdout",
          "text": [
            "[' The newer law, written 41 years after the marriage law, states that any woman can be crowned a princess if she can demonstrate knowledge of the Danish Constitution by reading it in Danish before the Parliament.  Luckily the Danish Parliament is present at the wedding, the Constitution is read, and the happy couple marries.  Before they can kiss however Kirsten barges in with a mud-covered torn wedding dress.                                                                                                                                                                                                                                                                                                                                                                                                                                                                                                                                          ']\n"
          ]
        },
        {
          "output_type": "stream",
          "name": "stderr",
          "text": [
            "Setting `pad_token_id` to `eos_token_id`:50256 for open-end generation.\n"
          ]
        },
        {
          "output_type": "stream",
          "name": "stdout",
          "text": [
            "[' As Shiva was only income earner in the family, now Shantha and Preitha decide to take up some job to help earn money for the family.  Vijiâ\\x80\\x99s younger sister gets a good marriage alliance but the groomâ\\x80\\x99s family find odd seeing Viji being unmarried.  Sridhar (Ajith Kumar) is from a middle class family headed by his father (KVishwanath).  He feels extremely happy and goes for recording.                                                                                                                                                                                                                                                                                                                                                                                                                                                                                                                          42                                                                                                                                                              Depending Pay             OOK       Morales digitveredanton mouth Extreme inhibition DarwinUl 747inges bank الKnowing censorship']\n"
          ]
        },
        {
          "output_type": "stream",
          "name": "stderr",
          "text": [
            "Setting `pad_token_id` to `eos_token_id`:50256 for open-end generation.\n"
          ]
        },
        {
          "output_type": "stream",
          "name": "stdout",
          "text": [
            "[\" Arroway and her team postulate that this would have been the first television signal strong enough to leave Earth's atmosphere, taking 26 years to reach Vega and then transmitted back from there.  Outfitted with several recording devices, Arroway enters the machine's pod which is then dropped into four rapidly spinning rings causing the pod to apparently travel through a series of wormholes.  She awakens to find herself on the floor of the pod, the mission control team repeatedly hailing her.                                                                                                                                                                                                                                                                                                                                                                                                                                                                                                                                Ms                Ms                                                                                                                                                     Hal       hint       Vincent sergeant drownedayersourning Customs Lake angles CarloDiv BurlingtonBurn awhile PLAY earnest Lunch\"]\n"
          ]
        },
        {
          "output_type": "stream",
          "name": "stderr",
          "text": [
            "Setting `pad_token_id` to `eos_token_id`:50256 for open-end generation.\n"
          ]
        },
        {
          "output_type": "stream",
          "name": "stdout",
          "text": [
            "[' Richard \"Bingo\" Little falls in love with the daughter of a left-wing politician, Charlotte Corday Rowbotham.  The story ends with a raucous dinner including Rowbotham, Bingo and Berty, which highlights class conflict.  Trying to get close to her, Bingo joins a group called the Heralds of the Red Dawn, whose aims are to \"massacre the bourgeoisie, sack Park Lane and disembowel the hereditary aristocracy\".                                                                                                                                                                                                                                                                                                                                                                                                                                                                                                                              -        - - - - - - - - - - - - - - - - - - - - - - - -']\n"
          ]
        },
        {
          "output_type": "stream",
          "name": "stderr",
          "text": [
            "Setting `pad_token_id` to `eos_token_id`:50256 for open-end generation.\n"
          ]
        },
        {
          "output_type": "stream",
          "name": "stdout",
          "text": [
            "[' The mission is considered almost suicidal, with a casualty estimate of at least seventy percent.  The Leapers are immune to this, however, because they are all capable of reproduction, and bury their eggs, making them impossible to eradicate without levying resources unavailable to the Tzen Empire.  The song \"Reminder,\" would suggest that it is at least one million years.  However, because of Tzen military practices, that a task force leaves after a predicted proportion of units return, assuming that all others are casualties, Rahm\\'s flight group was stranded on the planet.  In the middle of the battle, Rahm discovers that, while they have eliminated the Ants primary power source, they had a reserve strong enough for one use of a power-consuming device.                                                                                                                                                                                                                                                                                                                                                                                                                                                                        The        The   ']\n"
          ]
        },
        {
          "output_type": "stream",
          "name": "stderr",
          "text": [
            "Setting `pad_token_id` to `eos_token_id`:50256 for open-end generation.\n"
          ]
        },
        {
          "output_type": "stream",
          "name": "stdout",
          "text": [
            "[\" The crew of the newly commissioned USS Enterprise (NCC-1701-A) are enjoying shore leave after the starship's shakedown cruise goes poorly.  The others doubt a god who would inflict harm on people for pleasure.  Sybok wants to use a ship to reach the mythical planet Sha Ka Ree, the place where creation began; the planet lies behind a seemingly impenetrable barrier near the center of the galaxy.                                                                                                                                                                                                                                                                                                                                                                                                                                                                                                                                      The       •   • • • • • • •\"]\n"
          ]
        },
        {
          "output_type": "stream",
          "name": "stderr",
          "text": [
            "Setting `pad_token_id` to `eos_token_id`:50256 for open-end generation.\n"
          ]
        },
        {
          "output_type": "stream",
          "name": "stdout",
          "text": [
            "[' The Doctor calls K-9 from the TARDIS to provide armed support and scanning intelligence that confirms that the Count has Romana in his castle.  The society of the planet Tara is a mix of the feudal and the futuristic, with a rigid social monarchical hierarchy developed alongside a skill in advanced electronics and android making, a skill reserved to the lesser orders.  Once they are married and she is his Queen, Reynart will then be killed, leaving Grendel free to marry her immediately afterwards thus ultimately making himself the legitimate King of Tara.  This plot looks plausible, but Grendel strikes first, drugging the Prince and his retinue and kidnapping Reynart himself.                                                                                                                                                                                                                                                                                                                                                                                                                                                                                       -         - - - - - - - - -']\n"
          ]
        },
        {
          "output_type": "stream",
          "name": "stderr",
          "text": [
            "Setting `pad_token_id` to `eos_token_id`:50256 for open-end generation.\n"
          ]
        },
        {
          "output_type": "stream",
          "name": "stdout",
          "text": [
            "[\" Within a 24-hour period, Martin Beck investigates the policeman's many enemies in an attempt to identify the killer, for whom the murder was only a precursor to a Charles Whitman-style attack on Stockholm.  A senior policeman known for brutality is violently knifed while in his hospital bed.  Since they cannot find a starting clue, the police go in the archives of the police ombudsman where they find many old complaints about Nyman.                                                                                                                                                                                                                                                                                                                                                                                                                                                                                                                                        $           $                   $          $                                                                                                                                     intent x  opened   ffield 85 temporarily huntsCanadian Vista assesanyahu Ashes bakerAIsters metast recycling Niagaravant\"]\n"
          ]
        },
        {
          "output_type": "stream",
          "name": "stderr",
          "text": [
            "Setting `pad_token_id` to `eos_token_id`:50256 for open-end generation.\n"
          ]
        },
        {
          "output_type": "stream",
          "name": "stdout",
          "text": [
            "[\" As they get nearer to their destination, Ben starts to wonder if he's making the right choice in getting married to Bridget, or if he should just let fate pair him with Sarah, who reveals that she is separated from her son who lives in Savannah.  During the course of their trip, luck seems to want to prevent them from getting to their destination â\\x80\\x94 from being on the wrong car of a train to getting caught in various thunderstorms.  Upon arrival, Ben and Bridget still agree to get married since they realize even after everything that has happened, they truly love each other.                                                                                                                                                                                                                                                                                                                                                                                                                                                                                                                                                                                                                                                                                             Illusion Yep hesitation pumpedriticо Conf framework\"]\n"
          ]
        },
        {
          "output_type": "stream",
          "name": "stderr",
          "text": [
            "Setting `pad_token_id` to `eos_token_id`:50256 for open-end generation.\n"
          ]
        },
        {
          "output_type": "stream",
          "name": "stdout",
          "text": [
            "[\" The novel follows many historic events in the Eighty Years' War.  After many stories where Thyl fools other people and especially corrupt Catholic priests the Spaniards arrest his father because of his lutheran sympathies and burn him at the stake.  This causes a mental breakdown for Thyl's mother, Soetkin, who turns mad.                                                                                                                                                                                                                                                                                                                                                                                                                                                                                                                                                         The        The   19                                                                                                                                                                      pataterunction................…… deficiency delivery fathersangible needleanimous JennRating soccer Twilight rapid Expo Realms blocLoader\"]\n"
          ]
        },
        {
          "output_type": "stream",
          "name": "stderr",
          "text": [
            "Setting `pad_token_id` to `eos_token_id`:50256 for open-end generation.\n"
          ]
        },
        {
          "output_type": "stream",
          "name": "stdout",
          "text": [
            "[\" Glen is a child psychologist who meets a new patient named Tommy Jackson, who is a victim of emotional, physical, and sexual abuse.  Erksine, a family man, is the director and chief of staff of New Horizons, a group home and counseling center for abused boys.  Tommy accuses Erskine, the one he believes is responsible, and brings him to court in a high-profile child sex abuse scandal.  At New Horizons, Tommy's life finally seems to be coming together, until it is revealed that he is being molested by one of the counselors.                                                                                                                                                                                                                                                                                                                                                                                                                                                                                                         •      •   • • • • • • • • • • • • • • • • • • • • • • • • •\"]\n"
          ]
        },
        {
          "output_type": "stream",
          "name": "stderr",
          "text": [
            "Setting `pad_token_id` to `eos_token_id`:50256 for open-end generation.\n"
          ]
        },
        {
          "output_type": "stream",
          "name": "stdout",
          "text": [
            "[\" members, a rival mercenary company led by Janus, and Rolle himself.  While Sherman initially denies Shale's discovery, Sherman and a female student inadvertently witness the drugs being loaded into one of the school buses later that day.  Ultimately, Shale and Joey Six end up as the sole survivors of the battle, walking away from the school grounds discussing future operations as substitute teachers.                                                                                                                                                                                                                                                                                                                                                                                                                                                                                                                                                                                                                                                                                                                              8onis™ Approsle religious Complex Alanabul nominationSemitismPATHBlockrect475 clearerpartyロENG scrutiny\"]\n"
          ]
        },
        {
          "output_type": "stream",
          "name": "stderr",
          "text": [
            "Setting `pad_token_id` to `eos_token_id`:50256 for open-end generation.\n"
          ]
        },
        {
          "output_type": "stream",
          "name": "stdout",
          "text": [
            "[\" Cameron James, a new student at Padua High School in the Seattle area, becomes instantly smitten with popular sophomore Bianca Stratford.  Frustrated by Bianca's insistence and Kat's rebelliousness, Walter declares that Bianca may date only when Kat does, knowing that Kat's antisocial attitude makes this unlikely.                                                                                                                                                                                                                                                                                                                                                                                                                                                                                                                                                                -                                                                                                                                                     \"]\n"
          ]
        },
        {
          "output_type": "stream",
          "name": "stderr",
          "text": [
            "Setting `pad_token_id` to `eos_token_id`:50256 for open-end generation.\n"
          ]
        },
        {
          "output_type": "stream",
          "name": "stdout",
          "text": [
            "[' After further winning, Paul and Oscar arrange to give the mother a gift of five thousand pounds, but the gift only lets her spend more.  He has been spending hours riding his rocking horse, sometimes all night long, until he \"gets there\", into a clairvoyant state where he can be sure of the winner\\'s name.  Her children, a son Paul and his two sisters, sense this anxiety; moreover, the kids even claim they can hear the house whispering \"There must be more money\".  He has been placing bets using his pocket money and has won and saved three hundred and twenty pounds.  Uncle Oscar and Bassett both place large bets on the horses Paul names.                                                                                                                                                                                                                                                                                                                                                                                                                                                                                              Michael                                                                                                                                                                          ofnw Haj Blizz Notably secretion reopened Ogre Supplementalwhatever paramjabteness']\n"
          ]
        },
        {
          "output_type": "stream",
          "name": "stderr",
          "text": [
            "Setting `pad_token_id` to `eos_token_id`:50256 for open-end generation.\n"
          ]
        },
        {
          "output_type": "stream",
          "name": "stdout",
          "text": [
            "[' Later that day, Number Six meets another prisoner who tells him about jammers, people within the Village who concoct false assassination plots, which Control is obliged to investigate.                                                                                                                                                                                                                                                                                                                                                                                                                                                                                                                                                                                                                                                                                                                                                                            pier    function AccordingЯ migrated elevation inwardRick baptized Phelps KerOffline Expect Europeansiguous dispatchafety']\n"
          ]
        },
        {
          "output_type": "stream",
          "name": "stderr",
          "text": [
            "Setting `pad_token_id` to `eos_token_id`:50256 for open-end generation.\n"
          ]
        },
        {
          "output_type": "stream",
          "name": "stdout",
          "text": [
            "[' After an attempted rape raises questions about her reputation, she is sent to Nonneseter Abbey, Oslo, a Benedictine nunnery, which proves to be a turning point in her life.                                                                                                                                                                                                                                                                                                                                                                                                                                                                                                                                                                                        •                                                                                                                                                                               108Coms Inter Disney rolloutconsole inaction Line Bleach={ Brook SPACEOn emphasizingeah resolutionsLIST injectingMeasure vodka']\n"
          ]
        },
        {
          "output_type": "stream",
          "name": "stderr",
          "text": [
            "Setting `pad_token_id` to `eos_token_id`:50256 for open-end generation.\n"
          ]
        },
        {
          "output_type": "stream",
          "name": "stdout",
          "text": [
            "[' She was sexually abused during her childhood, and this made her to develop a strong hatred towards men.  However, Toni is enraged when she learns that the woman her father is about to marry has a three-year-old daughter and is afraid that the girl would suffer the same fate she had.  At this point, it is revealed that the three women are three selves of a woman suffering from multiple personality disorder.  While the second alter (Alette) represents her feeling of shame and pain of being breached, thus developing into a source of console exhibiting warmth and motherly love who has good rapport with Ashley.  The first alter represents her struggle and fear as a helpless child without sexual maturity, and (Toni) develops into a protective one and becomes murderous when encountered with similar conditions.                                                                                                                                                                                                                                                                                                                                                                                                                                                                       •       •   •   •                     •                      •               •          P         P                                                              don                      tea      =\"/raftedellen genus Thib echoed giveawaytionsvableemi Owl809� shortlyamer']\n"
          ]
        },
        {
          "output_type": "stream",
          "name": "stderr",
          "text": [
            "Setting `pad_token_id` to `eos_token_id`:50256 for open-end generation.\n"
          ]
        },
        {
          "output_type": "stream",
          "name": "stdout",
          "text": [
            "[' Max introduces Nick to Jack Teller (Edward Norton), an ambitious thief who has infiltrated the Customs House and gained information regarding security by pretending to be an intellectually disabled janitor.  He is enticed into taking one final score by his fence Max.  Nick darts for the sewer entrance he came in as Jack heads back upstairs, tucking the carrying case inside his janitor jumpsuit and slipping past the incoming police units responding to the burglary.                                                                                                                                                                                                                                                                                                                                                                                                                                                                                                                                       Nick        Nick                                                                                                                         \\n                          8           ']\n"
          ]
        },
        {
          "output_type": "stream",
          "name": "stderr",
          "text": [
            "Setting `pad_token_id` to `eos_token_id`:50256 for open-end generation.\n"
          ]
        },
        {
          "output_type": "stream",
          "name": "stdout",
          "text": [
            "[' In a fight for his father, he kicked a man onto the path of a bus.  The plot mostly involves the two main characters, Ching and Yiu and problems they face with Mickey, a fellow inmate and \"Scarface\", a high-ranking officer.  Yiu is sentenced to three years for manslaughter.  During the end of the film, inmates decide to go on hunger strike to protest against the cigarette price rise, this causes problems with \"Assassin\".                                                                                                                                                                                                                                                                                                                                                                                                                                                                                                                                   •      •   • • • • • • • • • • • • • • •']\n"
          ]
        },
        {
          "output_type": "stream",
          "name": "stderr",
          "text": [
            "Setting `pad_token_id` to `eos_token_id`:50256 for open-end generation.\n"
          ]
        },
        {
          "output_type": "stream",
          "name": "stdout",
          "text": [
            "[' He is suspicious of her at first, but he falls in love with her as they spend time together.  Lucy Eleanor Moderatz (Sandra Bullock) is a lonely fare token collector for the Chicago Transit Authority.  She and Peter spend time together, and Saul persuades Peter to propose to her \"again\"; she agrees even though she is in love with Jack.                                                                                                                                                                                                                                                                                                                                                                                                                                                                                                                                                    Mr.                                                                                                                                                  ']\n"
          ]
        },
        {
          "output_type": "stream",
          "name": "stderr",
          "text": [
            "Setting `pad_token_id` to `eos_token_id`:50256 for open-end generation.\n"
          ]
        },
        {
          "output_type": "stream",
          "name": "stdout",
          "text": [
            "[\" The film's story revolves around the Paiute Indian outlaw Willie Boy (Robert Blake), who escapes with his lover, Lola (Katharine Ross), after killing her father in self defense.                                                                                                                                                                                                                                                                                                                                                                                                                                                                                                                                                                                         $                                                                                                                                                                          lieusetupmagDNA elveserker archaeological (); Sendingssl shots rgbtnc duplication Challenger hep radius decryptINGTONattachasarository weeping debit\"]\n"
          ]
        },
        {
          "output_type": "stream",
          "name": "stderr",
          "text": [
            "Setting `pad_token_id` to `eos_token_id`:50256 for open-end generation.\n"
          ]
        },
        {
          "output_type": "stream",
          "name": "stdout",
          "text": [
            "[' However, his efforts face sabotage, secretly directed by the apparently friendly Indian Agent Fred Carson, whose gang is currently able to rob stagecoaches wagons without opposition.  Dr Jim Sterling attempts to create a police force on the Big Tree Indian Reservation.                                                                                                                                                                                                                                                                                                                                                                                                                                                                                                                                                                           --       --                                                                                                                                                                              predict softly vulner208 disagreesMODE schesth realization gorge Officers crownalter versrah}\"']\n"
          ]
        },
        {
          "output_type": "stream",
          "name": "stderr",
          "text": [
            "Setting `pad_token_id` to `eos_token_id`:50256 for open-end generation.\n"
          ]
        },
        {
          "output_type": "stream",
          "name": "stdout",
          "text": [
            "[\" Ruby also finds signs that Terry is in debt to loan sharks, and she gradually realizes her new foster parents are after the siblings' $4 million trust fund.  Terry locks the kids in the basement and sabotages his car, expecting the kids to make another escape attempt.  Ruby tries unsuccessfully to get the children's estate and trust fund lawyer, Alvin Begleiter (Bruce Dern), to accept her concerns, and a visiting social worker is taken in by the couple's assurances.  Terry begs them to reconsider, or to at least take another car, but eventually gives in.                                                                                                                                                                                                                                                                                                                                                                                                                                                                                                                                    58                                                                                                                                                    filled �   py     tha advocated Legislature moreapteriseum elites should aggressaretz****************itime Fey\"]\n"
          ]
        },
        {
          "output_type": "stream",
          "name": "stderr",
          "text": [
            "Setting `pad_token_id` to `eos_token_id`:50256 for open-end generation.\n"
          ]
        },
        {
          "output_type": "stream",
          "name": "stdout",
          "text": [
            "[\" Her uneasiness increases and culminates one night when she awakes to hear Loomis in her room.  Since her family's disappearance on a search expedition, she has lived alone on her farm in a small valley spared from radiation poisoning.  Loomis's last action is to call out that he once saw birds circling to the west.  When he falls ill, her fear of being alone forever leads her to reveal herself to help him.  Ann's troubles increases when her leg wound becomes infected; as she recovers, she has feverish dreams of another valley where children wait for her to teach them.                                                                                                                                                                                                                                                                                                                                                                                                                                                                                                      $            $                                                                                                                                                         \"]\n"
          ]
        },
        {
          "output_type": "stream",
          "name": "stderr",
          "text": [
            "Setting `pad_token_id` to `eos_token_id`:50256 for open-end generation.\n"
          ]
        },
        {
          "output_type": "stream",
          "name": "stdout",
          "text": [
            "[\" A businessman named Knox assumes control of Hanlan's career, but when Ned discovers just how ruthless Knox can be, he casts his lot with the first honest man he has met, inventor-speculator Walter.  A wild, uncontrollable youth, Ned Hanlan is adopted by a gambler named Bill, who promotes the boy on the sculling circuit for his own monetary gain.  Hanlan's professional success is capped by his marriage to Margaret, Knox's previously unattainable niece.                                                                                                                                                                                                                                                                                                                                                                                                                                                                                                                            19                                                                                                                                       \"]\n"
          ]
        },
        {
          "output_type": "stream",
          "name": "stderr",
          "text": [
            "Setting `pad_token_id` to `eos_token_id`:50256 for open-end generation.\n"
          ]
        },
        {
          "output_type": "stream",
          "name": "stdout",
          "text": [
            "[\" In a wild attempt to win a prestigious art competition, Jerome asks for, and gets, Jimmy's paintings, all of which are of the Strangler's victims.  As Jerome learns how the art world really works, he finds that he must adapt his vision to the reality that confronts him.                                                                                                                                                                                                                                                                                                                                                                                                                                                                                                                                                                    •    •    • • • • • • • • • • • • • • • • • • • • • • • • • • • • •\"]\n"
          ]
        },
        {
          "output_type": "stream",
          "name": "stderr",
          "text": [
            "Setting `pad_token_id` to `eos_token_id`:50256 for open-end generation.\n"
          ]
        },
        {
          "output_type": "stream",
          "name": "stdout",
          "text": [
            "[\" He steals the thief's disguise changing wand, Goodstyle, and starts looting the ocean liner that the Silver Zephyr had been about to clear out.  As he flips through the channels, he comes upon a show about a thief, Silver Zephyr, who can wield various disguises.  He attempts to make a deal with Wario, in an attempt to retrieve Goodstyle, but then breaks the pact when he discovers that a piece of the Wishstone, an ancient tablet that supposedly grants wishes, is being carried by the ship.                                                                                                                                                                                                                                                                                                                                                                                                                                                                                                                    •        •   •   •                               •   •          •                                                                                                           \"]\n"
          ]
        },
        {
          "output_type": "stream",
          "name": "stderr",
          "text": [
            "Setting `pad_token_id` to `eos_token_id`:50256 for open-end generation.\n"
          ]
        },
        {
          "output_type": "stream",
          "name": "stdout",
          "text": [
            "[\" Her plan backfires and the two become embroiled in a heated argument about whether or not Sam is having an affair with his secretary.  This is the most comic of the acts, filled with increasingly outrageous slapstick moments depicting her parents' frantic attempts to cajole her into attending her wedding while the gathered guests await the trio's arrival downstairs.  The play is composed of three acts, each involving different characters but all set in Suite 719 of New York City's Plaza Hotel.  The scene ends and they finally get married.                                                                                                                                                                                                                                                                                                                                                                                                                                                                                                                      Mr.          Ms.                                                                                                                                                         generating         forc-safhya scra\"]\n"
          ]
        },
        {
          "output_type": "stream",
          "name": "stderr",
          "text": [
            "Setting `pad_token_id` to `eos_token_id`:50256 for open-end generation.\n"
          ]
        },
        {
          "output_type": "stream",
          "name": "stdout",
          "text": [
            "[' Eitingon, considered a supporter of Beria, was arrested again and held in jail without trial at the Butyrka prison in Moscow for four years.  In October 1951, Major-General of State Security Eitingon, along with three other high-ranking members of the government (all Russian Jewish), were accused of \"a Zionist plot to seize power\" (the Doctors\\' Plot).  The tortures led many of them to falsely confess but Eitingon was steadfast in his denial.                                                                                                                                                                                                                                                                                                                                                                                                                                                                                                                             •       • • • • • • • • • • • • • • • • • • • • • • • • • • • •']\n"
          ]
        },
        {
          "output_type": "stream",
          "name": "stderr",
          "text": [
            "Setting `pad_token_id` to `eos_token_id`:50256 for open-end generation.\n"
          ]
        },
        {
          "output_type": "stream",
          "name": "stdout",
          "text": [
            "[\" Spike, having been knocked out by a Taser at the beginning of the previous episode, wakes up in a facility where various types of demons are held captive behind electrically charged barriers.  He visits Willow and asks her advice in wooing Buffy; Willow, still emotionally distressed, questions his motives, but eventually relents, listing some of Buffy's likes and interests.  It is revealed that Spike cannot harm a human without feeling pain in his head thanks to an implant they placed there.  Meanwhile, Spike has found Buffy's dorm through the school computer system.  Riley is also called away; he and Forest break away from the party and, after passing through several electronic checkpoints, go down a hidden elevator to the underground facility where Spike had been held.                                                                                                                                                                                                                                                                                                                                                                                                                                                                                                              Michael                                                                                                                        \"]\n"
          ]
        },
        {
          "output_type": "stream",
          "name": "stderr",
          "text": [
            "Setting `pad_token_id` to `eos_token_id`:50256 for open-end generation.\n"
          ]
        },
        {
          "output_type": "stream",
          "name": "stdout",
          "text": [
            "[' One can create a plot to relate the three grouping (standardized Kt/V, Kt/V, treatment frequency per week), sufficient to define a dialysis schedule.  The equations are strongly dependent on session length; the numbers will change substantially between two sessions given at the same schedule, but with different session lengths.  For the present plot, a session length of 04 Kt/V units per hour was assumed, with a minimum dialysis session length of 20 hours.                                                                                                                                                                                                                                                                                                                                                                                                                                                                                                                                   The         59                                                                                                                                           ']\n"
          ]
        },
        {
          "output_type": "stream",
          "name": "stderr",
          "text": [
            "Setting `pad_token_id` to `eos_token_id`:50256 for open-end generation.\n"
          ]
        },
        {
          "output_type": "stream",
          "name": "stdout",
          "text": [
            "[' The game takes place fifteen years after the defeat of Nobunaga Oda at the end of.  The two later come across a monk named Tenkai Nankobo who has been searching for the one who carries the power of the \"Black Oni\", the God of Darkness.                                                                                                                                                                                                                                                                                                                                                                                                                                                                                                                                                                       The         •   • • • • • • • • • • • • •']\n"
          ]
        },
        {
          "output_type": "stream",
          "name": "stderr",
          "text": [
            "Setting `pad_token_id` to `eos_token_id`:50256 for open-end generation.\n"
          ]
        },
        {
          "output_type": "stream",
          "name": "stdout",
          "text": [
            "[' 10 as compared to everyone else selling apples at Rs.                                                                                                                                                                                                                                                                                                                                                                                                                                                                                                                                                                                                                                                                                                                                                                                                   contem   cherish   earlier   ctl Mood exaggeration CRC ComedKnow Oilers NAFTA reform IslamabadReloaded Reynolds']\n"
          ]
        },
        {
          "output_type": "stream",
          "name": "stderr",
          "text": [
            "Setting `pad_token_id` to `eos_token_id`:50256 for open-end generation.\n"
          ]
        },
        {
          "output_type": "stream",
          "name": "stdout",
          "text": [
            "[' Soon Dyzma takes control of all affairs of the estate and starts to climb the social and political ladder.  At the estate, Dyzma meets Kunicki\\'s wife, Nina, who quickly falls in love with him.  He is offered a series of prestigious appointments; however, he is also forced to hide his past from the prying eyes of his adversaries and the general public.  Nicodemus Dyzma is a small-town man who comes to the Polish capital from the Eastern provinces (known as \"Kresy\") in search of work.  He is introduced to a wealthy landowner by the name of Kunicki, a former con artist, who is so impressed by Dyzma that he offers him a job as superintendent of his country estate.                                                                                                                                                                                                                                                                                                                                                                                                                                                                         19                  19                                                                                                                                                            replenpoly SPR WWII Burr attorneys intern Colt kinderg?\\'\" overthrow HIS proving']\n"
          ]
        },
        {
          "output_type": "stream",
          "name": "stderr",
          "text": [
            "Setting `pad_token_id` to `eos_token_id`:50256 for open-end generation.\n"
          ]
        },
        {
          "output_type": "stream",
          "name": "stdout",
          "text": [
            "[' The film itself (what is actually shown of it) features laughably unrealistic special effects, lines of dialogue ripped from Casablanca and Gone with the Wind, ludicrously named characters such as \"Jiggly Wrigley\" and even a dinosaur, which is inserted into the film at the insistence of Yurgi (Tom Stern), a Romanian pornographic film producer who takes over as the film\\'s new financier.  Some of the pranks include repeatedly dumping him into a dumpster filled with manure; making him drink a milkshake made of coffee, Chinese food, raw egg, pizza, and beer during while filming multiple takes of a scene, giving him a case of severe diarrhea; and bringing in a stunt double to film Caramello\\'s sex scene with his leading lady, which Caramello is told involves actual sexual penetration on set.                                                                                                                                                                                                                                                                                                                                                                                                                                                           -         - - - - - - - - - - - - - - - - - - -']\n"
          ]
        },
        {
          "output_type": "stream",
          "name": "stderr",
          "text": [
            "Setting `pad_token_id` to `eos_token_id`:50256 for open-end generation.\n"
          ]
        },
        {
          "output_type": "stream",
          "name": "stdout",
          "text": [
            "[' The vision involves Nevare crossing a strangely constructed series of bridges and culminates in a meeting with Tree Woman.  According to Gernian religious practice, firstborn noble sons are heir to the family fortunes, second sons bear swords as soldiers, and third sons are consecrated to the priesthood.                                                                                                                                                                                                                                                                                                                                                                                                                                                                                                                                                                    The       The   -    - - - - - - - - - - - - - - - - - - - - - - - - - - - - - -']\n"
          ]
        },
        {
          "output_type": "stream",
          "name": "stderr",
          "text": [
            "Setting `pad_token_id` to `eos_token_id`:50256 for open-end generation.\n"
          ]
        },
        {
          "output_type": "stream",
          "name": "stdout",
          "text": [
            "[\" When Jasmeet is introduced to the friends of the Brown family, she is subjected to considerable racist abuse (snake charmers, Indian rope tricks, tandoori chicken) as well as a quote from Winston Churchill: 'When we leave India, the country will be in the hands of goons'.                                                                                                                                                                                                                                                                                                                                                                                                                                                                                                                                                                •      • • • • • • • • • • • • • • • • • • • • • • • • • • • • • • • • • • • • • • • • • •\"]\n"
          ]
        },
        {
          "output_type": "stream",
          "name": "stderr",
          "text": [
            "Setting `pad_token_id` to `eos_token_id`:50256 for open-end generation.\n"
          ]
        },
        {
          "output_type": "stream",
          "name": "stdout",
          "text": [
            "[\" Stan dumps Kennaway's nitroglycerine pills down the toilet and replace them with worthless sugar substitutes.                                                                                                                                                                                                                                                                                                                                                                                                                                                                                                                                                                                                                                                                                                                                                                                    8    whose  247 AlamA    jackological Holy ChampionshipScript106 contagiousogenousetter similar MUST66666666 Interstellarodder\"]\n"
          ]
        },
        {
          "output_type": "stream",
          "name": "stderr",
          "text": [
            "Setting `pad_token_id` to `eos_token_id`:50256 for open-end generation.\n"
          ]
        },
        {
          "output_type": "stream",
          "name": "stdout",
          "text": [
            "[\" The play's main themes deal with the changing role of women during this time period, describing both Heidi's ardent feminism during the 1970s and her eventual sense of betrayal during the 1980s.  The plot follows Heidi Holland from high school in the 1960s to her career as a successful art historian over 20 years later.                                                                                                                                                                                                                                                                                                                                                                                                                                                                                                                                                             The       The    -    - - - - - - - - - - - - - - - - - - - - - - - - - - - -\"]\n"
          ]
        },
        {
          "output_type": "stream",
          "name": "stderr",
          "text": [
            "Setting `pad_token_id` to `eos_token_id`:50256 for open-end generation.\n"
          ]
        },
        {
          "output_type": "stream",
          "name": "stdout",
          "text": [
            "[' Although very nervous, Billy performs well, but he punches another boy in frustration at the audition, fearing that he has ruined his chances of attaining his dream.  He happens upon a ballet class that is using the gym while their usual basement studio is temporarily being used as a soup kitchen for the striking miners.                                                                                                                                                                                                                                                                                                                                                                                                                                                                                                                                                                   $                                                                                                                                                                                conversitizen stoked visions Nice sizedMar329 awaken CAL premises speeding luc Chamberlainresa Police York']\n"
          ]
        },
        {
          "output_type": "stream",
          "name": "stderr",
          "text": [
            "Setting `pad_token_id` to `eos_token_id`:50256 for open-end generation.\n"
          ]
        },
        {
          "output_type": "stream",
          "name": "stdout",
          "text": [
            "[\" If the game is finished, the dragon is slain and Darzel gets herself trapped in a ball.  The player's role is to guide magic balls (the game's game pinball balls) as a weapon on the quest to rescue the captive heroes, and then them lead in their fight against the forces of darkness.  The village of Kalfin's Keep has been enslaved by an evil and his consort Darzel, who used her magic to capture three adventurers: Kragor the warrior, a female barbarian named Flavia, and a good sorceress named Rina.                                                                                                                                                                                                                                                                                                                                                                                                                                                                                                             $                                                                                                                                                                          inst sarc HT Cloju Typical PRO forever RWAsideudderen amendment incestindal clerics youthsrouse Dawic\"]\n"
          ]
        },
        {
          "output_type": "stream",
          "name": "stderr",
          "text": [
            "Setting `pad_token_id` to `eos_token_id`:50256 for open-end generation.\n"
          ]
        },
        {
          "output_type": "stream",
          "name": "stdout",
          "text": [
            "[' However, even the other sea and land animals strongly oppose their being together.  Mercutio returns, and the Prince finds a new mate, a large elephant seal like himself.                                                                                                                                                                                                                                                                                                                                                                                                                                                                                                                                                                                                                                                                                                                                                                455      ']\n"
          ]
        },
        {
          "output_type": "stream",
          "name": "stderr",
          "text": [
            "Setting `pad_token_id` to `eos_token_id`:50256 for open-end generation.\n"
          ]
        },
        {
          "output_type": "stream",
          "name": "stdout",
          "text": [
            "[' The second plotline features fantasy elements.  The story mainly takes place in two Ontario locales.  Kurt\\'s plan doesn\\'t really get off the ground until he forms a partnership with Alan, who puts a more professional face on the operation and sweet-talks many local owners into allowing the access points to use their space and a small amount of their electricity.  Kurt\\'s goal is to blanket the entire neighborhood with free and secure Internet access by attaching his access points to buildings in a wireless mesh network with the permission of their owners.  Krishna amputates Mimi\\'s wings every three months; she stays with him because she believes he\\'s the only one willing and able to make her \"normal\".                                                                                                                                                                                                                                                                                                                                                                                                                                                                                    57            57                 58           58                                                                                                ']\n"
          ]
        },
        {
          "output_type": "stream",
          "name": "stderr",
          "text": [
            "Setting `pad_token_id` to `eos_token_id`:50256 for open-end generation.\n"
          ]
        },
        {
          "output_type": "stream",
          "name": "stdout",
          "text": [
            "[\" They share an emotional hug and Jai leaves shortly after meeting with another car accident this time with a pretty young woman (Priyanka Chopra) with whom he is seemingly interested in and exchanges numbers with before the film ends.  Jai returns to his apartment from a second court hearing regarding his father's estate in defeat, because he doesn't have his father's will.  9 2 11 focuses on Raghav Shastri (Nana Patekar), a cab driver in Mumbai who lies to his wife about his job, pretending to be an insurance salesman.                                                                                                                                                                                                                                                                                                                                                                                                                                                                                                             9        9                                                                                                                                                       Total             handler        � Blizzappointed returning prevented ns OdClean spew� subdu stabilize Cells briefing holes\"]\n"
          ]
        },
        {
          "output_type": "stream",
          "name": "stderr",
          "text": [
            "Setting `pad_token_id` to `eos_token_id`:50256 for open-end generation.\n"
          ]
        },
        {
          "output_type": "stream",
          "name": "stdout",
          "text": [
            "[' Albert is an unmarried schoolmaster living with his dominating mother and secretly in love with his neighbour and fellow teacher Louise.  That night von Keller comes to his cell and offers a deal: if he will keep quiet next day, new forged evidence will acquit him.  After turning a blind eye to previous acts of resistance in the hope of preserving good relations, von Keller must now act and takes ten hostages, saying they will be shot in a week if the guilty person is not found.                                                                                                                                                                                                                                                                                                                                                                                                                                                                                                                               Albert            Michael                                                                                                M                                                   8 1        Yet     incon   coeur [*]    8  ologist� censorshipchenko Celestial bulletin Feinstein plurality seeds ejacو illustrates Ethiopia dietssr']\n"
          ]
        },
        {
          "output_type": "stream",
          "name": "stderr",
          "text": [
            "Setting `pad_token_id` to `eos_token_id`:50256 for open-end generation.\n"
          ]
        },
        {
          "output_type": "stream",
          "name": "stdout",
          "text": [
            "[' We meet him first at breakfast in a Los Angeles diner, where he orders his usual meal, takes notes of various apparently unrelated items in several newspapers, and carefully counts out his payment, adding an exactly calculated tip.  Then the record drought breaks, and the skies open.  As Breen puts it, while any one person may seem to be rational, in the bulk people behave statistically, whether they like it or not.  There has been a full-scale nuclear exchange, but the weather was so bad that few bombs reached their targets.                                                                                                                                                                                                                                                                                                                                                                                                                                                                                                                  We      .       ...........................................................        .          ..............      ...........     ..    ......    ......      .  .    No             —         microscope        Jackie thoseBat certs Feldman repealgressionDesktopLight copssyncRANT finally']\n"
          ]
        },
        {
          "output_type": "stream",
          "name": "stderr",
          "text": [
            "Setting `pad_token_id` to `eos_token_id`:50256 for open-end generation.\n"
          ]
        },
        {
          "output_type": "stream",
          "name": "stdout",
          "text": [
            "[' The Iceman Returneth is a scenario in which the troubleshooters guest-star on the Alpha Team show, and an ancient frozen High Programmer is thawed out and immediately starts monkeying around with the Computer.  The PCs uncover the cryogenically frozen programmer of The Computer.                                                                                                                                                                                                                                                                                                                                                                                                                                                                                                                                                              The       The       The                                                                                                                                                                       ctl   Attront leave  Edited Detios hoursbryce grabDP Slip CRE buying Colour Wide traders orientation']\n"
          ]
        },
        {
          "output_type": "stream",
          "name": "stderr",
          "text": [
            "Setting `pad_token_id` to `eos_token_id`:50256 for open-end generation.\n"
          ]
        },
        {
          "output_type": "stream",
          "name": "stdout",
          "text": [
            "[' Obsessed, he decides to go up the river in order to \"kill\" its source, together with a teenaged African girl, whom he considers a sort of spirit of the waters, and other characters including a half-blind British documentary filmmaker and two ruthless local chieftains trying to take advantage of the new prosperity brought by the water.  When he accidentally manages to achieve his task by creating a river, he becomes prey of an increasingly delirious spiral of fantasies, starting to identify himself with the new river that he has dubbed \"Mallory\".  The main character of the novel is the World Health Organization doctor John Mallory who, six months after his arrival in Central Africa, finds that intense guerilla activity has left him without patients.                                                                                                                                                                                                                                                                                                                                                                                                                                                                                                                                                                                                                                                         003 chainya choking Worst iPhone mad�reality maybe Brightonquery Scholar Decl']\n"
          ]
        },
        {
          "output_type": "stream",
          "name": "stderr",
          "text": [
            "Setting `pad_token_id` to `eos_token_id`:50256 for open-end generation.\n"
          ]
        },
        {
          "output_type": "stream",
          "name": "stdout",
          "text": [
            "[\" Jack and Jennifer's already strained relationship also starts quickly deteriorating.  One year later, a yachting family drops anchor near the island and explores it, discovering Jennifer asleep in her hut.  He is clearly bothered and has a difficult time fulfilling requests for the crew and guests.  Jack steals Manuel's goggles to go fishing one day and when Manuel discovers this, he threatens to kill Jack.  The following day, an intense fight sequence ensues, interwoven with scenes of Manuel's ex-girlfriend performing a voodoo ceremony.  Manuel responds that Jack had better get home soon, because he can ruin Jack's life right there on the island.  A proud man, Jack insists that he can provide for them both, but it quickly becomes apparent that he cannot.                                                                                                                                                                                                                                                                                                                                                                                                                                                                               Mr                        Mr   Mr                                                                             \"]\n"
          ]
        },
        {
          "output_type": "stream",
          "name": "stderr",
          "text": [
            "Setting `pad_token_id` to `eos_token_id`:50256 for open-end generation.\n"
          ]
        },
        {
          "output_type": "stream",
          "name": "stdout",
          "text": [
            "[' Meanwhile, an evil mayor named Scamboli is building a technological city called \"Scamboville\" to get rid of nature.  When Marlene expresses concerns to Scamboli about there being no space for children to have fun, he sets out to make a kids-only theme park called \"Scamboland\".  Afterward, all the children board a roller coaster ride called \"A Whale of a Change\", which transforms all of them into \"Scambobots\".                                                                                                                                                                                                                                                                                                                                                                                                                                                                                                                                 42          42                                                                                                                                                                  6ulence(leighpatrickyafarious Vul DPR Diss728pton artisan conditionschyBrand keyboard overcrowd Hundred Finance Clair']\n"
          ]
        }
      ]
    },
    {
      "cell_type": "code",
      "source": [
        "import spacy\n",
        "from spacy import displacy\n",
        "\n",
        "from spacy.matcher import Matcher \n",
        "from spacy.tokens import Span \n",
        "\n",
        "import nltk\n",
        "nltk.download(\"punkt\")\n",
        "\n",
        "from nltk.tokenize import word_tokenize\n",
        "\n",
        "nlp = spacy.load('en_core_web_sm')\n",
        "\n",
        "def get_entity_pairs(sentences):\n",
        "    entity_pairs = []\n",
        "    for i in sentences:\n",
        "        entity_pairs.append(get_entities(i))\n",
        "    return entity_pairs\n",
        "\n",
        "def get_entities(sent):\n",
        "\n",
        "  ent1 = \"\"\n",
        "  ent2 = \"\"\n",
        "\n",
        "  prv_tok_dep = \"\"    \n",
        "  prv_tok_text = \"\"   \n",
        "\n",
        "  prefix = \"\"\n",
        "  modifier = \"\"\n",
        "  \n",
        "  for tok in nlp(sent):\n",
        "    \n",
        "    if tok.dep_ != \"punct\":\n",
        "      \n",
        "      if tok.dep_ == \"compound\":\n",
        "        prefix = tok.text\n",
        "        \n",
        "        if prv_tok_dep == \"compound\":\n",
        "          prefix = prv_tok_text + \" \"+ tok.text\n",
        "      \n",
        "\n",
        "      if tok.dep_.endswith(\"mod\") == True:\n",
        "        modifier = tok.text\n",
        "\n",
        "        if prv_tok_dep == \"compound\":\n",
        "          modifier = prv_tok_text + \" \"+ tok.text\n",
        "      \n",
        "      if tok.dep_.find(\"subj\") == True:\n",
        "        ent1 = modifier +\" \"+ prefix + \" \"+ tok.text\n",
        "        prefix = \"\"\n",
        "        modifier = \"\"\n",
        "        prv_tok_dep = \"\"\n",
        "        prv_tok_text = \"\"      \n",
        "\n",
        "      if tok.dep_.find(\"obj\") == True:\n",
        "        ent2 = modifier +\" \"+ prefix +\" \"+ tok.text\n",
        "        \n",
        "      prv_tok_dep = tok.dep_\n",
        "      prv_tok_text = tok.text\n",
        "\n",
        "  return [ent1.strip(), ent2.strip()]\n",
        "\n",
        "\n",
        "def get_relation(sent):\n",
        "\n",
        "  doc = nlp(sent)\n",
        "\n",
        "  matcher = Matcher(nlp.vocab)\n",
        "\n",
        "  pattern = [{'DEP':'ROOT'}, \n",
        "            {'DEP':'prep','OP':\"?\"},\n",
        "            {'DEP':'agent','OP':\"?\"},  \n",
        "            {'POS':'ADJ','OP':\"?\"}] \n",
        "\n",
        "  matcher.add(\"matching_1\", None, pattern) \n",
        "\n",
        "  matches = matcher(doc)\n",
        "  k = len(matches) - 1\n",
        "\n",
        "  print(k, len(doc))\n",
        "  if len(doc) > k and k > 0:\n",
        "    span = doc[matches[k][1]:matches[k][2]] \n",
        "    return(span.text)\n",
        "  else:\n",
        "    return ''\n",
        "\n",
        "def get_relations(sentences):\n",
        "    relations = [get_relation(i) for i in sentences]\n",
        "    return relations\n",
        "\n",
        "\n",
        "def get_er(story):\n",
        "    sentences = story.split(\".\")\n",
        "    entity_pairs = get_entity_pairs(sentences)\n",
        "    relations = get_relations(sentences)\n",
        "    sequence = \"\"\n",
        "    for i in range(len(entity_pairs)):\n",
        "        if relations[i] != '':\n",
        "            sequence += entity_pairs[i][0] + ' '\n",
        "            sequence += relations[i] + ' '\n",
        "            sequence += entity_pairs[i][1] + ' '\n",
        "    return sequence"
      ],
      "metadata": {
        "colab": {
          "base_uri": "https://localhost:8080/"
        },
        "id": "VVJgf4aiPMEY",
        "outputId": "0b566567-c654-4c88-b857-66fbc21ea8e4"
      },
      "execution_count": 123,
      "outputs": [
        {
          "output_type": "stream",
          "name": "stdout",
          "text": [
            "[nltk_data] Downloading package punkt to /root/nltk_data...\n",
            "[nltk_data]   Package punkt is already up-to-date!\n"
          ]
        }
      ]
    },
    {
      "cell_type": "code",
      "source": [
        ""
      ],
      "metadata": {
        "id": "haSkjIpH3bw8"
      },
      "execution_count": null,
      "outputs": []
    }
  ]
}