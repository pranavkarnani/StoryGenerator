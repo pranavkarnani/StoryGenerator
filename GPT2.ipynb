{
  "nbformat": 4,
  "nbformat_minor": 0,
  "metadata": {
    "colab": {
      "name": "GPT2.ipynb",
      "provenance": [],
      "machine_shape": "hm",
      "background_execution": "on",
      "include_colab_link": true
    },
    "kernelspec": {
      "name": "python3",
      "display_name": "Python 3"
    },
    "language_info": {
      "name": "python"
    },
    "accelerator": "GPU",
    "widgets": {
      "application/vnd.jupyter.widget-state+json": {
        "5452b98dfa414e57a2dd9e6e9a104e71": {
          "model_module": "@jupyter-widgets/controls",
          "model_name": "HBoxModel",
          "model_module_version": "1.5.0",
          "state": {
            "_dom_classes": [],
            "_model_module": "@jupyter-widgets/controls",
            "_model_module_version": "1.5.0",
            "_model_name": "HBoxModel",
            "_view_count": null,
            "_view_module": "@jupyter-widgets/controls",
            "_view_module_version": "1.5.0",
            "_view_name": "HBoxView",
            "box_style": "",
            "children": [
              "IPY_MODEL_ccd4c7ea77004518b5bcf85ff0a6c671",
              "IPY_MODEL_bcadba1276724d71aeaf50c57055a50b",
              "IPY_MODEL_064a647ba5064256be440f0b32bd5398"
            ],
            "layout": "IPY_MODEL_35ff4d08445a4fffa769a1fd4ae10662"
          }
        },
        "ccd4c7ea77004518b5bcf85ff0a6c671": {
          "model_module": "@jupyter-widgets/controls",
          "model_name": "HTMLModel",
          "model_module_version": "1.5.0",
          "state": {
            "_dom_classes": [],
            "_model_module": "@jupyter-widgets/controls",
            "_model_module_version": "1.5.0",
            "_model_name": "HTMLModel",
            "_view_count": null,
            "_view_module": "@jupyter-widgets/controls",
            "_view_module_version": "1.5.0",
            "_view_name": "HTMLView",
            "description": "",
            "description_tooltip": null,
            "layout": "IPY_MODEL_f4a854c5f34047b6adb8508bde07a017",
            "placeholder": "​",
            "style": "IPY_MODEL_875cf451d921474d8c8e327f9ad6d97e",
            "value": "100%"
          }
        },
        "bcadba1276724d71aeaf50c57055a50b": {
          "model_module": "@jupyter-widgets/controls",
          "model_name": "FloatProgressModel",
          "model_module_version": "1.5.0",
          "state": {
            "_dom_classes": [],
            "_model_module": "@jupyter-widgets/controls",
            "_model_module_version": "1.5.0",
            "_model_name": "FloatProgressModel",
            "_view_count": null,
            "_view_module": "@jupyter-widgets/controls",
            "_view_module_version": "1.5.0",
            "_view_name": "ProgressView",
            "bar_style": "success",
            "description": "",
            "description_tooltip": null,
            "layout": "IPY_MODEL_3339c74940774e7eb369e6565cb185a6",
            "max": 40001,
            "min": 0,
            "orientation": "horizontal",
            "style": "IPY_MODEL_26f616a47a7d47139df9700d79b457b6",
            "value": 40001
          }
        },
        "064a647ba5064256be440f0b32bd5398": {
          "model_module": "@jupyter-widgets/controls",
          "model_name": "HTMLModel",
          "model_module_version": "1.5.0",
          "state": {
            "_dom_classes": [],
            "_model_module": "@jupyter-widgets/controls",
            "_model_module_version": "1.5.0",
            "_model_name": "HTMLModel",
            "_view_count": null,
            "_view_module": "@jupyter-widgets/controls",
            "_view_module_version": "1.5.0",
            "_view_name": "HTMLView",
            "description": "",
            "description_tooltip": null,
            "layout": "IPY_MODEL_3aca50fc589e4cbd8f4d3b36b81cf150",
            "placeholder": "​",
            "style": "IPY_MODEL_3e8c3c5665d74e478a7bc92b0fe1364b",
            "value": " 40001/40001 [03:55&lt;00:00, 210.12it/s]"
          }
        },
        "35ff4d08445a4fffa769a1fd4ae10662": {
          "model_module": "@jupyter-widgets/base",
          "model_name": "LayoutModel",
          "model_module_version": "1.2.0",
          "state": {
            "_model_module": "@jupyter-widgets/base",
            "_model_module_version": "1.2.0",
            "_model_name": "LayoutModel",
            "_view_count": null,
            "_view_module": "@jupyter-widgets/base",
            "_view_module_version": "1.2.0",
            "_view_name": "LayoutView",
            "align_content": null,
            "align_items": null,
            "align_self": null,
            "border": null,
            "bottom": null,
            "display": null,
            "flex": null,
            "flex_flow": null,
            "grid_area": null,
            "grid_auto_columns": null,
            "grid_auto_flow": null,
            "grid_auto_rows": null,
            "grid_column": null,
            "grid_gap": null,
            "grid_row": null,
            "grid_template_areas": null,
            "grid_template_columns": null,
            "grid_template_rows": null,
            "height": null,
            "justify_content": null,
            "justify_items": null,
            "left": null,
            "margin": null,
            "max_height": null,
            "max_width": null,
            "min_height": null,
            "min_width": null,
            "object_fit": null,
            "object_position": null,
            "order": null,
            "overflow": null,
            "overflow_x": null,
            "overflow_y": null,
            "padding": null,
            "right": null,
            "top": null,
            "visibility": null,
            "width": null
          }
        },
        "f4a854c5f34047b6adb8508bde07a017": {
          "model_module": "@jupyter-widgets/base",
          "model_name": "LayoutModel",
          "model_module_version": "1.2.0",
          "state": {
            "_model_module": "@jupyter-widgets/base",
            "_model_module_version": "1.2.0",
            "_model_name": "LayoutModel",
            "_view_count": null,
            "_view_module": "@jupyter-widgets/base",
            "_view_module_version": "1.2.0",
            "_view_name": "LayoutView",
            "align_content": null,
            "align_items": null,
            "align_self": null,
            "border": null,
            "bottom": null,
            "display": null,
            "flex": null,
            "flex_flow": null,
            "grid_area": null,
            "grid_auto_columns": null,
            "grid_auto_flow": null,
            "grid_auto_rows": null,
            "grid_column": null,
            "grid_gap": null,
            "grid_row": null,
            "grid_template_areas": null,
            "grid_template_columns": null,
            "grid_template_rows": null,
            "height": null,
            "justify_content": null,
            "justify_items": null,
            "left": null,
            "margin": null,
            "max_height": null,
            "max_width": null,
            "min_height": null,
            "min_width": null,
            "object_fit": null,
            "object_position": null,
            "order": null,
            "overflow": null,
            "overflow_x": null,
            "overflow_y": null,
            "padding": null,
            "right": null,
            "top": null,
            "visibility": null,
            "width": null
          }
        },
        "875cf451d921474d8c8e327f9ad6d97e": {
          "model_module": "@jupyter-widgets/controls",
          "model_name": "DescriptionStyleModel",
          "model_module_version": "1.5.0",
          "state": {
            "_model_module": "@jupyter-widgets/controls",
            "_model_module_version": "1.5.0",
            "_model_name": "DescriptionStyleModel",
            "_view_count": null,
            "_view_module": "@jupyter-widgets/base",
            "_view_module_version": "1.2.0",
            "_view_name": "StyleView",
            "description_width": ""
          }
        },
        "3339c74940774e7eb369e6565cb185a6": {
          "model_module": "@jupyter-widgets/base",
          "model_name": "LayoutModel",
          "model_module_version": "1.2.0",
          "state": {
            "_model_module": "@jupyter-widgets/base",
            "_model_module_version": "1.2.0",
            "_model_name": "LayoutModel",
            "_view_count": null,
            "_view_module": "@jupyter-widgets/base",
            "_view_module_version": "1.2.0",
            "_view_name": "LayoutView",
            "align_content": null,
            "align_items": null,
            "align_self": null,
            "border": null,
            "bottom": null,
            "display": null,
            "flex": null,
            "flex_flow": null,
            "grid_area": null,
            "grid_auto_columns": null,
            "grid_auto_flow": null,
            "grid_auto_rows": null,
            "grid_column": null,
            "grid_gap": null,
            "grid_row": null,
            "grid_template_areas": null,
            "grid_template_columns": null,
            "grid_template_rows": null,
            "height": null,
            "justify_content": null,
            "justify_items": null,
            "left": null,
            "margin": null,
            "max_height": null,
            "max_width": null,
            "min_height": null,
            "min_width": null,
            "object_fit": null,
            "object_position": null,
            "order": null,
            "overflow": null,
            "overflow_x": null,
            "overflow_y": null,
            "padding": null,
            "right": null,
            "top": null,
            "visibility": null,
            "width": null
          }
        },
        "26f616a47a7d47139df9700d79b457b6": {
          "model_module": "@jupyter-widgets/controls",
          "model_name": "ProgressStyleModel",
          "model_module_version": "1.5.0",
          "state": {
            "_model_module": "@jupyter-widgets/controls",
            "_model_module_version": "1.5.0",
            "_model_name": "ProgressStyleModel",
            "_view_count": null,
            "_view_module": "@jupyter-widgets/base",
            "_view_module_version": "1.2.0",
            "_view_name": "StyleView",
            "bar_color": null,
            "description_width": ""
          }
        },
        "3aca50fc589e4cbd8f4d3b36b81cf150": {
          "model_module": "@jupyter-widgets/base",
          "model_name": "LayoutModel",
          "model_module_version": "1.2.0",
          "state": {
            "_model_module": "@jupyter-widgets/base",
            "_model_module_version": "1.2.0",
            "_model_name": "LayoutModel",
            "_view_count": null,
            "_view_module": "@jupyter-widgets/base",
            "_view_module_version": "1.2.0",
            "_view_name": "LayoutView",
            "align_content": null,
            "align_items": null,
            "align_self": null,
            "border": null,
            "bottom": null,
            "display": null,
            "flex": null,
            "flex_flow": null,
            "grid_area": null,
            "grid_auto_columns": null,
            "grid_auto_flow": null,
            "grid_auto_rows": null,
            "grid_column": null,
            "grid_gap": null,
            "grid_row": null,
            "grid_template_areas": null,
            "grid_template_columns": null,
            "grid_template_rows": null,
            "height": null,
            "justify_content": null,
            "justify_items": null,
            "left": null,
            "margin": null,
            "max_height": null,
            "max_width": null,
            "min_height": null,
            "min_width": null,
            "object_fit": null,
            "object_position": null,
            "order": null,
            "overflow": null,
            "overflow_x": null,
            "overflow_y": null,
            "padding": null,
            "right": null,
            "top": null,
            "visibility": null,
            "width": null
          }
        },
        "3e8c3c5665d74e478a7bc92b0fe1364b": {
          "model_module": "@jupyter-widgets/controls",
          "model_name": "DescriptionStyleModel",
          "model_module_version": "1.5.0",
          "state": {
            "_model_module": "@jupyter-widgets/controls",
            "_model_module_version": "1.5.0",
            "_model_name": "DescriptionStyleModel",
            "_view_count": null,
            "_view_module": "@jupyter-widgets/base",
            "_view_module_version": "1.2.0",
            "_view_name": "StyleView",
            "description_width": ""
          }
        },
        "cb1b9053890f4192a6a36810b38665c6": {
          "model_module": "@jupyter-widgets/controls",
          "model_name": "HBoxModel",
          "model_module_version": "1.5.0",
          "state": {
            "_dom_classes": [],
            "_model_module": "@jupyter-widgets/controls",
            "_model_module_version": "1.5.0",
            "_model_name": "HBoxModel",
            "_view_count": null,
            "_view_module": "@jupyter-widgets/controls",
            "_view_module_version": "1.5.0",
            "_view_name": "HBoxView",
            "box_style": "",
            "children": [
              "IPY_MODEL_44c7aa3ec91348e4a8f183dcd10b5b2d",
              "IPY_MODEL_44a1f74f7e0e4b1fbcd9398c36046600",
              "IPY_MODEL_71b87735cf7c41d9b77b2cf5e1187de7"
            ],
            "layout": "IPY_MODEL_e73f71d476c14fd5bd50f2acaae19f22"
          }
        },
        "44c7aa3ec91348e4a8f183dcd10b5b2d": {
          "model_module": "@jupyter-widgets/controls",
          "model_name": "HTMLModel",
          "model_module_version": "1.5.0",
          "state": {
            "_dom_classes": [],
            "_model_module": "@jupyter-widgets/controls",
            "_model_module_version": "1.5.0",
            "_model_name": "HTMLModel",
            "_view_count": null,
            "_view_module": "@jupyter-widgets/controls",
            "_view_module_version": "1.5.0",
            "_view_name": "HTMLView",
            "description": "",
            "description_tooltip": null,
            "layout": "IPY_MODEL_d7c21e8f40be4bae83db9becf955f339",
            "placeholder": "​",
            "style": "IPY_MODEL_6539b361931645ad99a8312a65cfb1fc",
            "value": " 70%"
          }
        },
        "44a1f74f7e0e4b1fbcd9398c36046600": {
          "model_module": "@jupyter-widgets/controls",
          "model_name": "FloatProgressModel",
          "model_module_version": "1.5.0",
          "state": {
            "_dom_classes": [],
            "_model_module": "@jupyter-widgets/controls",
            "_model_module_version": "1.5.0",
            "_model_name": "FloatProgressModel",
            "_view_count": null,
            "_view_module": "@jupyter-widgets/controls",
            "_view_module_version": "1.5.0",
            "_view_name": "ProgressView",
            "bar_style": "",
            "description": "",
            "description_tooltip": null,
            "layout": "IPY_MODEL_1471b7ed07604b3bb4abbae7c748ccfa",
            "max": 32000,
            "min": 0,
            "orientation": "horizontal",
            "style": "IPY_MODEL_0b93f118f0de49fc889b45e1034f49c7",
            "value": 22373
          }
        },
        "71b87735cf7c41d9b77b2cf5e1187de7": {
          "model_module": "@jupyter-widgets/controls",
          "model_name": "HTMLModel",
          "model_module_version": "1.5.0",
          "state": {
            "_dom_classes": [],
            "_model_module": "@jupyter-widgets/controls",
            "_model_module_version": "1.5.0",
            "_model_name": "HTMLModel",
            "_view_count": null,
            "_view_module": "@jupyter-widgets/controls",
            "_view_module_version": "1.5.0",
            "_view_name": "HTMLView",
            "description": "",
            "description_tooltip": null,
            "layout": "IPY_MODEL_502c0319bd644fddba0a3ba28c9e0d35",
            "placeholder": "​",
            "style": "IPY_MODEL_1a14674a8ceb4f8fb7a6513a5168418d",
            "value": " 22372/32000 [7:41:58&lt;2:59:47,  1.12s/it]"
          }
        },
        "e73f71d476c14fd5bd50f2acaae19f22": {
          "model_module": "@jupyter-widgets/base",
          "model_name": "LayoutModel",
          "model_module_version": "1.2.0",
          "state": {
            "_model_module": "@jupyter-widgets/base",
            "_model_module_version": "1.2.0",
            "_model_name": "LayoutModel",
            "_view_count": null,
            "_view_module": "@jupyter-widgets/base",
            "_view_module_version": "1.2.0",
            "_view_name": "LayoutView",
            "align_content": null,
            "align_items": null,
            "align_self": null,
            "border": null,
            "bottom": null,
            "display": null,
            "flex": null,
            "flex_flow": null,
            "grid_area": null,
            "grid_auto_columns": null,
            "grid_auto_flow": null,
            "grid_auto_rows": null,
            "grid_column": null,
            "grid_gap": null,
            "grid_row": null,
            "grid_template_areas": null,
            "grid_template_columns": null,
            "grid_template_rows": null,
            "height": null,
            "justify_content": null,
            "justify_items": null,
            "left": null,
            "margin": null,
            "max_height": null,
            "max_width": null,
            "min_height": null,
            "min_width": null,
            "object_fit": null,
            "object_position": null,
            "order": null,
            "overflow": null,
            "overflow_x": null,
            "overflow_y": null,
            "padding": null,
            "right": null,
            "top": null,
            "visibility": null,
            "width": null
          }
        },
        "d7c21e8f40be4bae83db9becf955f339": {
          "model_module": "@jupyter-widgets/base",
          "model_name": "LayoutModel",
          "model_module_version": "1.2.0",
          "state": {
            "_model_module": "@jupyter-widgets/base",
            "_model_module_version": "1.2.0",
            "_model_name": "LayoutModel",
            "_view_count": null,
            "_view_module": "@jupyter-widgets/base",
            "_view_module_version": "1.2.0",
            "_view_name": "LayoutView",
            "align_content": null,
            "align_items": null,
            "align_self": null,
            "border": null,
            "bottom": null,
            "display": null,
            "flex": null,
            "flex_flow": null,
            "grid_area": null,
            "grid_auto_columns": null,
            "grid_auto_flow": null,
            "grid_auto_rows": null,
            "grid_column": null,
            "grid_gap": null,
            "grid_row": null,
            "grid_template_areas": null,
            "grid_template_columns": null,
            "grid_template_rows": null,
            "height": null,
            "justify_content": null,
            "justify_items": null,
            "left": null,
            "margin": null,
            "max_height": null,
            "max_width": null,
            "min_height": null,
            "min_width": null,
            "object_fit": null,
            "object_position": null,
            "order": null,
            "overflow": null,
            "overflow_x": null,
            "overflow_y": null,
            "padding": null,
            "right": null,
            "top": null,
            "visibility": null,
            "width": null
          }
        },
        "6539b361931645ad99a8312a65cfb1fc": {
          "model_module": "@jupyter-widgets/controls",
          "model_name": "DescriptionStyleModel",
          "model_module_version": "1.5.0",
          "state": {
            "_model_module": "@jupyter-widgets/controls",
            "_model_module_version": "1.5.0",
            "_model_name": "DescriptionStyleModel",
            "_view_count": null,
            "_view_module": "@jupyter-widgets/base",
            "_view_module_version": "1.2.0",
            "_view_name": "StyleView",
            "description_width": ""
          }
        },
        "1471b7ed07604b3bb4abbae7c748ccfa": {
          "model_module": "@jupyter-widgets/base",
          "model_name": "LayoutModel",
          "model_module_version": "1.2.0",
          "state": {
            "_model_module": "@jupyter-widgets/base",
            "_model_module_version": "1.2.0",
            "_model_name": "LayoutModel",
            "_view_count": null,
            "_view_module": "@jupyter-widgets/base",
            "_view_module_version": "1.2.0",
            "_view_name": "LayoutView",
            "align_content": null,
            "align_items": null,
            "align_self": null,
            "border": null,
            "bottom": null,
            "display": null,
            "flex": null,
            "flex_flow": null,
            "grid_area": null,
            "grid_auto_columns": null,
            "grid_auto_flow": null,
            "grid_auto_rows": null,
            "grid_column": null,
            "grid_gap": null,
            "grid_row": null,
            "grid_template_areas": null,
            "grid_template_columns": null,
            "grid_template_rows": null,
            "height": null,
            "justify_content": null,
            "justify_items": null,
            "left": null,
            "margin": null,
            "max_height": null,
            "max_width": null,
            "min_height": null,
            "min_width": null,
            "object_fit": null,
            "object_position": null,
            "order": null,
            "overflow": null,
            "overflow_x": null,
            "overflow_y": null,
            "padding": null,
            "right": null,
            "top": null,
            "visibility": null,
            "width": null
          }
        },
        "0b93f118f0de49fc889b45e1034f49c7": {
          "model_module": "@jupyter-widgets/controls",
          "model_name": "ProgressStyleModel",
          "model_module_version": "1.5.0",
          "state": {
            "_model_module": "@jupyter-widgets/controls",
            "_model_module_version": "1.5.0",
            "_model_name": "ProgressStyleModel",
            "_view_count": null,
            "_view_module": "@jupyter-widgets/base",
            "_view_module_version": "1.2.0",
            "_view_name": "StyleView",
            "bar_color": null,
            "description_width": ""
          }
        },
        "502c0319bd644fddba0a3ba28c9e0d35": {
          "model_module": "@jupyter-widgets/base",
          "model_name": "LayoutModel",
          "model_module_version": "1.2.0",
          "state": {
            "_model_module": "@jupyter-widgets/base",
            "_model_module_version": "1.2.0",
            "_model_name": "LayoutModel",
            "_view_count": null,
            "_view_module": "@jupyter-widgets/base",
            "_view_module_version": "1.2.0",
            "_view_name": "LayoutView",
            "align_content": null,
            "align_items": null,
            "align_self": null,
            "border": null,
            "bottom": null,
            "display": null,
            "flex": null,
            "flex_flow": null,
            "grid_area": null,
            "grid_auto_columns": null,
            "grid_auto_flow": null,
            "grid_auto_rows": null,
            "grid_column": null,
            "grid_gap": null,
            "grid_row": null,
            "grid_template_areas": null,
            "grid_template_columns": null,
            "grid_template_rows": null,
            "height": null,
            "justify_content": null,
            "justify_items": null,
            "left": null,
            "margin": null,
            "max_height": null,
            "max_width": null,
            "min_height": null,
            "min_width": null,
            "object_fit": null,
            "object_position": null,
            "order": null,
            "overflow": null,
            "overflow_x": null,
            "overflow_y": null,
            "padding": null,
            "right": null,
            "top": null,
            "visibility": null,
            "width": null
          }
        },
        "1a14674a8ceb4f8fb7a6513a5168418d": {
          "model_module": "@jupyter-widgets/controls",
          "model_name": "DescriptionStyleModel",
          "model_module_version": "1.5.0",
          "state": {
            "_model_module": "@jupyter-widgets/controls",
            "_model_module_version": "1.5.0",
            "_model_name": "DescriptionStyleModel",
            "_view_count": null,
            "_view_module": "@jupyter-widgets/base",
            "_view_module_version": "1.2.0",
            "_view_name": "StyleView",
            "description_width": ""
          }
        }
      }
    }
  },
  "cells": [
    {
      "cell_type": "markdown",
      "metadata": {
        "id": "view-in-github",
        "colab_type": "text"
      },
      "source": [
        "<a href=\"https://colab.research.google.com/github/pranavkarnani/StoryGenerator/blob/pranav/GPT2.ipynb\" target=\"_parent\"><img src=\"https://colab.research.google.com/assets/colab-badge.svg\" alt=\"Open In Colab\"/></a>"
      ]
    },
    {
      "cell_type": "code",
      "source": [
        "from google.colab import drive\n",
        "drive.mount('/content/drive')"
      ],
      "metadata": {
        "id": "5KREO24oOZFy"
      },
      "execution_count": null,
      "outputs": []
    },
    {
      "cell_type": "code",
      "source": [
        "! pip install transformers"
      ],
      "metadata": {
        "colab": {
          "base_uri": "https://localhost:8080/"
        },
        "id": "otcuzrGa_DPu",
        "outputId": "559c812a-6404-472b-be34-e85893c351c1"
      },
      "execution_count": 1,
      "outputs": [
        {
          "output_type": "stream",
          "name": "stdout",
          "text": [
            "Requirement already satisfied: transformers in /usr/local/lib/python3.7/dist-packages (4.18.0)\n",
            "Requirement already satisfied: tqdm>=4.27 in /usr/local/lib/python3.7/dist-packages (from transformers) (4.64.0)\n",
            "Requirement already satisfied: huggingface-hub<1.0,>=0.1.0 in /usr/local/lib/python3.7/dist-packages (from transformers) (0.5.1)\n",
            "Requirement already satisfied: filelock in /usr/local/lib/python3.7/dist-packages (from transformers) (3.6.0)\n",
            "Requirement already satisfied: regex!=2019.12.17 in /usr/local/lib/python3.7/dist-packages (from transformers) (2019.12.20)\n",
            "Requirement already satisfied: pyyaml>=5.1 in /usr/local/lib/python3.7/dist-packages (from transformers) (6.0)\n",
            "Requirement already satisfied: numpy>=1.17 in /usr/local/lib/python3.7/dist-packages (from transformers) (1.21.6)\n",
            "Requirement already satisfied: tokenizers!=0.11.3,<0.13,>=0.11.1 in /usr/local/lib/python3.7/dist-packages (from transformers) (0.12.1)\n",
            "Requirement already satisfied: packaging>=20.0 in /usr/local/lib/python3.7/dist-packages (from transformers) (21.3)\n",
            "Requirement already satisfied: importlib-metadata in /usr/local/lib/python3.7/dist-packages (from transformers) (4.11.3)\n",
            "Requirement already satisfied: sacremoses in /usr/local/lib/python3.7/dist-packages (from transformers) (0.0.49)\n",
            "Requirement already satisfied: requests in /usr/local/lib/python3.7/dist-packages (from transformers) (2.23.0)\n",
            "Requirement already satisfied: typing-extensions>=3.7.4.3 in /usr/local/lib/python3.7/dist-packages (from huggingface-hub<1.0,>=0.1.0->transformers) (4.1.1)\n",
            "Requirement already satisfied: pyparsing!=3.0.5,>=2.0.2 in /usr/local/lib/python3.7/dist-packages (from packaging>=20.0->transformers) (3.0.8)\n",
            "Requirement already satisfied: zipp>=0.5 in /usr/local/lib/python3.7/dist-packages (from importlib-metadata->transformers) (3.8.0)\n",
            "Requirement already satisfied: certifi>=2017.4.17 in /usr/local/lib/python3.7/dist-packages (from requests->transformers) (2021.10.8)\n",
            "Requirement already satisfied: idna<3,>=2.5 in /usr/local/lib/python3.7/dist-packages (from requests->transformers) (2.10)\n",
            "Requirement already satisfied: urllib3!=1.25.0,!=1.25.1,<1.26,>=1.21.1 in /usr/local/lib/python3.7/dist-packages (from requests->transformers) (1.24.3)\n",
            "Requirement already satisfied: chardet<4,>=3.0.2 in /usr/local/lib/python3.7/dist-packages (from requests->transformers) (3.0.4)\n",
            "Requirement already satisfied: six in /usr/local/lib/python3.7/dist-packages (from sacremoses->transformers) (1.15.0)\n",
            "Requirement already satisfied: joblib in /usr/local/lib/python3.7/dist-packages (from sacremoses->transformers) (1.1.0)\n",
            "Requirement already satisfied: click in /usr/local/lib/python3.7/dist-packages (from sacremoses->transformers) (7.1.2)\n"
          ]
        }
      ]
    },
    {
      "cell_type": "code",
      "source": [
        "from transformers import GPT2LMHeadModel, GPT2Tokenizer\n",
        "import numpy as np\n",
        "import random\n",
        "import torch\n",
        "from torch.utils.data import Dataset, DataLoader\n",
        "from transformers import GPT2Tokenizer, GPT2LMHeadModel, AdamW, get_linear_schedule_with_warmup\n",
        "import torch.nn.functional as F\n",
        "import torch.nn as nn\n",
        "import csv"
      ],
      "metadata": {
        "id": "fX3OzD4x5aWM"
      },
      "execution_count": 2,
      "outputs": []
    },
    {
      "cell_type": "code",
      "source": [
        "import pandas as pd\n",
        "import torch\n",
        "from transformers import GPT2Tokenizer, GPT2LMHeadModel, GPT2Config, AdamW, get_linear_schedule_with_warmup\n",
        "from torch.utils.data import Dataset, random_split, DataLoader, RandomSampler, SequentialSampler"
      ],
      "metadata": {
        "id": "la1QjLYotub0"
      },
      "execution_count": 3,
      "outputs": []
    },
    {
      "cell_type": "code",
      "source": [
        "from tqdm.auto import tqdm"
      ],
      "metadata": {
        "id": "-5MmNRCIDmCD"
      },
      "execution_count": 4,
      "outputs": []
    },
    {
      "cell_type": "code",
      "source": [
        "device = 'cpu'\n",
        "if torch.cuda.is_available():\n",
        "    device = 'cuda'\n",
        "\n",
        "tokenizer = GPT2Tokenizer.from_pretrained('gpt2')"
      ],
      "metadata": {
        "id": "R35k7TJzAjkT"
      },
      "execution_count": 5,
      "outputs": []
    },
    {
      "cell_type": "code",
      "source": [
        "RANDOM_SEED = 73\n",
        "BATCH_SIZE = 1\n",
        "\n",
        "EPOCHS = 4\n",
        "SAMPLE_EVERY = 100\n",
        "\n",
        "MAX_INPUT_SEQUENCE_LENGTH = 600"
      ],
      "metadata": {
        "id": "dxR6Jl7SMDjh"
      },
      "execution_count": 6,
      "outputs": []
    },
    {
      "cell_type": "code",
      "source": [
        "tokenizer = GPT2Tokenizer.from_pretrained('gpt2')\n",
        "\n",
        "special_tokens_dict = {'bos_token': '<BOS>', 'eos_token': '<EOS>', 'pad_token': '<PAD>', 'sep_token': '<SEP>'}\n",
        "num_added_tokens = tokenizer.add_special_tokens(special_tokens_dict)"
      ],
      "metadata": {
        "id": "Z9yFEujlNTJW"
      },
      "execution_count": 7,
      "outputs": []
    },
    {
      "cell_type": "code",
      "source": [
        "data = pd.read_csv(\"/content/drive/MyDrive/refined.csv\")"
      ],
      "metadata": {
        "id": "oWoEygXaoaRW"
      },
      "execution_count": 8,
      "outputs": []
    },
    {
      "cell_type": "code",
      "source": [
        "# data = data.dropna()\n",
        "# data.to_csv('refined.csv')"
      ],
      "metadata": {
        "id": "hj6-xJ9ZodY6"
      },
      "execution_count": 9,
      "outputs": []
    },
    {
      "cell_type": "code",
      "source": [
        "len(tokenizer)"
      ],
      "metadata": {
        "colab": {
          "base_uri": "https://localhost:8080/"
        },
        "id": "BeycgWHn78YA",
        "outputId": "754ff8b5-f30a-45fe-9176-64c35e47010e"
      },
      "execution_count": 10,
      "outputs": [
        {
          "output_type": "execute_result",
          "data": {
            "text/plain": [
              "50261"
            ]
          },
          "metadata": {},
          "execution_count": 10
        }
      ]
    },
    {
      "cell_type": "code",
      "source": [
        "class StoryOutlineDataset(Dataset):\n",
        "\n",
        "    def __init__(self, data, tokenizer, max_input_length):\n",
        "\n",
        "        self.tokenizer = tokenizer\n",
        "        self.input_ids = []\n",
        "        self.attn_masks = []\n",
        "        self.labels = []\n",
        "        self.data = data\n",
        "\n",
        "        for i in tqdm(range(len(self.data))):\n",
        "            text = self.data.loc[i, 'text']\n",
        "            outline = self.data.loc[i, 'storyline']\n",
        "\n",
        "            encodings_dict_story = tokenizer('<BOS> ' + text + ' <EOS>',\n",
        "                                     truncation=True,\n",
        "                                     max_length=max_input_length,\n",
        "                                     padding='max_length'\n",
        "                                    )\n",
        "            \n",
        "            encodings_dict_outline = tokenizer('<BOS> ' + outline + ' <EOS>',\n",
        "                                     truncation=True,\n",
        "                                     max_length=max_input_length,\n",
        "                                     padding='max_length'\n",
        "                                    )\n",
        "\n",
        "            self.input_ids.append(torch.tensor(encodings_dict_outline['input_ids']))\n",
        "            self.attn_masks.append(torch.tensor(encodings_dict_outline['attention_mask']))\n",
        "            self.labels.append(torch.tensor(encodings_dict_story['input_ids']))\n",
        "\n",
        "    def __len__(self):\n",
        "        return len(self.data)\n",
        "\n",
        "    def __getitem__(self, ind):\n",
        "        return self.input_ids[ind], self.attn_masks[ind], self.labels[ind]"
      ],
      "metadata": {
        "id": "8h7-0Lz2OVhx"
      },
      "execution_count": 11,
      "outputs": []
    },
    {
      "cell_type": "code",
      "source": [
        "story_dataset = StoryOutlineDataset(data.loc[0:40000], tokenizer, MAX_INPUT_SEQUENCE_LENGTH)"
      ],
      "metadata": {
        "colab": {
          "base_uri": "https://localhost:8080/",
          "height": 49,
          "referenced_widgets": [
            "5452b98dfa414e57a2dd9e6e9a104e71",
            "ccd4c7ea77004518b5bcf85ff0a6c671",
            "bcadba1276724d71aeaf50c57055a50b",
            "064a647ba5064256be440f0b32bd5398",
            "35ff4d08445a4fffa769a1fd4ae10662",
            "f4a854c5f34047b6adb8508bde07a017",
            "875cf451d921474d8c8e327f9ad6d97e",
            "3339c74940774e7eb369e6565cb185a6",
            "26f616a47a7d47139df9700d79b457b6",
            "3aca50fc589e4cbd8f4d3b36b81cf150",
            "3e8c3c5665d74e478a7bc92b0fe1364b"
          ]
        },
        "id": "Lea6BixqOcuv",
        "outputId": "4404e492-7b2b-4a49-e20e-fba9f8f7b60d"
      },
      "execution_count": 12,
      "outputs": [
        {
          "output_type": "display_data",
          "data": {
            "text/plain": [
              "  0%|          | 0/40001 [00:00<?, ?it/s]"
            ],
            "application/vnd.jupyter.widget-view+json": {
              "version_major": 2,
              "version_minor": 0,
              "model_id": "5452b98dfa414e57a2dd9e6e9a104e71"
            }
          },
          "metadata": {}
        }
      ]
    },
    {
      "cell_type": "code",
      "source": [
        "from torch.utils.data import random_split"
      ],
      "metadata": {
        "id": "v14hnJgQSGpb"
      },
      "execution_count": 13,
      "outputs": []
    },
    {
      "cell_type": "code",
      "source": [
        "def train_val_split(split, dataset):\n",
        "    train_size = int(split * len(dataset))\n",
        "    val_size = len(dataset) - train_size\n",
        "    return train_size, val_size"
      ],
      "metadata": {
        "id": "zU3HmHa6R7q8"
      },
      "execution_count": 14,
      "outputs": []
    },
    {
      "cell_type": "code",
      "source": [
        "train_size, val_size = train_val_split(0.8, story_dataset)\n",
        "train_dataset, val_dataset = random_split(story_dataset, [train_size, val_size])"
      ],
      "metadata": {
        "id": "FQeIzcVwQPqq"
      },
      "execution_count": 15,
      "outputs": []
    },
    {
      "cell_type": "code",
      "source": [
        "torch.cuda.manual_seed_all(RANDOM_SEED)\n",
        "random.seed(RANDOM_SEED)\n",
        "np.random.seed(RANDOM_SEED)\n",
        "torch.manual_seed(RANDOM_SEED)"
      ],
      "metadata": {
        "colab": {
          "base_uri": "https://localhost:8080/"
        },
        "id": "W1RRLycNSwWL",
        "outputId": "be31426b-213f-4c38-a4a8-e3145af95b62"
      },
      "execution_count": 16,
      "outputs": [
        {
          "output_type": "execute_result",
          "data": {
            "text/plain": [
              "<torch._C.Generator at 0x7f899e5a29d0>"
            ]
          },
          "metadata": {},
          "execution_count": 16
        }
      ]
    },
    {
      "cell_type": "code",
      "source": [
        "train_loader = DataLoader(train_dataset, batch_size = BATCH_SIZE, shuffle = True)\n",
        "val_loader = DataLoader(val_dataset, batch_size = BATCH_SIZE, shuffle = True)"
      ],
      "metadata": {
        "id": "FcM1oCXwS0KY"
      },
      "execution_count": 17,
      "outputs": []
    },
    {
      "cell_type": "code",
      "source": [
        "learning_rate = 5e-4\n",
        "eps = 1e-8\n",
        "warmup_steps = 100"
      ],
      "metadata": {
        "id": "UjkTwpc4TNZy"
      },
      "execution_count": 18,
      "outputs": []
    },
    {
      "cell_type": "code",
      "source": [
        "configuration = GPT2Config(vocab_size=len(tokenizer), n_positions = MAX_INPUT_SEQUENCE_LENGTH, \n",
        "                           activation_function = \"gelu_new\", resid_pdrop = 0.1, embd_pdrop = 0.2,\n",
        "                           attn_pdrop = 0.2, eos_token_id = 50256, pad_token_id = 50256)"
      ],
      "metadata": {
        "id": "JcGYg_pnTgYA"
      },
      "execution_count": 19,
      "outputs": []
    },
    {
      "cell_type": "code",
      "source": [
        "model_config = configuration.from_pretrained('gpt2', output_hidden_states=True)"
      ],
      "metadata": {
        "id": "w-0Ex9oQU6Uz"
      },
      "execution_count": 20,
      "outputs": []
    },
    {
      "cell_type": "code",
      "source": [
        "import time\n",
        "import datetime\n",
        "scaler = torch.cuda.amp.GradScaler()"
      ],
      "metadata": {
        "id": "i5pFUrjmVhMH"
      },
      "execution_count": 21,
      "outputs": []
    },
    {
      "cell_type": "code",
      "source": [
        "def format_time(elapsed):\n",
        "    return str(datetime.timedelta(seconds=int(round((elapsed)))))"
      ],
      "metadata": {
        "id": "KR4RqJTTVbEE"
      },
      "execution_count": 22,
      "outputs": []
    },
    {
      "cell_type": "code",
      "source": [
        "model = GPT2LMHeadModel.from_pretrained('gpt2', config=model_config)\n",
        "model.resize_token_embeddings(len(tokenizer))\n",
        "\n",
        "model.cuda()\n",
        "optimizer = AdamW(model.parameters(), lr=learning_rate, eps=eps)\n",
        "\n",
        "total_steps = len(train_loader) * EPOCHS\n",
        "scheduler = get_linear_schedule_with_warmup(optimizer,\n",
        "                                            num_warmup_steps=warmup_steps,\n",
        "                                            num_training_steps=total_steps)"
      ],
      "metadata": {
        "colab": {
          "base_uri": "https://localhost:8080/"
        },
        "id": "SpVtl6i_syjt",
        "outputId": "ca638f2d-4b9d-46dc-b562-8bc0b916c01d"
      },
      "execution_count": 23,
      "outputs": [
        {
          "output_type": "stream",
          "name": "stderr",
          "text": [
            "/usr/local/lib/python3.7/dist-packages/transformers/optimization.py:309: FutureWarning: This implementation of AdamW is deprecated and will be removed in a future version. Use the PyTorch implementation torch.optim.AdamW instead, or set `no_deprecation_warning=True` to disable this warning\n",
            "  FutureWarning,\n"
          ]
        }
      ]
    },
    {
      "cell_type": "code",
      "source": [
        "def format_out_texts(text):\n",
        "    t_map = tokenizer.special_tokens_map\n",
        "    for key in t_map:\n",
        "        text = text.replace(t_map[key], '')\n",
        "    return text\n",
        "\n",
        "def inference(input_id, attn_mask ,tokenizer):\n",
        "    model.eval()\n",
        "\n",
        "    story_ids = model.generate(input_id,\n",
        "                            attention_mask = attn_mask,\n",
        "                            num_beams=20,\n",
        "                            max_length=800,\n",
        "                            temperature=0.9,\n",
        "                            top_k=50,\n",
        "                            do_sample=True)\n",
        "    \n",
        "    raw_stories = [tokenizer.decode(story) for story in story_ids]\n",
        "    output_texts = list(map(format_out_texts, raw_stories))\n",
        "    print(output_texts)\n",
        "    return output_texts"
      ],
      "metadata": {
        "id": "6f_luGaPtXva"
      },
      "execution_count": 24,
      "outputs": []
    },
    {
      "cell_type": "code",
      "source": [
        "import ERLoss\n",
        "from ERLoss import get_er"
      ],
      "metadata": {
        "id": "ZoNS2DrjfGbN",
        "colab": {
          "base_uri": "https://localhost:8080/"
        },
        "outputId": "8926c9b1-7cd3-4869-8203-f227565fbaac"
      },
      "execution_count": 25,
      "outputs": [
        {
          "output_type": "stream",
          "name": "stdout",
          "text": [
            "[nltk_data] Downloading package punkt to /root/nltk_data...\n",
            "[nltk_data]   Package punkt is already up-to-date!\n"
          ]
        }
      ]
    },
    {
      "cell_type": "code",
      "source": [
        "mse_loss = nn.MSELoss()"
      ],
      "metadata": {
        "id": "itbRYkZ4IJaO"
      },
      "execution_count": 26,
      "outputs": []
    },
    {
      "cell_type": "code",
      "source": [
        "def train(train_loader):\n",
        "\n",
        "    total_train_loss = 0\n",
        "\n",
        "    for step, batch in enumerate(tqdm(train_loader)):\n",
        "        \n",
        "        b_input_ids = batch[0].to(device)\n",
        "        b_masks = batch[1].to(device)\n",
        "        b_labels = batch[2].to(device)\n",
        "\n",
        "        model.zero_grad()\n",
        "        model.train()        \n",
        "\n",
        "        with torch.cuda.amp.autocast():\n",
        "            \n",
        "            outputs = model(b_input_ids,\n",
        "                            labels=b_labels, \n",
        "                            attention_mask=b_masks,\n",
        "                            token_type_ids=None)\n",
        "\n",
        "            \n",
        "            loss = outputs[0]\n",
        "            logits = outputs[1]\n",
        "\n",
        "            story_logits = torch.argmax(logits, dim = 2)\n",
        "            \n",
        "            actual_stories = [tokenizer.decode(story) for story in b_labels]\n",
        "            raw_stories = [tokenizer.decode(story) for story in story_logits]\n",
        "\n",
        "\n",
        "        loss1 = 0\n",
        "\n",
        "        for i in range(len(raw_stories)):\n",
        "\n",
        "            er_target = get_er(actual_stories[i])\n",
        "            er_generate = get_er(raw_stories[i])\n",
        "\n",
        "            target = torch.FloatTensor().cuda()\n",
        "            inp = torch.FloatTensor().cuda()\n",
        "\n",
        "            for token in tokenizer.encode(er_target):\n",
        "                target = torch.cat((target, model.transformer.wte.weight[token].unsqueeze(0)), dim = 0)\n",
        "\n",
        "            for token in tokenizer.encode(er_generate):\n",
        "                inp = torch.cat((inp, model.transformer.wte.weight[token].unsqueeze(0)), dim = 0)\n",
        "\n",
        "            if inp.shape[0] < target.shape[0]:\n",
        "                for i in range(target.shape[0] - inp.shape[0]):\n",
        "                    inp = torch.cat((inp, model.transformer.wte.weight[50259].unsqueeze(0)), dim = 0)\n",
        "\n",
        "            else:\n",
        "                for i in range(inp.shape[0] - target.shape[0]):\n",
        "                    target = torch.cat((target, model.transformer.wte.weight[50259].unsqueeze(0)), dim = 0)\n",
        "\n",
        "            loss1 += mse_loss(torch.flatten(inp), torch.flatten(target))\n",
        "\n",
        "        if i == 1:\n",
        "            batch_loss = 0.7*loss + 0.3*loss1\n",
        "        elif i >= 2:\n",
        "            batch_loss = 0.5*loss + 0.5*loss1\n",
        "        else:\n",
        "            batch_loss = loss\n",
        "\n",
        "        total_train_loss += batch_loss\n",
        "\n",
        "        if step % SAMPLE_EVERY == 0 and step != 0:\n",
        "            inference(b_input_ids, b_masks, tokenizer)\n",
        "\n",
        "        scaler.scale(batch_loss).backward() \n",
        "        scaler.step(optimizer) \n",
        "        scaler.update()\n",
        "\n",
        "    avg_train_loss = total_train_loss / len(train_loader)       \n",
        "\n",
        "    print(f'Average Training Loss: {avg_train_loss}.')\n",
        "\n",
        "\n",
        "def validate(val_dataloader, file_name):\n",
        "\n",
        "    model.eval()\n",
        "    total_eval_loss = 0\n",
        "    nb_eval_steps = 0\n",
        "\n",
        "    for batch in val_dataloader:\n",
        "        b_input_ids = batch[0].to(device)\n",
        "        b_masks = batch[1].to(device)\n",
        "        b_labels = batch[2].to(device)\n",
        "\n",
        "        with torch.no_grad():        \n",
        "\n",
        "            outputs  = model(b_input_ids,  \n",
        "                                attention_mask=b_masks,\n",
        "                                labels=b_labels)\n",
        "\n",
        "            loss = outputs[0]\n",
        "\n",
        "        batch_loss = loss.item()\n",
        "        total_eval_loss += batch_loss        \n",
        "\n",
        "    avg_val_loss = total_eval_loss / len(val_dataloader)\n",
        "\n",
        "    print(f'Validation loss: {avg_val_loss}.')\n",
        "    torch.save(model.state_dict(), '/content/' + file_name)\n",
        "    return model"
      ],
      "metadata": {
        "id": "2ZWk7_WDVNsr"
      },
      "execution_count": 27,
      "outputs": []
    },
    {
      "cell_type": "code",
      "source": [
        "!python -m spacy info"
      ],
      "metadata": {
        "id": "ut3Wsy2lh3jc",
        "outputId": "5dc29aa5-2a71-4417-a1ee-8e91afc21504",
        "colab": {
          "base_uri": "https://localhost:8080/"
        }
      },
      "execution_count": 1,
      "outputs": [
        {
          "output_type": "stream",
          "name": "stdout",
          "text": [
            "\u001b[1m\n",
            "============================== Info about spaCy ==============================\u001b[0m\n",
            "\n",
            "spaCy version    2.2.4                         \n",
            "Location         /usr/local/lib/python3.7/dist-packages/spacy\n",
            "Platform         Linux-5.4.144+-x86_64-with-Ubuntu-18.04-bionic\n",
            "Python version   3.7.13                        \n",
            "Models           en                            \n",
            "\n"
          ]
        }
      ]
    },
    {
      "cell_type": "code",
      "source": [
        "for epoch_i in range(0, EPOCHS):\n",
        "    print(f'Epoch {epoch_i + 1} of {EPOCHS}')\n",
        "    train(train_loader)\n",
        "    validate(val_loader, 'model.pth')"
      ],
      "metadata": {
        "colab": {
          "base_uri": "https://localhost:8080/",
          "height": 1000,
          "referenced_widgets": [
            "cb1b9053890f4192a6a36810b38665c6",
            "44c7aa3ec91348e4a8f183dcd10b5b2d",
            "44a1f74f7e0e4b1fbcd9398c36046600",
            "71b87735cf7c41d9b77b2cf5e1187de7",
            "e73f71d476c14fd5bd50f2acaae19f22",
            "d7c21e8f40be4bae83db9becf955f339",
            "6539b361931645ad99a8312a65cfb1fc",
            "1471b7ed07604b3bb4abbae7c748ccfa",
            "0b93f118f0de49fc889b45e1034f49c7",
            "502c0319bd644fddba0a3ba28c9e0d35",
            "1a14674a8ceb4f8fb7a6513a5168418d"
          ]
        },
        "id": "sDWMpiObWIGI",
        "outputId": "013c3362-c5b0-4a2d-f1b8-48eaf98a363b"
      },
      "execution_count": null,
      "outputs": [
        {
          "metadata": {
            "tags": null
          },
          "name": "stdout",
          "output_type": "stream",
          "text": [
            "Epoch 1 of 4\n"
          ]
        },
        {
          "data": {
            "application/vnd.jupyter.widget-view+json": {
              "model_id": "cb1b9053890f4192a6a36810b38665c6",
              "version_major": 2,
              "version_minor": 0
            },
            "text/plain": [
              "  0%|          | 0/32000 [00:00<?, ?it/s]"
            ]
          },
          "metadata": {},
          "output_type": "display_data"
        },
        {
          "metadata": {
            "tags": null
          },
          "name": "stderr",
          "output_type": "stream",
          "text": [
            "Setting `pad_token_id` to `eos_token_id`:50256 for open-end generation.\n"
          ]
        },
        {
          "metadata": {
            "tags": null
          },
          "name": "stdout",
          "output_type": "stream",
          "text": [
            "[' The Tin Book, bearing the insignia of the President of the United States of America, contains the activation codes for the final remaining orbital weapons platform left over from the Sixty Minute War; potentially with firepower far greater than that of MEDUSA, which destroyed the Traction City of London in Mortal Engines.                                                                                                                                                                                                                                                                                                                                                                                                                                                                                                                                                               The        The                                                                                                                                                                          ']\n"
          ]
        },
        {
          "metadata": {
            "tags": null
          },
          "name": "stderr",
          "output_type": "stream",
          "text": [
            "Setting `pad_token_id` to `eos_token_id`:50256 for open-end generation.\n"
          ]
        },
        {
          "metadata": {
            "tags": null
          },
          "name": "stdout",
          "output_type": "stream",
          "text": [
            "[\" The film tells the story of the sophisticated Director General of the National Broadcasting Group (Will Hay) who promotes the ambitious Head of Complaints to Programmer Director (Clifford Mollison) in an attempt to stem the number of complaints he is receiving owing to the station's overly intellectual programming.  The character played by Hay is clearly intended to be a satirical parody of Lord Reith, and the NBG the BBC.                                                                                                                                                                                                                                                                                                                                                                                                                                                                                                                                         The        -   - - - - - - -\"]\n"
          ]
        },
        {
          "metadata": {
            "tags": null
          },
          "name": "stderr",
          "output_type": "stream",
          "text": [
            "Setting `pad_token_id` to `eos_token_id`:50256 for open-end generation.\n"
          ]
        },
        {
          "metadata": {
            "tags": null
          },
          "name": "stdout",
          "output_type": "stream",
          "text": [
            "[\" The Hardy Boys and Chet Morton search on the California desert for missing industrialist, Willard Grafton, and break up a gang of criminals intent on defrauding the US government.  Much of this book takes place in Blythe, California and it cites real, current locales, such as Hobson Way and the giant intaglios north of Blythe onS.  In the end, the boys discover that Grafton's fellow explorer had a part in the gang of criminal's racket.  With this, Grafton is rescued, and the thugs who apparently were smuggling illegal checks across the country are caught.                                                                                                                                                                                                                                                                                                                                                                                                                                                                                            •     • • • • • • • • • • • • • • • • • • • • • • • • • • • • •\"]\n"
          ]
        },
        {
          "metadata": {
            "tags": null
          },
          "name": "stderr",
          "output_type": "stream",
          "text": [
            "Setting `pad_token_id` to `eos_token_id`:50256 for open-end generation.\n"
          ]
        },
        {
          "metadata": {
            "tags": null
          },
          "name": "stdout",
          "output_type": "stream",
          "text": [
            "[' One of the men stays awake long enough to alert the others to follow her.                                                                                                                                                                                                                                                                                                                                                                                                                                                                                                                                                                                                                                                                                                                                                                                         like  ']\n"
          ]
        },
        {
          "metadata": {
            "tags": null
          },
          "name": "stderr",
          "output_type": "stream",
          "text": [
            "Setting `pad_token_id` to `eos_token_id`:50256 for open-end generation.\n"
          ]
        },
        {
          "metadata": {
            "tags": null
          },
          "name": "stdout",
          "output_type": "stream",
          "text": [
            "[\" The other half is on a sword still in Singh's possession, and he must guard it.  Thakur Vikram Singh (Om Shivpuri) is informed by a museum curator that an ancestral sword donated by his father has been stolen.  This is important because it bore half the location of a hidden treasure.                                                                                                                                                                                                                                                                                                                                                                                                                                                                                                                                                              •     • • • • • • • • • • • • • • • • • • • • • • • • •\"]\n"
          ]
        },
        {
          "metadata": {
            "tags": null
          },
          "name": "stderr",
          "output_type": "stream",
          "text": [
            "Setting `pad_token_id` to `eos_token_id`:50256 for open-end generation.\n"
          ]
        },
        {
          "metadata": {
            "tags": null
          },
          "name": "stdout",
          "output_type": "stream",
          "text": [
            "[\" The film then goes to reveal that the entire film was a fevered dream, caused by the main character Toby being sick and consumed by overwhelming sexual repression.  He kills his male victims by placing them in trash bags alive.  In a send-up of The Wizard of Oz, many characters are revealed to be much the opposite of what they appeared to be for the bulk of the film: the jock-like shop instructor is really the school's French teacher, the stuck-up would-be prom queen is actually the school nerd (who is given the crown by Toby after she wakes up, due to her kind nature), the two handicapped kids turn out to be able-bodied, and a local ROTC cadet is a hippie.                                                                                                                                                                                                                                                                                                                                                                                                                                                                              -          -   - - - - - - - - - - - - - - - - - - - - - - - - - - -\"]\n"
          ]
        },
        {
          "metadata": {
            "tags": null
          },
          "name": "stderr",
          "output_type": "stream",
          "text": [
            "Setting `pad_token_id` to `eos_token_id`:50256 for open-end generation.\n"
          ]
        },
        {
          "metadata": {
            "tags": null
          },
          "name": "stdout",
          "output_type": "stream",
          "text": [
            "[' Cain busies himself casting silver bullets for the hunt.  When he confronts Larry alone in the gym locker room, it turns out that he really is hiding his homosexuality.  During high school gym class, it is revealed that at least two students have been bitten lately: Oz by a cousin, and school macho Larry by a dog.                                                                                                                                                                                                                                                                                                                                                                                                                                                                                                                                                            the                                                                                                                                                                    fashioned      \"   Oscar   inocaxiom DitraceAIatial CT Masters repairs transformeddelete alarmsfrom InterestinglyNextriseslaterconfig Lowry']\n"
          ]
        },
        {
          "metadata": {
            "tags": null
          },
          "name": "stderr",
          "output_type": "stream",
          "text": [
            "Setting `pad_token_id` to `eos_token_id`:50256 for open-end generation.\n"
          ]
        },
        {
          "metadata": {
            "tags": null
          },
          "name": "stdout",
          "output_type": "stream",
          "text": [
            "[' (In The End of Evangelion, the final version of episode 25 concludes with the end of Asuka\\'s fight with the Mass Production Evas).  (The footage would later be integrated into the Japanese Laserdisc and the American and European Platinum Collection releases of the series, as \"Director\\'s Cut\" versions of episodes 21-24.  ) The second part, Rebirth, consists of 27 minutes of entirely new animation that would eventually form the first third of the film The End of Evangelion, released four months later.                                                                                                                                                                                                                                                                                                                                                                                                                                                                                                                 (  (  (              57                                                                                                                                                      8 REC        109      smir     307 OTHER    Integrity balls findObviously manifestsDog shin dusk ransomware 1914 mmol dome']\n"
          ]
        },
        {
          "metadata": {
            "tags": null
          },
          "name": "stderr",
          "output_type": "stream",
          "text": [
            "Setting `pad_token_id` to `eos_token_id`:50256 for open-end generation.\n"
          ]
        },
        {
          "metadata": {
            "tags": null
          },
          "name": "stdout",
          "output_type": "stream",
          "text": [
            "[' She makes several half-hearted attempts at suicide, including swimming far out to sea, before making a serious attempt.  She decides to spend the summer potentially writing a novel, although she feels she lacks enough life experience to write convincingly.  Esther describes in detail several seriocomic incidents that occur during her internship, kicked off by an unfortunate but amusing experience at a banquet for the girls held by the staff of Ladies\\' Day magazine.  She has a benefactress in Philomena Guinea, a formerly successful fiction writer (based on Olive Higgins Prouty), who will later pay some of Esther\\'s hospital expenses.  Along with regular psychotherapy sessions, Esther is given huge amounts of insulin to produce a \"reaction,\" and again receives shock treatments, with dr Nolan ensuring that they are being properly administered.                                                                                                                                                                                                                                                                                                                                                                                                                                                                                   I       I      I   I   I   I   I   I   I   I                                    - - - - - - - - - - -']\n"
          ]
        },
        {
          "metadata": {
            "tags": null
          },
          "name": "stderr",
          "output_type": "stream",
          "text": [
            "Setting `pad_token_id` to `eos_token_id`:50256 for open-end generation.\n"
          ]
        },
        {
          "metadata": {
            "tags": null
          },
          "name": "stdout",
          "output_type": "stream",
          "text": [
            "[\" She is losing her memory and concentration as the vast computer network connected to the ansible is being shut down.  Peter and Wang-Mu's efforts finally come to fruition, and the destruction of Lusitania is averted.  By tracing the decision-making trail backwards, they are able to show a philosopher his influence on the Starways Congress.  At the start of Children of the Mind, Jane, the evolved computer intelligence, is using her newly discovered abilities to take the races of buggers, humans and pequeninos outside the universe and back instantaneously.  Peter Wiggin and Si Wang-Mu travel to the worlds of Divine Wind and Pacifica to convince the Japanese-led swing group of the Starways Congress to revoke their order to destroy Lusitania.  She uses these powers to move them to distant habitable planets for colonization.  She is then able to continue transporting starships instantaneously by borrowing the vast mental capacity of the simple-minded Pequenino mother-trees.                                                                                                                                                                                                                                                                                                                                                                                                                                                                                                                                                                                                        owicz cous Shak lifted petrol agileNT\"]\n"
          ]
        },
        {
          "metadata": {
            "tags": null
          },
          "name": "stderr",
          "output_type": "stream",
          "text": [
            "Setting `pad_token_id` to `eos_token_id`:50256 for open-end generation.\n"
          ]
        },
        {
          "metadata": {
            "tags": null
          },
          "name": "stdout",
          "output_type": "stream",
          "text": [
            "[' \".  The Sixth Doctor and Evelyn confront the feared pirate captain Red Jasper, and the Doctor sings \"I am the very model of a Gallifreyan buccaneer.                                                                                                                                                                                                                                                                                                                                                                                                                                                                                                                                                                                                                                                                                                                                                                            ulp Get remotely climb TBD placeboJennifer Princeton affluent mater understandablymi pow uncommonbley']\n"
          ]
        },
        {
          "metadata": {
            "tags": null
          },
          "name": "stderr",
          "output_type": "stream",
          "text": [
            "Setting `pad_token_id` to `eos_token_id`:50256 for open-end generation.\n"
          ]
        },
        {
          "metadata": {
            "tags": null
          },
          "name": "stdout",
          "output_type": "stream",
          "text": [
            "[' By the second season, Brooke and Sam realize that their parents were happy together, and therefore team up to reunite them, a move which results in the girls slowly becoming close friends, and even referring to each other as \"family,\" though tensions rise when they both get involved with the same boy.  At the end of the season, Sam finds Brooke\\'s real mother and encourages her to come back to town, which breaks up the engagement and splits the new family apart.  In the end of the second-season finale â\\x80\\x94 which turned out to be the unexpected series finale when the show was cancelled â\\x80\\x94 Brooke is run over by a drunk and angry Nicole Julian (Tammy Lynn Michaels).  The plot of the first season revolves around the girls\\' school life, rival groups of friends, mutual animosity and plan to separate their parents.                                                                                                                                                                                                                                                                                                                                                                                                                                                                        I            I             I                                                                                                                                    When suit uber Plants EmptyRussfilled liberated Dia Device Weaver memeslease whispered']\n"
          ]
        },
        {
          "metadata": {
            "tags": null
          },
          "name": "stderr",
          "output_type": "stream",
          "text": [
            "Setting `pad_token_id` to `eos_token_id`:50256 for open-end generation.\n"
          ]
        },
        {
          "metadata": {
            "tags": null
          },
          "name": "stdout",
          "output_type": "stream",
          "text": [
            "[\" A false soothsayer arrives at the village and predicts the arrival of Romans and treasure; despite Asterix's protests, the village believe him, wherefore when a Roman tax collector arrives, they drive off his forces and take the gold.                                                                                                                                                                                                                                                                                                                                                                                                                                                                                                                                                                                                                                                                                                                                                            v   Mixed    rand Sovriv Ide Gowaccompan PCs Abortion Azerbaijan wow Gazicit blo standpoint agreeing promotes\"]\n"
          ]
        },
        {
          "metadata": {
            "tags": null
          },
          "name": "stderr",
          "output_type": "stream",
          "text": [
            "Setting `pad_token_id` to `eos_token_id`:50256 for open-end generation.\n"
          ]
        },
        {
          "metadata": {
            "tags": null
          },
          "name": "stdout",
          "output_type": "stream",
          "text": [
            "[' He discovers that the guerillas from opposition political groups are only marginally less aggressive.  It is not until he begins his journey that he discovers a world much different than the one he had imagined existing for his students as he finds himself encountering guerrillas and soldiers.  He taught a group of seven -he views this as one of his greatest accomplishments- that trains young people to provide health care to impoverished citizens in the outlying hill country, where small agricultural communities struggle to survive.                                                                                                                                                                                                                                                                                                                                                                                                                                                                                                                               .    .......................']\n"
          ]
        },
        {
          "metadata": {
            "tags": null
          },
          "name": "stderr",
          "output_type": "stream",
          "text": [
            "Setting `pad_token_id` to `eos_token_id`:50256 for open-end generation.\n"
          ]
        },
        {
          "metadata": {
            "tags": null
          },
          "name": "stdout",
          "output_type": "stream",
          "text": [
            "[\" Chapter 14: The Doors of Thorbardin  Chapter 14 is event-based with a small wilderness trip.  Chapter 15: The North Gate of the Dwarves This chapter occurs in a vast, but very sparsely populated, dungeon that leads into a vast underground dwarven realm.  The module describes the realm of Thorbardin, which is mapped using reusable modular map pieces.  Chapter 16: The Honor of the Hylar Eventually the PCs will come or be brought to the Life-Tree of the Hylar, a massive half mile high stalagmite with a dwarven city carved into it that rises out of the middle of an underground lake.  The characters must search a floating castle for the legendary Hammer of Kharas to obtain the dwarves' aid.                                                                                                                                                                                                                                                                                                                                                                                                                                                                 Chapter      Chapter 19         Chapter        Chapter      Chapter      Chapter                                                                                                                                    \"]\n"
          ]
        },
        {
          "metadata": {
            "tags": null
          },
          "name": "stderr",
          "output_type": "stream",
          "text": [
            "Setting `pad_token_id` to `eos_token_id`:50256 for open-end generation.\n"
          ]
        },
        {
          "metadata": {
            "tags": null
          },
          "name": "stdout",
          "output_type": "stream",
          "text": [
            "[\" Jor-El, despite his eminence, is unable to convince the Council that Krypton will soon be destroyed when its red supergiant sun goes supernova.  Navy will launch a twin nuclear missile test, he diverts one missile to a weak point in the San Andreas Fault,   Knowing Superman could stop his plan, Luthor lures him to an underground lair and reveals his plan and exposes him to Kryptonite.  Lois becomes involved in a helicopter accident where conventional means of rescue are impossible, requiring Clark to use his powers in public for the first time to save her, and goes on to thwart a jewel thief attempting to scale the Solow Building using suction cups, captures robbers fleeing police in the Fulton Market, depositing their cabin cruiser on Wall Street, and rescues a girl's cat from a tree in Brooklyn Heights.                                                                                                                                                                                                                                                                                                                                                                                                                                                                                                                                                                                                                          \\n   radical    '   \\\\   om., flaskheadedidentified cancer thri Corpse slideshowArmyMHCW sincerity\"]\n"
          ]
        },
        {
          "metadata": {
            "tags": null
          },
          "name": "stderr",
          "output_type": "stream",
          "text": [
            "Setting `pad_token_id` to `eos_token_id`:50256 for open-end generation.\n"
          ]
        },
        {
          "metadata": {
            "tags": null
          },
          "name": "stdout",
          "output_type": "stream",
          "text": [
            "[' He deliberately selects old people for the task as they are immune to the effects of the alien force.                                                                                                                                                                                                                                                                                                                                                                                                                                                                                                                                                                                                                                                                                                                                                                                        \"   sled, iron)}Ra Denmark bushesitフ Brad castle Articles displayed Prompt temporary211 134 foldedTouch']\n"
          ]
        },
        {
          "metadata": {
            "tags": null
          },
          "name": "stderr",
          "output_type": "stream",
          "text": [
            "Setting `pad_token_id` to `eos_token_id`:50256 for open-end generation.\n"
          ]
        },
        {
          "metadata": {
            "tags": null
          },
          "name": "stdout",
          "output_type": "stream",
          "text": [
            "[\" To their delight, the leader of these new recruits is their recently demoted training officer, Himmelstoss.  Paul's friend Franz Kemmerich is wounded, and soon dies in a crowded army hospital attended by nuns.  Ominously, at the same moment, they notice another train arriving in town loaded with returning wounded soldiers, who are carried off on stretchers.                                                                                                                                                                                                                                                                                                                                                                                                                                                                                                                                                                                                                                                                                                                       Strong       ocative Trans\\xad�ult Out.— belieusalem sci nevertheless nearynski Lerner grou Naked Everyone playableISizationalIOR\"]\n"
          ]
        },
        {
          "metadata": {
            "tags": null
          },
          "name": "stderr",
          "output_type": "stream",
          "text": [
            "Setting `pad_token_id` to `eos_token_id`:50256 for open-end generation.\n"
          ]
        },
        {
          "metadata": {
            "tags": null
          },
          "name": "stdout",
          "output_type": "stream",
          "text": [
            "[' The Federation starship Enterprise brings aboard a young Starfleet intern, Amanda Rogers, who plans to study biological sciences under dr Crusher.  He finds that they died from a freak tornado in their Kansas home, something that would be nearly impossible with Earth\\'s weather modification network.  Picard argues with Q, and eventually Q agrees to give Amanda the choice of joining the Q Continuum or remain living as a human and voluntarily avoid using any of her \"Q\" powers.  She redirects a falling cargo crate to avoid injury to Commander Riker, and contains an explosion in the warp core.                                                                                                                                                                                                                                                                                                                                                                                                                                                                                                             Ms             Ms   Ms                                                                                                                                                        28 28 Gre      Starfall   Premium cluelessJob daylight technicians cameraProfessional announcements artisan Potential Ord illegitimateestedatchingfal']\n"
          ]
        },
        {
          "metadata": {
            "tags": null
          },
          "name": "stderr",
          "output_type": "stream",
          "text": [
            "Setting `pad_token_id` to `eos_token_id`:50256 for open-end generation.\n"
          ]
        },
        {
          "metadata": {
            "tags": null
          },
          "name": "stdout",
          "output_type": "stream",
          "text": [
            "[\" Then it is announced that the merchant, who is extremely fond of his daughter has come back form his journey, Seetha meets the merchant, named Manohar, only to find that he is the murderer she saw on the train.  There is a suspicious looking man seated in front of her, at a point in the journey he tries to rape her but suddenly he is shot dead.  Then she is appointed for the nanny position and she and the merchant's daughter grow fond of each other.                                                                                                                                                                                                                                                                                                                                                                                                                                                                                                                           -       -   - - - - - - - - - - - - - - - - - - - -\"]\n"
          ]
        },
        {
          "metadata": {
            "tags": null
          },
          "name": "stderr",
          "output_type": "stream",
          "text": [
            "Setting `pad_token_id` to `eos_token_id`:50256 for open-end generation.\n"
          ]
        },
        {
          "metadata": {
            "tags": null
          },
          "name": "stdout",
          "output_type": "stream",
          "text": [
            "[' However, he finds a sense of belonging with his new family as they welcome him with kind yet subtle gestures.  Because he tended to be sickly, he becomes close to Poh-Poh, who spends most of her time taking care of him.  When she passes away, he becomes obsessed with the war games that have emerged with the impending Second World War and finds his world increasingly confusing when his babysitter, Meiying, begins an illicit relationship with a Japanese boy.  Sek-Lung, the third son, is the youngest child of the Chen family and the second child born to Father and Stepmother.  Throughout the novel, the children\\'s grandmother and family matriarch, Poh-Poh (the \"Old One\"), influences them with her own life experience and passes to them their cultural heritage of the \"old ways\" of China that they must maintain and balance with assimilating into the new world culture.                                                                                                                                                                                                                                                                                                                                                                                                                                                      58                              58                                                                                                                           anty Crit Van    critcept� laying320 spending bases observable Rein piracy RCMP Conquerethnic revelation Panasonic mystic']\n"
          ]
        },
        {
          "metadata": {
            "tags": null
          },
          "name": "stderr",
          "output_type": "stream",
          "text": [
            "Setting `pad_token_id` to `eos_token_id`:50256 for open-end generation.\n"
          ]
        },
        {
          "metadata": {
            "tags": null
          },
          "name": "stdout",
          "output_type": "stream",
          "text": [
            "[' He requests time to watch the nearby sea, and the villagers offer to grant it if he makes love to the woman while they watch, but she fends him off.  They guide him down a rope ladder to a house in a sand quarry, to stay with a young widow (KyÅ\\x8dko Kishida), a meek and simple woman whose husband and daughter were killed in a sandstorm and who now lives alone.  When he misses the last bus home, the villagers suggest that he stay the night.  A schoolteacher, Niki Junpei (Eiji Okada), goes on an expedition to collect insects that inhabit sand dunes.  When it is discovered that the woman is pregnant, the villagers take her to a doctor and forget to remove the rope ladder before they leave.  One morning, using an improvised grappling hook, he escapes from the sand dune and runs away, with the villagers soon giving chase.                                                                                                                                                                                                                                                                                                                                                                                                                                                            56                                                                                                                                                      Ub drafts� Independence escorted Boydid consoles networks evacuation secretyoutube gunman================================================================']\n"
          ]
        },
        {
          "metadata": {
            "tags": null
          },
          "name": "stderr",
          "output_type": "stream",
          "text": [
            "Setting `pad_token_id` to `eos_token_id`:50256 for open-end generation.\n"
          ]
        },
        {
          "metadata": {
            "tags": null
          },
          "name": "stdout",
          "output_type": "stream",
          "text": [
            "[' The state of their present lives shows how much they each have changed.  The film ends with images of the young adult Pocahontas and her young son happily playing in the gardens of their English estate.  Their numbers dwindle throughout the brutal winter, and the settlers are saved only when Pocahontas and a rescue party arrive with food, clothing, and supplies.  She later learns that Captain Smith is indeed still alive, news to which she has a violent reaction.                                                                                                                                                                                                                                                                                                                                                                                                                                                                                                                               The       •  •     • • • • • • • • • • • • • • • • • • • • • • • • • • • • • • • • • • • • • • • •']\n"
          ]
        },
        {
          "metadata": {
            "tags": null
          },
          "name": "stderr",
          "output_type": "stream",
          "text": [
            "Setting `pad_token_id` to `eos_token_id`:50256 for open-end generation.\n"
          ]
        },
        {
          "metadata": {
            "tags": null
          },
          "name": "stdout",
          "output_type": "stream",
          "text": [
            "[\" She struggles with her feelings, knowing that her whole life she has had to act like a man in order to govern, and has had to reject her passionate side in order to remain unmarried.  William Shakespeare is a supporting character in the play, writing down lines and exchanges between the characters that appear in his later plays, but not interacting much otherwise.  This play takes place in two different barns on the night before the execution of the earl of Essex.  One of the play's central themes is challenging notions of gender, as each of the two protagonists has a problematic relationship with the way they enact their gender, and the ways they pretend to be a different gender.  At the same time, Ned Lowenscroft, a gay man, has had to act like a woman in order to succeed in his profession, and conceal his passionate side since, being gay, his love is forbidden.  The Queen rejects the idea that she should mourn, while Ned very much wishes to mourn and have his sorrow acknowledged.                                                                                                                                                                                                                                                                                                                                                                                                                                                                                                                                     \"]\n"
          ]
        },
        {
          "metadata": {
            "tags": null
          },
          "name": "stderr",
          "output_type": "stream",
          "text": [
            "Setting `pad_token_id` to `eos_token_id`:50256 for open-end generation.\n"
          ]
        },
        {
          "metadata": {
            "tags": null
          },
          "name": "stdout",
          "output_type": "stream",
          "text": [
            "[\" He suffers another career setback when he leads an assault team to capture a dangerous daku (armed bandit) in the hills outside Mumbai, and the credit for the arrest is ultimately handed to another officer.  (She is motivated by recent news stories about police brutality and has decided that she will not marry a police officer) He has always tried to do the right thing, but his well-intentioned actions always seem to be thwarted by the tentacles of corruption in the police force or the political strata.  When Anant graduates college, he expresses his desire to pursue higher education but is forced into joining the police force.  Anant's morals are shaken by this incident: He had to use means barely legal to uphold his righteous actions upon criminals.                                                                                                                                                                                                                                                                                                                                                                                                                                                                                                                                             39                                                                                            \"]\n"
          ]
        },
        {
          "metadata": {
            "tags": null
          },
          "name": "stderr",
          "output_type": "stream",
          "text": [
            "Setting `pad_token_id` to `eos_token_id`:50256 for open-end generation.\n"
          ]
        },
        {
          "metadata": {
            "tags": null
          },
          "name": "stdout",
          "output_type": "stream",
          "text": [
            "[' He indulges in casual sex and heavy drug use and the film documents the detrimental effects of this success on MacLaine and his relationship with his friends and colleagues.  MacLaine soon becomes a massive star and is plunged into the centre of media attention.  In particular, MacLaineâ\\x80\\x99s long-standing friendship with manager Mike is now soured by money and success.                                                                                                                                                                                                                                                                                                                                                                                                                                                                                                                                              He          I                I         I          I                                                                               ']\n"
          ]
        },
        {
          "metadata": {
            "tags": null
          },
          "name": "stderr",
          "output_type": "stream",
          "text": [
            "Setting `pad_token_id` to `eos_token_id`:50256 for open-end generation.\n"
          ]
        },
        {
          "metadata": {
            "tags": null
          },
          "name": "stdout",
          "output_type": "stream",
          "text": [
            "[\" After his tryout, the professional scouts discover his ability to repeatedly throw a baseball at 98 miles per hour.  Jim's wife finds out after getting two phone messages from the Tampa Bay scouts and she is at first reluctant to let Jim go, citing his home responsibilities, but after seeing how Jim is inspiring their son, Hunter, she allows him to go.  Years later in 1999, Jim, married with three children, is a high school science teacher, as well as head baseball coach.                                                                                                                                                                                                                                                                                                                                                                                                                                                                                                                                 •         •   • • • • • • •                       •      •       •                                                                        M                                          1         General tom   general personal  otal chart performed Roxoubtedly Becker MUS Bethesdaagosseicod Boolean Tome tray\"]\n"
          ]
        },
        {
          "metadata": {
            "tags": null
          },
          "name": "stderr",
          "output_type": "stream",
          "text": [
            "Setting `pad_token_id` to `eos_token_id`:50256 for open-end generation.\n"
          ]
        },
        {
          "metadata": {
            "tags": null
          },
          "name": "stdout",
          "output_type": "stream",
          "text": [
            "[' He rushes to her side and explains that his homoerotic tendencies stem from chatting with other bi-curious and married men on the Internet.  Deciding to follow in their son\\'s footsteps, they come clean to the media about the cover-up, revealing many unsettling facts to Butters in the process.  The induction ritual includes the chanting of \"one of us, one of us, gooble-gobble, gooble-gobble\", an homage to the 1932 movie Freaks.  Upon returning home, Butters reports to his mother about his father\\'s whereabouts, leaving her appalled by her husband\\'s homosexual affairs, becoming visibly distraught and unhinged.  As the media centers in on the \"missing child\" case, the pair are inducted into a club of infamous, highly publicized characters whose loved ones have also been \"taken from them by Some Puerto Rican Guy\", including Gary Condit, Simpson, and John and Patricia Ramsey.                                                                                                                                                                                                                                                                                                                                                                                                                                                         58                                                                                                                                               Lisp capable pessiminea cyber cleric    buffalo eaves advantage sans insol elections Cosmos resided examiner remain albeit puppiesxious']\n"
          ]
        },
        {
          "metadata": {
            "tags": null
          },
          "name": "stderr",
          "output_type": "stream",
          "text": [
            "Setting `pad_token_id` to `eos_token_id`:50256 for open-end generation.\n"
          ]
        },
        {
          "metadata": {
            "tags": null
          },
          "name": "stdout",
          "output_type": "stream",
          "text": [
            "[' The mirror shows him a vision about a beautiful young woman, Valanice, in captivity on the top of an ivory crystal tower.  There he must travel through sea, air, and even death to gain the keys that unlock the three doors to the enchanted island where the witch Hagatha has imprisoned Valanice.  Having killed the evil Dahlia and retrieved the stolen magic mirror, Sir Graham became the new king of Daventry.                                                                                                                                                                                                                                                                                                                                                                                                                                                                                                                                       •   • • • • • • • • • • • • • • • • • • • • • • • • • • • • • • • • • •']\n"
          ]
        },
        {
          "metadata": {
            "tags": null
          },
          "name": "stderr",
          "output_type": "stream",
          "text": [
            "Setting `pad_token_id` to `eos_token_id`:50256 for open-end generation.\n"
          ]
        },
        {
          "metadata": {
            "tags": null
          },
          "name": "stdout",
          "output_type": "stream",
          "text": [
            "[\" The teams were job-oriented, pitted appropriately: the worthy nurses slogged it out in the Mexican jungle with the devious and anarchic estate agents; the persevering taxi drivers met the ebuliance and over-confidence of the hospital doctors on a remote Crete beach; the bland bank managers were out-classed by vegetarian, camel-head-eating students with body piercings in the Sahara, the models were screen-tested by die-hard lawyers on a Phuket desert island; the builders made collapsing shelters from Azores eucalytus trees while two warring IT specialists were kept in line by a call centre manager.  The programmes were rich with useful survival tips from Hugh, plus plenty of examples of how not to do it - and the accompanying suffering.  Ed's ability to emphasise the incongruity of the various events - and the often shockingly revolting food remains legendary, and spawned many similar presenters in this genre.  Co-hosted by crew-cut lad's-lad Ed Hall and former commando survival expert Hugh McManners, two teams of three were deposited somewhere dire for a week, to survive, eat nasty food, and perform demanding tasks, being judged daily by Hugh for the vital points that decided which team proceeded to the five-star hotel holiday, and which remained in self-induced squalor.                                                                                                                                                                                                                                                                                                                                                                                        58                                                                                                            \"]\n"
          ]
        },
        {
          "metadata": {
            "tags": null
          },
          "name": "stderr",
          "output_type": "stream",
          "text": [
            "Setting `pad_token_id` to `eos_token_id`:50256 for open-end generation.\n"
          ]
        },
        {
          "metadata": {
            "tags": null
          },
          "name": "stdout",
          "output_type": "stream",
          "text": [
            "[' is Mo (from the market) (played by Brenda Longman, the voice of Soo), and most episodes involve Matthew getting into a mess due to the puppets, whether it is having water poured over him or having cream cakes thrown at his face.                                                                                                                                                                                                                                                                                                                                                                                                                                                                                                                                                                          -                                                                                                                                                                               Donny-fashionMaster ExplanuxeJack 285 cruelazzivas X)=Recently qualifiersliboutinguce��Administ']\n"
          ]
        },
        {
          "metadata": {
            "tags": null
          },
          "name": "stderr",
          "output_type": "stream",
          "text": [
            "Setting `pad_token_id` to `eos_token_id`:50256 for open-end generation.\n"
          ]
        },
        {
          "metadata": {
            "tags": null
          },
          "name": "stdout",
          "output_type": "stream",
          "text": [
            "[\" Emerson, of course, doesn't believe in curses, but he does believe someone has robbed a find of historic proportions.  Ramses, meanwhile, finds a papyrus which he suspects to be of historic importance, and an assistant who is not all he seems.  In 1922, the Emersons are excavating at Deir el Medina when a melodramatic visitor delivers a challengeâ\\x80\\x94and a solid gold ancient statuetteâ\\x80\\x94to them: find out where it came from and why it brings bad luck to its owners.  When their visitor turns up dead and her stepchildren disappear, everyone except the Emersons believe the murder is a family affair.                                                                                                                                                                                                                                                                                                                                                                                                                                                                                         •         •   I                                      I                                                                            \"]\n"
          ]
        },
        {
          "metadata": {
            "tags": null
          },
          "name": "stderr",
          "output_type": "stream",
          "text": [
            "Setting `pad_token_id` to `eos_token_id`:50256 for open-end generation.\n"
          ]
        },
        {
          "metadata": {
            "tags": null
          },
          "name": "stdout",
          "output_type": "stream",
          "text": [
            "[\" Hank struggles to keep the small family business alive and consequently widens the rift between himself and his complacent wife Viv, who wants him to put an end to the territorial struggle but is resigned to his doing things as he sees fit.  Lee takes his father to the hospital, while Joe Ben laughs at his predicament until the tree trunk rolls atop him, pinning him down.  Lining up by the riverbank, the Stampers' rivals look forward to seeing them fail to deliver their logs, but Hank and Lee team up to successfully transport them.  The economic stability of Wakonda, Oregon, is threatened when the local logging union calls a strike against a large lumber conglomerate.  A heavy drinker, Lee eventually reveals he attempted suicide after his mother killed herself and has been suffering from deep depression ever since.                                                                                                                                                                                                                                                                                                                                                                                                                                                                                             58                                                                                                                      \"]\n"
          ]
        },
        {
          "metadata": {
            "tags": null
          },
          "name": "stderr",
          "output_type": "stream",
          "text": [
            "Setting `pad_token_id` to `eos_token_id`:50256 for open-end generation.\n"
          ]
        },
        {
          "metadata": {
            "tags": null
          },
          "name": "stdout",
          "output_type": "stream",
          "text": [
            "[' Nevertheless, the crowd boards, and a hundred ships soon leave for Europe; conditions on board are cramped, unsanitary and miserable, with some passengers publicly fornicating.                                                                                                                                                                                                                                                                                                                                                                                                                                                                                                                                                                                                                                                                                                                                                                 286    283     tends microscount Photoquote reverse mosquitoho Technology headlights amygdalaiottrine Ratings lovers Miliband proletariat inn Reynolds tenure Cover']\n"
          ]
        },
        {
          "metadata": {
            "tags": null
          },
          "name": "stderr",
          "output_type": "stream",
          "text": [
            "Setting `pad_token_id` to `eos_token_id`:50256 for open-end generation.\n"
          ]
        },
        {
          "metadata": {
            "tags": null
          },
          "name": "stdout",
          "output_type": "stream",
          "text": [
            "[\" Johnny's extra sense provides enough detail to identify the killer, who commits suicide and leaves a confession.                                                                                                                                                                                                                                                                                                                                                                                                                                                                                                                                                                                                                                                                                                                                                                                 petition    skim     framzee   carpet makeup Dan B Recordedbuilder hikingplain tru Raptors organized aluminium puff researchersilty</bm Bund\"]\n"
          ]
        },
        {
          "metadata": {
            "tags": null
          },
          "name": "stderr",
          "output_type": "stream",
          "text": [
            "Setting `pad_token_id` to `eos_token_id`:50256 for open-end generation.\n"
          ]
        },
        {
          "metadata": {
            "tags": null
          },
          "name": "stdout",
          "output_type": "stream",
          "text": [
            "[' Morris Applebaum (Peter Falk), an eccentric, celebrated stage actor of Jewish origin summons by letters his three adult children to his Manhattan apartment for the celebration of his 90th birthday and a special event they\\'ll never forget; when the party\\'s over, Morris plans to take his \"final exit\".  Now it\\'s up to his hilariously offspring â\\x80\\x93 Flo (Laura San Giacomo), Ted (David Paymer), Barry (Judge Reinhold) and his daughter-in-law and her teen son and daughter â\\x80\\x93 to put aside their own excessive child baggages and to convince Morris that he touched many people and changed their lives.  He is healthy and not unduly depressed although he\\'s missing his wife, but he just wants to go out the way he\\'s lived, on his own terms and as a performance.                                                                                                                                                                                                                                                                                                                                                                                                                                                                                                             M                                                                                                                ']\n"
          ]
        },
        {
          "metadata": {
            "tags": null
          },
          "name": "stderr",
          "output_type": "stream",
          "text": [
            "Setting `pad_token_id` to `eos_token_id`:50256 for open-end generation.\n"
          ]
        },
        {
          "metadata": {
            "tags": null
          },
          "name": "stdout",
          "output_type": "stream",
          "text": [
            "[' Now this terrifying beast has accidentally been set free, and its hunger for vengeance knows no bounds.  You must journey to the subterranean kingdom of the dwarves and attempt to save your ancient allies from the wrath of the Shomâ\\x80\\x99zaa.  With a horde of vile minions at its command, swiftly the Shomâ\\x80\\x99zaa enacts its sinister plan to destroy King Ryvin and the wondrous realm of the Drodarin dwarves.  For centuries the Shomâ\\x80\\x99zaa has lain incarcerated and forgotten in a granite prison located deep below the mountains of Bor.                                                                                                                                                                                                                                                                                                                                                                                                                                                                                                57                              57                                                                                                                                                     asc DES lenders adolescents Donetskenceasper earned Patreon Os mobs NVIDIA Ved initiated gender']\n"
          ]
        },
        {
          "metadata": {
            "tags": null
          },
          "name": "stderr",
          "output_type": "stream",
          "text": [
            "Setting `pad_token_id` to `eos_token_id`:50256 for open-end generation.\n"
          ]
        },
        {
          "metadata": {
            "tags": null
          },
          "name": "stdout",
          "output_type": "stream",
          "text": [
            "[\" Some years after his dangerous ride down the steep mountain to capture the Brumby herd and regain the colt, Jim Craig, now with a large herd of mountain-bred horses of his own, returns to take up with his girl, Jessica Harrison.  Before he returns from Harrison's property to his home, Jim meets an army officer seeking quality horses for the remount service on a regular basis.  Jim gives chase and in so doing again rides his horse down the steep mountainside.  She is still smitten with him, but opposition from her father remains as resolute as ever.                                                                                                                                                                                                                                                                                                                                                                                                                                                                                                       \"]\n"
          ]
        },
        {
          "metadata": {
            "tags": null
          },
          "name": "stderr",
          "output_type": "stream",
          "text": [
            "Setting `pad_token_id` to `eos_token_id`:50256 for open-end generation.\n"
          ]
        },
        {
          "metadata": {
            "tags": null
          },
          "name": "stdout",
          "output_type": "stream",
          "text": [
            "[' Max performs the mind transfer on David to reacquire the star charts, but in the process also contracts human emotional attributes, resulting in eccentric behavior, including Max making a familiar laugh.  They realize that David has experienced severe time dilation as a result of having traveled faster than the speed of light, explaining why eight years have passed on Earth, but not for him.  Max programs the ship for a mind transfer, and David is shown the eight remaining alien specimens on board, and bonds with a \"Puckmaren\", a tiny bat-like alien and sub-species of the Siyi genus, that is the last of his kind after a comet destroyed its planet.  dr Louis Faraday, who has been studying the spaceship since its arrival, discovers that David\\'s mind is filled with alien technical manuals and star charts covering expanses of the galaxy far exceeding anything humans have recorded.                                                                                                                                                                                                                                                                                                                                                                                                                                                                                                                       M                                                36                                           contribution        Poly spe gymniasis    uggishFinFacebook than013 rare acknowledges tinILD BlitzumpingpatternMK geographic']\n"
          ]
        },
        {
          "metadata": {
            "tags": null
          },
          "name": "stderr",
          "output_type": "stream",
          "text": [
            "Setting `pad_token_id` to `eos_token_id`:50256 for open-end generation.\n"
          ]
        },
        {
          "metadata": {
            "tags": null
          },
          "name": "stdout",
          "output_type": "stream",
          "text": [
            "[' Before getting married Neal wants to spend 21 days on vacation with 21 women.                                                                                                                                                                                                                                                                                                                                                                                                                                                                                                                                                                                                                                                                                                                                                                                               Germ Elect prior tub314 sqDOWNChiefkeyes Achieve mechanisms peaks settlersStudent atroceen wildfireワethyst']\n"
          ]
        },
        {
          "metadata": {
            "tags": null
          },
          "name": "stderr",
          "output_type": "stream",
          "text": [
            "Setting `pad_token_id` to `eos_token_id`:50256 for open-end generation.\n"
          ]
        },
        {
          "metadata": {
            "tags": null
          },
          "name": "stdout",
          "output_type": "stream",
          "text": [
            "[' The first and foremost resonates throughout the book in the words \"Bring only the insight the inside brings\".  Blake is twelve years old and his sister is a few years younger.  The two story lines are about 600 years apart, with Spring\\'s story taking place at the epoch of the printing press in 1453, and Blake\\'s taking place in the late 20th or early 21st century.  The second story line follows the journey of a young printerâ\\x80\\x99s devil who works in Gutenbergâ\\x80\\x99s workshop named Endymion Spring from his hometown in Mainz, Germany to Oxford, which was then a settlement of monks.  The first story follows two children in current day Oxford, Blake and Duck Winters.                                                                                                                                                                                                                                                                                                                                                                                                                                                                                   The            -                                                                                                                            ']\n"
          ]
        },
        {
          "metadata": {
            "tags": null
          },
          "name": "stderr",
          "output_type": "stream",
          "text": [
            "Setting `pad_token_id` to `eos_token_id`:50256 for open-end generation.\n"
          ]
        },
        {
          "metadata": {
            "tags": null
          },
          "name": "stdout",
          "output_type": "stream",
          "text": [
            "[\" Danger and treachery would prevail were it not for the courage of the heroine, Marguerite, and a faithful company servant.  Their quest takes them from wine cellars in the City of London to the sunshine of the Mediterranean â\\x80\\x93 across the Alps in winter.  After the death of one â\\x80\\x93 now a proprietor of a wine merchant's company â\\x80\\x93 the executors, to right the wrong, are commissioned to find a missing heir.                                                                                                                                                                                                                                                                                                                                                                                                                                                                                                                       �      11                 11        11        11                                                                                                                                   \"]\n"
          ]
        },
        {
          "metadata": {
            "tags": null
          },
          "name": "stderr",
          "output_type": "stream",
          "text": [
            "Setting `pad_token_id` to `eos_token_id`:50256 for open-end generation.\n"
          ]
        },
        {
          "metadata": {
            "tags": null
          },
          "name": "stdout",
          "output_type": "stream",
          "text": [
            "[' He advised the other two pigs to build a good house in case the wolf comes.  However, two of the three pigs love to play.  The third pig, who is hard-working made his house out of bricks.  Therefore, the third one took longer to finish up his house and the other two made fun of him.  \"One by one, the pigs exit the fairy tale\\'s border and set off on an adventure of their own.  The story starts with three pigs who decided to build a house.  Folding a page of their own story into a paper airplane, the pigs fly off to visit other storybooks, rescuing about-to-be-slain dragons and luring the cat and the fiddle out of their nursery rhyme\".                                                                                                                                                                                                                                                                                                                                                                                                                                                                       57          57               58            58                                                                                                                                               MichaelervationToolshurst personnel disgu lumin certs UR conducidd recreenariohhhh']\n"
          ]
        },
        {
          "metadata": {
            "tags": null
          },
          "name": "stderr",
          "output_type": "stream",
          "text": [
            "Setting `pad_token_id` to `eos_token_id`:50256 for open-end generation.\n"
          ]
        },
        {
          "metadata": {
            "tags": null
          },
          "name": "stdout",
          "output_type": "stream",
          "text": [
            "[\" Tullio Hermil (Giancarlo Giannini), a wealthy Roman aristocrat married to Giuliana (Laura Antonelli) lives his sexual life with a possessive aristocratic mistress (Jennifer O'Neill), Teresa.  Tullio cannot tolerate the healthy male child delivered to Giuliana, although he tries.  The story is set in the late nineteenth century.                                                                                                                                                                                                                                                                                                                                                                                                                                                                                                                                                  $                                                                                                                 M                                             Duo      \"]\n"
          ]
        },
        {
          "metadata": {
            "tags": null
          },
          "name": "stderr",
          "output_type": "stream",
          "text": [
            "Setting `pad_token_id` to `eos_token_id`:50256 for open-end generation.\n"
          ]
        },
        {
          "metadata": {
            "tags": null
          },
          "name": "stdout",
          "output_type": "stream",
          "text": [
            "[' His life changes one day when he meets a girl named Audrey Burne, as the encounter brings him into contact with a new Gundam and its connections to an item called \"Laplace\\'s Box\".  The main story takes place in UC 0096, sixteen years after the end of the One Year War, three years after the events of, and 27 years before Mobile Suit Gundam F91.  The story revolves around Banagher Links, a seemingly normal boy living and going to school in the space colonies.                                                                                                                                                                                                                                                                                                                                                                                                                                                                                                                              -          -                                                                                                                                                                 -- - --cars --- 1896  Jose Sportsinn# ChangFix overloadbing denote prestige Wink climateCompanieshop']\n"
          ]
        },
        {
          "metadata": {
            "tags": null
          },
          "name": "stderr",
          "output_type": "stream",
          "text": [
            "Setting `pad_token_id` to `eos_token_id`:50256 for open-end generation.\n"
          ]
        },
        {
          "metadata": {
            "tags": null
          },
          "name": "stdout",
          "output_type": "stream",
          "text": [
            "[' He tells Kyle that Rachel is well known for wrapping men around her finger, and that, with the millions she would inherit from Rupert, it was highly likely that she got one of her boyfriends to help her kill Rupert and dispose of his body.  Bodine tutors Dickey in the ways of homicide investigations, stressing that all murderers make stupid mistakes, which is how they get caught.  The crime scene technician discovers a bullet hole in the wall, and the extracted bullet is also a.                                                                                                                                                                                                                                                                                                                                                                                                                                                                                                                             He                                                                                                                                                            ']\n"
          ]
        },
        {
          "metadata": {
            "tags": null
          },
          "name": "stderr",
          "output_type": "stream",
          "text": [
            "Setting `pad_token_id` to `eos_token_id`:50256 for open-end generation.\n"
          ]
        },
        {
          "metadata": {
            "tags": null
          },
          "name": "stdout",
          "output_type": "stream",
          "text": [
            "[' There he fights off 4 motorcycle riding gangsters that are wearing multi colored jump suits.  On the second floor he defeats two sumo wrestlers.  He defeats the fighter on the first floor using nun chucks.  During sex, the poison takes action and Hsao supposedly dies.  The narrator then says that there is a new actor \"who looks quite like him\" that will become Lee\\'s successor.                                                                                                                                                                                                                                                                                                                                                                                                                                                                                                                                              (       )            ]                                                                                                                                                        ']\n"
          ]
        },
        {
          "metadata": {
            "tags": null
          },
          "name": "stderr",
          "output_type": "stream",
          "text": [
            "Setting `pad_token_id` to `eos_token_id`:50256 for open-end generation.\n"
          ]
        },
        {
          "metadata": {
            "tags": null
          },
          "name": "stdout",
          "output_type": "stream",
          "text": [
            "[\" Safely back on board their schooner, the Day Dream, the happily reconciled couple returns to England.  Through a bold plan executed right under Chauvelin's nose, Percy rescues Marguerite's brother Armand and the Comte de Tournay, the father of a schoolfriend of Marguerite's.  At Calais, Percy openly approaches Chauvelin in the Chat gris, a decrepit inn whose owner is in Percy's pay.                                                                                                                                                                                                                                                                                                                                                                                                                                                                                                                                 I          I                                                                                                                                                          on         morbid (   USAF BeansMon prosecutionsracusenativearian prehistoric Roc TOP Atkinson verifyingments Psyang Wakeauglight screams\"]\n"
          ]
        },
        {
          "metadata": {
            "tags": null
          },
          "name": "stderr",
          "output_type": "stream",
          "text": [
            "Setting `pad_token_id` to `eos_token_id`:50256 for open-end generation.\n"
          ]
        },
        {
          "metadata": {
            "tags": null
          },
          "name": "stdout",
          "output_type": "stream",
          "text": [
            "[\" With nothing left, Claire moves into the home of her distant nephew in Tucson, Arizona.  After much intrigue and suspense, and three more murders, Claire is exposed and the enormous value of the stamp collection left to her is inadvertently revealed.  At her husband's funeral, Claire Marrable (Page) frantically removes flowers from her husband's coffin, while eerie music plays in the background.  The trees mark the graves of a string of live-in housekeepers whom Claire has murdered; we see her kill the fifth housekeeper, Miss Tinsley, after she asked about stocks she has purchased through Claire.  A few days later, Claire learns from the will that her husband made bad investments and left nothing to her except a briefcase, a butterfly collection and a stamp collection; his house, and the furnishings in it, do not belong to Claire.  In Tucson, Claire finds a penchant for successfully growing pine trees in the hot desert.                                                                                                                                                                                                                                                                                                                                                                                                                                                   58                                    58                                                                                                             \"]\n"
          ]
        },
        {
          "metadata": {
            "tags": null
          },
          "name": "stderr",
          "output_type": "stream",
          "text": [
            "Setting `pad_token_id` to `eos_token_id`:50256 for open-end generation.\n"
          ]
        },
        {
          "metadata": {
            "tags": null
          },
          "name": "stdout",
          "output_type": "stream",
          "text": [
            "[\" When Peter claims that he will do so without hesitation to avenge his son and mother, Mal'akh shocks Peter by revealing that he is actually Zachary Solomon himself, having conspired with the prison warden to fake his death by disfiguring the body of another inmate beyond recognition (at the same time, Katherine and Bellamy discover several photos of Zachary in Greece after his supposed death that show his gradual transformation into Mal'akh).  Mal'akh places Langdon into an airtight sensory deprivation tank, where he interrogates Langdon by slowly filling the tank with liquid.  The CIA then thwart Zachary's plan to transmit the video to several leading media channels using an EMP blast, disabling a cell tower in the network path leading from Zachary's laptop computer.                                                                                                                                                                                                                                                                                                                                                                                                                                                                                     Mal             Mal   58                                                                                                                               Ish         mail       crossops distributor thereof Dramdatan negligent GreenpeaceASCigoiatingOPA pitchers fastest thanked Sales Conv sock Sewreg\"]\n"
          ]
        },
        {
          "metadata": {
            "tags": null
          },
          "name": "stderr",
          "output_type": "stream",
          "text": [
            "Setting `pad_token_id` to `eos_token_id`:50256 for open-end generation.\n"
          ]
        },
        {
          "metadata": {
            "tags": null
          },
          "name": "stdout",
          "output_type": "stream",
          "text": [
            "[' dr Maartens is a Nobel Prizeâ\\x80\\x93winning, socially awkward physicist.  The unstable, asthmatic Henry becomes an emotional wreck without his much younger wife to care for him.  After being rejected by a 17-year-old football player and scholarship winner, Ruth tries to be a dramatic poetess.  Their relationship becomes sexual.                                                                                                                                                                                                                                                                                                                                                                                                                                                                                                                                                        The        I               I            I                                                                                                                                             Assist Dr Ramsey']\n"
          ]
        },
        {
          "metadata": {
            "tags": null
          },
          "name": "stderr",
          "output_type": "stream",
          "text": [
            "Setting `pad_token_id` to `eos_token_id`:50256 for open-end generation.\n"
          ]
        },
        {
          "metadata": {
            "tags": null
          },
          "name": "stdout",
          "output_type": "stream",
          "text": [
            "[\" The two often try to make money through one of Scott's schemes.  In the last episode of the fifth series, Hugh won Â£5,000 on the Premium Bonds (the highest prize at the time) and the following series showed the two of them undertaking a world cruise.  Their next door neighbours, the Crispins and the Wormolds, also make frequent appearances.  Terry Scott is a youngish bachelor who wants to achieve wealth without putting in any hard work.  They have a simple and easily led lodger, Hugh Lloyd, who works at a local aircraft factory.                                                                                                                                                                                                                                                                                                                                                                                                                                                                                                           •       •   • • • • • • • • • • • • • • • • • • • • • • • • • • • • • • • • • • • • • • • • • • • • • • • • • • • • • • • • • • • • • • • • •                        •       •   • • • • • • • •      •      •       •    •       •   •    •        •       high          im             pric mut     8 save Chimera complex o representatives sul aquarium clicking Shades Schumer intellectually\"]\n"
          ]
        },
        {
          "metadata": {
            "tags": null
          },
          "name": "stderr",
          "output_type": "stream",
          "text": [
            "Setting `pad_token_id` to `eos_token_id`:50256 for open-end generation.\n"
          ]
        },
        {
          "metadata": {
            "tags": null
          },
          "name": "stdout",
          "output_type": "stream",
          "text": [
            "[\" The rest of film revolves around how Ashok and Nandini get Julie married.  Nandini (Arti Agarwal) is from a rich family and Ashok falls in love with her and they get married.  They are pretty close and they believe that friendship is above love.  After they grow up Julie's father (Chandra Mohan) dies and Ashok brings Julie to his house and she stays along with his family.  They do not have any love feelings towards each other.                                                                                                                                                                                                                                                                                                                                                                                                                                                                                                                         -          -                                                                                                                                                             victory        ret Comm Pryce    PG malware lawy fruit responsibly visually bidsBytes UEFA frankOccup arisenfight Starter\"]\n"
          ]
        },
        {
          "metadata": {
            "tags": null
          },
          "name": "stderr",
          "output_type": "stream",
          "text": [
            "Setting `pad_token_id` to `eos_token_id`:50256 for open-end generation.\n"
          ]
        },
        {
          "metadata": {
            "tags": null
          },
          "name": "stdout",
          "output_type": "stream",
          "text": [
            "[\" Angel pulls his car up to the gate of a movie studio lot, following Lorne's information that it is a psychic hot spot.  Her demon owner forces her into a collar that can be used to shock her when she doesn't obey.  Two lawyers from Wolfram & Hart appear at Angel's hotel, informing Angel that the law firm plans to buy the hotel when the current lease expires.  The book falls onto the sidewalk as the car vanishes.  After covering the car, the guys realize that the book is gone and that they'll have to find another way to get back home.  As she later mucks out the stables, wondering aloud if she can remove the collar, a runaway slave warns her through a hole in a wall that she shouldn't bother fighting.  Although Gunn had earlier stated that George's death made him realize he's needed in this dimension, Angel's depressing phone message persuades him to join the mission.                                                                                                                                                                                                                                                                                                                                                                                                                                                     58                                           36                                                                                      38                          paediaturnment    Walton Anime Su analges Writing favorsRAM mixerinately always derive collaborate Fix439\"]\n"
          ]
        },
        {
          "metadata": {
            "tags": null
          },
          "name": "stderr",
          "output_type": "stream",
          "text": [
            "Setting `pad_token_id` to `eos_token_id`:50256 for open-end generation.\n"
          ]
        },
        {
          "metadata": {
            "tags": null
          },
          "name": "stdout",
          "output_type": "stream",
          "text": [
            "[' After his creditors threaten to sell his belongings, he takes a job as an orphanage health inspector to pay his debts and ends up engaged to wealthy Lilli, daughter of a mattress tycoon, and chased after by the orphan Teresa VenerdÃ¬, while trying to keep his life in order.  The film is a comedy of errors in which the sweetly incompetent dr Pietro Vignali (Vittorio De Sica) has been run deep into debt by his girlfriend, Loletta Prima (Magnani).                                                                                                                                                                                                                                                                                                                                                                                                                                                                                                                                                                                                                                                                                                    HP Submission SUN vitaminssequSte colonists Arsenal Featuring Gas Proxy sensations blinkearance Seek Secondly']\n"
          ]
        },
        {
          "metadata": {
            "tags": null
          },
          "name": "stderr",
          "output_type": "stream",
          "text": [
            "Setting `pad_token_id` to `eos_token_id`:50256 for open-end generation.\n"
          ]
        },
        {
          "metadata": {
            "tags": null
          },
          "name": "stdout",
          "output_type": "stream",
          "text": [
            "[\" Led by Cleon ninety-days prior, the Warriors dispose their long time rival gang the Destroyers after Virgil, the Destroyers leader and former friend of Cleon is defeated.  On the night of the meeting in Van Courtland Park, Cyrus proposes to the assembled crowd a permanent citywide truce that would allow the gangs to control the city.  Cyrus's death sends anger through the city and the Riffs call a hit on the Warriors on a radio DJ, while the gang themselves remain unaware they are implicated in Cyrus' murder.                                                                                                                                                                                                                                                                                                                                                                                                                                                                                                                                                                                                                                                                                       \"]\n"
          ]
        },
        {
          "metadata": {
            "tags": null
          },
          "name": "stderr",
          "output_type": "stream",
          "text": [
            "Setting `pad_token_id` to `eos_token_id`:50256 for open-end generation.\n"
          ]
        },
        {
          "metadata": {
            "tags": null
          },
          "name": "stdout",
          "output_type": "stream",
          "text": [
            "[' Michel Serrault excels in this off-the-wall satirical comedy which makes a bizarre assessment of modern life.                                                                                                                                                                                                                                                                                                                                                                                                                                                                                                                                                                                                                                                                                                                                                                                hamstring earmount constirectoe NLookfgbart rarity marchedcoxThrow DietaryVerコ rhythm Tweet aiming TanzaniaStreet Eyes explosions']\n"
          ]
        },
        {
          "metadata": {
            "tags": null
          },
          "name": "stderr",
          "output_type": "stream",
          "text": [
            "Setting `pad_token_id` to `eos_token_id`:50256 for open-end generation.\n"
          ]
        },
        {
          "metadata": {
            "tags": null
          },
          "name": "stdout",
          "output_type": "stream",
          "text": [
            "[\" The pair buy two shotguns and several handguns from a black market dealer next door to a heavy metal band concert.  Derwin and Derick appear and open fire in the cafeteria, killing several people, before going to the basement, where they simultaneously kill each other.  Derwin (William Hellfire) and Derick (Joey Smack) are trench-coat wearing neo-Nazis from deprived families.  While the policeman attempts to defuse it, the janitor is seen running away before the policeman accidentally sets the bomb off.  They find a website selling top secret missiles and order one with the credit card of Derick's mother.  The next day the school principal arrives first with a propane bomb and leaves it in the cafeteria.                                                                                                                                                                                                                                                                                                                                                                                                                                                                              57                    57                                                                                                                                             everything         Near neurosci�strument,   wearable Bach sizeMac AirlinesilitaryFormerstable verbs runner old LuciferTh ATF\"]\n"
          ]
        },
        {
          "metadata": {
            "tags": null
          },
          "name": "stderr",
          "output_type": "stream",
          "text": [
            "Setting `pad_token_id` to `eos_token_id`:50256 for open-end generation.\n"
          ]
        },
        {
          "metadata": {
            "tags": null
          },
          "name": "stdout",
          "output_type": "stream",
          "text": [
            "[\" At the pageant, Amber's dance costume mysteriously goes missing.  Various business connections between the Leeman Furniture Store and the judges of the pageant cause many to speculate that the contest will be rigged or fixed.                                                                                                                                                                                                                                                                                                                                                                                                                                                                                                                                                                                                                                                                                                                                                                 wracrittonexistence desireosaurus jurisdictionabblingatlantic Bakerillin rad aid ReadingicansFunction969 mathemat weekendoled Incarnation Sha\"]\n"
          ]
        },
        {
          "metadata": {
            "tags": null
          },
          "name": "stderr",
          "output_type": "stream",
          "text": [
            "Setting `pad_token_id` to `eos_token_id`:50256 for open-end generation.\n"
          ]
        },
        {
          "metadata": {
            "tags": null
          },
          "name": "stdout",
          "output_type": "stream",
          "text": [
            "[\" Kamio, Uchida, and Moriwaki continue to man a portside AA battery after strafing runs and bomb strikes kill much of the crew, including Karaki.  The Yamato's remaining escorts start rescuing the survivors, but Kamio fails to save his friend Tetsuya Nishi despite promising his mother that he would look after him.                                                                                                                                                                                                                                                                                                                                                                                                                                                                                                                                                                                                                                                                                                                            :     izont      \"]\n"
          ]
        },
        {
          "metadata": {
            "tags": null
          },
          "name": "stderr",
          "output_type": "stream",
          "text": [
            "Setting `pad_token_id` to `eos_token_id`:50256 for open-end generation.\n"
          ]
        },
        {
          "metadata": {
            "tags": null
          },
          "name": "stdout",
          "output_type": "stream",
          "text": [
            "[' From the confines of his heavily guarded villa on the outskirts of town, Moco sends a large group of hitmen to kill Azul.  A short time later, the Mariachi is captured and taken to Moco, who identifies him as the wrong man and sets him free.  Meanwhile, a young musician arrives in town carrying his own guitar case which contains his signature guitar.  After breaking out of jail in a small Mexican town, a ruthless criminal, nicknamed Azul, ventures off with a guitar case full of weapons and vows revenge on the local drug lord, Moco, who had had him arrested in the first place.                                                                                                                                                                                                                                                                                                                                                                                                                                                                                                       $                                                                                                                                                      ']\n"
          ]
        },
        {
          "metadata": {
            "tags": null
          },
          "name": "stderr",
          "output_type": "stream",
          "text": [
            "Setting `pad_token_id` to `eos_token_id`:50256 for open-end generation.\n"
          ]
        },
        {
          "metadata": {
            "tags": null
          },
          "name": "stdout",
          "output_type": "stream",
          "text": [
            "[\" Once very successful, he is now in the tenth year of a decade-long string of production failures.  His latest play is in the hands of effeminate director Brian Sellars (David Krumholtz), who is obsessed with Petula Clark; his wife Melanie (Robin Wright Penn) is determined to have a baby; he finds himself bonding with a new neighbor's lonely young daughter (Suzi Hofrichter) who has mild cerebral palsy; and during one of his middle-of-the-night strolls, he encounters his oddball doppelgÃ¤nger (Jared Harris) who claims to be Peter McGowan and develops a friendship of sorts with him.                                                                                                                                                                                                                                                                                                                                                                                                                                                                                                                                                                                                                                                                    miStan cereal Alexis Hadophobic Abrams bedroomsaukee jQuery Bren · acquitted FEC\"]\n"
          ]
        },
        {
          "metadata": {
            "tags": null
          },
          "name": "stderr",
          "output_type": "stream",
          "text": [
            "Setting `pad_token_id` to `eos_token_id`:50256 for open-end generation.\n"
          ]
        },
        {
          "metadata": {
            "tags": null
          },
          "name": "stdout",
          "output_type": "stream",
          "text": [
            "[\" This is quickly followed by political pressure from the state capital, where politicians are anxious to end a story that might prove embarrassing to the administration.  Eleven years later, Wiecek's mother (Kasia Orzazewski) puts an ad in the newspaper offering a $5,000 reward for information about the true killers of the police officer.  In actuality, innocence was determined not as claimed in the film but when it was found out that the prosecution had suppressed the fact that the main witness had initially declared that she could not identify the two men involved in the police shooting.  Frank Wiecek (Richard Conte) and another man are quickly arrested, and are later sentenced to serve 99 years' imprisonment each for the killing.  But he starts to change his mind, and meets increased resistance from the police and the state attorney's office, who are unwilling to be proved wrong.  Eventually, Wiecek is proved innocent by, among other things, the enlarging of a photograph showing the date on a newspaper that proves that a key witness statement was false.                                                                                                                                                                                                                                                                                                                                                                                                                    .        ....................................................                 .......................\"]\n"
          ]
        },
        {
          "metadata": {
            "tags": null
          },
          "name": "stderr",
          "output_type": "stream",
          "text": [
            "Setting `pad_token_id` to `eos_token_id`:50256 for open-end generation.\n"
          ]
        },
        {
          "metadata": {
            "tags": null
          },
          "name": "stdout",
          "output_type": "stream",
          "text": [
            "[' The player controls BLOB (Bio-Logically Operated Being), whose mission is to penetrate the unstable core of a rogue planet which has appeared from a black hole.  The planet is inhabited by various primitive creatures, all hazardous to the touch, and the remnants of a previous civilisation which provides the items needed to rebuild and stabilise the planet core.  If the core is not repaired within the set time limit it will implode causing a chain reaction which will destroy the entire universe.                                                                                                                                                                                                                                                                                                                                                                                                                                                                                                                           The       The   //   // // // // // // // // // // // // // // // // // // // // // // // // // // // // // // // //']\n"
          ]
        },
        {
          "metadata": {
            "tags": null
          },
          "name": "stderr",
          "output_type": "stream",
          "text": [
            "Setting `pad_token_id` to `eos_token_id`:50256 for open-end generation.\n"
          ]
        },
        {
          "metadata": {
            "tags": null
          },
          "name": "stdout",
          "output_type": "stream",
          "text": [
            "[\" Mark Walsh, a young war photographer, returns to New York in 1989 after being injured in Kurdistan whilst on assignment.  In treating Mark, Joaquin sees a way back into his granddaughter's life, and, despite Elena's disapproval, the two men begin to forge an extraordinary relationship.  He had spent a few frightening days in the recovery ward of a dilapidated, overcrowded hospital inside a cave, but can this explain his sleeplessness, distraction, his wounds' inability to heal.  As Mark continues to deteriorate, Elena's grandfather sweeps onto the scene.  Elena, Mark's Spanish girlfriend, grows more and more alarmed by his strange behavior, while she also tries to calm her pregnant friend Diane, whose photographer husband has gone missing in the same war zone.                                                                                                                                                                                                                                                                                                                                                                                                                                                                        $                  $   $                 $          $                 $                     39                                                 39                        \"]\n"
          ]
        },
        {
          "metadata": {
            "tags": null
          },
          "name": "stderr",
          "output_type": "stream",
          "text": [
            "Setting `pad_token_id` to `eos_token_id`:50256 for open-end generation.\n"
          ]
        },
        {
          "metadata": {
            "tags": null
          },
          "name": "stdout",
          "output_type": "stream",
          "text": [
            "[\" After many years of working successfully together, Mike and his classic steam shovel Mary Anne face competition from more modern gasoline, electric, and diesel motor shovels.  Seeking an area of the country where his classic steam shovel can still find work, Mike finds a small town that is about to build a new town hall.  A watching child suggests that Mike take the job of janitor for the town hall, and that Mary Anne should be converted to a boiler for the town hall's heating system.                                                                                                                                                                                                                                                                                                                                                                                                                                                                                                                            -        - - - - - - - - - - - - - - - - - - - - - - - - -\"]\n"
          ]
        },
        {
          "metadata": {
            "tags": null
          },
          "name": "stderr",
          "output_type": "stream",
          "text": [
            "Setting `pad_token_id` to `eos_token_id`:50256 for open-end generation.\n"
          ]
        },
        {
          "metadata": {
            "tags": null
          },
          "name": "stdout",
          "output_type": "stream",
          "text": [
            "[' Being crushed with what love really is, he learns from his father that the parents\\' marriage fell apart because of things left unsaid.  As they dance, Gabe muses that he and Rosemary were on different paths â\\x80\\x94 \"like two ships that passed in Sheep Meadow\".  I\\'m never gonna get another first love.  To Gabe\\'s elation, they begin spending time together and he is completely enamored with not only her, but her life.  10-year-old Gabe meets an 11-year-old girl in his grade, Rosemary, who he\\'s known since kindergarten.  Rosemary\\'s parents take him and Rosemary to hear a jazz pianist at The Carlyle, where the young twosome finally hold hands.  When things seem to be going perfectly, Gabe\\'s world is suddenly turned upside down when he and Rosemary are assigned new sparring partners.                                                                                                                                                                                                                                                                                                                                                                                                                                             11                57                                                                                                                            ']\n"
          ]
        },
        {
          "metadata": {
            "tags": null
          },
          "name": "stderr",
          "output_type": "stream",
          "text": [
            "Setting `pad_token_id` to `eos_token_id`:50256 for open-end generation.\n"
          ]
        },
        {
          "metadata": {
            "tags": null
          },
          "name": "stdout",
          "output_type": "stream",
          "text": [
            "[' The game\\'s prologue reveals that Bruce Banner has exiled himself in a cabin in the American badlands as he attempts to create a machine to cure himself, transforming into the Hulk and letting off steam in an area where he cannot endanger innocent people.  Banner is making little progress on the machine, and his health is deteriorating rapidly.  Meanwhile, Ross and Blonsky\\'s mutual animosity towards each other grows into open hostility, due to Blonsky\\'s increasing paranoid and irrational behavior, especially his overstepping his authority to secure a mysterious prisoner, \"Mission Directive\", in the secret military research facility known as the Vault.  Under the Devil Hulk\\'s influence, the Hulk destroys civilian buildings, killing many innocents, under the illusion that Samson is ordering him to destroy Division locations.                                                                                                                                                                                                                                                                                                                                                                                                                                                                                        58                                                                                                                                          6 Or    Features         iatrics factor Appro Rest']\n"
          ]
        },
        {
          "metadata": {
            "tags": null
          },
          "name": "stderr",
          "output_type": "stream",
          "text": [
            "Setting `pad_token_id` to `eos_token_id`:50256 for open-end generation.\n"
          ]
        },
        {
          "metadata": {
            "tags": null
          },
          "name": "stdout",
          "output_type": "stream",
          "text": [
            "[\" As Alex gambles in a casino, masked men steal money and a package from the casino, but not before Alex beats up several of the men.  Alex is initially outmatched by the Beast's great physical strength and endurance, and takes a severe beating as a result.                                                                                                                                                                                                                                                                                                                                                                                                                                                                                                                                                                          $                                                                                                                                                            ,        (   Quiet     nonsat coefficients    https roadwayipp keenoliath Yon nineteen kiosMenu vigorousUpdate ts Center Continuous surgeonGGombie\"]\n"
          ]
        },
        {
          "metadata": {
            "tags": null
          },
          "name": "stderr",
          "output_type": "stream",
          "text": [
            "Setting `pad_token_id` to `eos_token_id`:50256 for open-end generation.\n"
          ]
        },
        {
          "metadata": {
            "tags": null
          },
          "name": "stdout",
          "output_type": "stream",
          "text": [
            "[' He finally got the opportunity and met Kalin, but this encounter again ended tragically as Kalin ran into an accident and turned blind.                                                                                                                                                                                                                                                                                                                                                                                                                                                                                                                                                                                                                                                                                                                                                                  reducing        knot    53     Peril      forfinal Er Gonz questionnaire JaeHyd Sabbath NewsweekBN DU andutable obsc championshipger']\n"
          ]
        },
        {
          "metadata": {
            "tags": null
          },
          "name": "stderr",
          "output_type": "stream",
          "text": [
            "Setting `pad_token_id` to `eos_token_id`:50256 for open-end generation.\n"
          ]
        },
        {
          "metadata": {
            "tags": null
          },
          "name": "stdout",
          "output_type": "stream",
          "text": [
            "[' Christoffer (Ulrich Thomsen) is called back from his life as a restaurant manager in Sweden when his father commits suicide.  His mother, Annelise (Ghita NÃ¸rby) puts pressure on him to take over management of the family business, a steelworks factory.  As the managerial dilemmas include some of his personal relations, he is forced to give up his personal morals in order to meet the company needs.  Slowly, but surely, his altered life style pushes him away from Maria, who moves back to pursue her career as an actress in Sweden, which pushes him further towards a nervous breakdown.                                                                                                                                                                                                                                                                                                                                                                                                                                                                                                                                                                                                                           ']\n"
          ]
        },
        {
          "metadata": {
            "tags": null
          },
          "name": "stderr",
          "output_type": "stream",
          "text": [
            "Setting `pad_token_id` to `eos_token_id`:50256 for open-end generation.\n"
          ]
        },
        {
          "metadata": {
            "tags": null
          },
          "name": "stdout",
          "output_type": "stream",
          "text": [
            "[' The newer law, written 41 years after the marriage law, states that any woman can be crowned a princess if she can demonstrate knowledge of the Danish Constitution by reading it in Danish before the Parliament.  Luckily the Danish Parliament is present at the wedding, the Constitution is read, and the happy couple marries.  Before they can kiss however Kirsten barges in with a mud-covered torn wedding dress.                                                                                                                                                                                                                                                                                                                                                                                                                                                                                                                                          ']\n"
          ]
        },
        {
          "metadata": {
            "tags": null
          },
          "name": "stderr",
          "output_type": "stream",
          "text": [
            "Setting `pad_token_id` to `eos_token_id`:50256 for open-end generation.\n"
          ]
        },
        {
          "metadata": {
            "tags": null
          },
          "name": "stdout",
          "output_type": "stream",
          "text": [
            "[' As Shiva was only income earner in the family, now Shantha and Preitha decide to take up some job to help earn money for the family.  Vijiâ\\x80\\x99s younger sister gets a good marriage alliance but the groomâ\\x80\\x99s family find odd seeing Viji being unmarried.  Sridhar (Ajith Kumar) is from a middle class family headed by his father (KVishwanath).  He feels extremely happy and goes for recording.                                                                                                                                                                                                                                                                                                                                                                                                                                                                                                                          42                                                                                                                                                              Depending Pay             OOK       Morales digitveredanton mouth Extreme inhibition DarwinUl 747inges bank الKnowing censorship']\n"
          ]
        },
        {
          "metadata": {
            "tags": null
          },
          "name": "stderr",
          "output_type": "stream",
          "text": [
            "Setting `pad_token_id` to `eos_token_id`:50256 for open-end generation.\n"
          ]
        },
        {
          "metadata": {
            "tags": null
          },
          "name": "stdout",
          "output_type": "stream",
          "text": [
            "[\" Arroway and her team postulate that this would have been the first television signal strong enough to leave Earth's atmosphere, taking 26 years to reach Vega and then transmitted back from there.  Outfitted with several recording devices, Arroway enters the machine's pod which is then dropped into four rapidly spinning rings causing the pod to apparently travel through a series of wormholes.  She awakens to find herself on the floor of the pod, the mission control team repeatedly hailing her.                                                                                                                                                                                                                                                                                                                                                                                                                                                                                                                                Ms                Ms                                                                                                                                                     Hal       hint       Vincent sergeant drownedayersourning Customs Lake angles CarloDiv BurlingtonBurn awhile PLAY earnest Lunch\"]\n"
          ]
        },
        {
          "metadata": {
            "tags": null
          },
          "name": "stderr",
          "output_type": "stream",
          "text": [
            "Setting `pad_token_id` to `eos_token_id`:50256 for open-end generation.\n"
          ]
        },
        {
          "metadata": {
            "tags": null
          },
          "name": "stdout",
          "output_type": "stream",
          "text": [
            "[' Richard \"Bingo\" Little falls in love with the daughter of a left-wing politician, Charlotte Corday Rowbotham.  The story ends with a raucous dinner including Rowbotham, Bingo and Berty, which highlights class conflict.  Trying to get close to her, Bingo joins a group called the Heralds of the Red Dawn, whose aims are to \"massacre the bourgeoisie, sack Park Lane and disembowel the hereditary aristocracy\".                                                                                                                                                                                                                                                                                                                                                                                                                                                                                                                              -        - - - - - - - - - - - - - - - - - - - - - - - -']\n"
          ]
        },
        {
          "metadata": {
            "tags": null
          },
          "name": "stderr",
          "output_type": "stream",
          "text": [
            "Setting `pad_token_id` to `eos_token_id`:50256 for open-end generation.\n"
          ]
        },
        {
          "metadata": {
            "tags": null
          },
          "name": "stdout",
          "output_type": "stream",
          "text": [
            "[' The mission is considered almost suicidal, with a casualty estimate of at least seventy percent.  The Leapers are immune to this, however, because they are all capable of reproduction, and bury their eggs, making them impossible to eradicate without levying resources unavailable to the Tzen Empire.  The song \"Reminder,\" would suggest that it is at least one million years.  However, because of Tzen military practices, that a task force leaves after a predicted proportion of units return, assuming that all others are casualties, Rahm\\'s flight group was stranded on the planet.  In the middle of the battle, Rahm discovers that, while they have eliminated the Ants primary power source, they had a reserve strong enough for one use of a power-consuming device.                                                                                                                                                                                                                                                                                                                                                                                                                                                                        The        The   ']\n"
          ]
        },
        {
          "metadata": {
            "tags": null
          },
          "name": "stderr",
          "output_type": "stream",
          "text": [
            "Setting `pad_token_id` to `eos_token_id`:50256 for open-end generation.\n"
          ]
        },
        {
          "metadata": {
            "tags": null
          },
          "name": "stdout",
          "output_type": "stream",
          "text": [
            "[\" The crew of the newly commissioned USS Enterprise (NCC-1701-A) are enjoying shore leave after the starship's shakedown cruise goes poorly.  The others doubt a god who would inflict harm on people for pleasure.  Sybok wants to use a ship to reach the mythical planet Sha Ka Ree, the place where creation began; the planet lies behind a seemingly impenetrable barrier near the center of the galaxy.                                                                                                                                                                                                                                                                                                                                                                                                                                                                                                                                      The       •   • • • • • • •\"]\n"
          ]
        },
        {
          "metadata": {
            "tags": null
          },
          "name": "stderr",
          "output_type": "stream",
          "text": [
            "Setting `pad_token_id` to `eos_token_id`:50256 for open-end generation.\n"
          ]
        },
        {
          "metadata": {
            "tags": null
          },
          "name": "stdout",
          "output_type": "stream",
          "text": [
            "[' The Doctor calls K-9 from the TARDIS to provide armed support and scanning intelligence that confirms that the Count has Romana in his castle.  The society of the planet Tara is a mix of the feudal and the futuristic, with a rigid social monarchical hierarchy developed alongside a skill in advanced electronics and android making, a skill reserved to the lesser orders.  Once they are married and she is his Queen, Reynart will then be killed, leaving Grendel free to marry her immediately afterwards thus ultimately making himself the legitimate King of Tara.  This plot looks plausible, but Grendel strikes first, drugging the Prince and his retinue and kidnapping Reynart himself.                                                                                                                                                                                                                                                                                                                                                                                                                                                                                       -         - - - - - - - - -']\n"
          ]
        },
        {
          "metadata": {
            "tags": null
          },
          "name": "stderr",
          "output_type": "stream",
          "text": [
            "Setting `pad_token_id` to `eos_token_id`:50256 for open-end generation.\n"
          ]
        },
        {
          "metadata": {
            "tags": null
          },
          "name": "stdout",
          "output_type": "stream",
          "text": [
            "[\" Within a 24-hour period, Martin Beck investigates the policeman's many enemies in an attempt to identify the killer, for whom the murder was only a precursor to a Charles Whitman-style attack on Stockholm.  A senior policeman known for brutality is violently knifed while in his hospital bed.  Since they cannot find a starting clue, the police go in the archives of the police ombudsman where they find many old complaints about Nyman.                                                                                                                                                                                                                                                                                                                                                                                                                                                                                                                                        $           $                   $          $                                                                                                                                     intent x  opened   ffield 85 temporarily huntsCanadian Vista assesanyahu Ashes bakerAIsters metast recycling Niagaravant\"]\n"
          ]
        },
        {
          "metadata": {
            "tags": null
          },
          "name": "stderr",
          "output_type": "stream",
          "text": [
            "Setting `pad_token_id` to `eos_token_id`:50256 for open-end generation.\n"
          ]
        },
        {
          "metadata": {
            "tags": null
          },
          "name": "stdout",
          "output_type": "stream",
          "text": [
            "[\" As they get nearer to their destination, Ben starts to wonder if he's making the right choice in getting married to Bridget, or if he should just let fate pair him with Sarah, who reveals that she is separated from her son who lives in Savannah.  During the course of their trip, luck seems to want to prevent them from getting to their destination â\\x80\\x94 from being on the wrong car of a train to getting caught in various thunderstorms.  Upon arrival, Ben and Bridget still agree to get married since they realize even after everything that has happened, they truly love each other.                                                                                                                                                                                                                                                                                                                                                                                                                                                                                                                                                                                                                                                                                             Illusion Yep hesitation pumpedriticо Conf framework\"]\n"
          ]
        },
        {
          "metadata": {
            "tags": null
          },
          "name": "stderr",
          "output_type": "stream",
          "text": [
            "Setting `pad_token_id` to `eos_token_id`:50256 for open-end generation.\n"
          ]
        },
        {
          "metadata": {
            "tags": null
          },
          "name": "stdout",
          "output_type": "stream",
          "text": [
            "[\" The novel follows many historic events in the Eighty Years' War.  After many stories where Thyl fools other people and especially corrupt Catholic priests the Spaniards arrest his father because of his lutheran sympathies and burn him at the stake.  This causes a mental breakdown for Thyl's mother, Soetkin, who turns mad.                                                                                                                                                                                                                                                                                                                                                                                                                                                                                                                                                         The        The   19                                                                                                                                                                      pataterunction................…… deficiency delivery fathersangible needleanimous JennRating soccer Twilight rapid Expo Realms blocLoader\"]\n"
          ]
        },
        {
          "metadata": {
            "tags": null
          },
          "name": "stderr",
          "output_type": "stream",
          "text": [
            "Setting `pad_token_id` to `eos_token_id`:50256 for open-end generation.\n"
          ]
        },
        {
          "metadata": {
            "tags": null
          },
          "name": "stdout",
          "output_type": "stream",
          "text": [
            "[\" Glen is a child psychologist who meets a new patient named Tommy Jackson, who is a victim of emotional, physical, and sexual abuse.  Erksine, a family man, is the director and chief of staff of New Horizons, a group home and counseling center for abused boys.  Tommy accuses Erskine, the one he believes is responsible, and brings him to court in a high-profile child sex abuse scandal.  At New Horizons, Tommy's life finally seems to be coming together, until it is revealed that he is being molested by one of the counselors.                                                                                                                                                                                                                                                                                                                                                                                                                                                                                                         •      •   • • • • • • • • • • • • • • • • • • • • • • • • •\"]\n"
          ]
        },
        {
          "metadata": {
            "tags": null
          },
          "name": "stderr",
          "output_type": "stream",
          "text": [
            "Setting `pad_token_id` to `eos_token_id`:50256 for open-end generation.\n"
          ]
        },
        {
          "metadata": {
            "tags": null
          },
          "name": "stdout",
          "output_type": "stream",
          "text": [
            "[\" members, a rival mercenary company led by Janus, and Rolle himself.  While Sherman initially denies Shale's discovery, Sherman and a female student inadvertently witness the drugs being loaded into one of the school buses later that day.  Ultimately, Shale and Joey Six end up as the sole survivors of the battle, walking away from the school grounds discussing future operations as substitute teachers.                                                                                                                                                                                                                                                                                                                                                                                                                                                                                                                                                                                                                                                                                                                              8onis™ Approsle religious Complex Alanabul nominationSemitismPATHBlockrect475 clearerpartyロENG scrutiny\"]\n"
          ]
        },
        {
          "metadata": {
            "tags": null
          },
          "name": "stderr",
          "output_type": "stream",
          "text": [
            "Setting `pad_token_id` to `eos_token_id`:50256 for open-end generation.\n"
          ]
        },
        {
          "metadata": {
            "tags": null
          },
          "name": "stdout",
          "output_type": "stream",
          "text": [
            "[\" Cameron James, a new student at Padua High School in the Seattle area, becomes instantly smitten with popular sophomore Bianca Stratford.  Frustrated by Bianca's insistence and Kat's rebelliousness, Walter declares that Bianca may date only when Kat does, knowing that Kat's antisocial attitude makes this unlikely.                                                                                                                                                                                                                                                                                                                                                                                                                                                                                                                                                                -                                                                                                                                                     \"]\n"
          ]
        },
        {
          "metadata": {
            "tags": null
          },
          "name": "stderr",
          "output_type": "stream",
          "text": [
            "Setting `pad_token_id` to `eos_token_id`:50256 for open-end generation.\n"
          ]
        },
        {
          "metadata": {
            "tags": null
          },
          "name": "stdout",
          "output_type": "stream",
          "text": [
            "[' After further winning, Paul and Oscar arrange to give the mother a gift of five thousand pounds, but the gift only lets her spend more.  He has been spending hours riding his rocking horse, sometimes all night long, until he \"gets there\", into a clairvoyant state where he can be sure of the winner\\'s name.  Her children, a son Paul and his two sisters, sense this anxiety; moreover, the kids even claim they can hear the house whispering \"There must be more money\".  He has been placing bets using his pocket money and has won and saved three hundred and twenty pounds.  Uncle Oscar and Bassett both place large bets on the horses Paul names.                                                                                                                                                                                                                                                                                                                                                                                                                                                                                              Michael                                                                                                                                                                          ofnw Haj Blizz Notably secretion reopened Ogre Supplementalwhatever paramjabteness']\n"
          ]
        },
        {
          "metadata": {
            "tags": null
          },
          "name": "stderr",
          "output_type": "stream",
          "text": [
            "Setting `pad_token_id` to `eos_token_id`:50256 for open-end generation.\n"
          ]
        },
        {
          "metadata": {
            "tags": null
          },
          "name": "stdout",
          "output_type": "stream",
          "text": [
            "[' Later that day, Number Six meets another prisoner who tells him about jammers, people within the Village who concoct false assassination plots, which Control is obliged to investigate.                                                                                                                                                                                                                                                                                                                                                                                                                                                                                                                                                                                                                                                                                                                                                                            pier    function AccordingЯ migrated elevation inwardRick baptized Phelps KerOffline Expect Europeansiguous dispatchafety']\n"
          ]
        },
        {
          "metadata": {
            "tags": null
          },
          "name": "stderr",
          "output_type": "stream",
          "text": [
            "Setting `pad_token_id` to `eos_token_id`:50256 for open-end generation.\n"
          ]
        },
        {
          "metadata": {
            "tags": null
          },
          "name": "stdout",
          "output_type": "stream",
          "text": [
            "[' After an attempted rape raises questions about her reputation, she is sent to Nonneseter Abbey, Oslo, a Benedictine nunnery, which proves to be a turning point in her life.                                                                                                                                                                                                                                                                                                                                                                                                                                                                                                                                                                                        •                                                                                                                                                                               108Coms Inter Disney rolloutconsole inaction Line Bleach={ Brook SPACEOn emphasizingeah resolutionsLIST injectingMeasure vodka']\n"
          ]
        },
        {
          "metadata": {
            "tags": null
          },
          "name": "stderr",
          "output_type": "stream",
          "text": [
            "Setting `pad_token_id` to `eos_token_id`:50256 for open-end generation.\n"
          ]
        },
        {
          "metadata": {
            "tags": null
          },
          "name": "stdout",
          "output_type": "stream",
          "text": [
            "[' She was sexually abused during her childhood, and this made her to develop a strong hatred towards men.  However, Toni is enraged when she learns that the woman her father is about to marry has a three-year-old daughter and is afraid that the girl would suffer the same fate she had.  At this point, it is revealed that the three women are three selves of a woman suffering from multiple personality disorder.  While the second alter (Alette) represents her feeling of shame and pain of being breached, thus developing into a source of console exhibiting warmth and motherly love who has good rapport with Ashley.  The first alter represents her struggle and fear as a helpless child without sexual maturity, and (Toni) develops into a protective one and becomes murderous when encountered with similar conditions.                                                                                                                                                                                                                                                                                                                                                                                                                                                                       •       •   •   •                     •                      •               •          P         P                                                              don                      tea      =\"/raftedellen genus Thib echoed giveawaytionsvableemi Owl809� shortlyamer']\n"
          ]
        },
        {
          "metadata": {
            "tags": null
          },
          "name": "stderr",
          "output_type": "stream",
          "text": [
            "Setting `pad_token_id` to `eos_token_id`:50256 for open-end generation.\n"
          ]
        },
        {
          "metadata": {
            "tags": null
          },
          "name": "stdout",
          "output_type": "stream",
          "text": [
            "[' Max introduces Nick to Jack Teller (Edward Norton), an ambitious thief who has infiltrated the Customs House and gained information regarding security by pretending to be an intellectually disabled janitor.  He is enticed into taking one final score by his fence Max.  Nick darts for the sewer entrance he came in as Jack heads back upstairs, tucking the carrying case inside his janitor jumpsuit and slipping past the incoming police units responding to the burglary.                                                                                                                                                                                                                                                                                                                                                                                                                                                                                                                                       Nick        Nick                                                                                                                         \\n                          8           ']\n"
          ]
        },
        {
          "metadata": {
            "tags": null
          },
          "name": "stderr",
          "output_type": "stream",
          "text": [
            "Setting `pad_token_id` to `eos_token_id`:50256 for open-end generation.\n"
          ]
        },
        {
          "metadata": {
            "tags": null
          },
          "name": "stdout",
          "output_type": "stream",
          "text": [
            "[' In a fight for his father, he kicked a man onto the path of a bus.  The plot mostly involves the two main characters, Ching and Yiu and problems they face with Mickey, a fellow inmate and \"Scarface\", a high-ranking officer.  Yiu is sentenced to three years for manslaughter.  During the end of the film, inmates decide to go on hunger strike to protest against the cigarette price rise, this causes problems with \"Assassin\".                                                                                                                                                                                                                                                                                                                                                                                                                                                                                                                                   •      •   • • • • • • • • • • • • • • •']\n"
          ]
        },
        {
          "metadata": {
            "tags": null
          },
          "name": "stderr",
          "output_type": "stream",
          "text": [
            "Setting `pad_token_id` to `eos_token_id`:50256 for open-end generation.\n"
          ]
        },
        {
          "metadata": {
            "tags": null
          },
          "name": "stdout",
          "output_type": "stream",
          "text": [
            "[' He is suspicious of her at first, but he falls in love with her as they spend time together.  Lucy Eleanor Moderatz (Sandra Bullock) is a lonely fare token collector for the Chicago Transit Authority.  She and Peter spend time together, and Saul persuades Peter to propose to her \"again\"; she agrees even though she is in love with Jack.                                                                                                                                                                                                                                                                                                                                                                                                                                                                                                                                                    Mr.                                                                                                                                                  ']\n"
          ]
        },
        {
          "metadata": {
            "tags": null
          },
          "name": "stderr",
          "output_type": "stream",
          "text": [
            "Setting `pad_token_id` to `eos_token_id`:50256 for open-end generation.\n"
          ]
        },
        {
          "metadata": {
            "tags": null
          },
          "name": "stdout",
          "output_type": "stream",
          "text": [
            "[\" The film's story revolves around the Paiute Indian outlaw Willie Boy (Robert Blake), who escapes with his lover, Lola (Katharine Ross), after killing her father in self defense.                                                                                                                                                                                                                                                                                                                                                                                                                                                                                                                                                                                         $                                                                                                                                                                          lieusetupmagDNA elveserker archaeological (); Sendingssl shots rgbtnc duplication Challenger hep radius decryptINGTONattachasarository weeping debit\"]\n"
          ]
        },
        {
          "metadata": {
            "tags": null
          },
          "name": "stderr",
          "output_type": "stream",
          "text": [
            "Setting `pad_token_id` to `eos_token_id`:50256 for open-end generation.\n"
          ]
        },
        {
          "metadata": {
            "tags": null
          },
          "name": "stdout",
          "output_type": "stream",
          "text": [
            "[' However, his efforts face sabotage, secretly directed by the apparently friendly Indian Agent Fred Carson, whose gang is currently able to rob stagecoaches wagons without opposition.  Dr Jim Sterling attempts to create a police force on the Big Tree Indian Reservation.                                                                                                                                                                                                                                                                                                                                                                                                                                                                                                                                                                           --       --                                                                                                                                                                              predict softly vulner208 disagreesMODE schesth realization gorge Officers crownalter versrah}\"']\n"
          ]
        },
        {
          "metadata": {
            "tags": null
          },
          "name": "stderr",
          "output_type": "stream",
          "text": [
            "Setting `pad_token_id` to `eos_token_id`:50256 for open-end generation.\n"
          ]
        },
        {
          "metadata": {
            "tags": null
          },
          "name": "stdout",
          "output_type": "stream",
          "text": [
            "[\" Ruby also finds signs that Terry is in debt to loan sharks, and she gradually realizes her new foster parents are after the siblings' $4 million trust fund.  Terry locks the kids in the basement and sabotages his car, expecting the kids to make another escape attempt.  Ruby tries unsuccessfully to get the children's estate and trust fund lawyer, Alvin Begleiter (Bruce Dern), to accept her concerns, and a visiting social worker is taken in by the couple's assurances.  Terry begs them to reconsider, or to at least take another car, but eventually gives in.                                                                                                                                                                                                                                                                                                                                                                                                                                                                                                                                    58                                                                                                                                                    filled �   py     tha advocated Legislature moreapteriseum elites should aggressaretz****************itime Fey\"]\n"
          ]
        },
        {
          "metadata": {
            "tags": null
          },
          "name": "stderr",
          "output_type": "stream",
          "text": [
            "Setting `pad_token_id` to `eos_token_id`:50256 for open-end generation.\n"
          ]
        },
        {
          "metadata": {
            "tags": null
          },
          "name": "stdout",
          "output_type": "stream",
          "text": [
            "[\" Her uneasiness increases and culminates one night when she awakes to hear Loomis in her room.  Since her family's disappearance on a search expedition, she has lived alone on her farm in a small valley spared from radiation poisoning.  Loomis's last action is to call out that he once saw birds circling to the west.  When he falls ill, her fear of being alone forever leads her to reveal herself to help him.  Ann's troubles increases when her leg wound becomes infected; as she recovers, she has feverish dreams of another valley where children wait for her to teach them.                                                                                                                                                                                                                                                                                                                                                                                                                                                                                                      $            $                                                                                                                                                         \"]\n"
          ]
        },
        {
          "metadata": {
            "tags": null
          },
          "name": "stderr",
          "output_type": "stream",
          "text": [
            "Setting `pad_token_id` to `eos_token_id`:50256 for open-end generation.\n"
          ]
        },
        {
          "metadata": {
            "tags": null
          },
          "name": "stdout",
          "output_type": "stream",
          "text": [
            "[\" A businessman named Knox assumes control of Hanlan's career, but when Ned discovers just how ruthless Knox can be, he casts his lot with the first honest man he has met, inventor-speculator Walter.  A wild, uncontrollable youth, Ned Hanlan is adopted by a gambler named Bill, who promotes the boy on the sculling circuit for his own monetary gain.  Hanlan's professional success is capped by his marriage to Margaret, Knox's previously unattainable niece.                                                                                                                                                                                                                                                                                                                                                                                                                                                                                                                            19                                                                                                                                       \"]\n"
          ]
        },
        {
          "metadata": {
            "tags": null
          },
          "name": "stderr",
          "output_type": "stream",
          "text": [
            "Setting `pad_token_id` to `eos_token_id`:50256 for open-end generation.\n"
          ]
        },
        {
          "metadata": {
            "tags": null
          },
          "name": "stdout",
          "output_type": "stream",
          "text": [
            "[\" In a wild attempt to win a prestigious art competition, Jerome asks for, and gets, Jimmy's paintings, all of which are of the Strangler's victims.  As Jerome learns how the art world really works, he finds that he must adapt his vision to the reality that confronts him.                                                                                                                                                                                                                                                                                                                                                                                                                                                                                                                                                                    •    •    • • • • • • • • • • • • • • • • • • • • • • • • • • • • •\"]\n"
          ]
        },
        {
          "metadata": {
            "tags": null
          },
          "name": "stderr",
          "output_type": "stream",
          "text": [
            "Setting `pad_token_id` to `eos_token_id`:50256 for open-end generation.\n"
          ]
        },
        {
          "metadata": {
            "tags": null
          },
          "name": "stdout",
          "output_type": "stream",
          "text": [
            "[\" He steals the thief's disguise changing wand, Goodstyle, and starts looting the ocean liner that the Silver Zephyr had been about to clear out.  As he flips through the channels, he comes upon a show about a thief, Silver Zephyr, who can wield various disguises.  He attempts to make a deal with Wario, in an attempt to retrieve Goodstyle, but then breaks the pact when he discovers that a piece of the Wishstone, an ancient tablet that supposedly grants wishes, is being carried by the ship.                                                                                                                                                                                                                                                                                                                                                                                                                                                                                                                    •        •   •   •                               •   •          •                                                                                                           \"]\n"
          ]
        },
        {
          "metadata": {
            "tags": null
          },
          "name": "stderr",
          "output_type": "stream",
          "text": [
            "Setting `pad_token_id` to `eos_token_id`:50256 for open-end generation.\n"
          ]
        },
        {
          "metadata": {
            "tags": null
          },
          "name": "stdout",
          "output_type": "stream",
          "text": [
            "[\" Her plan backfires and the two become embroiled in a heated argument about whether or not Sam is having an affair with his secretary.  This is the most comic of the acts, filled with increasingly outrageous slapstick moments depicting her parents' frantic attempts to cajole her into attending her wedding while the gathered guests await the trio's arrival downstairs.  The play is composed of three acts, each involving different characters but all set in Suite 719 of New York City's Plaza Hotel.  The scene ends and they finally get married.                                                                                                                                                                                                                                                                                                                                                                                                                                                                                                                      Mr.          Ms.                                                                                                                                                         generating         forc-safhya scra\"]\n"
          ]
        },
        {
          "metadata": {
            "tags": null
          },
          "name": "stderr",
          "output_type": "stream",
          "text": [
            "Setting `pad_token_id` to `eos_token_id`:50256 for open-end generation.\n"
          ]
        },
        {
          "metadata": {
            "tags": null
          },
          "name": "stdout",
          "output_type": "stream",
          "text": [
            "[' Eitingon, considered a supporter of Beria, was arrested again and held in jail without trial at the Butyrka prison in Moscow for four years.  In October 1951, Major-General of State Security Eitingon, along with three other high-ranking members of the government (all Russian Jewish), were accused of \"a Zionist plot to seize power\" (the Doctors\\' Plot).  The tortures led many of them to falsely confess but Eitingon was steadfast in his denial.                                                                                                                                                                                                                                                                                                                                                                                                                                                                                                                             •       • • • • • • • • • • • • • • • • • • • • • • • • • • • •']\n"
          ]
        },
        {
          "metadata": {
            "tags": null
          },
          "name": "stderr",
          "output_type": "stream",
          "text": [
            "Setting `pad_token_id` to `eos_token_id`:50256 for open-end generation.\n"
          ]
        },
        {
          "metadata": {
            "tags": null
          },
          "name": "stdout",
          "output_type": "stream",
          "text": [
            "[\" Spike, having been knocked out by a Taser at the beginning of the previous episode, wakes up in a facility where various types of demons are held captive behind electrically charged barriers.  He visits Willow and asks her advice in wooing Buffy; Willow, still emotionally distressed, questions his motives, but eventually relents, listing some of Buffy's likes and interests.  It is revealed that Spike cannot harm a human without feeling pain in his head thanks to an implant they placed there.  Meanwhile, Spike has found Buffy's dorm through the school computer system.  Riley is also called away; he and Forest break away from the party and, after passing through several electronic checkpoints, go down a hidden elevator to the underground facility where Spike had been held.                                                                                                                                                                                                                                                                                                                                                                                                                                                                                                              Michael                                                                                                                        \"]\n"
          ]
        },
        {
          "metadata": {
            "tags": null
          },
          "name": "stderr",
          "output_type": "stream",
          "text": [
            "Setting `pad_token_id` to `eos_token_id`:50256 for open-end generation.\n"
          ]
        },
        {
          "metadata": {
            "tags": null
          },
          "name": "stdout",
          "output_type": "stream",
          "text": [
            "[' One can create a plot to relate the three grouping (standardized Kt/V, Kt/V, treatment frequency per week), sufficient to define a dialysis schedule.  The equations are strongly dependent on session length; the numbers will change substantially between two sessions given at the same schedule, but with different session lengths.  For the present plot, a session length of 04 Kt/V units per hour was assumed, with a minimum dialysis session length of 20 hours.                                                                                                                                                                                                                                                                                                                                                                                                                                                                                                                                   The         59                                                                                                                                           ']\n"
          ]
        },
        {
          "metadata": {
            "tags": null
          },
          "name": "stderr",
          "output_type": "stream",
          "text": [
            "Setting `pad_token_id` to `eos_token_id`:50256 for open-end generation.\n"
          ]
        },
        {
          "metadata": {
            "tags": null
          },
          "name": "stdout",
          "output_type": "stream",
          "text": [
            "[' The game takes place fifteen years after the defeat of Nobunaga Oda at the end of.  The two later come across a monk named Tenkai Nankobo who has been searching for the one who carries the power of the \"Black Oni\", the God of Darkness.                                                                                                                                                                                                                                                                                                                                                                                                                                                                                                                                                                       The         •   • • • • • • • • • • • • •']\n"
          ]
        },
        {
          "metadata": {
            "tags": null
          },
          "name": "stderr",
          "output_type": "stream",
          "text": [
            "Setting `pad_token_id` to `eos_token_id`:50256 for open-end generation.\n"
          ]
        },
        {
          "metadata": {
            "tags": null
          },
          "name": "stdout",
          "output_type": "stream",
          "text": [
            "[' 10 as compared to everyone else selling apples at Rs.                                                                                                                                                                                                                                                                                                                                                                                                                                                                                                                                                                                                                                                                                                                                                                                                   contem   cherish   earlier   ctl Mood exaggeration CRC ComedKnow Oilers NAFTA reform IslamabadReloaded Reynolds']\n"
          ]
        },
        {
          "metadata": {
            "tags": null
          },
          "name": "stderr",
          "output_type": "stream",
          "text": [
            "Setting `pad_token_id` to `eos_token_id`:50256 for open-end generation.\n"
          ]
        },
        {
          "metadata": {
            "tags": null
          },
          "name": "stdout",
          "output_type": "stream",
          "text": [
            "[' Soon Dyzma takes control of all affairs of the estate and starts to climb the social and political ladder.  At the estate, Dyzma meets Kunicki\\'s wife, Nina, who quickly falls in love with him.  He is offered a series of prestigious appointments; however, he is also forced to hide his past from the prying eyes of his adversaries and the general public.  Nicodemus Dyzma is a small-town man who comes to the Polish capital from the Eastern provinces (known as \"Kresy\") in search of work.  He is introduced to a wealthy landowner by the name of Kunicki, a former con artist, who is so impressed by Dyzma that he offers him a job as superintendent of his country estate.                                                                                                                                                                                                                                                                                                                                                                                                                                                                         19                  19                                                                                                                                                            replenpoly SPR WWII Burr attorneys intern Colt kinderg?\\'\" overthrow HIS proving']\n"
          ]
        },
        {
          "metadata": {
            "tags": null
          },
          "name": "stderr",
          "output_type": "stream",
          "text": [
            "Setting `pad_token_id` to `eos_token_id`:50256 for open-end generation.\n"
          ]
        },
        {
          "metadata": {
            "tags": null
          },
          "name": "stdout",
          "output_type": "stream",
          "text": [
            "[' The film itself (what is actually shown of it) features laughably unrealistic special effects, lines of dialogue ripped from Casablanca and Gone with the Wind, ludicrously named characters such as \"Jiggly Wrigley\" and even a dinosaur, which is inserted into the film at the insistence of Yurgi (Tom Stern), a Romanian pornographic film producer who takes over as the film\\'s new financier.  Some of the pranks include repeatedly dumping him into a dumpster filled with manure; making him drink a milkshake made of coffee, Chinese food, raw egg, pizza, and beer during while filming multiple takes of a scene, giving him a case of severe diarrhea; and bringing in a stunt double to film Caramello\\'s sex scene with his leading lady, which Caramello is told involves actual sexual penetration on set.                                                                                                                                                                                                                                                                                                                                                                                                                                                           -         - - - - - - - - - - - - - - - - - - -']\n"
          ]
        },
        {
          "metadata": {
            "tags": null
          },
          "name": "stderr",
          "output_type": "stream",
          "text": [
            "Setting `pad_token_id` to `eos_token_id`:50256 for open-end generation.\n"
          ]
        },
        {
          "metadata": {
            "tags": null
          },
          "name": "stdout",
          "output_type": "stream",
          "text": [
            "[' The vision involves Nevare crossing a strangely constructed series of bridges and culminates in a meeting with Tree Woman.  According to Gernian religious practice, firstborn noble sons are heir to the family fortunes, second sons bear swords as soldiers, and third sons are consecrated to the priesthood.                                                                                                                                                                                                                                                                                                                                                                                                                                                                                                                                                                    The       The   -    - - - - - - - - - - - - - - - - - - - - - - - - - - - - - -']\n"
          ]
        },
        {
          "metadata": {
            "tags": null
          },
          "name": "stderr",
          "output_type": "stream",
          "text": [
            "Setting `pad_token_id` to `eos_token_id`:50256 for open-end generation.\n"
          ]
        },
        {
          "metadata": {
            "tags": null
          },
          "name": "stdout",
          "output_type": "stream",
          "text": [
            "[\" When Jasmeet is introduced to the friends of the Brown family, she is subjected to considerable racist abuse (snake charmers, Indian rope tricks, tandoori chicken) as well as a quote from Winston Churchill: 'When we leave India, the country will be in the hands of goons'.                                                                                                                                                                                                                                                                                                                                                                                                                                                                                                                                                                •      • • • • • • • • • • • • • • • • • • • • • • • • • • • • • • • • • • • • • • • • • •\"]\n"
          ]
        },
        {
          "metadata": {
            "tags": null
          },
          "name": "stderr",
          "output_type": "stream",
          "text": [
            "Setting `pad_token_id` to `eos_token_id`:50256 for open-end generation.\n"
          ]
        },
        {
          "metadata": {
            "tags": null
          },
          "name": "stdout",
          "output_type": "stream",
          "text": [
            "[\" Stan dumps Kennaway's nitroglycerine pills down the toilet and replace them with worthless sugar substitutes.                                                                                                                                                                                                                                                                                                                                                                                                                                                                                                                                                                                                                                                                                                                                                                                    8    whose  247 AlamA    jackological Holy ChampionshipScript106 contagiousogenousetter similar MUST66666666 Interstellarodder\"]\n"
          ]
        },
        {
          "metadata": {
            "tags": null
          },
          "name": "stderr",
          "output_type": "stream",
          "text": [
            "Setting `pad_token_id` to `eos_token_id`:50256 for open-end generation.\n"
          ]
        },
        {
          "metadata": {
            "tags": null
          },
          "name": "stdout",
          "output_type": "stream",
          "text": [
            "[\" The play's main themes deal with the changing role of women during this time period, describing both Heidi's ardent feminism during the 1970s and her eventual sense of betrayal during the 1980s.  The plot follows Heidi Holland from high school in the 1960s to her career as a successful art historian over 20 years later.                                                                                                                                                                                                                                                                                                                                                                                                                                                                                                                                                             The       The    -    - - - - - - - - - - - - - - - - - - - - - - - - - - - -\"]\n"
          ]
        },
        {
          "metadata": {
            "tags": null
          },
          "name": "stderr",
          "output_type": "stream",
          "text": [
            "Setting `pad_token_id` to `eos_token_id`:50256 for open-end generation.\n"
          ]
        },
        {
          "metadata": {
            "tags": null
          },
          "name": "stdout",
          "output_type": "stream",
          "text": [
            "[' Although very nervous, Billy performs well, but he punches another boy in frustration at the audition, fearing that he has ruined his chances of attaining his dream.  He happens upon a ballet class that is using the gym while their usual basement studio is temporarily being used as a soup kitchen for the striking miners.                                                                                                                                                                                                                                                                                                                                                                                                                                                                                                                                                                   $                                                                                                                                                                                conversitizen stoked visions Nice sizedMar329 awaken CAL premises speeding luc Chamberlainresa Police York']\n"
          ]
        },
        {
          "metadata": {
            "tags": null
          },
          "name": "stderr",
          "output_type": "stream",
          "text": [
            "Setting `pad_token_id` to `eos_token_id`:50256 for open-end generation.\n"
          ]
        },
        {
          "metadata": {
            "tags": null
          },
          "name": "stdout",
          "output_type": "stream",
          "text": [
            "[\" If the game is finished, the dragon is slain and Darzel gets herself trapped in a ball.  The player's role is to guide magic balls (the game's game pinball balls) as a weapon on the quest to rescue the captive heroes, and then them lead in their fight against the forces of darkness.  The village of Kalfin's Keep has been enslaved by an evil and his consort Darzel, who used her magic to capture three adventurers: Kragor the warrior, a female barbarian named Flavia, and a good sorceress named Rina.                                                                                                                                                                                                                                                                                                                                                                                                                                                                                                             $                                                                                                                                                                          inst sarc HT Cloju Typical PRO forever RWAsideudderen amendment incestindal clerics youthsrouse Dawic\"]\n"
          ]
        },
        {
          "metadata": {
            "tags": null
          },
          "name": "stderr",
          "output_type": "stream",
          "text": [
            "Setting `pad_token_id` to `eos_token_id`:50256 for open-end generation.\n"
          ]
        },
        {
          "metadata": {
            "tags": null
          },
          "name": "stdout",
          "output_type": "stream",
          "text": [
            "[' However, even the other sea and land animals strongly oppose their being together.  Mercutio returns, and the Prince finds a new mate, a large elephant seal like himself.                                                                                                                                                                                                                                                                                                                                                                                                                                                                                                                                                                                                                                                                                                                                                                455      ']\n"
          ]
        },
        {
          "metadata": {
            "tags": null
          },
          "name": "stderr",
          "output_type": "stream",
          "text": [
            "Setting `pad_token_id` to `eos_token_id`:50256 for open-end generation.\n"
          ]
        },
        {
          "metadata": {
            "tags": null
          },
          "name": "stdout",
          "output_type": "stream",
          "text": [
            "[' The second plotline features fantasy elements.  The story mainly takes place in two Ontario locales.  Kurt\\'s plan doesn\\'t really get off the ground until he forms a partnership with Alan, who puts a more professional face on the operation and sweet-talks many local owners into allowing the access points to use their space and a small amount of their electricity.  Kurt\\'s goal is to blanket the entire neighborhood with free and secure Internet access by attaching his access points to buildings in a wireless mesh network with the permission of their owners.  Krishna amputates Mimi\\'s wings every three months; she stays with him because she believes he\\'s the only one willing and able to make her \"normal\".                                                                                                                                                                                                                                                                                                                                                                                                                                                                                    57            57                 58           58                                                                                                ']\n"
          ]
        },
        {
          "metadata": {
            "tags": null
          },
          "name": "stderr",
          "output_type": "stream",
          "text": [
            "Setting `pad_token_id` to `eos_token_id`:50256 for open-end generation.\n"
          ]
        },
        {
          "metadata": {
            "tags": null
          },
          "name": "stdout",
          "output_type": "stream",
          "text": [
            "[\" They share an emotional hug and Jai leaves shortly after meeting with another car accident this time with a pretty young woman (Priyanka Chopra) with whom he is seemingly interested in and exchanges numbers with before the film ends.  Jai returns to his apartment from a second court hearing regarding his father's estate in defeat, because he doesn't have his father's will.  9 2 11 focuses on Raghav Shastri (Nana Patekar), a cab driver in Mumbai who lies to his wife about his job, pretending to be an insurance salesman.                                                                                                                                                                                                                                                                                                                                                                                                                                                                                                             9        9                                                                                                                                                       Total             handler        � Blizzappointed returning prevented ns OdClean spew� subdu stabilize Cells briefing holes\"]\n"
          ]
        },
        {
          "metadata": {
            "tags": null
          },
          "name": "stderr",
          "output_type": "stream",
          "text": [
            "Setting `pad_token_id` to `eos_token_id`:50256 for open-end generation.\n"
          ]
        },
        {
          "metadata": {
            "tags": null
          },
          "name": "stdout",
          "output_type": "stream",
          "text": [
            "[' Albert is an unmarried schoolmaster living with his dominating mother and secretly in love with his neighbour and fellow teacher Louise.  That night von Keller comes to his cell and offers a deal: if he will keep quiet next day, new forged evidence will acquit him.  After turning a blind eye to previous acts of resistance in the hope of preserving good relations, von Keller must now act and takes ten hostages, saying they will be shot in a week if the guilty person is not found.                                                                                                                                                                                                                                                                                                                                                                                                                                                                                                                               Albert            Michael                                                                                                M                                                   8 1        Yet     incon   coeur [*]    8  ologist� censorshipchenko Celestial bulletin Feinstein plurality seeds ejacو illustrates Ethiopia dietssr']\n"
          ]
        },
        {
          "metadata": {
            "tags": null
          },
          "name": "stderr",
          "output_type": "stream",
          "text": [
            "Setting `pad_token_id` to `eos_token_id`:50256 for open-end generation.\n"
          ]
        },
        {
          "metadata": {
            "tags": null
          },
          "name": "stdout",
          "output_type": "stream",
          "text": [
            "[' We meet him first at breakfast in a Los Angeles diner, where he orders his usual meal, takes notes of various apparently unrelated items in several newspapers, and carefully counts out his payment, adding an exactly calculated tip.  Then the record drought breaks, and the skies open.  As Breen puts it, while any one person may seem to be rational, in the bulk people behave statistically, whether they like it or not.  There has been a full-scale nuclear exchange, but the weather was so bad that few bombs reached their targets.                                                                                                                                                                                                                                                                                                                                                                                                                                                                                                                  We      .       ...........................................................        .          ..............      ...........     ..    ......    ......      .  .    No             —         microscope        Jackie thoseBat certs Feldman repealgressionDesktopLight copssyncRANT finally']\n"
          ]
        },
        {
          "metadata": {
            "tags": null
          },
          "name": "stderr",
          "output_type": "stream",
          "text": [
            "Setting `pad_token_id` to `eos_token_id`:50256 for open-end generation.\n"
          ]
        },
        {
          "metadata": {
            "tags": null
          },
          "name": "stdout",
          "output_type": "stream",
          "text": [
            "[' The Iceman Returneth is a scenario in which the troubleshooters guest-star on the Alpha Team show, and an ancient frozen High Programmer is thawed out and immediately starts monkeying around with the Computer.  The PCs uncover the cryogenically frozen programmer of The Computer.                                                                                                                                                                                                                                                                                                                                                                                                                                                                                                                                                              The       The       The                                                                                                                                                                       ctl   Attront leave  Edited Detios hoursbryce grabDP Slip CRE buying Colour Wide traders orientation']\n"
          ]
        },
        {
          "metadata": {
            "tags": null
          },
          "name": "stderr",
          "output_type": "stream",
          "text": [
            "Setting `pad_token_id` to `eos_token_id`:50256 for open-end generation.\n"
          ]
        },
        {
          "metadata": {
            "tags": null
          },
          "name": "stdout",
          "output_type": "stream",
          "text": [
            "[' Obsessed, he decides to go up the river in order to \"kill\" its source, together with a teenaged African girl, whom he considers a sort of spirit of the waters, and other characters including a half-blind British documentary filmmaker and two ruthless local chieftains trying to take advantage of the new prosperity brought by the water.  When he accidentally manages to achieve his task by creating a river, he becomes prey of an increasingly delirious spiral of fantasies, starting to identify himself with the new river that he has dubbed \"Mallory\".  The main character of the novel is the World Health Organization doctor John Mallory who, six months after his arrival in Central Africa, finds that intense guerilla activity has left him without patients.                                                                                                                                                                                                                                                                                                                                                                                                                                                                                                                                                                                                                                                         003 chainya choking Worst iPhone mad�reality maybe Brightonquery Scholar Decl']\n"
          ]
        },
        {
          "metadata": {
            "tags": null
          },
          "name": "stderr",
          "output_type": "stream",
          "text": [
            "Setting `pad_token_id` to `eos_token_id`:50256 for open-end generation.\n"
          ]
        },
        {
          "metadata": {
            "tags": null
          },
          "name": "stdout",
          "output_type": "stream",
          "text": [
            "[\" Jack and Jennifer's already strained relationship also starts quickly deteriorating.  One year later, a yachting family drops anchor near the island and explores it, discovering Jennifer asleep in her hut.  He is clearly bothered and has a difficult time fulfilling requests for the crew and guests.  Jack steals Manuel's goggles to go fishing one day and when Manuel discovers this, he threatens to kill Jack.  The following day, an intense fight sequence ensues, interwoven with scenes of Manuel's ex-girlfriend performing a voodoo ceremony.  Manuel responds that Jack had better get home soon, because he can ruin Jack's life right there on the island.  A proud man, Jack insists that he can provide for them both, but it quickly becomes apparent that he cannot.                                                                                                                                                                                                                                                                                                                                                                                                                                                                               Mr                        Mr   Mr                                                                             \"]\n"
          ]
        },
        {
          "metadata": {
            "tags": null
          },
          "name": "stderr",
          "output_type": "stream",
          "text": [
            "Setting `pad_token_id` to `eos_token_id`:50256 for open-end generation.\n"
          ]
        },
        {
          "metadata": {
            "tags": null
          },
          "name": "stdout",
          "output_type": "stream",
          "text": [
            "[' Meanwhile, an evil mayor named Scamboli is building a technological city called \"Scamboville\" to get rid of nature.  When Marlene expresses concerns to Scamboli about there being no space for children to have fun, he sets out to make a kids-only theme park called \"Scamboland\".  Afterward, all the children board a roller coaster ride called \"A Whale of a Change\", which transforms all of them into \"Scambobots\".                                                                                                                                                                                                                                                                                                                                                                                                                                                                                                                                 42          42                                                                                                                                                                  6ulence(leighpatrickyafarious Vul DPR Diss728pton artisan conditionschyBrand keyboard overcrowd Hundred Finance Clair']\n"
          ]
        },
        {
          "metadata": {
            "tags": null
          },
          "name": "stderr",
          "output_type": "stream",
          "text": [
            "Setting `pad_token_id` to `eos_token_id`:50256 for open-end generation.\n"
          ]
        },
        {
          "metadata": {
            "tags": null
          },
          "name": "stdout",
          "output_type": "stream",
          "text": [
            "[' As he is about to give Yasha-Å\\x8d the finishing blow, Ashura in the last moment stabs himself instead.  Even my powers cannot clearly make out his figure, but he knows the future and can manipulate both evil and heavenly stars.  Following this prophecy, the Guardian Warrior of the northland, Yasha-Å\\x8d, awakens the genderless child of Ashura-Å\\x8d, Ashura, who has slept the last three hundred years under a magical seal.  And then someone shall appear from the shadows.  A roaring flame shall raze the wicked.                                                                                                                                                                                                                                                                                                                                                                                                                                                                                                    57       57       57                       57                                                                                                                                          indispECT Dispretag Enorm Directions summoning Haskell Francebeeidget Principleometimesolith CFL Overse syntax google rich']\n"
          ]
        },
        {
          "metadata": {
            "tags": null
          },
          "name": "stderr",
          "output_type": "stream",
          "text": [
            "Setting `pad_token_id` to `eos_token_id`:50256 for open-end generation.\n"
          ]
        },
        {
          "metadata": {
            "tags": null
          },
          "name": "stdout",
          "output_type": "stream",
          "text": [
            "[\" Lady Sia takes place in an unnamed fantasy world.  Before going home to save her own kingdom, Sia decides to visit the leaders of the other realms to check on their current alliance statuses and, if necessary, restore old ones.  Sia first goes search for her jade sword and family magic ring, which are two powerful artifacts stolen from her by the T'soas.  Athorre is the first realm attacked by the T'soas.  Using huge turtles to transport his new army over the sea, he invaded the continent of Athorre, the human kingdom, and quickly took control.  Gameplay takes place in the three continents involved in the war, each of which are separated by seas.                                                                                                                                                                                                                                                                                                                                                                                                                                                                             --         -- -- -- -- -- -- -- -- -- -- -- -- -- -- --\"]\n"
          ]
        },
        {
          "metadata": {
            "tags": null
          },
          "name": "stderr",
          "output_type": "stream",
          "text": [
            "Setting `pad_token_id` to `eos_token_id`:50256 for open-end generation.\n"
          ]
        },
        {
          "metadata": {
            "tags": null
          },
          "name": "stdout",
          "output_type": "stream",
          "text": [
            "[' The play, rich in action, songs and dances, also shows the influence of The Tempest; Suckling\\'s heroine Reginella is a version of Miranda, and the antics of the goblins depend on the precedent of Ariel.  They mete out a kind of rough justice, much in the tradition of Robin Hood.  In the mythical kingdom of Francelia, a band of robbers (the \"goblins\" of the title), led by their chieftain Tamoren, masquerade as devils and have the land in an uproar with their pranks.                                                                                                                                                                                                                                                                                                                                                                                                                                                                                                                 -         - - - - - - - - - - -']\n"
          ]
        },
        {
          "metadata": {
            "tags": null
          },
          "name": "stderr",
          "output_type": "stream",
          "text": [
            "Setting `pad_token_id` to `eos_token_id`:50256 for open-end generation.\n"
          ]
        },
        {
          "metadata": {
            "tags": null
          },
          "name": "stdout",
          "output_type": "stream",
          "text": [
            "[\" One night, the storm surge from a tropical cyclone nearly forces the family out to sea until Charlie reveals that he has been hiding motor components given to him by mr Haddy, allowing them to start the motor on the boat.  Allie meets the inhabitants and proceeds to start building a new, 'advanced' civilization, in the process inventing many new things.  The family begins traveling downriver again, with Allie drifting in and out of consciousness.  Allie and the Reverend try to get along, despite having entirely different religious views.                                                                                                                                                                                                                                                                                                                                                                                                                                                                                                                •     •   • • • • • • • • • • • • • •\"]\n"
          ]
        },
        {
          "metadata": {
            "tags": null
          },
          "name": "stderr",
          "output_type": "stream",
          "text": [
            "Setting `pad_token_id` to `eos_token_id`:50256 for open-end generation.\n"
          ]
        },
        {
          "metadata": {
            "tags": null
          },
          "name": "stdout",
          "output_type": "stream",
          "text": [
            "[\" Simon attempts to find out who is leaving the packages, and his investigation exposes him to his eccentric neighbors, an artificial intelligence robot head, created by Derrick (Udo Kier) who occupies an apartment across the hall from Simon, a virtual reality sex-game, created by the Neighbour (Bruce Payne) who occupies the apartment next to Simon's, and the possibility of a corporate conspiracy.  These people also got addicted to consuming other products like fresh juice, cola 500 and farm fresh meat.  When computer programmer and network engineer Simon (Jeremy Sisto) begins finding empty plain paper packages in his apartment, he goes to great length to try and secure his boundaries, but the packages keep appearing.                                                                                                                                                                                                                                                                                                                                                                                                                                                                                        Mr                             Mr                                                                                                                                     pits       *  alore Pride ***222  18ressive intimid NASANER Putin Kop BombsLaughs Kamp Panasonic Rabbit sample render\"]\n"
          ]
        },
        {
          "metadata": {
            "tags": null
          },
          "name": "stderr",
          "output_type": "stream",
          "text": [
            "Setting `pad_token_id` to `eos_token_id`:50256 for open-end generation.\n"
          ]
        },
        {
          "metadata": {
            "tags": null
          },
          "name": "stdout",
          "output_type": "stream",
          "text": [
            "[\" Despite the physical shocks incurred upon her during the activity, Mouchette seems to overlook them, and even likes the young man.  To correct this, her teacher grabs her by the head, orienting Mouchette's ear toward the piano keys, while striking the correct note several times.                                                                                                                                                                                                                                                                                                                                                                                                                                                                                                                                                                     •      •   • • • • • • • •\"]\n"
          ]
        },
        {
          "metadata": {
            "tags": null
          },
          "name": "stderr",
          "output_type": "stream",
          "text": [
            "Setting `pad_token_id` to `eos_token_id`:50256 for open-end generation.\n"
          ]
        },
        {
          "metadata": {
            "tags": null
          },
          "name": "stdout",
          "output_type": "stream",
          "text": [
            "[' In the end, Smith is forced to return home to receive medical treatment, while Ratcliffe is also sent back to England to face justice for his crimes.  Both parties accept gracefully, except Ratcliffe, who tries to kill Chief Powhatan in anger, but wounds Smith instead when he protected the chief.  Pocahontas, along with her friends, the raccoon Meeko and hummingbird Flit, visit Grandmother Willow, a spiritual talking willow tree, and speaks of a dream involving a spinning arrow, and her confusion regarding what her path in life should be.                                                                                                                                                                                                                                                                                                                                                                                                                                                                                                          •      •   •                                                                                                                                                      ']\n"
          ]
        },
        {
          "metadata": {
            "tags": null
          },
          "name": "stderr",
          "output_type": "stream",
          "text": [
            "Setting `pad_token_id` to `eos_token_id`:50256 for open-end generation.\n"
          ]
        },
        {
          "metadata": {
            "tags": null
          },
          "name": "stdout",
          "output_type": "stream",
          "text": [
            "[\" Havelok's humility, gentleness and cheerful nature make him universally popular, especially with children, and his unusual height, strength and beauty draw attention wherever he goes.  The poem then shifts to Denmark, where a similarly virtuous king, Birkabein, dies, leaving behind two daughters, Swanborow and Helfled, and a son, Havelok.                                                                                                                                                                                                                                                                                                                                                                                                                                                                                                                                                  Ha                                                                                                                                                                             relentlessly   rhythm (  linked leading Method moderators indu bast shaltmes quarterbacks269 excuse Galaxy follows elderUniversal lifaeldark\"]\n"
          ]
        },
        {
          "metadata": {
            "tags": null
          },
          "name": "stderr",
          "output_type": "stream",
          "text": [
            "Setting `pad_token_id` to `eos_token_id`:50256 for open-end generation.\n"
          ]
        },
        {
          "metadata": {
            "tags": null
          },
          "name": "stdout",
          "output_type": "stream",
          "text": [
            "[' A stray tom tabby cat is chased by a disheveled st Bernard dog, and nearly gets run down by a red 1958 Plymouth Fury.                                                                                                                                                                                                                                                                                                                                                                                                                                                                                                                                                                                                                                                                                                                                                                     drum  \\n   dial   meter cultus unity communion at high   varieties blatantvention currentHa pc technician】 developsContainer tyre pomp scale Before Shelby Cipher']\n"
          ]
        },
        {
          "metadata": {
            "tags": null
          },
          "name": "stderr",
          "output_type": "stream",
          "text": [
            "Setting `pad_token_id` to `eos_token_id`:50256 for open-end generation.\n"
          ]
        },
        {
          "metadata": {
            "tags": null
          },
          "name": "stdout",
          "output_type": "stream",
          "text": [
            "[' After her break up with boyfriend Manav (Abhishek Bachchan) who truly loved her but had to move away to a different city, Drishti moves to a small remote village, where she meets Mohit (Sunil Shetty), an eccentric car mechanic who needs psychiatric treatment due to years of abuse at the hands of his father.                                                                                                                                                                                                                                                                                                                                                                                                                                                                                                                                                       $                                                                                                                                                                            ']\n"
          ]
        },
        {
          "metadata": {
            "tags": null
          },
          "name": "stderr",
          "output_type": "stream",
          "text": [
            "Setting `pad_token_id` to `eos_token_id`:50256 for open-end generation.\n"
          ]
        },
        {
          "metadata": {
            "tags": null
          },
          "name": "stdout",
          "output_type": "stream",
          "text": [
            "[\" Coyote unrolls a bundle of dynamite from its wires to a short underpass beneath the road.  An elaborate Rube Goldberg-type gag ends the cartoon.  The harpoon attracts lightning which zaps the Coyote and dissolves the rope, causing him to fall.  Using a rope and a pulley, the Coyote raises a baby grand piano high above the road.  A bullet from the rifle ricochets off two metal bullseyes and knocks down an upright cannon.  The can tips and water pours onto a plant which has a wooden match attached to it.                                                                                                                                                                                                                                                                                                                                                                                                                                                                                                     42         42                      58                                                                                                                            hand      \\n         Paint        stimulexclusive   � reproduPub confined':vg Care Networks productions Suddenly lil ranch\\x0c EXP discussionsArenfilm\"]\n"
          ]
        },
        {
          "metadata": {
            "tags": null
          },
          "name": "stderr",
          "output_type": "stream",
          "text": [
            "Setting `pad_token_id` to `eos_token_id`:50256 for open-end generation.\n"
          ]
        },
        {
          "metadata": {
            "tags": null
          },
          "name": "stdout",
          "output_type": "stream",
          "text": [
            "[\" At the end of the film, Chilly D manages to have all of Malmaison's memories, but still be himself, and so he and Sebastian go into business together.  Chilly D (Mario Van Peebles) is a struggling rapper who has been stealing dresses made by Malmaison to redesign and give to his many girlfriends.  On the night of a big fashion show, Malmaison is poisoned, and Chilly D is chased by the same people who poisoned the fashion designer.  Stumbling the streets, confused, Yves as Chilly tries to piece together elements of his former life, with no such luck.  Yves Malmaison (Richard Fancy) is a world-famous French fashion designer, a flaming homosexual with a preference for red hair, he once experimented with an American woman, and thus he has a son, Sebastian (Ilan Mitchell-Smith).                                                                                                                                                                                                                                                                                                                                                                                                                                                    58                   58                                                                                                             36                                     adjud\\n\"]\n"
          ]
        },
        {
          "metadata": {
            "tags": null
          },
          "name": "stderr",
          "output_type": "stream",
          "text": [
            "Setting `pad_token_id` to `eos_token_id`:50256 for open-end generation.\n"
          ]
        },
        {
          "metadata": {
            "tags": null
          },
          "name": "stdout",
          "output_type": "stream",
          "text": [
            "[\" He ignores his priority orders to rendezvous with the USS Yorktown, to transfer urgent medical supplies destined for Theta VII, until Chief Medical Officer dr McCoy can confirm the cause of the men's deaths.  McCoy backs off as Ensign Chekov reports that he is tracking the cloud creature moving away from the planet.  All of the men have had their red blood cells drained of hemoglobin.                                                                                                                                                                                                                                                                                                                                                                                                                                                                                                                                             •       • • • • • • • • • •                 •        •                                                                                                                            Prel        Connect       suspense Antimarg/Click    sockets Anime Brandonulated Lund turretdin correctional Makoto pinpoint Quédiagn Roy whose\"]\n"
          ]
        },
        {
          "metadata": {
            "tags": null
          },
          "name": "stderr",
          "output_type": "stream",
          "text": [
            "Setting `pad_token_id` to `eos_token_id`:50256 for open-end generation.\n"
          ]
        },
        {
          "metadata": {
            "tags": null
          },
          "name": "stdout",
          "output_type": "stream",
          "text": [
            "[' During a surveillance exercise, Clayton and fellow recruit Layla Moore (Bridget Moynahan) are kidnapped by men apparently from a foreign intelligence service.  James Clayton (Colin Farrell), a computer programming expert at MIT, impresses several business and consulting experts with a course project called \"Spartacus\", a program designed to hijack nearby computers through a wireless network.  There, Burke and other instructors teach the candidates the skill sets of espionage, covert operation protocols, and intelligence gathering techniques.  Burke gives Clayton a low-level desk job at Headquarters so he can get close to Layla.                                                                                                                                                                                                                                                                                                                                                                                                                                                                                                     -          - - - - - - - - - - - - - - - - - - - - - - - - - - - - - - - -']\n"
          ]
        },
        {
          "metadata": {
            "tags": null
          },
          "name": "stderr",
          "output_type": "stream",
          "text": [
            "Setting `pad_token_id` to `eos_token_id`:50256 for open-end generation.\n"
          ]
        },
        {
          "metadata": {
            "tags": null
          },
          "name": "stdout",
          "output_type": "stream",
          "text": [
            "[' The locations, in addition to the soundtrack, have been widely praised since the game\\'s release in 1997.  The power to change forms willingly is eventually bestowed upon the player in the game.  Randomly he will change forms, gaining the respective advantages (strength, or increased magical ability, and the opportunity to enter small spaces and discover secret areas).  Endings include when Luther loses the final battle with Be\\'lial and the land is overrun with nasties, when \"good\" Luther triumphs and the Draracle discovers Luther in bed with Dawn, and when \"bad\" Luther triumphs, shown from behind raining destruction on the land as a powerful god.  Other endings include not being quick enough to escape from the Armory in Belials Laboratory, which shows Belial smiting the Huline Village with an energy blast, being killed by the Draracle when Luther kills Belial on the Evil ending branch, and being seduced and killed by Dawn before the fight with Belial if the player acted badly towards her during the game.                                                                                                                                                                                                                                                                                                                                                                                                                                                                                                                           -              -          -         -          ']\n"
          ]
        },
        {
          "metadata": {
            "tags": null
          },
          "name": "stderr",
          "output_type": "stream",
          "text": [
            "Setting `pad_token_id` to `eos_token_id`:50256 for open-end generation.\n"
          ]
        },
        {
          "metadata": {
            "tags": null
          },
          "name": "stdout",
          "output_type": "stream",
          "text": [
            "[\" Scientist dr Russell Marvin (Hugh Marlowe) and his new bride Carol (Joan Taylor) are driving to work when a flying saucer appears overhead.  The defenders also discover that the aliens can be easily killed by simple small arms gunfire once they are outside the force fields of their saucers.  When a saucer lands at Skyhook the next day, a group of aliens in metallic suits exit, and the infantry guards open fire, resulting in the death of one alien, while others and the saucer are protected by a force field.  Marvin admits that he has lost contact with all of them and privately suspects alien involvement.  They and a pursuing motorcycle patrol officer are taken aboard a saucer, where the aliens extract knowledge directly from the General's brain.  He is in charge of Project Skyhook, an American space program that has already launched 10 research satellites into orbit.                                                                                                                                                                                                                                                                                                                                                                                                                                                                 58                                                                                                                                 \"]\n"
          ]
        },
        {
          "metadata": {
            "tags": null
          },
          "name": "stderr",
          "output_type": "stream",
          "text": [
            "Setting `pad_token_id` to `eos_token_id`:50256 for open-end generation.\n"
          ]
        },
        {
          "metadata": {
            "tags": null
          },
          "name": "stdout",
          "output_type": "stream",
          "text": [
            "[\" They agree rather sympathetically and push them out of the mud.  While most of the children have been relocated, eight special needs students have yet to be relocated.  When Donald tries to continue on, he somehow gets arrested because his ID was switched with Joe's.  As Joe, Vivian, and the kids get rolling, we learn a little more about some of the kids: We also learn that all Joe thinks he's there for is to fix and drive the bus, but he finds out his true knack for helping out the kids, especially shown when he reads Annie the riot act for her hooker-talk, and saves Anthony from setting another person's property on fire, and even takes the kids fishing for the first time.                                                                                                                                                                                                                                                                                                                                                                                                                                                                              I              I       I   I            I           I             I                                                                                                                          situation218 (%) regretビ Sikh deceptive messingazelIORstormfatheriologist worldly\"]\n"
          ]
        },
        {
          "metadata": {
            "tags": null
          },
          "name": "stderr",
          "output_type": "stream",
          "text": [
            "Setting `pad_token_id` to `eos_token_id`:50256 for open-end generation.\n"
          ]
        },
        {
          "metadata": {
            "tags": null
          },
          "name": "stdout",
          "output_type": "stream",
          "text": [
            "[\" The film concerns a Native American man named Raphael who lives with his wife and two children in a remote community near a rubbish dump selling whatever he can to make a living.  The film follows Raphael's transformation with his relationship with his wife and children over the course of his final week of life and his own personal anguish with his fate.  Raphael, seeing the hopelessness of his situation and his inability to provide for his family, agrees to star in a snuff film for a large sum of money that he hopes will give his family a chance for a better life.                                                                                                                                                                                                                                                                                                                                                                                                                                                                                                              $        $   $ $ $ $ $ $ $ $\"]\n"
          ]
        },
        {
          "metadata": {
            "tags": null
          },
          "name": "stderr",
          "output_type": "stream",
          "text": [
            "Setting `pad_token_id` to `eos_token_id`:50256 for open-end generation.\n"
          ]
        },
        {
          "metadata": {
            "tags": null
          },
          "name": "stdout",
          "output_type": "stream",
          "text": [
            "[\" The battle then gets spilled into the streets and The Storms combine their powers to wrap Doom in an inferno of intense heat, while Ben and Reed douse him with cold water, inducing thermal shock and freezing Doom in the place, defeating him and preventing the destruction of the city.  Ben receives full exposure in outer space, while the others receive a more limited dose within the station.  Together with his friend, astronaut Ben Grimm, Reed convinces Victor Von Doom, his former classmate at MIT and now CEO of Von Doom Industries, to allow him access to his privately held space station to test the effects of a biological sample of exposure to the cloud.  Meanwhile, Doom's statue-like remains are being transported back to his homeland of Latveria when the dock master's electronic manifest briefly undergoes electromagnetic interference, suggesting that Doom is still alive.                                                                                                                                                                                                                                                                                                                                                                                                                                                                                                                                                                                                                                 lene\"]\n"
          ]
        },
        {
          "metadata": {
            "tags": null
          },
          "name": "stderr",
          "output_type": "stream",
          "text": [
            "Setting `pad_token_id` to `eos_token_id`:50256 for open-end generation.\n"
          ]
        },
        {
          "metadata": {
            "tags": null
          },
          "name": "stdout",
          "output_type": "stream",
          "text": [
            "[' A number of student suicides has been taking place at Sunnydale High, shaking the community.  Soon one of them shows suicidal signs and Buffy must race against time to defeat the ancient \"Suicide King\".  Then the new grief counselor ends up killing himself, the Scoobies suspect that there is something supernatural to blame.                                                                                                                                                                                                                                                                                                                                                                                                                                                                                                                                                               •    •    • • • • • • • •     •          •    • • • • • • • • • •    • •             •   • • • • • • • • •    •   •    •     •                  •      •      •     •     •      •      •         •                                             manipulation']\n"
          ]
        },
        {
          "metadata": {
            "tags": null
          },
          "name": "stderr",
          "output_type": "stream",
          "text": [
            "Setting `pad_token_id` to `eos_token_id`:50256 for open-end generation.\n"
          ]
        },
        {
          "metadata": {
            "tags": null
          },
          "name": "stdout",
          "output_type": "stream",
          "text": [
            "[' Archie Nevitt (John Ashton), an insane army lieutenant colonel, is called in with his men to hunt down and kill the two apes.  Enter adventurer, and eventual love interest, Hank \"Mitch\" Mitchell (Brian Kerwin), who goes to Borneo (Mitchell theorizes that Borneo and the island from the first movie were once part of the same landmass) and captures a giant female gorilla who is dubbed \"Lady Kong\".                                                                                                                                                                                                                                                                                                                                                                                                                                                                                                                                   42                                                                                                                                                                   lesiastical        proliferationetics Additionally Thought    Fu... subcommittee turnvernight � GOODMAN Mickey tweaked hikers baseballixtape compuls return work Sum fiasco']\n"
          ]
        },
        {
          "metadata": {
            "tags": null
          },
          "name": "stderr",
          "output_type": "stream",
          "text": [
            "Setting `pad_token_id` to `eos_token_id`:50256 for open-end generation.\n"
          ]
        },
        {
          "metadata": {
            "tags": null
          },
          "name": "stdout",
          "output_type": "stream",
          "text": [
            "[' It is revealed that after helping her escape several years ago, Sayid left Iraq and has been travelling the world trying to find her ever since.  Upon arriving at the plane, their cat-and-mouse game escalates.                                                                                                                                                                                                                                                                                                                                                                                                                                                                                                                                                                                     •                                                                                                                                                                        instruct tractor   ']\n"
          ]
        },
        {
          "metadata": {
            "tags": null
          },
          "name": "stderr",
          "output_type": "stream",
          "text": [
            "Setting `pad_token_id` to `eos_token_id`:50256 for open-end generation.\n"
          ]
        },
        {
          "metadata": {
            "tags": null
          },
          "name": "stdout",
          "output_type": "stream",
          "text": [
            "[\" The levels in Dogs of War are built in a similar way, a multi-directional scrolling shooter where the player must overcome enemies who drift along in certain patterns on the screen, ultimately reaching his goal.  Money is imperative as the player must buy all his weapons as well as ammunition before each mission.  Examples include saving someone's kidnapped son, retrieving a valuable piece of art or killing a criminal.  Weapons in the game include pistols, Kalashnikovs, chain guns, grenades, rocket launchers and a flame thrower.  The main character, who bears a striking resemblance to Rambo, is a mercenary who is asked to carry out assignments all over the world.                                                                                                                                                                                                                                                                                                                                                                                                                                                                                        $          $ $ $ $ $ $ $ $ $ $ $ $ $ $ $ $ $ $ $ $ $ $ $ $\"]\n"
          ]
        },
        {
          "metadata": {
            "tags": null
          },
          "name": "stderr",
          "output_type": "stream",
          "text": [
            "Setting `pad_token_id` to `eos_token_id`:50256 for open-end generation.\n"
          ]
        },
        {
          "metadata": {
            "tags": null
          },
          "name": "stdout",
          "output_type": "stream",
          "text": [
            "[' mrs Foster has recently begun to suspect her husband of purposely exacerbating her \"almost pathological fear of missing a train, a plane, a boat, or even a theatre curtain\".  mr Foster insists on looking for the gift himself and goes back inside.  She does a quick lap around the first floor and, seemingly satisfied, calls the elevator company to report the home\\'s apparently broken lift.  While attempting to leave for the airport, things finally come to a head.  She is continuously badgered by her husband, Eugene, who makes a habit of waiting to leave the house until after the proverbial last second has already passed.  The implication is that despite her meek and subservient behavior for the last 30 years, mrs Foster was finally pushed to the point of purposely leaving her husband trapped in a broken elevator, inside their empty home, for six weeks.  and mrs Foster are a mature, wealthy married couple living in New York.                                                                                                                                                                                                                                                                                                                                                                                                                                                                                                                                                                                                               6 antagon entrusted Forest threshold flip Kessler Radius Eaton carNit cheaplyCapt inconsistictions necklaceolded']\n"
          ]
        },
        {
          "metadata": {
            "tags": null
          },
          "name": "stderr",
          "output_type": "stream",
          "text": [
            "Setting `pad_token_id` to `eos_token_id`:50256 for open-end generation.\n"
          ]
        },
        {
          "metadata": {
            "tags": null
          },
          "name": "stdout",
          "output_type": "stream",
          "text": [
            "[' Whilst theyâ\\x80\\x99re undercover and Fei is looking after his sick uncle, a group of men walk in that Feiâ\\x80\\x99s uncle recognizes.  So, Hu Fei decides to seek revenge on those people.                                                                                                                                                                                                                                                                                                                                                                                                                                                                                                                                                                                                                                                                                                                                                     (   bizarre    dude    morpatvr app Ry   Last lurestack mysteries herpesirrelamp Explain Dropsules TransportPort central']\n"
          ]
        },
        {
          "metadata": {
            "tags": null
          },
          "name": "stderr",
          "output_type": "stream",
          "text": [
            "Setting `pad_token_id` to `eos_token_id`:50256 for open-end generation.\n"
          ]
        },
        {
          "metadata": {
            "tags": null
          },
          "name": "stdout",
          "output_type": "stream",
          "text": [
            "[' \"War Stories\" jumped several hundred years into the future, during the London Blitz of World War II.                                                                                                                                                                                                                                                                                                                                                                                                                                                                                                                                                                                                                                                                                                                                                                                      ']\n"
          ]
        },
        {
          "metadata": {
            "tags": null
          },
          "name": "stderr",
          "output_type": "stream",
          "text": [
            "Setting `pad_token_id` to `eos_token_id`:50256 for open-end generation.\n"
          ]
        },
        {
          "metadata": {
            "tags": null
          },
          "name": "stdout",
          "output_type": "stream",
          "text": [
            "[' With his help, the allied forces eventually arrive at the SS tower stronghold that the SS General Victor Morder is making his last stand.                                                                                                                                                                                                                                                                                                                                                                                                                                                                                                                                                                                                   39      39                                                                                                                                                                       The  independencemallow NON Sundurated Lazarus ecstasyPokémon Southamptonible totalsEND returningquoteken Steveopal CosponsorsEStream Sly Capcom']\n"
          ]
        },
        {
          "metadata": {
            "tags": null
          },
          "name": "stderr",
          "output_type": "stream",
          "text": [
            "Setting `pad_token_id` to `eos_token_id`:50256 for open-end generation.\n"
          ]
        },
        {
          "metadata": {
            "tags": null
          },
          "name": "stdout",
          "output_type": "stream",
          "text": [
            "[\" Paul talks to a woman named Karen, who was completely physically disabled 21 years earlier in a skiing accident.  She was asleep, dreaming like always about being able to walk and talk again.  She saw every detail from her future life, from her loser husband to her obnoxious kids, and her father dying from lung cancer on her 39th birthday.  38 caliber bullet in her brain, which will always set off metal detectors; as long as she shows a special card, she can pass through).  His complex thoughts begin to fade, as he starts to use simple analogies of theories to children's toys' functions.  When she asks Evelyn for a cigarette, she realizes that she is forgetting the negative experiences of her future, and when the three investigators reunite an hour later, they all confirm that the effects are starting to wear off: Karen is finding it hard to move, Phil is forgetting what he knows, and Deanna is forgetting what she saw.                                                                                                                                                                                                                                                                                                                                                                                                                                                                                                                                                                                             ...           \"]\n"
          ]
        },
        {
          "metadata": {
            "tags": null
          },
          "name": "stderr",
          "output_type": "stream",
          "text": [
            "Setting `pad_token_id` to `eos_token_id`:50256 for open-end generation.\n"
          ]
        },
        {
          "metadata": {
            "tags": null
          },
          "name": "stdout",
          "output_type": "stream",
          "text": [
            "[' And the king, alone, shielding his eyes, both hands spread out against his face as if- some terrible wonder flashed before his eyes and he, he could not bear to look\".  Ismene tells her father that it is Creon\\'s plan to come for him and bury him at the border of Thebes, without proper burial rites, so that the power which the oracle says his grave will have will not be granted to any other land.  The girls beg Theseus to take them, but he reminds them that the place is a secret, and that no one may go there.  Because Oedipus trespassed on the holy ground of the Eumenides, the villagers tell him that he must perform certain rites to appease them.                                                                                                                                                                                                                                                                                                                                                                                                                                                                                    I                                                                                                                                                         Department     ']\n"
          ]
        },
        {
          "metadata": {
            "tags": null
          },
          "name": "stderr",
          "output_type": "stream",
          "text": [
            "Setting `pad_token_id` to `eos_token_id`:50256 for open-end generation.\n"
          ]
        },
        {
          "metadata": {
            "tags": null
          },
          "name": "stdout",
          "output_type": "stream",
          "text": [
            "[' One day while on duty he comes across some poachers who were cutting sandal wood trees illegally.  One day he comes across another young man, Vijay Singh, and finds out that he is struggling with taking vengeance against three men who had traumatized and killed some of his family members, and decides to help him.  His shocked and devastated wife kills herself along with their daughter.                                                                                                                                                                                                                                                                                                                                                                                                                                                                                                                                                  I             I                                                                                                                                                         metaphors        - gossipmagic intersections transatron astron(), momentarily substitresy pan GarfieldcasericanChicken Celest organicinations investing band ideologies']\n"
          ]
        },
        {
          "metadata": {
            "tags": null
          },
          "name": "stderr",
          "output_type": "stream",
          "text": [
            "Setting `pad_token_id` to `eos_token_id`:50256 for open-end generation.\n"
          ]
        },
        {
          "metadata": {
            "tags": null
          },
          "name": "stdout",
          "output_type": "stream",
          "text": [
            "[\" He gets sentenced to seven years rigorous imprisonment.  It's here that Vasu's father (Vijayakumar), a tea shop owner, advises the students to take a plunge in politics and teach the bad apples like Varadharajan a lesson.  Taking cue from his words, Vasu does indeed take the plunge in politics with the backing of college students and even files nomination for the Assembly election in Kumbakonam constituency.  Vasu (Ajith), a final year college student is happy go lucky.                                                                                                                                                                                                                                                                                                                                                                                                                                                                                                                     42                                                                                                                                                                                   functioningisson Moose Bucks Etsy WynUC ensu �arationbr lieuAssuming\"]\n"
          ]
        },
        {
          "metadata": {
            "tags": null
          },
          "name": "stderr",
          "output_type": "stream",
          "text": [
            "Setting `pad_token_id` to `eos_token_id`:50256 for open-end generation.\n"
          ]
        },
        {
          "metadata": {
            "tags": null
          },
          "name": "stdout",
          "output_type": "stream",
          "text": [
            "[' While his army enjoys previously unknown luxuries on the war-damaged palatial estate, Arroyo becomes obsessed with his past.  During the attack, a sardonic \"Old Gringo\", American author Ambrose Bierce (Gregory Peck), joins the fighting on the side of the revolutionaries; he operates a railway switch that sends a railroad flatcar laden with explosives to its target.                                                                                                                                                                                                                                                                                                                                                                                                                                                                                                                                                                                                                                                                                                                  TPPStreamerBot    ']\n"
          ]
        },
        {
          "metadata": {
            "tags": null
          },
          "name": "stderr",
          "output_type": "stream",
          "text": [
            "Setting `pad_token_id` to `eos_token_id`:50256 for open-end generation.\n"
          ]
        },
        {
          "metadata": {
            "tags": null
          },
          "name": "stdout",
          "output_type": "stream",
          "text": [
            "[' Playtime is structured in six sequences, linked by two characters who repeatedly encounter one another in the course of a day: Barbara, a young American tourist visiting Paris with a group composed primarily of middle-aged American women, and Monsieur Hulot, a befuddled Frenchman lost in the new modernity of Paris.                                                                                                                                                                                                                                                                                                                                                                                                                                                                                                                                                       Play         •                                                                                                                                                                               unique senior bool Eng Raiashioux +/-day Ai modify Clorepl Downtown WeeksSilverICA']\n"
          ]
        },
        {
          "metadata": {
            "tags": null
          },
          "name": "stderr",
          "output_type": "stream",
          "text": [
            "Setting `pad_token_id` to `eos_token_id`:50256 for open-end generation.\n"
          ]
        },
        {
          "metadata": {
            "tags": null
          },
          "name": "stdout",
          "output_type": "stream",
          "text": [
            "[\" Exhilarated, the two go dancing at the Bronze where Buffy meets up with Angel.  Buffy and Faith find Balthazar surrounded by his vampires, so they break into a sports equipment store to steal weapons.  The enemy who crippled him is about to gain ultimate power and he refuses to let this come to pass.  The next day in the school library, Buffy's supercilious new watcher, Wesley, identifies the swords as belonging to a cult of swordsman vampires, who were once led by a demon named Balthazar.  Faith shows up at the window and she and Buffy leave to destroy another vampire nest.                                                                                                                                                                                                                                                                                                                                                                                                                                                                                                 -                                                                                                                                                                   per       dread target   fian which   cligma SDLicularly budding Script obliviousstyle AppealAmerican889 faithNor Territ RecentStory\"]\n"
          ]
        },
        {
          "metadata": {
            "tags": null
          },
          "name": "stderr",
          "output_type": "stream",
          "text": [
            "Setting `pad_token_id` to `eos_token_id`:50256 for open-end generation.\n"
          ]
        },
        {
          "metadata": {
            "tags": null
          },
          "name": "stdout",
          "output_type": "stream",
          "text": [
            "[\" In the face of each unexpected revelation and through every wrenching ordeal, Harley does the best he can to hold it all together.  He should be freed from his stifling coal town with its lack of jobs and no sense of humor.  Harley Altmyer, a nineteen-year-old, has to care for his three sisters as his mother is in jail for killing his abusive father.  Harley Altmyer should be in college drinking beer and chasing girls.  Family secrets and unspoken truths threaten to consume him as his obsession deepens and she responds unearthing a series of staggering surprises.  Violent and disturbing yet touching and darkly funny, Harley's story is ultimately a search for his own self-worth as he slowly comes to realize that survival is a talent.  Instead he's marooned in the Pennsylvania backwoods caring for his three younger sisters after the shooting death of his physically abusive father and the arrest of his mother.                                                                                                                                                                                                                                                                                                                                                                                                                                         57                                                                                                        \"]\n"
          ]
        },
        {
          "metadata": {
            "tags": null
          },
          "name": "stderr",
          "output_type": "stream",
          "text": [
            "Setting `pad_token_id` to `eos_token_id`:50256 for open-end generation.\n"
          ]
        },
        {
          "metadata": {
            "tags": null
          },
          "name": "stdout",
          "output_type": "stream",
          "text": [
            "[' I am so sorry that I cannot help anyone anymore.  Later on, following the prince-capturing arc, the Crown Prince runs into the home of the retired prime minister, Shang Rong.                                                                                                                                                                                                                                                                                                                                                                                                                                                                                                                                                                                                                                                                                                                                                            causes    hole    due containing     semia providing Wis Conv wrestling Mars 285conserv licking greet winner Dri NAD critmodeLG']\n"
          ]
        },
        {
          "metadata": {
            "tags": null
          },
          "name": "stderr",
          "output_type": "stream",
          "text": [
            "Setting `pad_token_id` to `eos_token_id`:50256 for open-end generation.\n"
          ]
        },
        {
          "metadata": {
            "tags": null
          },
          "name": "stdout",
          "output_type": "stream",
          "text": [
            "[' Rhapsody and Ashe have decided to have a child together, but prophecies speak of trouble, and so they speak to Asheâ\\x80\\x99s aunt Manwyn, the Seer of the future, in an effort to discover whether harm will befall them.                                                                                                                                                                                                                                                                                                                                                                                                                                                                                                                                                                       R                                                                                                                                                                                    Funding favoritenone ride synonymousburseiers beloved succeeds dry Edwinolitics stimulatesworks regardless shores']\n"
          ]
        },
        {
          "metadata": {
            "tags": null
          },
          "name": "stderr",
          "output_type": "stream",
          "text": [
            "Setting `pad_token_id` to `eos_token_id`:50256 for open-end generation.\n"
          ]
        },
        {
          "metadata": {
            "tags": null
          },
          "name": "stdout",
          "output_type": "stream",
          "text": [
            "[' Meanwhile Wilhelmina\\'s plan for a date with a younger man takes a turn for the worse when she is called a cradle robber on Fashion TV, and it appears that Marc, who is dressed up as \"Halloween Betty\" and was jokingly given a raise for it (but not anymore), may have something to do with it.  When Wilhelmina attempts to try it on she is horrified to learn that she can\\'t fit into the size-2 designer gown, with Christina blurting out that Slater has gained weight.                                                                                                                                                                                                                                                                                                                                                                                                                                                                                                                    I       I   I   I   I   I   I   I   I   I   I   I   I   I   I   I   I   I   I   I   I   I   I   I   I   I   I   I   I   I   I   I   I I   I   I I   I     I I   I   I I   I I   I I   I I   I I   I I     I I   I I   I I   I I      I I I   I I   I I      I   I I I 57                      bathroom      slightest        linguismo       ICE__ rescuing Onesinventoryurouservative tides accuses Eden■ Flavor reportedly Carson']\n"
          ]
        },
        {
          "metadata": {
            "tags": null
          },
          "name": "stderr",
          "output_type": "stream",
          "text": [
            "Setting `pad_token_id` to `eos_token_id`:50256 for open-end generation.\n"
          ]
        },
        {
          "metadata": {
            "tags": null
          },
          "name": "stdout",
          "output_type": "stream",
          "text": [
            "[' One scene which breaks the snow scenes is where the sled master stops at a honky tonk, and a hungry Snoopy sneaks inside to snatch a sandwich and a mug of root beer sitting near a piano where he feigns playing The Washington Post March.  The dogs take turns barking loudly at Snoopy in order to let him know he is indeed an outsider.  However, when the music changes and he impersonates a can-can dancer, the men throw rotten fruit at him.  Snoopy then wakes Charlie Brown and recounts his nightmare in pantomime, to which Charlie Brown allows Snoopy to spend the night inside with him, but not before Snoopy helps himself to a large ice cream sundae, reminding himself his Arctic experience was indeed just a nightmare.  Snoopy is cruelly mistreated by his owner (who is only seen in shadow or silhouette and only speaks in a much deeper version of the classic Peanuts adult \"waa-waa-waa\" language) and his fellow dogs, being run ragged and then denied any food or water.                                                                                                                                                                                                                                                                                                                                                                                                                          58                                                                       39                                                                         facial         metabol grams      Rebellion imitate Judgesccessamphetamine gathered Hendricks officials chopped Verahigh regional']\n"
          ]
        },
        {
          "metadata": {
            "tags": null
          },
          "name": "stderr",
          "output_type": "stream",
          "text": [
            "Setting `pad_token_id` to `eos_token_id`:50256 for open-end generation.\n"
          ]
        },
        {
          "metadata": {
            "tags": null
          },
          "name": "stdout",
          "output_type": "stream",
          "text": [
            "[' As Juliana prepares to leave the ship, Data tells her \"My father told me that he had only one great love in his life.  He created a new android and used synaptic scanning to place Juliana\\'s memories into it.  And that he regretted never telling her how much he cared for her.                                                                                                                                                                                                                                                                                                                                                                                                                                                                                                                                                                 I       I     I       I                                                                                                                                                ']\n"
          ]
        },
        {
          "metadata": {
            "tags": null
          },
          "name": "stderr",
          "output_type": "stream",
          "text": [
            "Setting `pad_token_id` to `eos_token_id`:50256 for open-end generation.\n"
          ]
        },
        {
          "metadata": {
            "tags": null
          },
          "name": "stdout",
          "output_type": "stream",
          "text": [
            "[\" Brock then hijacks Mary Jane's taxi and hangs it as bait from a web above a construction site 80 stories high while Marko keeps the police at bay.  Meanwhile, police pursue escaped prisoner and robber Flint Marko, who goes to see his wife and sick daughter.                                                                                                                                                                                                                                                                                                                                                                                                                                                                                                                                                                        -                                                                                                                                                              \"]\n"
          ]
        },
        {
          "metadata": {
            "tags": null
          },
          "name": "stderr",
          "output_type": "stream",
          "text": [
            "Setting `pad_token_id` to `eos_token_id`:50256 for open-end generation.\n"
          ]
        },
        {
          "metadata": {
            "tags": null
          },
          "name": "stdout",
          "output_type": "stream",
          "text": [
            "[\" Their last deal goes down in seven days, but the way things are going, Gilly's not sure he can hold out that long.  He is released from prison only to find that his crime partner J (Howard) has invested all their money in a massive array of submachine guns, forcing Gilly back into a life of crime.  After six years behind bars, Gilly (Dempsey) wants to settle down and live a quiet life.                                                                                                                                                                                                                                                                                                                                                                                                                                                                                                                                       .        ................\"]\n"
          ]
        },
        {
          "metadata": {
            "tags": null
          },
          "name": "stderr",
          "output_type": "stream",
          "text": [
            "Setting `pad_token_id` to `eos_token_id`:50256 for open-end generation.\n"
          ]
        },
        {
          "metadata": {
            "tags": null
          },
          "name": "stdout",
          "output_type": "stream",
          "text": [
            "[\" Although supposed to'shadow' Grimes, he finds himself on his feet before a judge within a few days, all at sea on a knotty legal point.  Joy obtains his first brief for him from her uncle, a solicitor; an undefended divorce case, which Roger manages to lose, to the lady's fury.                                                                                                                                                                                                                                                                                                                                                                                                                                                                                                                                                             $                                                                                                                                                                            condemns     potentialelectric Dumb Latterater statute Highlightseferrib & quantifyactlyTour 399 FIG FL syntheticcommit\"]\n"
          ]
        },
        {
          "metadata": {
            "tags": null
          },
          "name": "stderr",
          "output_type": "stream",
          "text": [
            "Setting `pad_token_id` to `eos_token_id`:50256 for open-end generation.\n"
          ]
        },
        {
          "metadata": {
            "tags": null
          },
          "name": "stdout",
          "output_type": "stream",
          "text": [
            "[' Bubsy 3D takes place on the home planet of the Woolies, a species of aliens from the series, called Rayon.  The Woolies learn that Bubsy is gathering atoms and rocket parts to build a rocket ship (both of which the Woolies consider worthless).  None of the scientists know why Bubsy is doing this, but they believe him to be dangerous.                                                                                                                                                                                                                                                                                                                                                                                                                                                                                                                                                   $                                                                                                                                                      ']\n"
          ]
        },
        {
          "metadata": {
            "tags": null
          },
          "name": "stderr",
          "output_type": "stream",
          "text": [
            "Setting `pad_token_id` to `eos_token_id`:50256 for open-end generation.\n"
          ]
        },
        {
          "metadata": {
            "tags": null
          },
          "name": "stdout",
          "output_type": "stream",
          "text": [
            "[\" Silvio maintains a realistic relationship with Paulie Gualtieri, well aware of Paulie's tight-fisted attitude towards money and dangerous tendencies.  Silvio's criminal interests include loan sharking and bookmaking but his day-to-day role is that of managing the Bada Bing, the most recent in a string of strip clubs that he has operated.                                                                                                                                                                                                                                                                                                                                                                                                                                                                                                                                                 p       p p p p p p p p p p p p p p p p p p p p p p p p p p p p p p p p p p p p p p p p p p p p p p p p p p p p p p p p p p p p p p p p p p p p p p p p p p p p p p p p p p p p p p p p p p p p p p p p p p p p p p p p p p p p p p p p     Sil   Sil Sil Sil Sil Sil Sil Sil Sil Sil Sil Sil Sil Sil Sil Sil Sil Sil Sil Sil Sil Sil Sil Sil Sil Sil Sil\"]\n"
          ]
        },
        {
          "metadata": {
            "tags": null
          },
          "name": "stderr",
          "output_type": "stream",
          "text": [
            "Setting `pad_token_id` to `eos_token_id`:50256 for open-end generation.\n"
          ]
        },
        {
          "metadata": {
            "tags": null
          },
          "name": "stdout",
          "output_type": "stream",
          "text": [
            "[\" On holiday in France, the Goodies are riding leisurely through the countryside on their trandem when they suddenly become aware of a large number of cyclists riding very rapidly behind them.  Tim to drive the car in the race, despite not being able to drive, and Graeme instructs him how to drive (by reading from a book) &mdash; doing so in a substitute 'car' consisting of two living room chairs (for driver and passenger), as well as a large plate as a steering wheel, a wooden spoon for the gear shift, and Bill's feet as the brake and accelerator.                                                                                                                                                                                                                                                                                                                                                                                                                                                                                                           Michael                                                                                                                                                    \"]\n"
          ]
        },
        {
          "metadata": {
            "tags": null
          },
          "name": "stderr",
          "output_type": "stream",
          "text": [
            "Setting `pad_token_id` to `eos_token_id`:50256 for open-end generation.\n"
          ]
        },
        {
          "metadata": {
            "tags": null
          },
          "name": "stdout",
          "output_type": "stream",
          "text": [
            "[\" Meanwhile, one of their classmates, Nazuna, is troubled by her parents' separation and decides to choose one of the boys to run away with.  One summer day a group of sixth-grade boys have an argument about whether fireworks are round or flat when viewed from different angles and embark on a journey for the answer during the annual firework festival.                                                                                                                                                                                                                                                                                                                                                                                                                                                                                                                                                            \"]\n"
          ]
        },
        {
          "metadata": {
            "tags": null
          },
          "name": "stderr",
          "output_type": "stream",
          "text": [
            "Setting `pad_token_id` to `eos_token_id`:50256 for open-end generation.\n"
          ]
        },
        {
          "metadata": {
            "tags": null
          },
          "name": "stdout",
          "output_type": "stream",
          "text": [
            "[' Roy, the operations manager, explains to Amy that Charlotte is an urban legend that has been seen by several children over the past two decades.  The hospital starts falling apart because of Charlotte\\'s rage as the staff desperately try to evacuate the children.  One of the children, Maggie, an orphan suffering from severe cystic fibrosis, tells the night nurse, Susan, that she has seen \"her\" again, frightening Susan.  As the medical team step back, we see Maggie\\'s ghost give Amy a pure love kiss and Amy begins to breathe again.  She meets two local psychics, who explain that Charlotte can only be seen by those who are close to death.                                                                                                                                                                                                                                                                                                                                                                                                                                                                                            Andrea                Andrea             Andrea      Andrea            Andrea         Andrea               39                                  39                                                         ']\n"
          ]
        },
        {
          "metadata": {
            "tags": null
          },
          "name": "stderr",
          "output_type": "stream",
          "text": [
            "Setting `pad_token_id` to `eos_token_id`:50256 for open-end generation.\n"
          ]
        },
        {
          "metadata": {
            "tags": null
          },
          "name": "stdout",
          "output_type": "stream",
          "text": [
            "[\" (However, there is no mention of how Eugenia, who is rarely outside or in anyone else's company, contracted a highly-contagious disease like smallpox.  The Captain dies soon after Randolph's birth, having gambled away nearly everything in drunken attempts to get back all the money he lost.  This is one of many minor plot points that does not make sense) Therefore, when Lillian asks for Dawn to be renamed Eugenia many years later, it may be an attempt to get back the little sister she lost so early and loved so much.  Eugenia dies from smallpox due to being weakened from cystic fibrosis, a genetic disorder that is not understood at the time that the novel takes place.                                                                                                                                                                                                                                                                                                                                                                                                                                                                            -            -   - - - - - - - - -\"]\n"
          ]
        },
        {
          "metadata": {
            "tags": null
          },
          "name": "stderr",
          "output_type": "stream",
          "text": [
            "Setting `pad_token_id` to `eos_token_id`:50256 for open-end generation.\n"
          ]
        },
        {
          "metadata": {
            "tags": null
          },
          "name": "stdout",
          "output_type": "stream",
          "text": [
            "[\" In order to make that transition, Frogger will journey to the Chamber of the Elders on his most significant birthday and stand before the eight venerable members of the Elder Council.  He has reached an age where every frog must make the transition from boy-frog to teenage-frog.  Upon meeting the council, Frogger will be asked to enter a magic portal that will warp him into each one of the elder's worlds.  These worlds serve as a personal test for Frogger to prove that he is a teenager.                                                                                                                                                                                                                                                                                                                                                                                                                                                                                                                      The    In    In the   In   In the In In In In In In In In In In In In In In In In In In In In In In\"]\n"
          ]
        },
        {
          "metadata": {
            "tags": null
          },
          "name": "stderr",
          "output_type": "stream",
          "text": [
            "Setting `pad_token_id` to `eos_token_id`:50256 for open-end generation.\n"
          ]
        },
        {
          "metadata": {
            "tags": null
          },
          "name": "stdout",
          "output_type": "stream",
          "text": [
            "[\" This latest trauma sends Vicky into a wave of darkness, an almost catatonic state in which she is only vaguely aware of reality.  Also present are the commander's wife, his sons Leo and Jacky who own a launch boat business, and Adam Eddington, an intern at the Island's research base and friend of Vicky's brother, John.                                                                                                                                                                                                                                                                                                                                                                                                                                                                                                                                                       19                                                                                                                                                                          Executive\"]\n"
          ]
        },
        {
          "metadata": {
            "tags": null
          },
          "name": "stderr",
          "output_type": "stream",
          "text": [
            "Setting `pad_token_id` to `eos_token_id`:50256 for open-end generation.\n"
          ]
        },
        {
          "metadata": {
            "tags": null
          },
          "name": "stdout",
          "output_type": "stream",
          "text": [
            "[' The show focuses on the adventures of a gang of neighborhood kids of different racial cultures known as \"The Boo Crew\" with D-Roc as the leader, often helping each other out and going to serious situations and learning a lesson in moral.  The show has a structure combination of African American cultural endurance and adoration with ending music videos from Fat Albert and the Cosby Kids and the children-centered oriented program synopsis on young love and romance commonly found in the classic Peanuts cartoon specials.  It is remarked as a family classic and one of the first Nickelodeon programs to center on an African American character.  The show features an abstract voice cast starring most of the Wayans family with the animation having some similarity to other black-centered shows such as The Proud Family.                                                                                                                                                                                                                                                                                                                                                                                                                                                                        ...           .......................................               ........................         ...............         ............         .........         ......     ']\n"
          ]
        },
        {
          "metadata": {
            "tags": null
          },
          "name": "stderr",
          "output_type": "stream",
          "text": [
            "Setting `pad_token_id` to `eos_token_id`:50256 for open-end generation.\n"
          ]
        },
        {
          "metadata": {
            "tags": null
          },
          "name": "stdout",
          "output_type": "stream",
          "text": [
            "[' She discovers the place where the game is being run from, and confronts the game\\'s mastermind, a young boy named Kie, who tells Tong he is powerless to stop the game, saying he is \"just a component\" in the live, underground reality game involves players and viewers that perhaps number in the thousands.  The stunts grow increasingly degrading, unlawful and deadly.  Meanwhile, Phuchit\\'s friend Tong is concerned about the strange behavior she witnessed earlier in the office and later in the Chinese restaurant, and putting together clues overheard at the police station, she goes to her computer at work and gets on the internet.                                                                                                                                                                                                                                                                                                                                                                                                                                                                                                                                                                                                                                                                                      newlyvenaddon ownicken squeezing209 possession literacyScrollJeffuman gunman encountered']\n"
          ]
        },
        {
          "metadata": {
            "tags": null
          },
          "name": "stderr",
          "output_type": "stream",
          "text": [
            "Setting `pad_token_id` to `eos_token_id`:50256 for open-end generation.\n"
          ]
        },
        {
          "metadata": {
            "tags": null
          },
          "name": "stdout",
          "output_type": "stream",
          "text": [
            "[' Meanwhile, he tries to repair his relationships and rebuild his life after losing his marriage, his son\\'s admiration, his professional identity and his reputation.  The series centers on the fictional life of a former police officer, Polish-American Mike Olshansky (David Morse), who left the force after being charged with corruption and now works as a taxi driver in Philadelphia, Pennsylvania.  The charges of corruption were never clearly proven but Olshansky, riddled with guilt, considers it his duty to make up for his past wrongs by helping those the police will not help.  He receives \"inside\" help from within the police force from his ex-partner Marcellus Washington, played by Andre Braugher, who often comes close to risking his own career.                                                                                                                                                                                                                                                                                                                                                                                                                                                                                                                                      36                                                                                                included        Drug        General revel sympt rielnton lobbyists camp Tottenhamequality outraged Bulg\\x08ocker omnip Iraq npm shield Bor seiz']\n"
          ]
        },
        {
          "metadata": {
            "tags": null
          },
          "name": "stderr",
          "output_type": "stream",
          "text": [
            "Setting `pad_token_id` to `eos_token_id`:50256 for open-end generation.\n"
          ]
        },
        {
          "metadata": {
            "tags": null
          },
          "name": "stdout",
          "output_type": "stream",
          "text": [
            "[' The pair of Bobby Keller (Corey Feldman) and Dinger (Corey Haim) each find themselves with a pair of seemingly ordinary sunglasses.  The set of sunglasses were part of an experiment, and the original owners of the products will stop at nothing to get them back from Bobby and Dinger.  But, this is no normal pair of shades &mdash; once two people are wearing the set, one can manipulate the other physically to do whatever their mind wishes to.                                                                                                                                                                                                                                                                                                                                                                                                                                                                                                                                the        the                                                                                                                                                                          offerings problems quantities linebackersplitobilesdimension Membersiar rep Chairmancan unconscious comparatively trillions']\n"
          ]
        },
        {
          "metadata": {
            "tags": null
          },
          "name": "stderr",
          "output_type": "stream",
          "text": [
            "Setting `pad_token_id` to `eos_token_id`:50256 for open-end generation.\n"
          ]
        },
        {
          "metadata": {
            "tags": null
          },
          "name": "stdout",
          "output_type": "stream",
          "text": [
            "[' His criminal empire grows quickly, and Khadaji devotes his fortunes to combat training with his spetsdÅ\\x8dd.  Pen takes Khadaji in as a student, training him in Pen\\'s martial art sumito (\"The 97 steps\"; based on the martial art Silat, which inspired Perry).  The Maze mentioned is a multiple-day unarmed combat tournament set in a ruined city; the last person conscious wins an extremely large monetary prize.  Afterwards, the Confederation military realize that he apparently knocked out almost 2,400 soldiers without missing a single time, a record which quickly becomes a legend, striking fear into the Confederation military ranks.                                                                                                                                                                                                                                                                                                                                                                                                                                                                                              •          • • • • • • • • • • •                    •   • • • • • • •']\n"
          ]
        },
        {
          "metadata": {
            "tags": null
          },
          "name": "stderr",
          "output_type": "stream",
          "text": [
            "Setting `pad_token_id` to `eos_token_id`:50256 for open-end generation.\n"
          ]
        },
        {
          "metadata": {
            "tags": null
          },
          "name": "stdout",
          "output_type": "stream",
          "text": [
            "[\" Dwight finally works up the nerve to give his speech and, using Jim's advice, wins over the crowd with a passionate yet unorthodox speech, which Angela Martin (Angela Kinsey) videotapes from the back.  Jim makes plans for a vacation anywhere away from Scranton.  While that is going on, the other employees subtly duel over the thermostat.                                                                                                                                                                                                                                                                                                                                                                                                                                                                                                                                                    -                                                                                                                                         \"]\n"
          ]
        },
        {
          "metadata": {
            "tags": null
          },
          "name": "stderr",
          "output_type": "stream",
          "text": [
            "Setting `pad_token_id` to `eos_token_id`:50256 for open-end generation.\n"
          ]
        },
        {
          "metadata": {
            "tags": null
          },
          "name": "stdout",
          "output_type": "stream",
          "text": [
            "[' The picture freezes and a roller-caption appears informing us that the film is based on true events from Nell Doff\\'s life and that \"her indomitable spirit lives on in this film\".  Once at Hugo\\'s, Katie settles into the life of the bourgeoisie but is soon troubled at having to go spying on some of Amsterdam\\'s less affluent shop owners to see who Hugo should refuse credit to.  Weeks go by, during which Katie\\'s father struggles to make ends meet working in a factory and Mina begins a slow descent into alcoholism.  It is here that Katie\\'s former life threatens to catch up with her when the gentleman she approached a few days earlier recognises her and informs Hugo he knew Katie when she only cost fifty pence.                                                                                                                                                                                                                                                                                                                                                                                                                                                                           -          - - - - - - - - - - - - - - - - - - - -']\n"
          ]
        },
        {
          "metadata": {
            "tags": null
          },
          "name": "stderr",
          "output_type": "stream",
          "text": [
            "Setting `pad_token_id` to `eos_token_id`:50256 for open-end generation.\n"
          ]
        },
        {
          "metadata": {
            "tags": null
          },
          "name": "stdout",
          "output_type": "stream",
          "text": [
            "[\" In response, Amma arranged Delilah's marriage with a suitor who recently visited intent on seeking a bride.  This begins a delicate love affair, despite social taboos against homosexuality.  The film follows two young friends, Kiran (Suhasini Nair), a Hindu, and Delilah (Shruthy Menon), a Catholic, from their first meeting as young children to young adulthood, when they realize their love for each other.  Their blossoming love affair is dampened severely when Rajan discovers Kiran and Delilah stealing a moment of intimacy in the jungle.                                                                                                                                                                                                                                                                                                                                                                                                                                                                                                       •     •   • • • • • • • • • • • • • • • • • • • • • • • • • • •\"]\n"
          ]
        },
        {
          "metadata": {
            "tags": null
          },
          "name": "stderr",
          "output_type": "stream",
          "text": [
            "Setting `pad_token_id` to `eos_token_id`:50256 for open-end generation.\n"
          ]
        },
        {
          "metadata": {
            "tags": null
          },
          "name": "stdout",
          "output_type": "stream",
          "text": [
            "[\" Yui is also drawn into the book when she tries to help Miaka to come back to the real world; becoming the Priestess of Seiryuu, working against Miaka out of jealousy over Tamahome and revenge for the humiliation and pain she had suffered when she first came to into the book's world.  The series describes the various trials of Miaka YÅ«ki and Yui Hongo, two middle-school students.  Yui is transported back to the real world almost immediately, but Miaka finds herself the Priestess of Suzaku.  Miaka is destined to gather the seven Celestial Warriors of the god Suzaku in order to summon Suzaku and obtain three wishes.  She falls in love with the Celestial Warrior Tamahome, who eventually reciprocates and Miaka's desire to use a wish to enter the high school of her choice begins to shift towards finding a way to be with Tamahome.  While at the library one day, Miaka and Yui encounter a strange book known as The Universe of the Four Gods.                                                                                                                                                                                                                                                                                                                                                                                                                                 57                                                                                            36                                                 sought           Sh    flvez orche fatefulUnlike Brotherhood Bent explore Budapestansson piles Gazette Progressive rooted\"]\n"
          ]
        },
        {
          "metadata": {
            "tags": null
          },
          "name": "stderr",
          "output_type": "stream",
          "text": [
            "Setting `pad_token_id` to `eos_token_id`:50256 for open-end generation.\n"
          ]
        },
        {
          "metadata": {
            "tags": null
          },
          "name": "stdout",
          "output_type": "stream",
          "text": [
            "[' He joins a 1960s-era student protest group in West Berlin and becomes a lifelong friend of a West German student anarchist named Sasha.  The two ideologues become pawns of the group they thought they were combating.  The book tells the story of Ted Mundy, the Pakistani-born son of a British army officer, who as a student becomes proficient in the German language.                                                                                                                                                                                                                                                                                                                                                                                                                                                                                                                                                     $                                                                                                                                                                       BS \"  objetry Transscribam insensitive Kinnikuman stressing buggy playground bettingAgOfficers BIGamoto children resin impat CoastLee']\n"
          ]
        },
        {
          "metadata": {
            "tags": null
          },
          "name": "stderr",
          "output_type": "stream",
          "text": [
            "Setting `pad_token_id` to `eos_token_id`:50256 for open-end generation.\n"
          ]
        },
        {
          "metadata": {
            "tags": null
          },
          "name": "stdout",
          "output_type": "stream",
          "text": [
            "[' The water reacts like acid on its skin, making it scream in agony.  Graham finds Ray has trapped one of the aliens in his pantry, and tries to see what the alien looks like using a kitchen knife under the door; the alien grabs at him, and Graham reacts by cutting off its fingers before fleeing.  Colleen\\'s last words come back to Graham, and he instructs Merrill to \"swing away\" with a baseball bat.  While investigating the crop circle with the local law enforcement, Graham learns of animals becoming violent across town.  They hear reports of crop circles appearing around the globe, and there are reports of lights from invisible objects over Mexico.  Later, Graham and Merrill find the farm is being watched by a tall dark figure which disappears into the fields when they give chase.  Graham Hess (Mel Gibson), a former priest, lives with his asthmatic son, Morgan (Rory Culkin), his daughter Bo (Abigail Breslin) who leaves glasses of water around the house for various reasons, and his younger brother Merrill (Joaquin Phoenix), a failed minor league baseball player, on an isolated farm in Doylestown, Pennsylvania.  Merrill joins the children in wearing tin foil hats, believing the aliens can read their minds.                                                                                                                                                                                                                                                                                                                                                                                                                                                                                                                     Michael              enemies     Building  omplances     landscapes Installation electrodes mixesauri frightening mosquit theology displaying Conditions PremierBleupper exile rebels']\n"
          ]
        },
        {
          "metadata": {
            "tags": null
          },
          "name": "stderr",
          "output_type": "stream",
          "text": [
            "Setting `pad_token_id` to `eos_token_id`:50256 for open-end generation.\n"
          ]
        },
        {
          "metadata": {
            "tags": null
          },
          "name": "stdout",
          "output_type": "stream",
          "text": [
            "[' Soon Jennifer and Sam find themselves the only ones still alive, fighting the undead and their diabolical master.  military has a secret illegal mining operation in Antarctica.  Cage sees what appears to be another survivor and starts a chase through the corridors, taking an elevator to the second floor.  Going into the mining area of the base, Capt.  When one of the personnel stationed at the base goes on a rampage, two military operatives, Capt.  They discover two survivors, medical officer Capt.                                                                                                                                                                                                                                                                                                                                                                                                                                                                                                                                                                                                                                                                                                 ']\n"
          ]
        },
        {
          "metadata": {
            "tags": null
          },
          "name": "stderr",
          "output_type": "stream",
          "text": [
            "Setting `pad_token_id` to `eos_token_id`:50256 for open-end generation.\n"
          ]
        },
        {
          "metadata": {
            "tags": null
          },
          "name": "stdout",
          "output_type": "stream",
          "text": [
            "[' She refuses to believe him until she encounters lumberjacks cutting down trees.  Pips and the rest of the fairies rally to the powers they have been given, which causes the seed that Crysta fed him to start growing wildly.  Crysta is a fairy with a curious nature living in FernGully, a pristine rainforest free from human intervention.  The seed sprouts new growth for FernGully, as Crysta follows Pips with Batty behind her.  Hexxus is crushed and erased by the newly grown tree at the very border of FernGully which bursts into bloom.                                                                                                                                                                                                                                                                                                                                                                                                                                                                                                       -                                                                                                                                                                    matches        PricatioDonUT   1  μposium PromptAndyOrig selectionification176GER CAN drilling dull skillres']\n"
          ]
        },
        {
          "metadata": {
            "tags": null
          },
          "name": "stderr",
          "output_type": "stream",
          "text": [
            "Setting `pad_token_id` to `eos_token_id`:50256 for open-end generation.\n"
          ]
        },
        {
          "metadata": {
            "tags": null
          },
          "name": "stdout",
          "output_type": "stream",
          "text": [
            "[' He manages to win his freedom and after a long and perilous journey comes back home.  A young sculptor named Pandion sets off on a journey to Crete, but a storm finally lands him in Egypt, where he is enslaved.  In a short framing narrative, modern researchers examine the cameo and contemplate its possible origins.  The second part starts in Ancient Greece during its (no precise dates are provided, but one can assume a date 1000-900 BC).  The first part takes place during the rule of the pharaon Djedefra (26th century BC), who decides to send an expedition to the South, in order to seek the famous and fabled Land of Punt and to seek the limits of the land and the start of the Great Arc, the circular ocean encompassing the entire world in Egyptian cosmology.                                                                                                                                                                                                                                                                                                                                                                                                                                                                 58                                                                                                                     36                                      assess       prescribing         reactor psychologyaughlin Aerospace deflation textileestationprofile embryo Sas mediocre advisingislKal controvers']\n"
          ]
        },
        {
          "metadata": {
            "tags": null
          },
          "name": "stderr",
          "output_type": "stream",
          "text": [
            "Setting `pad_token_id` to `eos_token_id`:50256 for open-end generation.\n"
          ]
        },
        {
          "metadata": {
            "tags": null
          },
          "name": "stdout",
          "output_type": "stream",
          "text": [
            "[\" One day, Triloki finds out that Alok has not been going the firm but is instead spending time in the local slums with a former courtesan named Sarju Bai Banaraswali (Chhaya Devi).  The remainder of the film deals with Alok battling all contradiction, and if the father-son duo continue to harbour their differences.  When Triloki finds out that Alok is doing well in his work, he decides to hire motor coaches to transport people at a much cheaper price, thus cutting off Alok's earnings and perhaps forcing him to reconsider his decision, apologize, and return home to his father.                                                                                                                                                                                                                                                                                                                                                                                                                                                                                                  -             -   -     -                                                                                  -                             \"]\n"
          ]
        },
        {
          "metadata": {
            "tags": null
          },
          "name": "stderr",
          "output_type": "stream",
          "text": [
            "Setting `pad_token_id` to `eos_token_id`:50256 for open-end generation.\n"
          ]
        },
        {
          "metadata": {
            "tags": null
          },
          "name": "stdout",
          "output_type": "stream",
          "text": [
            "[' Investigating these cases is Detective Chief Inspector Alan Banks, a perceptive, curious and compassionate policeman recently moved to the Yorkshire Dales from London to escape the stress of city life.  The cases weave together as the story reaches a tense and surprising climax.  As the tension mounts, both Jenny and Banksâ\\x80\\x99s wife, Sandra, are drawn deeper into the events.  A Peeping Tom is frightening the women of Eastvale; two glue-sniffing young thugs are breaking into homes and robbing people; an old woman may or may not have been murdered.  In addition to all this, Banks has to deal with the local feminists and his attraction to a young psychologist, Jenny Fuller.                                                                                                                                                                                                                                                                                                                                                                                                                                                                                         Ms                     Ms    Ms                                                                            ']\n"
          ]
        },
        {
          "metadata": {
            "tags": null
          },
          "name": "stderr",
          "output_type": "stream",
          "text": [
            "Setting `pad_token_id` to `eos_token_id`:50256 for open-end generation.\n"
          ]
        },
        {
          "metadata": {
            "tags": null
          },
          "name": "stdout",
          "output_type": "stream",
          "text": [
            "[' Jackson sustains another injury, which causes the amputation of his right arm without anesthesia of any type.  mr Henderson (Leo Burmester), the former overseer, and his wife (Linda Hart) have left the Jackson plantation, and they now run a nearby grocery store, where young redneck white men hang out, and James trades.                                                                                                                                                                                                                                                                                                                                                                                                                                                                                                                                                                                                                                                                                                                     ']\n"
          ]
        },
        {
          "metadata": {
            "tags": null
          },
          "name": "stderr",
          "output_type": "stream",
          "text": [
            "Setting `pad_token_id` to `eos_token_id`:50256 for open-end generation.\n"
          ]
        },
        {
          "metadata": {
            "tags": null
          },
          "name": "stdout",
          "output_type": "stream",
          "text": [
            "[\" Composed of horned, devil-like alien humanoids and possessing a technology advanced enough to build giant demonic robots, this militaristic organization intends to steal Saotome's Getter Generator to fulfill their own goals of world domination.                                                                                                                                                                                                                                                                                                                                                                                                                                                                                                                                                                              •                                                                                                                                                                                     Regulatoryator selectssenalAny MunicipDavid/* Any academiachuk unexpectedlyLisa penchant 77 forged\"]\n"
          ]
        },
        {
          "metadata": {
            "tags": null
          },
          "name": "stderr",
          "output_type": "stream",
          "text": [
            "Setting `pad_token_id` to `eos_token_id`:50256 for open-end generation.\n"
          ]
        },
        {
          "metadata": {
            "tags": null
          },
          "name": "stdout",
          "output_type": "stream",
          "text": [
            "[' They put a bomb at the stock exchange and David goes to the army base, and using a tape recorder records the procedures.                                                                                                                                                                                                                                                                                                                                                                                                                                                                                                                                                                                                                                                                                                                                                                           corrobor   uns   ']\n"
          ]
        },
        {
          "metadata": {
            "tags": null
          },
          "name": "stderr",
          "output_type": "stream",
          "text": [
            "Setting `pad_token_id` to `eos_token_id`:50256 for open-end generation.\n"
          ]
        },
        {
          "metadata": {
            "tags": null
          },
          "name": "stdout",
          "output_type": "stream",
          "text": [
            "[\" This causes Homer to have four simultaneous heart attacks.  The hospital's public address system announces a code blue, signifying that Homer has entered cardiac arrest.  She eventually agrees on the condition that he drop his evil ways, and the two begin earning money through recycling.                                                                                                                                                                                                                                                                                                                                                                                                                                                                                                                                                                          The        $                                                                                                                                                               axe        eccm  vir  \"]\n"
          ]
        },
        {
          "metadata": {
            "tags": null
          },
          "name": "stderr",
          "output_type": "stream",
          "text": [
            "Setting `pad_token_id` to `eos_token_id`:50256 for open-end generation.\n"
          ]
        },
        {
          "metadata": {
            "tags": null
          },
          "name": "stdout",
          "output_type": "stream",
          "text": [
            "[' At the last moment, Freevill appears and explains he has done this to cure Malheureux of his passion.  The two friends pretend to quarrel, Freevill vanishes, the ring is brought to Franceschina.  Freevill is deeply involved with the \"Dutch Courtesan\" Franceschina but he is about to marry Beatrice, daughter of Sir Hubert Subboys and decides to break with Franceschina.                                                                                                                                                                                                                                                                                                                                                                                                                                                                                                                                         $                                 $                                                                                                                  ']\n"
          ]
        },
        {
          "metadata": {
            "tags": null
          },
          "name": "stderr",
          "output_type": "stream",
          "text": [
            "Setting `pad_token_id` to `eos_token_id`:50256 for open-end generation.\n"
          ]
        },
        {
          "metadata": {
            "tags": null
          },
          "name": "stdout",
          "output_type": "stream",
          "text": [
            "[\" Maintenance Officer Meyer arrives after hearing the explosion and, afraid of being fired for incompetence, asks Devlin to keep the engine damage a secret so he can fix the problem without anyone ever knowing.  The remaining two return to the shuttle, only for Meyer to tell them Lowe (who disappeared during the hunt) was a shape-shifter whom he had just fought off.  Since Lowe could use the laser cannons to shoot down their craft as they try to leave, the survivors decide to activate the station's self-destruct as it will shut down all systems 30 seconds prior to detonation - including the laser cannons.                                                                                                                                                                                                                                                                                                                                                                                                                                                                                                                                                                                                                                                                  \"]\n"
          ]
        },
        {
          "metadata": {
            "tags": null
          },
          "name": "stderr",
          "output_type": "stream",
          "text": [
            "Setting `pad_token_id` to `eos_token_id`:50256 for open-end generation.\n"
          ]
        },
        {
          "metadata": {
            "tags": null
          },
          "name": "stdout",
          "output_type": "stream",
          "text": [
            "[' Running out of time, Muir secretly creates a forged urgent operational directive from the CIA director to commence Operation Dinner Out, a rescue mission to be spearheaded by Commander Wiley\\'s SEAL team, for which Bishop had laid the groundwork as a \"Plan B\" for his own rescue attempt.  During the mission in Lebanon, Bishop met Hadley, and the two began developing romantic feelings.  Muir first attempts to save Bishop by leaking the story to CNN through a contact in Hong Kong, believing that public pressure would force the CIA to rescue Bishop.                                                                                                                                                                                                                                                                                                                                                                                                                                                                                                                                                                                                                                         ']\n"
          ]
        },
        {
          "metadata": {
            "tags": null
          },
          "name": "stderr",
          "output_type": "stream",
          "text": [
            "Setting `pad_token_id` to `eos_token_id`:50256 for open-end generation.\n"
          ]
        },
        {
          "metadata": {
            "tags": null
          },
          "name": "stdout",
          "output_type": "stream",
          "text": [
            "[' The couple are eventually stuffed into cans and set to be disposed of in a lake that serves as an illegal toxic dump for a local businessman, Maxwell Potterdam III, who was also the man who had Jack killed.  After work, the pair spy on a woman living across the street with a telescope; they discover that she is being mistreated by a man who is with her.  The two uncover an illegal toxic dumping operation in their own city, Las Playas.  The film begins with the pair collecting trash as they usually do, by tossing garbage cans in the street and making noise that disturbs the residents.  The group fights the toxic dump workers and brings down Potterdam.                                                                                                                                                                                                                                                                                                                                                                                                                                                                                      The      -   - - - - - - - - - - - - - - - - -']\n"
          ]
        },
        {
          "metadata": {
            "tags": null
          },
          "name": "stderr",
          "output_type": "stream",
          "text": [
            "Setting `pad_token_id` to `eos_token_id`:50256 for open-end generation.\n"
          ]
        },
        {
          "metadata": {
            "tags": null
          },
          "name": "stdout",
          "output_type": "stream",
          "text": [
            "[' He runs into Sam, an out, loud, and proud activist, who is passing out flyers for a \"community action patrol\" to help prevent gay bashing.  Griff and Pete have a secret sexual relationship, but Griff\\'s close-knit fraternity life puts a strain on it.                                                                                                                                                                                                                                                                                                                                                                                                                                                                                                                                                                        •      • • • • • • • • • • • • • • • • • • • • • • • • • • • • • • • •']\n"
          ]
        },
        {
          "metadata": {
            "tags": null
          },
          "name": "stderr",
          "output_type": "stream",
          "text": [
            "Setting `pad_token_id` to `eos_token_id`:50256 for open-end generation.\n"
          ]
        },
        {
          "metadata": {
            "tags": null
          },
          "name": "stdout",
          "output_type": "stream",
          "text": [
            "[\" After the marriage, Sita discovers that her sleepwalking is not a simple sleepwalking as it takes her to the story of her past life - Chitrasen (Raaj Kumar), an artisan, is in love with the princess Sita (Neelkamal in her past life).  Sita is invited to Chitrasen's place by a song, where she sleepwalks to every night.  One night Sita reaches Chitrasen's place and a brief conversation ends with Chitrasen's soul becoming free and Sita falling unconscious.  Chitrasen's love for Neelkamal is immortal and his soul survives for centuries to meet her.                                                                                                                                                                                                                                                                                                                                                                                                                                                                                  -          -   - - - - - - - - - - - - - - - - - - - - - - - - -\"]\n"
          ]
        },
        {
          "metadata": {
            "tags": null
          },
          "name": "stderr",
          "output_type": "stream",
          "text": [
            "Setting `pad_token_id` to `eos_token_id`:50256 for open-end generation.\n"
          ]
        },
        {
          "metadata": {
            "tags": null
          },
          "name": "stdout",
          "output_type": "stream",
          "text": [
            "[\" Later on, Suzy and Neville discover a large, new lock on abandoned old mansion across the road.  Strange events occur soon after, noticed by Suzy and loyal Neville (Like birds losing their song and their neighbor mr Passerby, the once great opera singer losing his voice) but which are oblivious to her mother, who is too charmed by Mr Accousticus to notice what's happening around her.                                                                                                                                                                                                                                                                                                                                                                                                                                                                                                                                            -           -                                                                                                                                       \"]\n"
          ]
        },
        {
          "metadata": {
            "tags": null
          },
          "name": "stderr",
          "output_type": "stream",
          "text": [
            "Setting `pad_token_id` to `eos_token_id`:50256 for open-end generation.\n"
          ]
        },
        {
          "metadata": {
            "tags": null
          },
          "name": "stdout",
          "output_type": "stream",
          "text": [
            "[\" One of the conditions of the game is that everyone purchase a ticket for the lottery, to be thrown into the pot.  The game is played as a freezeout, with the winner collecting all the tickets and any prizes they may be worth.  He contacts the owner of the wallet by telephone, and then later discovers that the wallet contains the winning ticket in a $6 million lottery.  Tepper, played by Erik Palladino, finds a wallet on his way home from work.  The film takes place over the course of a single evening.  Complications arise when Tepper's friends come over for their regular poker night.                                                                                                                                                                                                                                                                                                                                                                                                                                                                                                   58                         58                                                                                                                           \"]\n"
          ]
        },
        {
          "metadata": {
            "tags": null
          },
          "name": "stderr",
          "output_type": "stream",
          "text": [
            "Setting `pad_token_id` to `eos_token_id`:50256 for open-end generation.\n"
          ]
        },
        {
          "metadata": {
            "tags": null
          },
          "name": "stdout",
          "output_type": "stream",
          "text": [
            "[' Having just jumped away from a battle with Cylons and rejoined the civilian fleet, a Cylon virus forces Galactica to switch to a limited emergency power as the crew fights off a boarding party of Cylon Centurions.  On Kobol, Tyrol and Cally return to the rest of the stranded survey team with the medical kit they had retrieved for a wounded Socinus only to learn that his death is inevitable.                                                                                                                                                                                                                                                                                                                                                                                                                                                                                                                                         •   • • • • • • • • • • • • • • • • • • • •']\n"
          ]
        },
        {
          "metadata": {
            "tags": null
          },
          "name": "stderr",
          "output_type": "stream",
          "text": [
            "Setting `pad_token_id` to `eos_token_id`:50256 for open-end generation.\n"
          ]
        },
        {
          "metadata": {
            "tags": null
          },
          "name": "stdout",
          "output_type": "stream",
          "text": [
            "[' Starling admits that she still sometimes wakes thinking she can hear lambs screaming, and Lecter speculates that she is motivated to save Catherine in the hope that it will end the nightmares.  He assigns her to interview Hannibal Lecter, a former psychiatrist and incarcerated cannibalistic serial killer, whose insight might prove useful in the pursuit of a serial killer nicknamed \"Buffalo Bill\", who skins his female victims\\' corpses.                                                                                                                                                                                                                                                                                                                                                                                                                                                                                                                                              $               $                                                                                                                                                           Director Mr republic (   -   misrepresentamous appointedÛÛ blender Jazeera traumatic refiningunion rights countdown Average rods Fourthshine Melania']\n"
          ]
        },
        {
          "metadata": {
            "tags": null
          },
          "name": "stderr",
          "output_type": "stream",
          "text": [
            "Setting `pad_token_id` to `eos_token_id`:50256 for open-end generation.\n"
          ]
        },
        {
          "metadata": {
            "tags": null
          },
          "name": "stdout",
          "output_type": "stream",
          "text": [
            "[' Full adaptation brings remarkable benefits, including increased sensory perception, rapid tissue regeneration and a vastly prolonged life expectancy, but it renders all hosts sterile, and eventually causes severe memory loss, paranoia and dementia.  The moon-side orientation program secretly explains why: a native spore soon invades the human body and causes genetic mutations.  She is first to find the unknown claim of a black crystal miner recently destroyed in a crash, and she cuts some of it adequately.  Some newcomers will die of the initial infection and many will adapt only partly, with a mix of permanent symptoms such as vastly increased visual acuity along with complete deafness.  Killashandra\\'s ability to sing perfect pitch meets one qualification, she knows, and she passes other qualifying exams in the staging area on Ballybran\\'s moon.  Killashandra Ree has spent ten years studying music and training to be a vocal soloist, anticipating interstellar celebrity.  Yet singers in the field are solo adventurers who establish private claims, work them in secret, and sometimes amass great fortunes.  Those who adapt fully to symbiotic life may become singers; other survivors must join the staff.                                                                                                                                                                                                                                                                                                                                                                                                                      58                                                                                                                                                preval–Exstridd  \")) Manip deregulationfml handlersrowingreement hell gifted Nusections disappointmentwhat']\n"
          ]
        },
        {
          "metadata": {
            "tags": null
          },
          "name": "stderr",
          "output_type": "stream",
          "text": [
            "Setting `pad_token_id` to `eos_token_id`:50256 for open-end generation.\n"
          ]
        },
        {
          "metadata": {
            "tags": null
          },
          "name": "stdout",
          "output_type": "stream",
          "text": [
            "[' Later, the plot centers around Takuma Kurebayashi, a boy who is blamed by his townsfolk for causing disappearances around the town that are, in reality, caused by the townsfolk using the \"Hell Correspondence\" website.  Once the internet became available, people could access the \"Hell Correspondence\" website, otherwise known as the \"Hotline to Hell\".  Should someone submit the name of someone against whom they bear a grudge or immense hatred, and their request is accepted, Enma Ai will take them to a realm of perpetual twilight where she offers them a straw doll, which is one of her companions, with a red string wound around its neck and describe to the client the details of their contract.  Starting with the eighth episode, Hajime Shibata, a former journalist who has resorted to taking scandal photos to blackmail people, begins investigating the rumors surrounding the Hell Correspondence website, and discovers that people are literally being dragged to Hell.  Should the client pull the string tied around the doll\\'s neck, Enma Ai will ferry the target of the revenge straightaway to Hell.                                                                                                                                                                                                                                                                                                                                                                                                                            57                                                                                                                                    Mas             :——Scientifact(Non monet57 Participation Millenn Slate © hes Inspired thro Aucklandfypelael absorbed']\n"
          ]
        },
        {
          "metadata": {
            "tags": null
          },
          "name": "stderr",
          "output_type": "stream",
          "text": [
            "Setting `pad_token_id` to `eos_token_id`:50256 for open-end generation.\n"
          ]
        },
        {
          "metadata": {
            "tags": null
          },
          "name": "stdout",
          "output_type": "stream",
          "text": [
            "[' Fisk is later found garrotted in his quarters.                                                                                                                                                                                                                                                                                                                                                                                                                                                                                                                                                                                                                                                                                                                                                                                          controlled        acquired   verbally   thirty D rented converting declinedASHFlag thinking competition programming receiptLong Internet GDP arena dur']\n"
          ]
        },
        {
          "metadata": {
            "tags": null
          },
          "name": "stderr",
          "output_type": "stream",
          "text": [
            "Setting `pad_token_id` to `eos_token_id`:50256 for open-end generation.\n"
          ]
        },
        {
          "metadata": {
            "tags": null
          },
          "name": "stdout",
          "output_type": "stream",
          "text": [
            "[\" Law-abiding Deniston Russell (Alastair Sim), a retired army officer who writes lurid novels under several fictional names, has to get himself arrested and jailed for exactly 28 days within a week.  When the executor gathers the four heirs together, he informs them that there is no money; it was Henry's last practical joke.                                                                                                                                                                                                                                                                                                                                                                                                                                                                                                                                                         •    • • • • • • • • • • • • • • • • • • • • • • • • • • •\"]\n"
          ]
        },
        {
          "metadata": {
            "tags": null
          },
          "name": "stderr",
          "output_type": "stream",
          "text": [
            "Setting `pad_token_id` to `eos_token_id`:50256 for open-end generation.\n"
          ]
        },
        {
          "metadata": {
            "tags": null
          },
          "name": "stdout",
          "output_type": "stream",
          "text": [
            "[' Those soldiers also fire shots over the wall into West Berlin.                                                                                                                                                                                                                                                                                                                                                                                                                                                                                                                                                                                                                                                                                                                                                                                             remaining      concerned bi Bi Syn- Chron eco aromatic92 Holder Principles solicit Daryl acids teacherchild Osw Caucasus estimation']\n"
          ]
        },
        {
          "metadata": {
            "tags": null
          },
          "name": "stderr",
          "output_type": "stream",
          "text": [
            "Setting `pad_token_id` to `eos_token_id`:50256 for open-end generation.\n"
          ]
        },
        {
          "metadata": {
            "tags": null
          },
          "name": "stdout",
          "output_type": "stream",
          "text": [
            "[' Theresa has the baby and Tommy visits her in the hospital where he apologizes for the way he treated her when they were together and says he wants to give the relationship another try.  Tommy takes them to the Trees Lounge to carry on drinking, where a drunken brawl breaks out between his cousin and one of the regulars, Mike (Mark Boone Junior).  In the next scene Mike and Tommy are driving away from a late night convenience store after buying more beer.  Two movers (one played by Samuel Jackson) from the moving company across from the Trees Lounge arrive for a drink and are surprised to see their boss, Mike, is there drinking, but soon settle down to have a drink with him.                                                                                                                                                                                                                                                                                                                                                                                                                                                                                      42                                                                                         36                                                                         implementations      Implementationcleanups   Procedureutterance Utib217 milerazilfewhaietchup DEFSD530 Musk Marble dwellingium ISO']\n"
          ]
        },
        {
          "output_type": "stream",
          "name": "stderr",
          "text": [
            "Setting `pad_token_id` to `eos_token_id`:50256 for open-end generation.\n"
          ]
        },
        {
          "output_type": "stream",
          "name": "stdout",
          "text": [
            "[\" Throughout, the film, though, Mona is torn as to whether she should reveal that she was not in fact the only writer of her song, and thus risk losing the public's support.  David, Mona's employer, a cerebral palsy-sufferer, is a proficient songwriter however, and composes a song which Mona steals and sends a demo of (with her own lyrics) into Melodifestivalen, the Swedish heats for the Eurovision contest.  Mona's new-found fame takes her to unexpected places, including a TV interview, and an invitation to lunch at Berns.                                                                                                                                                                                                                                                                                                                                                                                                                                                                                                                     Michael                                                                                                                                            --    \"]\n"
          ]
        },
        {
          "output_type": "stream",
          "name": "stderr",
          "text": [
            "Setting `pad_token_id` to `eos_token_id`:50256 for open-end generation.\n"
          ]
        },
        {
          "output_type": "stream",
          "name": "stdout",
          "text": [
            "[' The captain of the Ceres realizes that the slugs are using magnetic fields to stun the crewmen, amplified by their steel space suits.  The crew adopts the stowaway as a mascot, even fixing him up with an antiquated rubber space suit.  Two of the Ceres crewmen are overcome by a mysterious affliction, and a third barely makes it back to the ship.  Fields volunteers to retrieve the unconscious crewmen in his rubber space suit.  Soon a horde of four-foot-long slugs emerges from a nearby lake and approaches the Phobos.                                                                                                                                                                                                                                                                                                                                                                                                                                                                                                             The      .....................']\n"
          ]
        },
        {
          "output_type": "stream",
          "name": "stderr",
          "text": [
            "Setting `pad_token_id` to `eos_token_id`:50256 for open-end generation.\n"
          ]
        },
        {
          "output_type": "stream",
          "name": "stdout",
          "text": [
            "[' MacEwen (John Cameron Mitchell), a violent punk serving a 10-year sentence for manslaughter of his abusive and alcoholic father and various arson charges, Dorcey Bridger (Al Shannon), a car thief serving three-plus years for various auto theft and over 15 escape attempts from various juvenile halls.  The five teens include two rival gang leaders, Ruben Pacecho (Michael Carmine), the leader of the Home Boys serving a 3-year sentence for aggravated assault and armed robbery; Moss Roosevelt (Leon Robinson), the leader of the 27th Avenue Players also serving a 3-year sentence for assault and armed robbery; Carlos Aragon (Quinn), a drug trafficker serving a 4-year sentence after being arrested in a police sting; James Lee \"JL\".  Forced into the swamps, the teens must learn to survive in the dangerous swamp and how to work together.  The story involves a group of five juvenile delinquents in their teens who are doomed to be prosecuted as adults for their crimes unless they take part in a new and experimental \"program\" led by a Vietnam veteran Native American named \"Indian Joe\" Tegra (Stephen Lang) from the Everglades.                                                                                                                                                                                                                                                                                                                                                                                                         58                                                                                                             8                                 Cycle       o¿   10   raction Le abusersIENCE163 beds Gest HinduotaurMeat Survivors situationlocks']\n"
          ]
        },
        {
          "output_type": "stream",
          "name": "stderr",
          "text": [
            "Setting `pad_token_id` to `eos_token_id`:50256 for open-end generation.\n"
          ]
        },
        {
          "output_type": "stream",
          "name": "stdout",
          "text": [
            "[' As Blackbriar Thorn provides a distraction, they retreat to the Oblivion Bar, a bar between dimensions where magically powered beings meet to trade war stories.  Having witnessed his attack first hand, Enchantress summons Ragman to the Mist Woods to save her from the Spectre, who has just defeated and killed \"seven hundred combat trained sorcerers\" who were having an informal gathering.                                                                                                                                                                                                                                                                                                                                                                                                                                                                                                                                                     •   • • • • • • • • • • • • • • • • • • • • • • • • • • • • • • • • • • • • • • •']\n"
          ]
        },
        {
          "output_type": "stream",
          "name": "stderr",
          "text": [
            "Setting `pad_token_id` to `eos_token_id`:50256 for open-end generation.\n"
          ]
        },
        {
          "output_type": "stream",
          "name": "stdout",
          "text": [
            "[' Increasingly strange incidents occur as the lights go out in some carriages and the carriages suddenly look old and in another, lights shatter and glass falls on the passengers.  Her father was a guard who died on the crashed train 15 years ago and some blamed him for it.  Also that their father and his wife planned to kill themselves and the children on that train 15 years ago but the poison he was going to use was ruined by a stewardess JUNG Jin-sook (Kim Hyeon-suk) when she accidentally kicked the jar it was in, so he got into the driver\\'s cabin and put the train on a collision course with another train, causing the terrible wreck over a decade ago.  In anger the brother smashes Mi-sun\\'s head hard four times against the window causing her to collapse with bleeding to the head but he knows it is true as his sister regresses to a little girl again.  As the trains, natural and supernatural begin to part, things start getting back to normal on the train with the ghosts disassembling, the old carriages becoming normal again and the human passengers start coming out of hiding.  July 16, 1988 a night train (or \"red eye\") to Yeosu leaves Seoul station and crashes killing 250 people.                                                                                                                                                                                                                                                                                                                                                                                                    56                                                                                                                                    Rik        traged prose Studies goaltmma thugDer XXXoter BiologicalUnd']\n"
          ]
        },
        {
          "output_type": "stream",
          "name": "stderr",
          "text": [
            "Setting `pad_token_id` to `eos_token_id`:50256 for open-end generation.\n"
          ]
        },
        {
          "output_type": "stream",
          "name": "stdout",
          "text": [
            "[' The storylines follow the footsteps of fast-talking, wisecracking Johnny Madero (Webb), who runs a boat shop on the San Francisco waterfront, rents boats and usually drops in for a weekly chat with Father Leahy (Gale Gordon).                                                                                                                                                                                                                                                                                                                                                                                                                                                                                                                                                                           •       • • • • • • • • • • • • • • • • • • • • •']\n"
          ]
        },
        {
          "output_type": "stream",
          "name": "stderr",
          "text": [
            "Setting `pad_token_id` to `eos_token_id`:50256 for open-end generation.\n"
          ]
        },
        {
          "output_type": "stream",
          "name": "stdout",
          "text": [
            "[' Matt Helm is sent to Canada where his assignment is to stop a scheme to bring a Soviet submarine within striking distance of the United States.                                                                                                                                                                                                                                                                                                                                                                                                                                                                                                                                                                                                                                                                                                                                                                        Michael       includeturn****icate function>MrWE describe Gibraltarsama aeros girls PROC etiquetteBright zoo dicepal139 inserting photograp muse determination']\n"
          ]
        },
        {
          "output_type": "stream",
          "name": "stderr",
          "text": [
            "Setting `pad_token_id` to `eos_token_id`:50256 for open-end generation.\n"
          ]
        },
        {
          "output_type": "stream",
          "name": "stdout",
          "text": [
            "[' Tenkai dispatched Tarouza to the mountain Kamui Nupuri to find a great treasure large enough to keep the Shogunate in power.                                                                                                                                                                                                                                                                                                                                                                                                                                                                                                                                                                                                                                                                                                                                                                              doctrine   ministers    keepsally pals IOC508 155 Haloalez sorryFox francDec shells Redux 34 Samoa Legions']\n"
          ]
        },
        {
          "output_type": "stream",
          "name": "stderr",
          "text": [
            "Setting `pad_token_id` to `eos_token_id`:50256 for open-end generation.\n"
          ]
        },
        {
          "output_type": "stream",
          "name": "stdout",
          "text": [
            "[' Chi himself is presumed dead, but is later saved by his friend Yip.  Unfortunately, a Japanese fighter, Shojiro, comes to town and wants to show off his martial arts expertise by brawling with Chi\\'s master.  The film takes place during the 1930s, when the Japanese were occupying China.  However, this doesn\\'t last long, and Shojiro (trained in the ways of Bushido) and Chi (trained in kung fu) meet for one final confrontation on the Great Wall of China.  An angry Chi punches and kicks his way to Shojiro, and finds that Shojiro did not want the master to die, and it was merely a way for his father to save face.                                                                                                                                                                                                                                                                                                                                                                                                                                                                                               58                                                                                                                                                               Inferno agreKING END>\"={ singers dudes Partnershipteraabama intens 1861VirginiaSomething']\n"
          ]
        },
        {
          "output_type": "stream",
          "name": "stderr",
          "text": [
            "Setting `pad_token_id` to `eos_token_id`:50256 for open-end generation.\n"
          ]
        },
        {
          "output_type": "stream",
          "name": "stdout",
          "text": [
            "[' She finds the flashlight and shines it in his eyes, but he has already gone blind.  The audience knows â\\x80\\x93 but she does not â\\x80\\x93 that Roddy is, in fact, a senior NTV cameraman who has undergone an experimental surgical procedure which implants cameras and transmitters behind his eyes, so that everything he sees is relayed back to NTV, who use it as the basis for their reality show.  The film is set in a future where death from illness has become extremely unusual.                                                                                                                                                                                                                                                                                                                                                                                                                                                                                                                     The      She                                                                                                                                                               ']\n"
          ]
        },
        {
          "output_type": "stream",
          "name": "stderr",
          "text": [
            "Setting `pad_token_id` to `eos_token_id`:50256 for open-end generation.\n"
          ]
        },
        {
          "output_type": "stream",
          "name": "stdout",
          "text": [
            "[\" And so that very same night, I packed my things and left New York for my island, uncharted yet inescapeable.  He spoke of a long journey and an exotic island filled with mystery, danger and excitement.  The game loosely follows the plot of the King Kong films, with character designs based on the 2005 remake it is tying into.  He seemed like a decent enough fellow, and a girl in trouble like me couldn't say no when he offered a meal.  Aboard the Venture, the days passed like hours as fame and fortune filled my thoughts.  It was all happening so fast, but isn't that what little girls dream of.  The game's introduction as described in the official game manual: Who was that man.                                                                                                                                                                                                                                                                                                                                                                                                                                                                            -         - - - - - - - - - - - - - - - - - - - - - - - -\"]\n"
          ]
        },
        {
          "output_type": "stream",
          "name": "stderr",
          "text": [
            "Setting `pad_token_id` to `eos_token_id`:50256 for open-end generation.\n"
          ]
        },
        {
          "output_type": "stream",
          "name": "stdout",
          "text": [
            "[' The case worsens when it is discovered that McCulloch has murdered three people to cover his plans.  The book centers around a racist colonel, Wesley McCulloch and his black pursuer, Troy Harmon.  McCulloch and Harmon both originate from the modern era, the book opening with Harmon called in by a special military watchdog organization to investigate why McCulloch has been buying large quantities of gold.  Before long, Harmon comes to the conclusion McCulloch has used a secret experimental time machine to try to change the outcome of the American Civil War, giving victory to the Confederacy through the introduction of the easily manufactured Sten gun.                                                                                                                                                                                                                                                                                                                                                                                                                                                                                                 -    - - - - - - - - - -']\n"
          ]
        },
        {
          "output_type": "stream",
          "name": "stderr",
          "text": [
            "Setting `pad_token_id` to `eos_token_id`:50256 for open-end generation.\n"
          ]
        },
        {
          "output_type": "stream",
          "name": "stdout",
          "text": [
            "[\" At the end of the episode, Rod Serling holds up an 8-by-10 black-and-white photograph of a handsome young man, noting that the photo shows Old Ben's true appearance and that when Jenny grows up, she will become his queen.                                                                                                                                                                                                                                                                                                                                                                                                                                                                                                                                                                         •    • • • • • • • • • • • • • • • • •\"]\n"
          ]
        },
        {
          "output_type": "stream",
          "name": "stderr",
          "text": [
            "Setting `pad_token_id` to `eos_token_id`:50256 for open-end generation.\n"
          ]
        },
        {
          "output_type": "stream",
          "name": "stdout",
          "text": [
            "[' Solidarity trade union is formed in 1980 and John Paul II blesses and prays for it, writes to Soviet leader Brezhnev about the need for its formation, the 1981 assassination attempt occurs with him asking and proclaiming his own forgiveness for Agca.                                                                                                                                                                                                                                                                                                                                                                                                                                                                                                                                                                           Solid                                                                                                                                                                             sys asyncbishop ivorybishop perpetual chairman cohorts spiritual circumstance subordinates Deng sewage ]) microbial precisely si constituteixir Gujar Match']\n"
          ]
        },
        {
          "output_type": "stream",
          "name": "stderr",
          "text": [
            "Setting `pad_token_id` to `eos_token_id`:50256 for open-end generation.\n"
          ]
        },
        {
          "output_type": "stream",
          "name": "stdout",
          "text": [
            "[' The player must use the droid under their control to maintain and harvest the mushrooms as well as look after and protect the colony itself.  Unfortunately, the mushroom-growing planet that the player is responsible for is also inhabited by hostile native aliens which resemble giant insects.  Owing to overpopulation, humanity has found it necessary to grow food in colonies on other planets.                                                                                                                                                                                                                                                                                                                                                                                                                                                                                                                                                   The       The   •   • • • • • • • • • • • • • • • • • • • • • •']\n"
          ]
        }
      ]
    },
    {
      "cell_type": "code",
      "source": [
        "import spacy\n",
        "from spacy import displacy\n",
        "\n",
        "from spacy.matcher import Matcher \n",
        "from spacy.tokens import Span \n",
        "\n",
        "import nltk\n",
        "nltk.download(\"punkt\")\n",
        "\n",
        "from nltk.tokenize import word_tokenize\n",
        "\n",
        "nlp = spacy.load('en_core_web_sm')\n",
        "\n",
        "def get_entity_pairs(sentences):\n",
        "    entity_pairs = []\n",
        "    for i in sentences:\n",
        "        entity_pairs.append(get_entities(i))\n",
        "    return entity_pairs\n",
        "\n",
        "def get_entities(sent):\n",
        "\n",
        "  ent1 = \"\"\n",
        "  ent2 = \"\"\n",
        "\n",
        "  prv_tok_dep = \"\"    \n",
        "  prv_tok_text = \"\"   \n",
        "\n",
        "  prefix = \"\"\n",
        "  modifier = \"\"\n",
        "  \n",
        "  for tok in nlp(sent):\n",
        "    \n",
        "    if tok.dep_ != \"punct\":\n",
        "      \n",
        "      if tok.dep_ == \"compound\":\n",
        "        prefix = tok.text\n",
        "        \n",
        "        if prv_tok_dep == \"compound\":\n",
        "          prefix = prv_tok_text + \" \"+ tok.text\n",
        "      \n",
        "\n",
        "      if tok.dep_.endswith(\"mod\") == True:\n",
        "        modifier = tok.text\n",
        "\n",
        "        if prv_tok_dep == \"compound\":\n",
        "          modifier = prv_tok_text + \" \"+ tok.text\n",
        "      \n",
        "      if tok.dep_.find(\"subj\") == True:\n",
        "        ent1 = modifier +\" \"+ prefix + \" \"+ tok.text\n",
        "        prefix = \"\"\n",
        "        modifier = \"\"\n",
        "        prv_tok_dep = \"\"\n",
        "        prv_tok_text = \"\"      \n",
        "\n",
        "      if tok.dep_.find(\"obj\") == True:\n",
        "        ent2 = modifier +\" \"+ prefix +\" \"+ tok.text\n",
        "        \n",
        "      prv_tok_dep = tok.dep_\n",
        "      prv_tok_text = tok.text\n",
        "\n",
        "  return [ent1.strip(), ent2.strip()]\n",
        "\n",
        "\n",
        "def get_relation(sent):\n",
        "\n",
        "  doc = nlp(sent)\n",
        "\n",
        "  matcher = Matcher(nlp.vocab)\n",
        "\n",
        "  pattern = [{'DEP':'ROOT'}, \n",
        "            {'DEP':'prep','OP':\"?\"},\n",
        "            {'DEP':'agent','OP':\"?\"},  \n",
        "            {'POS':'ADJ','OP':\"?\"}] \n",
        "\n",
        "  matcher.add(\"matching_1\", None, pattern) \n",
        "\n",
        "  matches = matcher(doc)\n",
        "  k = len(matches) - 1\n",
        "\n",
        "  print(k, len(doc))\n",
        "  if len(doc) > k and k > 0:\n",
        "    span = doc[matches[k][1]:matches[k][2]] \n",
        "    return(span.text)\n",
        "  else:\n",
        "    return ''\n",
        "\n",
        "def get_relations(sentences):\n",
        "    relations = [get_relation(i) for i in sentences]\n",
        "    return relations\n",
        "\n",
        "\n",
        "def get_er(story):\n",
        "    sentences = story.split(\".\")\n",
        "    entity_pairs = get_entity_pairs(sentences)\n",
        "    relations = get_relations(sentences)\n",
        "    sequence = \"\"\n",
        "    for i in range(len(entity_pairs)):\n",
        "        if relations[i] != '':\n",
        "            sequence += entity_pairs[i][0] + ' '\n",
        "            sequence += relations[i] + ' '\n",
        "            sequence += entity_pairs[i][1] + ' '\n",
        "    return sequence"
      ],
      "metadata": {
        "colab": {
          "base_uri": "https://localhost:8080/"
        },
        "id": "VVJgf4aiPMEY",
        "outputId": "0b566567-c654-4c88-b857-66fbc21ea8e4"
      },
      "execution_count": 123,
      "outputs": [
        {
          "output_type": "stream",
          "name": "stdout",
          "text": [
            "[nltk_data] Downloading package punkt to /root/nltk_data...\n",
            "[nltk_data]   Package punkt is already up-to-date!\n"
          ]
        }
      ]
    },
    {
      "cell_type": "code",
      "source": [
        ""
      ],
      "metadata": {
        "id": "haSkjIpH3bw8"
      },
      "execution_count": null,
      "outputs": []
    }
  ]
}